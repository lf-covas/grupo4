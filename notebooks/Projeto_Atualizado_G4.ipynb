{
  "nbformat": 4,
  "nbformat_minor": 0,
  "metadata": {
    "colab": {
      "provenance": []
    },
    "kernelspec": {
      "name": "python3",
      "display_name": "Python 3"
    },
    "language_info": {
      "name": "python"
    }
  },
  "cells": [
    {
      "cell_type": "code",
      "execution_count": 342,
      "metadata": {
        "colab": {
          "base_uri": "https://localhost:8080/"
        },
        "id": "rHfJWo8quLcA",
        "outputId": "df372440-55ad-4d1d-d013-dffaf52a5915"
      },
      "outputs": [
        {
          "output_type": "stream",
          "name": "stdout",
          "text": [
            "Drive already mounted at /content/drive; to attempt to forcibly remount, call drive.mount(\"/content/drive\", force_remount=True).\n"
          ]
        }
      ],
      "source": [
        "from google.colab import drive\n",
        "drive.mount('/content/drive')"
      ]
    },
    {
      "cell_type": "markdown",
      "source": [
        "# Importando as bibliotecas que iremos utilizar para preparação do modelo"
      ],
      "metadata": {
        "id": "8UuREPh1va5D"
      }
    },
    {
      "cell_type": "code",
      "source": [
        "import pandas as pd \n",
        "import matplotlib.pyplot as plt \n",
        "import seaborn as sns\n",
        "import numpy as np\n",
        "import math\n",
        "from sklearn.preprocessing import MinMaxScaler"
      ],
      "metadata": {
        "id": "IVYb-ymovJtk"
      },
      "execution_count": 343,
      "outputs": []
    },
    {
      "cell_type": "markdown",
      "source": [
        "Um breve resumo sobre as bibliotecas importadas\n",
        "\n",
        "**Pandas:** A biblioteca pandas é uma ferramenta de análise de dados em Python que permite a manipulação e processamento de dados de diversas formas.\n",
        "\n",
        "**matplotlib.pyplot:** A biblioteca matplotlib.pyplot é uma ferramenta para criação de gráficos e visualização de dados em Python. Essa biblioteca oferece diversas funcionalidades para a criação de gráficos de diferentes tipos, como histogramas, gráficos de barras, gráficos de dispersão, entre outros.\n",
        "\n",
        "**Seaborn:** A biblioteca seaborn é uma ferramenta de visualização de dados em Python que é baseada na biblioteca matplotlib. A seaborn oferece diversas funcionalidades para a criação de gráficos estatísticos, permitindo a visualização de relações e distribuições de dados de forma clara e concisa.\n",
        "\n",
        "**Numpy:** A biblioteca NumPy é uma ferramenta essencial para computação científica em Python. Ela oferece diversas funcionalidades para manipulação de arrays multidimensionais, matrizes e funções matemáticas avançadas.\n",
        "\n",
        "**Math:** A biblioteca math é uma biblioteca padrão em Python que oferece funções matemáticas básicas para cálculos numéricos. Essa biblioteca é útil para tarefas matemáticas básicas, incluindo operações aritméticas simples, cálculos trigonométricos, funções exponenciais e logarítmicas, entre outras.\n",
        "\n",
        "**MinMaxScaler:** A função MinMaxScaler é uma técnica de pré-processamento de dados usada em aprendizado de máquina para dimensionar os recursos (features) em um intervalo específico, geralmente entre 0 e 1, a fim de evitar que recursos com valores maiores tenham um impacto maior no modelo do que recursos com valores menores."
      ],
      "metadata": {
        "id": "omws2T6Jvga7"
      }
    },
    {
      "cell_type": "markdown",
      "source": [
        "#Transformando os aquivos .csv para DataFrame"
      ],
      "metadata": {
        "id": "xOklh0jJwXF7"
      }
    },
    {
      "cell_type": "code",
      "source": [
        "df_demograficos = pd.read_csv('/content/drive/MyDrive/2023-1A-T05/GRUPOS/Grupo 4 - G4/Datasets/tabelas/BDIPMamaV11-INTELIDemograficosTt_DATA_LABELS_2023-01-24_1922.csv')\n",
        "df_histopatologia = pd.read_csv('/content/drive/MyDrive/2023-1A-T05/GRUPOS/Grupo 4 - G4/Datasets/tabelas/BDIPMamaV11-INTELIHistopatologia_DATA_LABELS_2023-01-24_1924.csv')\n",
        "df_peso_altura = pd.read_csv('/content/drive/MyDrive/2023-1A-T05/GRUPOS/Grupo 4 - G4/Datasets/tabelas/BDIPMamaV11-INTELIPesoEAltura_DATA_LABELS_2023-01-24_1926.csv')\n",
        "df_registro_tumor = pd.read_csv('/content/drive/MyDrive/2023-1A-T05/GRUPOS/Grupo 4 - G4/Datasets/tabelas/BDIPMamaV11-INTELIRegistroDeTumo_DATA_LABELS_2023-01-24_1924.csv')"
      ],
      "metadata": {
        "id": "m0P4Z3elve9x"
      },
      "execution_count": 344,
      "outputs": []
    },
    {
      "cell_type": "markdown",
      "source": [
        "# Funções Utilitárias para otimizar a exploração e pre processamento dos dados"
      ],
      "metadata": {
        "id": "qHVncYdxwng-"
      }
    },
    {
      "cell_type": "code",
      "source": [
        "# Normaliza o nome de todas as colunas em snake_case, no diminutivo e sem acentos.\n",
        "def clean_column_names(df):\n",
        "  striped_columns = []\n",
        "  for column in df.columns:\n",
        "    striped_columns.append(column.strip().lower().replace(' ', '_').replace('_a _', '_').replace('-', '_').replace('ª', '').replace('º', '').replace(\"=\", \"_\").replace('#', '').replace('ó', 'o').replace('á', 'a').replace('ç', 'c').replace('é', 'e').replace('ã', 'a').replace('â', 'a').replace('à', 'a').replace('ú', 'u').replace('?', '').replace(',', '').replace('[', '').replace(']', '').replace('(', '').replace(')', '').replace('í', 'i').replace('__', '_').replace('/', '').replace('__', '_'))\n",
        "\n",
        "  df.columns = striped_columns\n",
        "  return df\n",
        "\n",
        "\n",
        "\n",
        "# Eliminando Outliers da coluna passando por parâmetro levando em consideração o desvio padrão\n",
        "def exclui_outliers(DataFrame, col_name):\n",
        "  intervalo = 3*DataFrame[col_name].std()\n",
        "  media = DataFrame[col_name].mean()\n",
        "  DataFrame.loc[df[col_name] < (media - intervalo), col_name] = np.nan\n",
        "  DataFrame.loc[df[col_name] > (media + intervalo), col_name] = np.nan\n",
        "\n",
        "\n",
        "\n",
        "# Função que substitui os valores NaN por valores decididos de forma aleatória dentro de um intervalo da distribuição normal para evitar a presença de outliers\n",
        "def replace_nan(df, col, categorical):\n",
        "  \n",
        "  # Encontra a média e o desvio padrão dos valores da coluna\n",
        "  mean = df[col].mean()\n",
        "  std = df[col].std()\n",
        "  \n",
        "  # Cria valores de acordo com a distribuição normal\n",
        "  # Faz com que os valores criados fiquem dentro do intervalo de valor mínimo e máximo da coluna\n",
        "  new_values = pd.Series(np.random.normal(mean, std, size=len(df[col].isnull()))).clip(df.dropna()[col].min(), df.dropna()[col].max())\n",
        "  \n",
        "  if categorical == True:\n",
        "    \n",
        "    # Arredonda os valores caso a coluna seja categórica\n",
        "    new_values = new_values.round(decimals=0)\n",
        "\n",
        "  # Preenche os valores nulos com os valores gerados\n",
        "  for i in range(0, len(new_values)):\n",
        "    df[col] = df[col].fillna(new_values[i])"
      ],
      "metadata": {
        "id": "YaT0Ex2XxEc3"
      },
      "execution_count": 345,
      "outputs": []
    },
    {
      "cell_type": "markdown",
      "source": [
        "#Explorando dataframes individualmente"
      ],
      "metadata": {
        "id": "A9C15a4Uwi51"
      }
    },
    {
      "cell_type": "markdown",
      "source": [
        "## DataFrame(Demograficos)"
      ],
      "metadata": {
        "id": "xrT5_hYXxU1_"
      }
    },
    {
      "cell_type": "markdown",
      "source": [
        "###Exploração inicial\n",
        "Neste estágio, começamos a obter uma compreensão mais profunda de nossos dados, utilizando diferentes métodos para visualizar informações como a quantidade de linhas numéricas e categóricas, a quantidade de colunas, valores nulos, valores discrepantes (outliers) e algumas informações estatísticas descritivas do nosso DataFrame. Essas análises são cruciais para avaliar a qualidade dos dados e garantir que possamos utilizá-los adequadamente em nossos modelos de aprendizado de máquina. Além disso, essas informações ajudam a orientar o pré-processamento de dados e a seleção de recursos para construir modelos mais precisos e eficazes."
      ],
      "metadata": {
        "id": "z5RbfGTLxaqh"
      }
    },
    {
      "cell_type": "code",
      "source": [
        "df_demograficos.head()"
      ],
      "metadata": {
        "colab": {
          "base_uri": "https://localhost:8080/",
          "height": 577
        },
        "id": "TKdg44vDwjs2",
        "outputId": "aed0e9b3-792f-43fe-fece-a3dc2de38f63"
      },
      "execution_count": 346,
      "outputs": [
        {
          "output_type": "execute_result",
          "data": {
            "text/plain": [
              "   Record ID  Repeat Instrument  Repeat Instance                 Escolaridade  \\\n",
              "0        302                NaN              NaN  ENS. FUNDAMENTAL INCOMPLETO   \n",
              "1        710                NaN              NaN                 ENSINO MÉDIO   \n",
              "2        752                NaN              NaN  ENS. FUNDAMENTAL INCOMPLETO   \n",
              "3       1367                NaN              NaN  ENS. FUNDAMENTAL INCOMPLETO   \n",
              "4       1589                NaN              NaN    ENS. FUNDAMENTAL COMPLETO   \n",
              "\n",
              "   Idade do paciente ao primeiro diagnóstico      Sexo  \\\n",
              "0                                       51.0  Feminino   \n",
              "1                                       58.0  Feminino   \n",
              "2                                       56.0  Feminino   \n",
              "3                                       63.0  Feminino   \n",
              "4                                       42.0  Feminino   \n",
              "\n",
              "  Raça declarada (Biobanco) UF de nascimento do paciente  \\\n",
              "0                       NaN                          NaN   \n",
              "1                       NaN                          NaN   \n",
              "2                       NaN                          NaN   \n",
              "3                       NaN                          NaN   \n",
              "4                       NaN                          NaN   \n",
              "\n",
              "  UF de residência do paciente Data da última informação sobre o paciente  \\\n",
              "0                          NaN                                 2014-04-26   \n",
              "1                          NaN                                 2016-11-17   \n",
              "2                          NaN                                 2019-05-02   \n",
              "3                          NaN                                 2011-09-29   \n",
              "4                          NaN                                 2017-05-24   \n",
              "\n",
              "   ...  \\\n",
              "0  ...   \n",
              "1  ...   \n",
              "2  ...   \n",
              "3  ...   \n",
              "4  ...   \n",
              "\n",
              "  Grau de parentesco de familiar com cancer? (choice=terceiro (bisavós, tio avós, primos, sobrinhos))  \\\n",
              "0                                          Unchecked                                                    \n",
              "1                                          Unchecked                                                    \n",
              "2                                          Unchecked                                                    \n",
              "3                                          Unchecked                                                    \n",
              "4                                          Unchecked                                                    \n",
              "\n",
              "   Regime de Tratamento Hormonioterapia   Data da cirurgia  \\\n",
              "0                   NaN              NaN               NaN   \n",
              "1     Terapia Adjuvante              NaN        2009-09-04   \n",
              "2                   NaN              NaN               NaN   \n",
              "3                   NaN              NaN        2011-07-05   \n",
              "4                   NaN              NaN               NaN   \n",
              "\n",
              "   Tipo de terapia anti-HER2 neoadjuvante  Radioterapia  \\\n",
              "0                            Trastuzumabe           NaN   \n",
              "1                                     NaN           NaN   \n",
              "2                                     NaN           NaN   \n",
              "3                                     NaN           NaN   \n",
              "4                                     NaN           NaN   \n",
              "\n",
              "  Data de início do tratamento quimioterapia     Esquema de hormonioterapia  \\\n",
              "0                                        NaN  Inibidor de aromatase isolado   \n",
              "1                                 2014-08-24                            NaN   \n",
              "2                                        NaN                            NaN   \n",
              "3                                        NaN                            NaN   \n",
              "4                                        NaN                            NaN   \n",
              "\n",
              "   Data do início Hormonioterapia adjuvante Data de início da Radioterapia  \n",
              "0                                       NaN                            NaN  \n",
              "1                                       NaN                            NaN  \n",
              "2                                       NaN                            NaN  \n",
              "3                                       NaN                            NaN  \n",
              "4                                       NaN                            NaN  \n",
              "\n",
              "[5 rows x 48 columns]"
            ],
            "text/html": [
              "\n",
              "  <div id=\"df-6b37d54f-3407-4aec-876f-08bf37150dd2\">\n",
              "    <div class=\"colab-df-container\">\n",
              "      <div>\n",
              "<style scoped>\n",
              "    .dataframe tbody tr th:only-of-type {\n",
              "        vertical-align: middle;\n",
              "    }\n",
              "\n",
              "    .dataframe tbody tr th {\n",
              "        vertical-align: top;\n",
              "    }\n",
              "\n",
              "    .dataframe thead th {\n",
              "        text-align: right;\n",
              "    }\n",
              "</style>\n",
              "<table border=\"1\" class=\"dataframe\">\n",
              "  <thead>\n",
              "    <tr style=\"text-align: right;\">\n",
              "      <th></th>\n",
              "      <th>Record ID</th>\n",
              "      <th>Repeat Instrument</th>\n",
              "      <th>Repeat Instance</th>\n",
              "      <th>Escolaridade</th>\n",
              "      <th>Idade do paciente ao primeiro diagnóstico</th>\n",
              "      <th>Sexo</th>\n",
              "      <th>Raça declarada (Biobanco)</th>\n",
              "      <th>UF de nascimento do paciente</th>\n",
              "      <th>UF de residência do paciente</th>\n",
              "      <th>Data da última informação sobre o paciente</th>\n",
              "      <th>...</th>\n",
              "      <th>Grau de parentesco de familiar com cancer? (choice=terceiro (bisavós, tio avós, primos, sobrinhos))</th>\n",
              "      <th>Regime de Tratamento</th>\n",
              "      <th>Hormonioterapia</th>\n",
              "      <th>Data da cirurgia</th>\n",
              "      <th>Tipo de terapia anti-HER2 neoadjuvante</th>\n",
              "      <th>Radioterapia</th>\n",
              "      <th>Data de início do tratamento quimioterapia</th>\n",
              "      <th>Esquema de hormonioterapia</th>\n",
              "      <th>Data do início Hormonioterapia adjuvante</th>\n",
              "      <th>Data de início da Radioterapia</th>\n",
              "    </tr>\n",
              "  </thead>\n",
              "  <tbody>\n",
              "    <tr>\n",
              "      <th>0</th>\n",
              "      <td>302</td>\n",
              "      <td>NaN</td>\n",
              "      <td>NaN</td>\n",
              "      <td>ENS. FUNDAMENTAL INCOMPLETO</td>\n",
              "      <td>51.0</td>\n",
              "      <td>Feminino</td>\n",
              "      <td>NaN</td>\n",
              "      <td>NaN</td>\n",
              "      <td>NaN</td>\n",
              "      <td>2014-04-26</td>\n",
              "      <td>...</td>\n",
              "      <td>Unchecked</td>\n",
              "      <td>NaN</td>\n",
              "      <td>NaN</td>\n",
              "      <td>NaN</td>\n",
              "      <td>Trastuzumabe</td>\n",
              "      <td>NaN</td>\n",
              "      <td>NaN</td>\n",
              "      <td>Inibidor de aromatase isolado</td>\n",
              "      <td>NaN</td>\n",
              "      <td>NaN</td>\n",
              "    </tr>\n",
              "    <tr>\n",
              "      <th>1</th>\n",
              "      <td>710</td>\n",
              "      <td>NaN</td>\n",
              "      <td>NaN</td>\n",
              "      <td>ENSINO MÉDIO</td>\n",
              "      <td>58.0</td>\n",
              "      <td>Feminino</td>\n",
              "      <td>NaN</td>\n",
              "      <td>NaN</td>\n",
              "      <td>NaN</td>\n",
              "      <td>2016-11-17</td>\n",
              "      <td>...</td>\n",
              "      <td>Unchecked</td>\n",
              "      <td>Terapia Adjuvante</td>\n",
              "      <td>NaN</td>\n",
              "      <td>2009-09-04</td>\n",
              "      <td>NaN</td>\n",
              "      <td>NaN</td>\n",
              "      <td>2014-08-24</td>\n",
              "      <td>NaN</td>\n",
              "      <td>NaN</td>\n",
              "      <td>NaN</td>\n",
              "    </tr>\n",
              "    <tr>\n",
              "      <th>2</th>\n",
              "      <td>752</td>\n",
              "      <td>NaN</td>\n",
              "      <td>NaN</td>\n",
              "      <td>ENS. FUNDAMENTAL INCOMPLETO</td>\n",
              "      <td>56.0</td>\n",
              "      <td>Feminino</td>\n",
              "      <td>NaN</td>\n",
              "      <td>NaN</td>\n",
              "      <td>NaN</td>\n",
              "      <td>2019-05-02</td>\n",
              "      <td>...</td>\n",
              "      <td>Unchecked</td>\n",
              "      <td>NaN</td>\n",
              "      <td>NaN</td>\n",
              "      <td>NaN</td>\n",
              "      <td>NaN</td>\n",
              "      <td>NaN</td>\n",
              "      <td>NaN</td>\n",
              "      <td>NaN</td>\n",
              "      <td>NaN</td>\n",
              "      <td>NaN</td>\n",
              "    </tr>\n",
              "    <tr>\n",
              "      <th>3</th>\n",
              "      <td>1367</td>\n",
              "      <td>NaN</td>\n",
              "      <td>NaN</td>\n",
              "      <td>ENS. FUNDAMENTAL INCOMPLETO</td>\n",
              "      <td>63.0</td>\n",
              "      <td>Feminino</td>\n",
              "      <td>NaN</td>\n",
              "      <td>NaN</td>\n",
              "      <td>NaN</td>\n",
              "      <td>2011-09-29</td>\n",
              "      <td>...</td>\n",
              "      <td>Unchecked</td>\n",
              "      <td>NaN</td>\n",
              "      <td>NaN</td>\n",
              "      <td>2011-07-05</td>\n",
              "      <td>NaN</td>\n",
              "      <td>NaN</td>\n",
              "      <td>NaN</td>\n",
              "      <td>NaN</td>\n",
              "      <td>NaN</td>\n",
              "      <td>NaN</td>\n",
              "    </tr>\n",
              "    <tr>\n",
              "      <th>4</th>\n",
              "      <td>1589</td>\n",
              "      <td>NaN</td>\n",
              "      <td>NaN</td>\n",
              "      <td>ENS. FUNDAMENTAL COMPLETO</td>\n",
              "      <td>42.0</td>\n",
              "      <td>Feminino</td>\n",
              "      <td>NaN</td>\n",
              "      <td>NaN</td>\n",
              "      <td>NaN</td>\n",
              "      <td>2017-05-24</td>\n",
              "      <td>...</td>\n",
              "      <td>Unchecked</td>\n",
              "      <td>NaN</td>\n",
              "      <td>NaN</td>\n",
              "      <td>NaN</td>\n",
              "      <td>NaN</td>\n",
              "      <td>NaN</td>\n",
              "      <td>NaN</td>\n",
              "      <td>NaN</td>\n",
              "      <td>NaN</td>\n",
              "      <td>NaN</td>\n",
              "    </tr>\n",
              "  </tbody>\n",
              "</table>\n",
              "<p>5 rows × 48 columns</p>\n",
              "</div>\n",
              "      <button class=\"colab-df-convert\" onclick=\"convertToInteractive('df-6b37d54f-3407-4aec-876f-08bf37150dd2')\"\n",
              "              title=\"Convert this dataframe to an interactive table.\"\n",
              "              style=\"display:none;\">\n",
              "        \n",
              "  <svg xmlns=\"http://www.w3.org/2000/svg\" height=\"24px\"viewBox=\"0 0 24 24\"\n",
              "       width=\"24px\">\n",
              "    <path d=\"M0 0h24v24H0V0z\" fill=\"none\"/>\n",
              "    <path d=\"M18.56 5.44l.94 2.06.94-2.06 2.06-.94-2.06-.94-.94-2.06-.94 2.06-2.06.94zm-11 1L8.5 8.5l.94-2.06 2.06-.94-2.06-.94L8.5 2.5l-.94 2.06-2.06.94zm10 10l.94 2.06.94-2.06 2.06-.94-2.06-.94-.94-2.06-.94 2.06-2.06.94z\"/><path d=\"M17.41 7.96l-1.37-1.37c-.4-.4-.92-.59-1.43-.59-.52 0-1.04.2-1.43.59L10.3 9.45l-7.72 7.72c-.78.78-.78 2.05 0 2.83L4 21.41c.39.39.9.59 1.41.59.51 0 1.02-.2 1.41-.59l7.78-7.78 2.81-2.81c.8-.78.8-2.07 0-2.86zM5.41 20L4 18.59l7.72-7.72 1.47 1.35L5.41 20z\"/>\n",
              "  </svg>\n",
              "      </button>\n",
              "      \n",
              "  <style>\n",
              "    .colab-df-container {\n",
              "      display:flex;\n",
              "      flex-wrap:wrap;\n",
              "      gap: 12px;\n",
              "    }\n",
              "\n",
              "    .colab-df-convert {\n",
              "      background-color: #E8F0FE;\n",
              "      border: none;\n",
              "      border-radius: 50%;\n",
              "      cursor: pointer;\n",
              "      display: none;\n",
              "      fill: #1967D2;\n",
              "      height: 32px;\n",
              "      padding: 0 0 0 0;\n",
              "      width: 32px;\n",
              "    }\n",
              "\n",
              "    .colab-df-convert:hover {\n",
              "      background-color: #E2EBFA;\n",
              "      box-shadow: 0px 1px 2px rgba(60, 64, 67, 0.3), 0px 1px 3px 1px rgba(60, 64, 67, 0.15);\n",
              "      fill: #174EA6;\n",
              "    }\n",
              "\n",
              "    [theme=dark] .colab-df-convert {\n",
              "      background-color: #3B4455;\n",
              "      fill: #D2E3FC;\n",
              "    }\n",
              "\n",
              "    [theme=dark] .colab-df-convert:hover {\n",
              "      background-color: #434B5C;\n",
              "      box-shadow: 0px 1px 3px 1px rgba(0, 0, 0, 0.15);\n",
              "      filter: drop-shadow(0px 1px 2px rgba(0, 0, 0, 0.3));\n",
              "      fill: #FFFFFF;\n",
              "    }\n",
              "  </style>\n",
              "\n",
              "      <script>\n",
              "        const buttonEl =\n",
              "          document.querySelector('#df-6b37d54f-3407-4aec-876f-08bf37150dd2 button.colab-df-convert');\n",
              "        buttonEl.style.display =\n",
              "          google.colab.kernel.accessAllowed ? 'block' : 'none';\n",
              "\n",
              "        async function convertToInteractive(key) {\n",
              "          const element = document.querySelector('#df-6b37d54f-3407-4aec-876f-08bf37150dd2');\n",
              "          const dataTable =\n",
              "            await google.colab.kernel.invokeFunction('convertToInteractive',\n",
              "                                                     [key], {});\n",
              "          if (!dataTable) return;\n",
              "\n",
              "          const docLinkHtml = 'Like what you see? Visit the ' +\n",
              "            '<a target=\"_blank\" href=https://colab.research.google.com/notebooks/data_table.ipynb>data table notebook</a>'\n",
              "            + ' to learn more about interactive tables.';\n",
              "          element.innerHTML = '';\n",
              "          dataTable['output_type'] = 'display_data';\n",
              "          await google.colab.output.renderOutput(dataTable, element);\n",
              "          const docLink = document.createElement('div');\n",
              "          docLink.innerHTML = docLinkHtml;\n",
              "          element.appendChild(docLink);\n",
              "        }\n",
              "      </script>\n",
              "    </div>\n",
              "  </div>\n",
              "  "
            ]
          },
          "metadata": {},
          "execution_count": 346
        }
      ]
    },
    {
      "cell_type": "code",
      "source": [
        "df_demograficos.info()"
      ],
      "metadata": {
        "colab": {
          "base_uri": "https://localhost:8080/"
        },
        "id": "gpnoZwoczg8k",
        "outputId": "bebf2bf3-12ab-4784-bccb-e11de296f64a"
      },
      "execution_count": 347,
      "outputs": [
        {
          "output_type": "stream",
          "name": "stdout",
          "text": [
            "<class 'pandas.core.frame.DataFrame'>\n",
            "RangeIndex: 4272 entries, 0 to 4271\n",
            "Data columns (total 48 columns):\n",
            " #   Column                                                                                                                             Non-Null Count  Dtype  \n",
            "---  ------                                                                                                                             --------------  -----  \n",
            " 0   Record ID                                                                                                                          4272 non-null   int64  \n",
            " 1   Repeat Instrument                                                                                                                  0 non-null      float64\n",
            " 2   Repeat Instance                                                                                                                    0 non-null      float64\n",
            " 3   Escolaridade                                                                                                                       4057 non-null   object \n",
            " 4   Idade do paciente ao primeiro diagnóstico                                                                                          4092 non-null   float64\n",
            " 5   Sexo                                                                                                                               4125 non-null   object \n",
            " 6   Raça declarada (Biobanco)                                                                                                          234 non-null    object \n",
            " 7   UF de nascimento do paciente                                                                                                       2 non-null      object \n",
            " 8   UF de residência do paciente                                                                                                       2 non-null      object \n",
            " 9   Data da última informação sobre o paciente                                                                                         4270 non-null   object \n",
            " 10  Última informação do paciente                                                                                                      4270 non-null   object \n",
            " 11  Tempo de seguimento (em dias) - desde o último tumor no caso de tumores múltiplos    [dt_pci]                                      4270 non-null   float64\n",
            " 12  Já ficou grávida?                                                                                                                  1013 non-null   object \n",
            " 13  Quantas vezes ficou gráfida?                                                                                                       44 non-null     float64\n",
            " 14  Número de partos                                                                                                                   2 non-null      float64\n",
            " 15  Idade na primeira gestação                                                                                                         897 non-null    float64\n",
            " 16  Abortou                                                                                                                            52 non-null     object \n",
            " 17  Amamentou na primeira gestação?                                                                                                    1042 non-null   object \n",
            " 18  Por quanto tempo amamentou?                                                                                                        688 non-null    float64\n",
            " 19  Historia familiar de câncer relacionado a síndrome de câncer de mama e ovário hereditária? (choice=Não)                            4272 non-null   object \n",
            " 20  Historia familiar de câncer relacionado a síndrome de câncer de mama e ovário hereditária? (choice=Sim - 1º grau, apenas 1 caso)   4272 non-null   object \n",
            " 21  Historia familiar de câncer relacionado a síndrome de câncer de mama e ovário hereditária? (choice=Sim - 1º grau, mais de 1 caso)  4272 non-null   object \n",
            " 22  Historia familiar de câncer relacionado a síndrome de câncer de mama e ovário hereditária? (choice=Sim - 2º grau, apenas 1 caso)   4272 non-null   object \n",
            " 23  Historia familiar de câncer relacionado a síndrome de câncer de mama e ovário hereditária? (choice=Sim - 2º grau, mais de 1 caso)  4272 non-null   object \n",
            " 24  Idade da primeira mentruação                                                                                                       1025 non-null   float64\n",
            " 25  Faz uso de métodos contraceptivo?                                                                                                  3 non-null      object \n",
            " 26  Qual método? (choice=Pílula anticoncepcional)                                                                                      4272 non-null   object \n",
            " 27  Qual método? (choice=DIU)                                                                                                          4272 non-null   object \n",
            " 28  Qual método? (choice=camisinha)                                                                                                    4272 non-null   object \n",
            " 29  Qual método? (choice=outros)                                                                                                       4272 non-null   object \n",
            " 30  Qual método? (choice=não informou)                                                                                                 4272 non-null   object \n",
            " 31  Já fez uso de drogas?                                                                                                              149 non-null    object \n",
            " 32  Atividade Física                                                                                                                   305 non-null    object \n",
            " 33  Consumo de tabaco                                                                                                                  212 non-null    object \n",
            " 34  Consumo de álcool                                                                                                                  204 non-null    object \n",
            " 35  Possui histórico familiar de câncer?                                                                                               190 non-null    object \n",
            " 36  Grau de parentesco de familiar com cancer? (choice=primeiro (pais, irmãos, filhos))                                                4272 non-null   object \n",
            " 37  Grau de parentesco de familiar com cancer? (choice=segundo (avós, tios e netos))                                                   4272 non-null   object \n",
            " 38  Grau de parentesco de familiar com cancer? (choice=terceiro (bisavós, tio avós, primos, sobrinhos))                                4272 non-null   object \n",
            " 39  Regime de Tratamento                                                                                                               2863 non-null   object \n",
            " 40  Hormonioterapia                                                                                                                    3 non-null      object \n",
            " 41  Data da cirurgia                                                                                                                   2216 non-null   object \n",
            " 42  Tipo de terapia anti-HER2 neoadjuvante                                                                                             1134 non-null   object \n",
            " 43  Radioterapia                                                                                                                       2325 non-null   object \n",
            " 44  Data de início do tratamento quimioterapia                                                                                         2822 non-null   object \n",
            " 45  Esquema de hormonioterapia                                                                                                         12 non-null     object \n",
            " 46  Data do início Hormonioterapia adjuvante                                                                                           2 non-null      object \n",
            " 47  Data de início da Radioterapia                                                                                                     2323 non-null   object \n",
            "dtypes: float64(9), int64(1), object(38)\n",
            "memory usage: 1.6+ MB\n"
          ]
        }
      ]
    },
    {
      "cell_type": "code",
      "source": [
        "df_demograficos.shape"
      ],
      "metadata": {
        "colab": {
          "base_uri": "https://localhost:8080/"
        },
        "id": "jBbxy5i-zl4q",
        "outputId": "979d2a22-059d-4ee4-b5f3-87ec7338239c"
      },
      "execution_count": 348,
      "outputs": [
        {
          "output_type": "execute_result",
          "data": {
            "text/plain": [
              "(4272, 48)"
            ]
          },
          "metadata": {},
          "execution_count": 348
        }
      ]
    },
    {
      "cell_type": "code",
      "source": [
        "df_demograficos.describe()"
      ],
      "metadata": {
        "colab": {
          "base_uri": "https://localhost:8080/",
          "height": 379
        },
        "id": "rmjaswPrzp5n",
        "outputId": "e840427e-7042-43d3-8427-1d6747875639"
      },
      "execution_count": 349,
      "outputs": [
        {
          "output_type": "execute_result",
          "data": {
            "text/plain": [
              "       Record ID  Repeat Instrument  Repeat Instance  \\\n",
              "count    4272.00                0.0              0.0   \n",
              "mean    48652.36                NaN              NaN   \n",
              "std     20659.52                NaN              NaN   \n",
              "min       302.00                NaN              NaN   \n",
              "25%     31013.00                NaN              NaN   \n",
              "50%     53394.00                NaN              NaN   \n",
              "75%     65816.75                NaN              NaN   \n",
              "max     82240.00                NaN              NaN   \n",
              "\n",
              "       Idade do paciente ao primeiro diagnóstico  \\\n",
              "count                                    4092.00   \n",
              "mean                                       54.25   \n",
              "std                                        13.57   \n",
              "min                                        22.00   \n",
              "25%                                        45.00   \n",
              "50%                                        54.00   \n",
              "75%                                        64.00   \n",
              "max                                        98.00   \n",
              "\n",
              "       Tempo de seguimento (em dias) - desde o último tumor no caso de tumores múltiplos    [dt_pci]  \\\n",
              "count                                            4270.00                                               \n",
              "mean                                             1475.00                                               \n",
              "std                                               859.62                                               \n",
              "min                                                 0.00                                               \n",
              "25%                                               956.25                                               \n",
              "50%                                              1282.00                                               \n",
              "75%                                              1817.75                                               \n",
              "max                                              4503.00                                               \n",
              "\n",
              "       Quantas vezes ficou gráfida?  Número de partos  \\\n",
              "count                         44.00              2.00   \n",
              "mean                           2.32              1.50   \n",
              "std                            1.41              0.71   \n",
              "min                            1.00              1.00   \n",
              "25%                            1.00              1.25   \n",
              "50%                            2.00              1.50   \n",
              "75%                            3.00              1.75   \n",
              "max                            7.00              2.00   \n",
              "\n",
              "       Idade na primeira gestação  Por quanto tempo amamentou?  \\\n",
              "count                      897.00                       688.00   \n",
              "mean                        23.06                        19.04   \n",
              "std                          5.67                        23.11   \n",
              "min                          0.00                         0.00   \n",
              "25%                         19.00                         6.00   \n",
              "50%                         22.00                        12.00   \n",
              "75%                         26.00                        24.00   \n",
              "max                         53.00                       260.00   \n",
              "\n",
              "       Idade da primeira mentruação  \n",
              "count                       1025.00  \n",
              "mean                          12.89  \n",
              "std                            2.10  \n",
              "min                            0.00  \n",
              "25%                           12.00  \n",
              "50%                           13.00  \n",
              "75%                           14.00  \n",
              "max                           37.00  "
            ],
            "text/html": [
              "\n",
              "  <div id=\"df-208fc434-4683-4772-a7a6-11a9c43755c4\">\n",
              "    <div class=\"colab-df-container\">\n",
              "      <div>\n",
              "<style scoped>\n",
              "    .dataframe tbody tr th:only-of-type {\n",
              "        vertical-align: middle;\n",
              "    }\n",
              "\n",
              "    .dataframe tbody tr th {\n",
              "        vertical-align: top;\n",
              "    }\n",
              "\n",
              "    .dataframe thead th {\n",
              "        text-align: right;\n",
              "    }\n",
              "</style>\n",
              "<table border=\"1\" class=\"dataframe\">\n",
              "  <thead>\n",
              "    <tr style=\"text-align: right;\">\n",
              "      <th></th>\n",
              "      <th>Record ID</th>\n",
              "      <th>Repeat Instrument</th>\n",
              "      <th>Repeat Instance</th>\n",
              "      <th>Idade do paciente ao primeiro diagnóstico</th>\n",
              "      <th>Tempo de seguimento (em dias) - desde o último tumor no caso de tumores múltiplos    [dt_pci]</th>\n",
              "      <th>Quantas vezes ficou gráfida?</th>\n",
              "      <th>Número de partos</th>\n",
              "      <th>Idade na primeira gestação</th>\n",
              "      <th>Por quanto tempo amamentou?</th>\n",
              "      <th>Idade da primeira mentruação</th>\n",
              "    </tr>\n",
              "  </thead>\n",
              "  <tbody>\n",
              "    <tr>\n",
              "      <th>count</th>\n",
              "      <td>4272.00</td>\n",
              "      <td>0.0</td>\n",
              "      <td>0.0</td>\n",
              "      <td>4092.00</td>\n",
              "      <td>4270.00</td>\n",
              "      <td>44.00</td>\n",
              "      <td>2.00</td>\n",
              "      <td>897.00</td>\n",
              "      <td>688.00</td>\n",
              "      <td>1025.00</td>\n",
              "    </tr>\n",
              "    <tr>\n",
              "      <th>mean</th>\n",
              "      <td>48652.36</td>\n",
              "      <td>NaN</td>\n",
              "      <td>NaN</td>\n",
              "      <td>54.25</td>\n",
              "      <td>1475.00</td>\n",
              "      <td>2.32</td>\n",
              "      <td>1.50</td>\n",
              "      <td>23.06</td>\n",
              "      <td>19.04</td>\n",
              "      <td>12.89</td>\n",
              "    </tr>\n",
              "    <tr>\n",
              "      <th>std</th>\n",
              "      <td>20659.52</td>\n",
              "      <td>NaN</td>\n",
              "      <td>NaN</td>\n",
              "      <td>13.57</td>\n",
              "      <td>859.62</td>\n",
              "      <td>1.41</td>\n",
              "      <td>0.71</td>\n",
              "      <td>5.67</td>\n",
              "      <td>23.11</td>\n",
              "      <td>2.10</td>\n",
              "    </tr>\n",
              "    <tr>\n",
              "      <th>min</th>\n",
              "      <td>302.00</td>\n",
              "      <td>NaN</td>\n",
              "      <td>NaN</td>\n",
              "      <td>22.00</td>\n",
              "      <td>0.00</td>\n",
              "      <td>1.00</td>\n",
              "      <td>1.00</td>\n",
              "      <td>0.00</td>\n",
              "      <td>0.00</td>\n",
              "      <td>0.00</td>\n",
              "    </tr>\n",
              "    <tr>\n",
              "      <th>25%</th>\n",
              "      <td>31013.00</td>\n",
              "      <td>NaN</td>\n",
              "      <td>NaN</td>\n",
              "      <td>45.00</td>\n",
              "      <td>956.25</td>\n",
              "      <td>1.00</td>\n",
              "      <td>1.25</td>\n",
              "      <td>19.00</td>\n",
              "      <td>6.00</td>\n",
              "      <td>12.00</td>\n",
              "    </tr>\n",
              "    <tr>\n",
              "      <th>50%</th>\n",
              "      <td>53394.00</td>\n",
              "      <td>NaN</td>\n",
              "      <td>NaN</td>\n",
              "      <td>54.00</td>\n",
              "      <td>1282.00</td>\n",
              "      <td>2.00</td>\n",
              "      <td>1.50</td>\n",
              "      <td>22.00</td>\n",
              "      <td>12.00</td>\n",
              "      <td>13.00</td>\n",
              "    </tr>\n",
              "    <tr>\n",
              "      <th>75%</th>\n",
              "      <td>65816.75</td>\n",
              "      <td>NaN</td>\n",
              "      <td>NaN</td>\n",
              "      <td>64.00</td>\n",
              "      <td>1817.75</td>\n",
              "      <td>3.00</td>\n",
              "      <td>1.75</td>\n",
              "      <td>26.00</td>\n",
              "      <td>24.00</td>\n",
              "      <td>14.00</td>\n",
              "    </tr>\n",
              "    <tr>\n",
              "      <th>max</th>\n",
              "      <td>82240.00</td>\n",
              "      <td>NaN</td>\n",
              "      <td>NaN</td>\n",
              "      <td>98.00</td>\n",
              "      <td>4503.00</td>\n",
              "      <td>7.00</td>\n",
              "      <td>2.00</td>\n",
              "      <td>53.00</td>\n",
              "      <td>260.00</td>\n",
              "      <td>37.00</td>\n",
              "    </tr>\n",
              "  </tbody>\n",
              "</table>\n",
              "</div>\n",
              "      <button class=\"colab-df-convert\" onclick=\"convertToInteractive('df-208fc434-4683-4772-a7a6-11a9c43755c4')\"\n",
              "              title=\"Convert this dataframe to an interactive table.\"\n",
              "              style=\"display:none;\">\n",
              "        \n",
              "  <svg xmlns=\"http://www.w3.org/2000/svg\" height=\"24px\"viewBox=\"0 0 24 24\"\n",
              "       width=\"24px\">\n",
              "    <path d=\"M0 0h24v24H0V0z\" fill=\"none\"/>\n",
              "    <path d=\"M18.56 5.44l.94 2.06.94-2.06 2.06-.94-2.06-.94-.94-2.06-.94 2.06-2.06.94zm-11 1L8.5 8.5l.94-2.06 2.06-.94-2.06-.94L8.5 2.5l-.94 2.06-2.06.94zm10 10l.94 2.06.94-2.06 2.06-.94-2.06-.94-.94-2.06-.94 2.06-2.06.94z\"/><path d=\"M17.41 7.96l-1.37-1.37c-.4-.4-.92-.59-1.43-.59-.52 0-1.04.2-1.43.59L10.3 9.45l-7.72 7.72c-.78.78-.78 2.05 0 2.83L4 21.41c.39.39.9.59 1.41.59.51 0 1.02-.2 1.41-.59l7.78-7.78 2.81-2.81c.8-.78.8-2.07 0-2.86zM5.41 20L4 18.59l7.72-7.72 1.47 1.35L5.41 20z\"/>\n",
              "  </svg>\n",
              "      </button>\n",
              "      \n",
              "  <style>\n",
              "    .colab-df-container {\n",
              "      display:flex;\n",
              "      flex-wrap:wrap;\n",
              "      gap: 12px;\n",
              "    }\n",
              "\n",
              "    .colab-df-convert {\n",
              "      background-color: #E8F0FE;\n",
              "      border: none;\n",
              "      border-radius: 50%;\n",
              "      cursor: pointer;\n",
              "      display: none;\n",
              "      fill: #1967D2;\n",
              "      height: 32px;\n",
              "      padding: 0 0 0 0;\n",
              "      width: 32px;\n",
              "    }\n",
              "\n",
              "    .colab-df-convert:hover {\n",
              "      background-color: #E2EBFA;\n",
              "      box-shadow: 0px 1px 2px rgba(60, 64, 67, 0.3), 0px 1px 3px 1px rgba(60, 64, 67, 0.15);\n",
              "      fill: #174EA6;\n",
              "    }\n",
              "\n",
              "    [theme=dark] .colab-df-convert {\n",
              "      background-color: #3B4455;\n",
              "      fill: #D2E3FC;\n",
              "    }\n",
              "\n",
              "    [theme=dark] .colab-df-convert:hover {\n",
              "      background-color: #434B5C;\n",
              "      box-shadow: 0px 1px 3px 1px rgba(0, 0, 0, 0.15);\n",
              "      filter: drop-shadow(0px 1px 2px rgba(0, 0, 0, 0.3));\n",
              "      fill: #FFFFFF;\n",
              "    }\n",
              "  </style>\n",
              "\n",
              "      <script>\n",
              "        const buttonEl =\n",
              "          document.querySelector('#df-208fc434-4683-4772-a7a6-11a9c43755c4 button.colab-df-convert');\n",
              "        buttonEl.style.display =\n",
              "          google.colab.kernel.accessAllowed ? 'block' : 'none';\n",
              "\n",
              "        async function convertToInteractive(key) {\n",
              "          const element = document.querySelector('#df-208fc434-4683-4772-a7a6-11a9c43755c4');\n",
              "          const dataTable =\n",
              "            await google.colab.kernel.invokeFunction('convertToInteractive',\n",
              "                                                     [key], {});\n",
              "          if (!dataTable) return;\n",
              "\n",
              "          const docLinkHtml = 'Like what you see? Visit the ' +\n",
              "            '<a target=\"_blank\" href=https://colab.research.google.com/notebooks/data_table.ipynb>data table notebook</a>'\n",
              "            + ' to learn more about interactive tables.';\n",
              "          element.innerHTML = '';\n",
              "          dataTable['output_type'] = 'display_data';\n",
              "          await google.colab.output.renderOutput(dataTable, element);\n",
              "          const docLink = document.createElement('div');\n",
              "          docLink.innerHTML = docLinkHtml;\n",
              "          element.appendChild(docLink);\n",
              "        }\n",
              "      </script>\n",
              "    </div>\n",
              "  </div>\n",
              "  "
            ]
          },
          "metadata": {},
          "execution_count": 349
        }
      ]
    },
    {
      "cell_type": "code",
      "source": [
        "df_agrupado = df_demograficos.groupby(\"Última informação do paciente\")\n",
        "df_agrupado['Idade do paciente ao primeiro diagnóstico'].mean().plot(kind='line', ylabel='Última informação do paciente', xlabel='Idade do paciente ao primeiro diagnóstico', title=\" Última informação do paciente x Idade do paciente ao primeiro diagnóstico \")"
      ],
      "metadata": {
        "colab": {
          "base_uri": "https://localhost:8080/",
          "height": 318
        },
        "id": "J8_IJCuYP_LO",
        "outputId": "bd3235d4-b1b8-474e-bddc-1195520977e7"
      },
      "execution_count": 350,
      "outputs": [
        {
          "output_type": "execute_result",
          "data": {
            "text/plain": [
              "<AxesSubplot:title={'center':' Última informação do paciente x Idade do paciente ao primeiro diagnóstico '}, xlabel='Idade do paciente ao primeiro diagnóstico', ylabel='Última informação do paciente'>"
            ]
          },
          "metadata": {},
          "execution_count": 350
        },
        {
          "output_type": "display_data",
          "data": {
            "text/plain": [
              "<Figure size 432x288 with 1 Axes>"
            ],
            "image/png": "[encoded data removed]"
          },
          "metadata": {
            "needs_background": "light"
          }
        }
      ]
    },
    {
      "cell_type": "markdown",
      "source": [
        "###Limpeza dos dados\n",
        "A limpeza de dados é uma etapa fundamental no processo de construção de modelos preditivos, pois dados sujos ou inconsistentes podem prejudicar a precisão e a eficácia do modelo. *Ao* efetuar a limpeza dos dados, podemos garantir que nosso modelo tenha um desempenho melhor e forneça resultados mais precisos e confiáveis. Além disso, ao remover os dados desnecessários e irrelevantes, podemos melhorar a eficiência do modelo e reduzir o tempo necessário para treinar e testar o modelo"
      ],
      "metadata": {
        "id": "1NNp60vn0EAK"
      }
    },
    {
      "cell_type": "markdown",
      "source": [
        "####Deletando algumas colunas\n",
        "**Repeat Instrument** - Motivo: Sem dados preenchidos\n",
        "\n",
        "**Repeat Instance** - Motivo: Sem dados preenchidos\n",
        "\n",
        "**Raça declarada (Biobanco)** - Motivo: Poucos dados preenchidos e por ser \"raça declarada\" não temos 100% de confiabilidade \n",
        "\n",
        "**UF de nascimento do paciente** - Motivo: Apenas dois dados preenchidos\n",
        "\n",
        "**UF de residência do paciente** - Motivo: Apenas dois dados preenchidos\n",
        "\n",
        "**Historia familiar ? 2º grau, apenas 1 caso e 2º grau, mais de 1 caso** - Motivo: Sem dados preenchidos\n",
        "\n",
        "**Faz uso de métodos contraceptivo?** - Motivo: Apenas três dados preenchidos\n",
        "\n",
        "**Hormonioterapia** - Motivo: Apenas três dados preenchidos\n",
        "\n",
        "**Esquema de hormonioterapia** - Motivo: Poucos dados preenchidos (12)\n",
        "\n",
        "**Data do início Hormonioterapia adjuvante** - Motivo: Apenas dois dados preenchidos\n",
        "\n",
        "**Número de partos** - Motivo: Apenas 2 dados preenchidos\n",
        "\n",
        "**Historia familiar de câncer relacionado a síndrome de câncer de mama e ovário hereditária? (choice=Não)** - Motivo: Apenas dois dados preenchidos\n",
        "\n",
        "**Abortou** - Motivo - Apenas 11 dados preenchidos\n",
        "\n",
        "**Já fez uso de drogas?** - Motivo: Apenas um sim\n",
        "\n",
        "**Qual método? (choice=DIU)** - Motivo: Sem dados preenchidos\n",
        "\n",
        "**Qual método? (choice=camisinha)** - Motivo: Sem dados preenchidos\n",
        "\n",
        "**Qual método? (choice=outros)** - Motivo: Sem dados preenchidos\n",
        "\n",
        "**Qual método? (choice=não informou)** - Motivo: Sem dados preenchidos"
      ],
      "metadata": {
        "id": "pyPTTVvF0fnu"
      }
    },
    {
      "cell_type": "code",
      "source": [
        "df_demograficos.drop(columns=['Repeat Instrument', \n",
        "                              'Repeat Instance',\n",
        "                              'Raça declarada (Biobanco)', \n",
        "                              'UF de nascimento do paciente', \n",
        "                              'UF de residência do paciente', \n",
        "                              'Historia familiar de câncer relacionado a síndrome de câncer de mama e ovário hereditária? (choice=Sim - 2º grau, apenas 1 caso)', \n",
        "                              'Historia familiar de câncer relacionado a síndrome de câncer de mama e ovário hereditária? (choice=Sim - 2º grau, mais de 1 caso)', \n",
        "                              'Faz uso de métodos contraceptivo?',\n",
        "                              'Historia familiar de câncer relacionado a síndrome de câncer de mama e ovário hereditária? (choice=Não)',\n",
        "                              'Qual método? (choice=DIU)', \n",
        "                              'Qual método? (choice=Pílula anticoncepcional)', \n",
        "                              'Qual método? (choice=camisinha)', \n",
        "                              'Qual método? (choice=outros)',\n",
        "                              'Número de partos',\n",
        "                              'Abortou', \n",
        "                              'Qual método? (choice=não informou)', \n",
        "                              'Já fez uso de drogas?', \n",
        "                              'Data do início Hormonioterapia adjuvante',\n",
        "                              'Esquema de hormonioterapia', \n",
        "                              'Hormonioterapia '], inplace = True)"
      ],
      "metadata": {
        "id": "iHFXXut6zr2Z"
      },
      "execution_count": 351,
      "outputs": []
    },
    {
      "cell_type": "markdown",
      "source": [
        "####Removendo todas as linhas que só tinham o record_id"
      ],
      "metadata": {
        "id": "CA8xGUTS04A5"
      }
    },
    {
      "cell_type": "code",
      "source": [
        "df_demograficos = df_demograficos.dropna(subset=list(df_demograficos.columns)[1:], how='all')"
      ],
      "metadata": {
        "id": "FoNjT5gm0xM7"
      },
      "execution_count": 352,
      "outputs": []
    },
    {
      "cell_type": "markdown",
      "source": [
        "DataFrame após retirada das colunas e linhas nulas"
      ],
      "metadata": {
        "id": "DXG-ktqo1CUT"
      }
    },
    {
      "cell_type": "code",
      "source": [
        "df_demograficos.info()"
      ],
      "metadata": {
        "colab": {
          "base_uri": "https://localhost:8080/"
        },
        "id": "1o6RU4cg06Te",
        "outputId": "0b1252d2-f204-495a-cc84-76ddece67549"
      },
      "execution_count": 353,
      "outputs": [
        {
          "output_type": "stream",
          "name": "stdout",
          "text": [
            "<class 'pandas.core.frame.DataFrame'>\n",
            "Int64Index: 4272 entries, 0 to 4271\n",
            "Data columns (total 28 columns):\n",
            " #   Column                                                                                                                             Non-Null Count  Dtype  \n",
            "---  ------                                                                                                                             --------------  -----  \n",
            " 0   Record ID                                                                                                                          4272 non-null   int64  \n",
            " 1   Escolaridade                                                                                                                       4057 non-null   object \n",
            " 2   Idade do paciente ao primeiro diagnóstico                                                                                          4092 non-null   float64\n",
            " 3   Sexo                                                                                                                               4125 non-null   object \n",
            " 4   Data da última informação sobre o paciente                                                                                         4270 non-null   object \n",
            " 5   Última informação do paciente                                                                                                      4270 non-null   object \n",
            " 6   Tempo de seguimento (em dias) - desde o último tumor no caso de tumores múltiplos    [dt_pci]                                      4270 non-null   float64\n",
            " 7   Já ficou grávida?                                                                                                                  1013 non-null   object \n",
            " 8   Quantas vezes ficou gráfida?                                                                                                       44 non-null     float64\n",
            " 9   Idade na primeira gestação                                                                                                         897 non-null    float64\n",
            " 10  Amamentou na primeira gestação?                                                                                                    1042 non-null   object \n",
            " 11  Por quanto tempo amamentou?                                                                                                        688 non-null    float64\n",
            " 12  Historia familiar de câncer relacionado a síndrome de câncer de mama e ovário hereditária? (choice=Sim - 1º grau, apenas 1 caso)   4272 non-null   object \n",
            " 13  Historia familiar de câncer relacionado a síndrome de câncer de mama e ovário hereditária? (choice=Sim - 1º grau, mais de 1 caso)  4272 non-null   object \n",
            " 14  Idade da primeira mentruação                                                                                                       1025 non-null   float64\n",
            " 15  Atividade Física                                                                                                                   305 non-null    object \n",
            " 16  Consumo de tabaco                                                                                                                  212 non-null    object \n",
            " 17  Consumo de álcool                                                                                                                  204 non-null    object \n",
            " 18  Possui histórico familiar de câncer?                                                                                               190 non-null    object \n",
            " 19  Grau de parentesco de familiar com cancer? (choice=primeiro (pais, irmãos, filhos))                                                4272 non-null   object \n",
            " 20  Grau de parentesco de familiar com cancer? (choice=segundo (avós, tios e netos))                                                   4272 non-null   object \n",
            " 21  Grau de parentesco de familiar com cancer? (choice=terceiro (bisavós, tio avós, primos, sobrinhos))                                4272 non-null   object \n",
            " 22  Regime de Tratamento                                                                                                               2863 non-null   object \n",
            " 23  Data da cirurgia                                                                                                                   2216 non-null   object \n",
            " 24  Tipo de terapia anti-HER2 neoadjuvante                                                                                             1134 non-null   object \n",
            " 25  Radioterapia                                                                                                                       2325 non-null   object \n",
            " 26  Data de início do tratamento quimioterapia                                                                                         2822 non-null   object \n",
            " 27  Data de início da Radioterapia                                                                                                     2323 non-null   object \n",
            "dtypes: float64(6), int64(1), object(21)\n",
            "memory usage: 967.9+ KB\n"
          ]
        }
      ]
    },
    {
      "cell_type": "markdown",
      "source": [
        "#### Simplificando os nomes das colunas\n",
        "Para tornar mais fácil o trabalho com os dados, é comum simplificar os nomes das colunas."
      ],
      "metadata": {
        "id": "x4J1O4jw1Tnu"
      }
    },
    {
      "cell_type": "code",
      "source": [
        "df_demograficos = df_demograficos.rename(columns = {\n",
        "    'Record ID': 'Record_ID',\n",
        "    'Idade do paciente ao primeiro diagnóstico': 'Diagnóstico_idade',\n",
        "    'Data da última informação sobre o paciente': 'Data_ultimo_dado_paciente',\n",
        "    'Última informação do paciente': 'Ultimo_dado_paciente',\n",
        "    'Tempo de seguimento (em dias) - desde o último tumor no caso de tumores múltiplos    [dt_pci]': 'Tempo_de_seguimento',\n",
        "    'Já ficou grávida?':'já_engravidou?',\n",
        "    'Quantas vezes ficou gráfida?': 'Quantas_vezes_grávida?',\n",
        "    'Idade na primeira gestação': 'Idade_primeira_gestação',\n",
        "    'Amamentou na primeira gestação?': 'Amamentou_na_gestação?',\n",
        "    'Por quanto tempo amamentou?': 'Periodo_amamentação',\n",
        "    'Historia familiar de câncer relacionado a síndrome de câncer de mama e ovário hereditária? (choice=Não)': 'Possui_historico_familiar_relacionado_síndrome_câncer_de_mama_e_ovário_hereditária?',\n",
        "    'Historia familiar de câncer relacionado a síndrome de câncer de mama e ovário hereditária? (choice=Sim - 1º grau, apenas 1 caso)': 'Possui_um_caso_historico_familiar_primeiro_grau_relacionado_síndrome_câncer_de_mama_e_ovário_hereditária',\n",
        "    'Historia familiar de câncer relacionado a síndrome de câncer de mama e ovário hereditária? (choice=Sim - 1º grau, mais de 1 caso)': 'Possui_mais_de_um_caso_historico_familiar_primeiro_grau_relacionado_síndrome_câncer_de_mama_e_ovário_hereditária',\n",
        "    'Idade da primeira mentruação': 'Idade_primeira_menstruação',\n",
        "    'Atividade Física': 'Pratica_atividade_física?',\n",
        "    'Consumo de tabaco': 'Consome_tabaco?',\n",
        "    'Consumo de álcool': 'Consome_álcool?',\n",
        "    'Possui histórico familiar de câncer?': 'Histórico_familiar_câncer?',\n",
        "    'Grau de parentesco de familiar com cancer? (choice=primeiro (pais, irmãos, filhos))': 'Parentes_primeiro_grau_com_cancer',\n",
        "    'Grau de parentesco de familiar com cancer? (choice=segundo (avós, tios e netos))': 'Parentes_segundo_grau_com_cancer',\n",
        "    'Grau de parentesco de familiar com cancer? (choice=terceiro (bisavós, tio avós, primos, sobrinhos))': 'Parentes_terceiro_grau_com_cancer',\n",
        "    'Regime de Tratamento': 'Regime_tratamento',\n",
        "    'Data da cirurgia': 'Data_cirurgia',\n",
        "    'Tipo de terapia anti-HER2 neoadjuvante': 'Tipo_terapia_anti-HER2_neoadjuvante',\n",
        "    'Data de início do tratamento quimioterapia': 'Início_quimioterapia',\n",
        "    'Data de início da Radioterapia': 'Início_radioterapia'\n",
        "})"
      ],
      "metadata": {
        "id": "EQWHb3Ng1Auz"
      },
      "execution_count": 354,
      "outputs": []
    },
    {
      "cell_type": "markdown",
      "source": [
        "####Aplicação da função clean_column_names()\n",
        "Normaliza o nome de todas as colunas em snake_case, no diminutivo e sem acentos."
      ],
      "metadata": {
        "id": "22CWBrJo1uB6"
      }
    },
    {
      "cell_type": "code",
      "source": [
        "df_demograficos = clean_column_names(df_demograficos)\n",
        "df_demograficos.info()"
      ],
      "metadata": {
        "colab": {
          "base_uri": "https://localhost:8080/"
        },
        "id": "sKrnhbyl1tZQ",
        "outputId": "714c1fe9-e5ca-4988-a469-a8f93d343785"
      },
      "execution_count": 355,
      "outputs": [
        {
          "output_type": "stream",
          "name": "stdout",
          "text": [
            "<class 'pandas.core.frame.DataFrame'>\n",
            "Int64Index: 4272 entries, 0 to 4271\n",
            "Data columns (total 28 columns):\n",
            " #   Column                                                                                                            Non-Null Count  Dtype  \n",
            "---  ------                                                                                                            --------------  -----  \n",
            " 0   record_id                                                                                                         4272 non-null   int64  \n",
            " 1   escolaridade                                                                                                      4057 non-null   object \n",
            " 2   diagnostico_idade                                                                                                 4092 non-null   float64\n",
            " 3   sexo                                                                                                              4125 non-null   object \n",
            " 4   data_ultimo_dado_paciente                                                                                         4270 non-null   object \n",
            " 5   ultimo_dado_paciente                                                                                              4270 non-null   object \n",
            " 6   tempo_de_seguimento                                                                                               4270 non-null   float64\n",
            " 7   ja_engravidou                                                                                                     1013 non-null   object \n",
            " 8   quantas_vezes_gravida                                                                                             44 non-null     float64\n",
            " 9   idade_primeira_gestacao                                                                                           897 non-null    float64\n",
            " 10  amamentou_na_gestacao                                                                                             1042 non-null   object \n",
            " 11  periodo_amamentacao                                                                                               688 non-null    float64\n",
            " 12  possui_um_caso_historico_familiar_primeiro_grau_relacionado_sindrome_cancer_de_mama_e_ovario_hereditaria          4272 non-null   object \n",
            " 13  possui_mais_de_um_caso_historico_familiar_primeiro_grau_relacionado_sindrome_cancer_de_mama_e_ovario_hereditaria  4272 non-null   object \n",
            " 14  idade_primeira_menstruacao                                                                                        1025 non-null   float64\n",
            " 15  pratica_atividade_fisica                                                                                          305 non-null    object \n",
            " 16  consome_tabaco                                                                                                    212 non-null    object \n",
            " 17  consome_alcool                                                                                                    204 non-null    object \n",
            " 18  historico_familiar_cancer                                                                                         190 non-null    object \n",
            " 19  parentes_primeiro_grau_com_cancer                                                                                 4272 non-null   object \n",
            " 20  parentes_segundo_grau_com_cancer                                                                                  4272 non-null   object \n",
            " 21  parentes_terceiro_grau_com_cancer                                                                                 4272 non-null   object \n",
            " 22  regime_tratamento                                                                                                 2863 non-null   object \n",
            " 23  data_cirurgia                                                                                                     2216 non-null   object \n",
            " 24  tipo_terapia_anti_her2_neoadjuvante                                                                               1134 non-null   object \n",
            " 25  radioterapia                                                                                                      2325 non-null   object \n",
            " 26  inicio_quimioterapia                                                                                              2822 non-null   object \n",
            " 27  inicio_radioterapia                                                                                               2323 non-null   object \n",
            "dtypes: float64(6), int64(1), object(21)\n",
            "memory usage: 967.9+ KB\n"
          ]
        }
      ]
    },
    {
      "cell_type": "markdown",
      "source": [
        "###Identificando e removendo outliers\n",
        "Outliers são valores extremos que estão muito afastados do restante dos dados e podem afetar negativamente a precisão do modelo. O tratamento de outliers envolve identificar e remover valores discrepantes, ou ajustá-los para valores mais apropriados, para melhorar a precisão e a confiabilidade do modelo.\n",
        "\n",
        "Obs: Para o periodo de amamentação iremos recalcular os valores após Luciana nos informar que os dados deveriam ser inputados apenas em meses porem temos alguns campos em dias"
      ],
      "metadata": {
        "id": "0yrWDle66QxZ"
      }
    },
    {
      "cell_type": "code",
      "source": [
        "sns.boxplot(x = df_demograficos['diagnostico_idade'])"
      ],
      "metadata": {
        "colab": {
          "base_uri": "https://localhost:8080/",
          "height": 0
        },
        "id": "e7ls5fTx149y",
        "outputId": "37206e9e-2ab9-4981-f601-2bd55b60af9d"
      },
      "execution_count": 356,
      "outputs": [
        {
          "output_type": "execute_result",
          "data": {
            "text/plain": [
              "<AxesSubplot:xlabel='diagnostico_idade'>"
            ]
          },
          "metadata": {},
          "execution_count": 356
        },
        {
          "output_type": "display_data",
          "data": {
            "text/plain": [
              "<Figure size 432x288 with 1 Axes>"
            ],
            "image/png": "[encoded data removed]"
          },
          "metadata": {
            "needs_background": "light"
          }
        }
      ]
    },
    {
      "cell_type": "code",
      "source": [
        "sns.boxplot(x = df_demograficos['quantas_vezes_gravida'])"
      ],
      "metadata": {
        "colab": {
          "base_uri": "https://localhost:8080/",
          "height": 0
        },
        "id": "l8YxgYv66PLG",
        "outputId": "ea4887ed-6f67-469f-90cc-badbaba71b4c"
      },
      "execution_count": 357,
      "outputs": [
        {
          "output_type": "execute_result",
          "data": {
            "text/plain": [
              "<AxesSubplot:xlabel='quantas_vezes_gravida'>"
            ]
          },
          "metadata": {},
          "execution_count": 357
        },
        {
          "output_type": "display_data",
          "data": {
            "text/plain": [
              "<Figure size 432x288 with 1 Axes>"
            ],
            "image/png": "[encoded data removed]"
          },
          "metadata": {
            "needs_background": "light"
          }
        }
      ]
    },
    {
      "cell_type": "code",
      "source": [
        "sns.boxplot(x = df_demograficos['idade_primeira_gestacao'])"
      ],
      "metadata": {
        "colab": {
          "base_uri": "https://localhost:8080/",
          "height": 0
        },
        "id": "JPmOKdAn6u5V",
        "outputId": "70156083-476d-406b-e80f-1a87fc4aad86"
      },
      "execution_count": 358,
      "outputs": [
        {
          "output_type": "execute_result",
          "data": {
            "text/plain": [
              "<AxesSubplot:xlabel='idade_primeira_gestacao'>"
            ]
          },
          "metadata": {},
          "execution_count": 358
        },
        {
          "output_type": "display_data",
          "data": {
            "text/plain": [
              "<Figure size 432x288 with 1 Axes>"
            ],
            "image/png": "[encoded data removed]"
          },
          "metadata": {
            "needs_background": "light"
          }
        }
      ]
    },
    {
      "cell_type": "code",
      "source": [
        "sns.boxplot(x = df_demograficos['periodo_amamentacao'])"
      ],
      "metadata": {
        "colab": {
          "base_uri": "https://localhost:8080/",
          "height": 0
        },
        "id": "1wqN_EKv692k",
        "outputId": "1aa84f1c-a1bd-4de2-8999-ea40ce06963f"
      },
      "execution_count": 359,
      "outputs": [
        {
          "output_type": "execute_result",
          "data": {
            "text/plain": [
              "<AxesSubplot:xlabel='periodo_amamentacao'>"
            ]
          },
          "metadata": {},
          "execution_count": 359
        },
        {
          "output_type": "display_data",
          "data": {
            "text/plain": [
              "<Figure size 432x288 with 1 Axes>"
            ],
            "image/png": "[encoded data removed]"
          },
          "metadata": {
            "needs_background": "light"
          }
        }
      ]
    },
    {
      "cell_type": "code",
      "source": [
        "sns.boxplot(x = df_demograficos['idade_primeira_menstruacao']) "
      ],
      "metadata": {
        "colab": {
          "base_uri": "https://localhost:8080/",
          "height": 0
        },
        "id": "ct5H0Wtl6yMn",
        "outputId": "64b60c81-abf3-4e89-fe9c-b24e0402922c"
      },
      "execution_count": 360,
      "outputs": [
        {
          "output_type": "execute_result",
          "data": {
            "text/plain": [
              "<AxesSubplot:xlabel='idade_primeira_menstruacao'>"
            ]
          },
          "metadata": {},
          "execution_count": 360
        },
        {
          "output_type": "display_data",
          "data": {
            "text/plain": [
              "<Figure size 432x288 with 1 Axes>"
            ],
            "image/png": "[encoded data removed]"
          },
          "metadata": {
            "needs_background": "light"
          }
        }
      ]
    },
    {
      "cell_type": "markdown",
      "source": [
        "####Aplicação da função excluir_outliers \n",
        "Eliminando Outliers das colunas passandas por parâmetro levando em consideração o desvio padrão"
      ],
      "metadata": {
        "id": "1PD282117UnI"
      }
    },
    {
      "cell_type": "code",
      "source": [
        "numerical_cols = ['diagnostico_idade', \n",
        "                  'quantas_vezes_gravida', \n",
        "                  'idade_primeira_gestacao', \n",
        "                  'idade_primeira_menstruacao']\n",
        "\n",
        "def exclui_outliers(DataFrame, col_name):\n",
        "  intervalo = 3*DataFrame[col_name].std()\n",
        "  media = DataFrame[col_name].mean()\n",
        "  DataFrame.loc[df_demograficos[col_name] < (media - intervalo), col_name] = np.nan\n",
        "  DataFrame.loc[df_demograficos[col_name] > (media + intervalo), col_name] = np.nan\n",
        "\n",
        "for col in numerical_cols:\n",
        "  exclui_outliers(df_demograficos, col)"
      ],
      "metadata": {
        "id": "GrH2oKEq616n"
      },
      "execution_count": 361,
      "outputs": []
    },
    {
      "cell_type": "code",
      "source": [
        "sns.boxplot(x = df_demograficos['diagnostico_idade'])"
      ],
      "metadata": {
        "colab": {
          "base_uri": "https://localhost:8080/",
          "height": 0
        },
        "id": "xZNPzEJF7Eyp",
        "outputId": "1b0a6120-cc71-4f1f-ad77-2335a3fc1d00"
      },
      "execution_count": 362,
      "outputs": [
        {
          "output_type": "execute_result",
          "data": {
            "text/plain": [
              "<AxesSubplot:xlabel='diagnostico_idade'>"
            ]
          },
          "metadata": {},
          "execution_count": 362
        },
        {
          "output_type": "display_data",
          "data": {
            "text/plain": [
              "<Figure size 432x288 with 1 Axes>"
            ],
            "image/png": "[encoded data removed]"
          },
          "metadata": {
            "needs_background": "light"
          }
        }
      ]
    },
    {
      "cell_type": "code",
      "source": [
        "sns.boxplot(x = df_demograficos['quantas_vezes_gravida'])"
      ],
      "metadata": {
        "colab": {
          "base_uri": "https://localhost:8080/",
          "height": 0
        },
        "id": "rxaV0l1F7yHb",
        "outputId": "b639d039-951f-485c-f2d3-b27f1d679654"
      },
      "execution_count": 363,
      "outputs": [
        {
          "output_type": "execute_result",
          "data": {
            "text/plain": [
              "<AxesSubplot:xlabel='quantas_vezes_gravida'>"
            ]
          },
          "metadata": {},
          "execution_count": 363
        },
        {
          "output_type": "display_data",
          "data": {
            "text/plain": [
              "<Figure size 432x288 with 1 Axes>"
            ],
            "image/png": "[encoded data removed]"
          },
          "metadata": {
            "needs_background": "light"
          }
        }
      ]
    },
    {
      "cell_type": "code",
      "source": [
        "sns.boxplot(x = df_demograficos['idade_primeira_gestacao'])"
      ],
      "metadata": {
        "colab": {
          "base_uri": "https://localhost:8080/",
          "height": 0
        },
        "id": "fuZTsLSe70eS",
        "outputId": "fc29c803-8063-4b00-c75b-afcd26ff6684"
      },
      "execution_count": 364,
      "outputs": [
        {
          "output_type": "execute_result",
          "data": {
            "text/plain": [
              "<AxesSubplot:xlabel='idade_primeira_gestacao'>"
            ]
          },
          "metadata": {},
          "execution_count": 364
        },
        {
          "output_type": "display_data",
          "data": {
            "text/plain": [
              "<Figure size 432x288 with 1 Axes>"
            ],
            "image/png": "[encoded data removed]"
          },
          "metadata": {
            "needs_background": "light"
          }
        }
      ]
    },
    {
      "cell_type": "code",
      "source": [
        "sns.boxplot(x = df_demograficos['idade_primeira_menstruacao']) "
      ],
      "metadata": {
        "colab": {
          "base_uri": "https://localhost:8080/",
          "height": 0
        },
        "id": "sUiiljfn73Mn",
        "outputId": "dacfd284-4bbc-44dc-837b-2c475bd4342e"
      },
      "execution_count": 365,
      "outputs": [
        {
          "output_type": "execute_result",
          "data": {
            "text/plain": [
              "<AxesSubplot:xlabel='idade_primeira_menstruacao'>"
            ]
          },
          "metadata": {},
          "execution_count": 365
        },
        {
          "output_type": "display_data",
          "data": {
            "text/plain": [
              "<Figure size 432x288 with 1 Axes>"
            ],
            "image/png": "[encoded data removed]"
          },
          "metadata": {
            "needs_background": "light"
          }
        }
      ]
    },
    {
      "cell_type": "code",
      "source": [
        "df_demograficos.info()"
      ],
      "metadata": {
        "colab": {
          "base_uri": "https://localhost:8080/"
        },
        "id": "QBLPHNPNBF_X",
        "outputId": "9231c048-781a-4c30-c16c-1b5d062799b1"
      },
      "execution_count": 366,
      "outputs": [
        {
          "output_type": "stream",
          "name": "stdout",
          "text": [
            "<class 'pandas.core.frame.DataFrame'>\n",
            "Int64Index: 4272 entries, 0 to 4271\n",
            "Data columns (total 28 columns):\n",
            " #   Column                                                                                                            Non-Null Count  Dtype  \n",
            "---  ------                                                                                                            --------------  -----  \n",
            " 0   record_id                                                                                                         4272 non-null   int64  \n",
            " 1   escolaridade                                                                                                      4057 non-null   object \n",
            " 2   diagnostico_idade                                                                                                 4087 non-null   float64\n",
            " 3   sexo                                                                                                              4125 non-null   object \n",
            " 4   data_ultimo_dado_paciente                                                                                         4270 non-null   object \n",
            " 5   ultimo_dado_paciente                                                                                              4270 non-null   object \n",
            " 6   tempo_de_seguimento                                                                                               4270 non-null   float64\n",
            " 7   ja_engravidou                                                                                                     1013 non-null   object \n",
            " 8   quantas_vezes_gravida                                                                                             43 non-null     float64\n",
            " 9   idade_primeira_gestacao                                                                                           888 non-null    float64\n",
            " 10  amamentou_na_gestacao                                                                                             1042 non-null   object \n",
            " 11  periodo_amamentacao                                                                                               688 non-null    float64\n",
            " 12  possui_um_caso_historico_familiar_primeiro_grau_relacionado_sindrome_cancer_de_mama_e_ovario_hereditaria          4272 non-null   object \n",
            " 13  possui_mais_de_um_caso_historico_familiar_primeiro_grau_relacionado_sindrome_cancer_de_mama_e_ovario_hereditaria  4272 non-null   object \n",
            " 14  idade_primeira_menstruacao                                                                                        1021 non-null   float64\n",
            " 15  pratica_atividade_fisica                                                                                          305 non-null    object \n",
            " 16  consome_tabaco                                                                                                    212 non-null    object \n",
            " 17  consome_alcool                                                                                                    204 non-null    object \n",
            " 18  historico_familiar_cancer                                                                                         190 non-null    object \n",
            " 19  parentes_primeiro_grau_com_cancer                                                                                 4272 non-null   object \n",
            " 20  parentes_segundo_grau_com_cancer                                                                                  4272 non-null   object \n",
            " 21  parentes_terceiro_grau_com_cancer                                                                                 4272 non-null   object \n",
            " 22  regime_tratamento                                                                                                 2863 non-null   object \n",
            " 23  data_cirurgia                                                                                                     2216 non-null   object \n",
            " 24  tipo_terapia_anti_her2_neoadjuvante                                                                               1134 non-null   object \n",
            " 25  radioterapia                                                                                                      2325 non-null   object \n",
            " 26  inicio_quimioterapia                                                                                              2822 non-null   object \n",
            " 27  inicio_radioterapia                                                                                               2323 non-null   object \n",
            "dtypes: float64(6), int64(1), object(21)\n",
            "memory usage: 967.9+ KB\n"
          ]
        }
      ]
    },
    {
      "cell_type": "code",
      "source": [
        "sns.barplot(x = df_demograficos['diagnostico_idade'], y = df_demograficos['escolaridade'])"
      ],
      "metadata": {
        "colab": {
          "base_uri": "https://localhost:8080/",
          "height": 0
        },
        "id": "pGmOLJgLBKYQ",
        "outputId": "f35a1244-db9a-40f3-ccf0-bcab6e484284"
      },
      "execution_count": 367,
      "outputs": [
        {
          "output_type": "execute_result",
          "data": {
            "text/plain": [
              "<AxesSubplot:xlabel='diagnostico_idade', ylabel='escolaridade'>"
            ]
          },
          "metadata": {},
          "execution_count": 367
        },
        {
          "output_type": "display_data",
          "data": {
            "text/plain": [
              "<Figure size 432x288 with 1 Axes>"
            ],
            "image/png": "[encoded data removed]"
          },
          "metadata": {
            "needs_background": "light"
          }
        }
      ]
    },
    {
      "cell_type": "markdown",
      "source": [
        "###Codificação das colunas para a predição do modelo\n",
        "\n",
        "O encoding é importante porque permite que dados categóricos sejam convertidos em dados numéricos, o que é necessário para que possam ser utilizados em algoritmos de aprendizado de máquina. Isso ocorre porque a maioria dos algoritmos de aprendizado de máquina requer que os dados sejam numéricos, pois eles são mais fáceis de serem manipulados e processados pelos algoritmos. Além disso, a escolha do tipo de codificação a ser aplicada depende do tipo de dados categóricos que está sendo trabalhado e do tipo de algoritmo de aprendizado de máquina que será utilizado. Portanto, a realização do encoding é essencial para garantir a eficácia e precisão dos algoritmos de aprendizado de máquina que utilizam esses dados."
      ],
      "metadata": {
        "id": "g_NbCjTP_SxA"
      }
    },
    {
      "cell_type": "markdown",
      "source": [
        "#### Escolaridade"
      ],
      "metadata": {
        "id": "9I0Urf2hHTDd"
      }
    },
    {
      "cell_type": "code",
      "source": [
        "df_demograficos['escolaridade'].unique()"
      ],
      "metadata": {
        "colab": {
          "base_uri": "https://localhost:8080/"
        },
        "id": "9Sofukco75y5",
        "outputId": "1f9b6ff2-7712-4fa0-acea-bec9756c9906"
      },
      "execution_count": 368,
      "outputs": [
        {
          "output_type": "execute_result",
          "data": {
            "text/plain": [
              "array(['ENS. FUNDAMENTAL INCOMPLETO', 'ENSINO MÉDIO',\n",
              "       'ENS. FUNDAMENTAL COMPLETO', 'IGNORADA', 'SUPERIOR', 'ANALFABETO',\n",
              "       nan], dtype=object)"
            ]
          },
          "metadata": {},
          "execution_count": 368
        }
      ]
    },
    {
      "cell_type": "code",
      "source": [
        "df_demograficos['escolaridade'].value_counts()"
      ],
      "metadata": {
        "colab": {
          "base_uri": "https://localhost:8080/"
        },
        "id": "wngnrf-QHXfl",
        "outputId": "73e059c4-56dd-4674-c2eb-0dd651f10d7b"
      },
      "execution_count": 369,
      "outputs": [
        {
          "output_type": "execute_result",
          "data": {
            "text/plain": [
              "IGNORADA                       2535\n",
              "ENSINO MÉDIO                    488\n",
              "ENS. FUNDAMENTAL INCOMPLETO     445\n",
              "ENS. FUNDAMENTAL COMPLETO       357\n",
              "SUPERIOR                        174\n",
              "ANALFABETO                       58\n",
              "Name: escolaridade, dtype: int64"
            ]
          },
          "metadata": {},
          "execution_count": 369
        }
      ]
    },
    {
      "cell_type": "code",
      "source": [
        "# ANALFABETO = 1\n",
        "# ENS. FUNDAMENTAL INCOMPLETO = 2 \n",
        "# ENS. FUNDAMENTAL COMPLETO = 3\n",
        "# ENS. MEDIO = 4\n",
        "# SUPERIOR = 5\n",
        "\n",
        "df_demograficos['escolaridade'] = df_demograficos['escolaridade'].replace('IGNORADA', np.nan)\n",
        "\n",
        "df_demograficos['escolaridade'] = df_demograficos['escolaridade'].replace({'ANALFABETO':0,\n",
        "                                                                           'ENS. FUNDAMENTAL INCOMPLETO':1,\n",
        "                                                                           'ENS. FUNDAMENTAL COMPLETO':2,\n",
        "                                                                           'ENSINO MÉDIO':3,\n",
        "                                                                           'SUPERIOR':4})"
      ],
      "metadata": {
        "id": "gdxcyRV8HZ-c"
      },
      "execution_count": 370,
      "outputs": []
    },
    {
      "cell_type": "markdown",
      "source": [
        "####Sexo"
      ],
      "metadata": {
        "id": "TA-EclqaHk-j"
      }
    },
    {
      "cell_type": "code",
      "source": [
        "df_demograficos['sexo'].unique()"
      ],
      "metadata": {
        "colab": {
          "base_uri": "https://localhost:8080/"
        },
        "id": "z_3esz7YHeHk",
        "outputId": "bb8b4ecd-cd3a-402c-e75b-01c94ba4fb83"
      },
      "execution_count": 371,
      "outputs": [
        {
          "output_type": "execute_result",
          "data": {
            "text/plain": [
              "array(['Feminino', nan, 'Masculino'], dtype=object)"
            ]
          },
          "metadata": {},
          "execution_count": 371
        }
      ]
    },
    {
      "cell_type": "code",
      "source": [
        "df_demograficos['sexo'].value_counts()"
      ],
      "metadata": {
        "colab": {
          "base_uri": "https://localhost:8080/"
        },
        "id": "E-o5i395Honw",
        "outputId": "62c0f93c-7c4b-456e-bc1a-3696d6d9e188"
      },
      "execution_count": 372,
      "outputs": [
        {
          "output_type": "execute_result",
          "data": {
            "text/plain": [
              "Feminino     4090\n",
              "Masculino      35\n",
              "Name: sexo, dtype: int64"
            ]
          },
          "metadata": {},
          "execution_count": 372
        }
      ]
    },
    {
      "cell_type": "code",
      "source": [
        "# Masculino = 0\n",
        "# Feminino = 1\n",
        "\n",
        "df_demograficos['sexo'] = df_demograficos['sexo'].fillna(1)\n",
        "\n",
        "df_demograficos['sexo'] = df_demograficos['sexo'].replace({'Masculino':0,\n",
        "                                                           'Feminino':1})"
      ],
      "metadata": {
        "id": "H95KfIowHrIw"
      },
      "execution_count": 373,
      "outputs": []
    },
    {
      "cell_type": "markdown",
      "source": [
        "####Ultimo dado do paciente"
      ],
      "metadata": {
        "id": "yQpQgHtKHzne"
      }
    },
    {
      "cell_type": "code",
      "source": [
        "df_demograficos['ultimo_dado_paciente'].unique()"
      ],
      "metadata": {
        "colab": {
          "base_uri": "https://localhost:8080/"
        },
        "id": "kg4qu6gGHvU_",
        "outputId": "21d2276c-4050-4442-dff1-ccfa9345e510"
      },
      "execution_count": 374,
      "outputs": [
        {
          "output_type": "execute_result",
          "data": {
            "text/plain": [
              "array(['Obito por câncer', 'Vivo, SOE', 'Vivo, com câncer',\n",
              "       'Óbito por outras causas, SOE', nan], dtype=object)"
            ]
          },
          "metadata": {},
          "execution_count": 374
        }
      ]
    },
    {
      "cell_type": "code",
      "source": [
        "df_demograficos['ultimo_dado_paciente'].value_counts()"
      ],
      "metadata": {
        "colab": {
          "base_uri": "https://localhost:8080/"
        },
        "id": "qVzNACNwH3fa",
        "outputId": "5ca1416c-95bd-47e4-cccd-532b9f8c10fe"
      },
      "execution_count": 375,
      "outputs": [
        {
          "output_type": "execute_result",
          "data": {
            "text/plain": [
              "Vivo, SOE                       2815\n",
              "Obito por câncer                1131\n",
              "Vivo, com câncer                 235\n",
              "Óbito por outras causas, SOE      89\n",
              "Name: ultimo_dado_paciente, dtype: int64"
            ]
          },
          "metadata": {},
          "execution_count": 375
        }
      ]
    },
    {
      "cell_type": "code",
      "source": [
        "# Vivo, SEO = 3\n",
        "# Vivo, com câncer = 2\n",
        "# Obito por câncer = 1\n",
        "# Óbito por outras causas = 0\n",
        "\n",
        "df_demograficos['ultimo_dado_paciente'] = df_demograficos['ultimo_dado_paciente'].replace({'Vivo, SOE': 3,\n",
        "                                                                                           'Vivo, com câncer':2,\n",
        "                                                                                           'Obito por câncer':1,\n",
        "                                                                                           'Óbito por outras causas, SOE':0,\n",
        "})"
      ],
      "metadata": {
        "id": "AY7rcekeH5jP"
      },
      "execution_count": 376,
      "outputs": []
    },
    {
      "cell_type": "markdown",
      "source": [
        "####Ja engravidou"
      ],
      "metadata": {
        "id": "hZXjBCmLIDQY"
      }
    },
    {
      "cell_type": "code",
      "source": [
        "df_demograficos['ja_engravidou'].unique()"
      ],
      "metadata": {
        "colab": {
          "base_uri": "https://localhost:8080/"
        },
        "id": "tAW0ujJDH9HD",
        "outputId": "c989cb47-9ae2-4f5c-a60d-289b4891672e"
      },
      "execution_count": 377,
      "outputs": [
        {
          "output_type": "execute_result",
          "data": {
            "text/plain": [
              "array([nan, 'Sim', 'Não'], dtype=object)"
            ]
          },
          "metadata": {},
          "execution_count": 377
        }
      ]
    },
    {
      "cell_type": "code",
      "source": [
        "df_demograficos['ja_engravidou'].value_counts()"
      ],
      "metadata": {
        "colab": {
          "base_uri": "https://localhost:8080/"
        },
        "id": "YqdestzhIHXc",
        "outputId": "dd6d62d2-8f05-470c-eabc-a7c8a678ce93"
      },
      "execution_count": 378,
      "outputs": [
        {
          "output_type": "execute_result",
          "data": {
            "text/plain": [
              "Sim    1002\n",
              "Não      11\n",
              "Name: ja_engravidou, dtype: int64"
            ]
          },
          "metadata": {},
          "execution_count": 378
        }
      ]
    },
    {
      "cell_type": "code",
      "source": [
        "# Não = 0\n",
        "# Sim = 1\n",
        "\n",
        "df_demograficos['ja_engravidou'] = df_demograficos['ja_engravidou'].replace({'Não':0,\n",
        "                                                                             'Sim':1\n",
        "})"
      ],
      "metadata": {
        "id": "VJivTm0MII_1"
      },
      "execution_count": 379,
      "outputs": []
    },
    {
      "cell_type": "markdown",
      "source": [
        "####Amamentou na gestacao"
      ],
      "metadata": {
        "id": "suSHwjsXIOxL"
      }
    },
    {
      "cell_type": "code",
      "source": [
        "df_demograficos['amamentou_na_gestacao'].unique()"
      ],
      "metadata": {
        "colab": {
          "base_uri": "https://localhost:8080/"
        },
        "id": "MaptZoT9ILze",
        "outputId": "50de7f33-b0c7-4fcf-e7df-abe6a52f030f"
      },
      "execution_count": 380,
      "outputs": [
        {
          "output_type": "execute_result",
          "data": {
            "text/plain": [
              "array([nan, 'Sim', 'Não'], dtype=object)"
            ]
          },
          "metadata": {},
          "execution_count": 380
        }
      ]
    },
    {
      "cell_type": "code",
      "source": [
        "df_demograficos['amamentou_na_gestacao'].value_counts()"
      ],
      "metadata": {
        "colab": {
          "base_uri": "https://localhost:8080/"
        },
        "id": "yXN1W906IR00",
        "outputId": "8c98e734-ad9c-4e16-e77e-7b21fe71673b"
      },
      "execution_count": 381,
      "outputs": [
        {
          "output_type": "execute_result",
          "data": {
            "text/plain": [
              "Sim    789\n",
              "Não    253\n",
              "Name: amamentou_na_gestacao, dtype: int64"
            ]
          },
          "metadata": {},
          "execution_count": 381
        }
      ]
    },
    {
      "cell_type": "code",
      "source": [
        "# Não = 0\n",
        "# Sim = 1\n",
        "\n",
        "df_demograficos['amamentou_na_gestacao'] = df_demograficos['amamentou_na_gestacao'].replace({'Não':0,\n",
        "                                                                                             'Sim':1})"
      ],
      "metadata": {
        "id": "mNm92JmaIVqj"
      },
      "execution_count": 382,
      "outputs": []
    },
    {
      "cell_type": "markdown",
      "source": [
        "####Historico Familiar"
      ],
      "metadata": {
        "id": "bTm8pF-XIiPi"
      }
    },
    {
      "cell_type": "code",
      "source": [
        "df_demograficos['possui_um_caso_historico_familiar_primeiro_grau_relacionado_sindrome_cancer_de_mama_e_ovario_hereditaria'].unique()"
      ],
      "metadata": {
        "colab": {
          "base_uri": "https://localhost:8080/"
        },
        "id": "KvCblLMkIcFI",
        "outputId": "8df83cb8-04ab-4d20-95ce-9fae077748c0"
      },
      "execution_count": 383,
      "outputs": [
        {
          "output_type": "execute_result",
          "data": {
            "text/plain": [
              "array(['Unchecked', 'Checked'], dtype=object)"
            ]
          },
          "metadata": {},
          "execution_count": 383
        }
      ]
    },
    {
      "cell_type": "code",
      "source": [
        "df_demograficos['possui_um_caso_historico_familiar_primeiro_grau_relacionado_sindrome_cancer_de_mama_e_ovario_hereditaria'].value_counts()"
      ],
      "metadata": {
        "colab": {
          "base_uri": "https://localhost:8080/"
        },
        "id": "kFR3UUR5IobJ",
        "outputId": "96707b36-be34-4278-841b-8bd3e00c91cc"
      },
      "execution_count": 384,
      "outputs": [
        {
          "output_type": "execute_result",
          "data": {
            "text/plain": [
              "Unchecked    4232\n",
              "Checked        40\n",
              "Name: possui_um_caso_historico_familiar_primeiro_grau_relacionado_sindrome_cancer_de_mama_e_ovario_hereditaria, dtype: int64"
            ]
          },
          "metadata": {},
          "execution_count": 384
        }
      ]
    },
    {
      "cell_type": "code",
      "source": [
        "# Unchecked = 0\n",
        "# Checked = 1\n",
        "df_demograficos['possui_um_caso_historico_familiar_primeiro_grau_relacionado_sindrome_cancer_de_mama_e_ovario_hereditaria'] = df_demograficos['possui_um_caso_historico_familiar_primeiro_grau_relacionado_sindrome_cancer_de_mama_e_ovario_hereditaria'].replace({'Unchecked':0,\n",
        "                                                                                                                                                                                                                                                                 'Checked':1\n",
        "})"
      ],
      "metadata": {
        "id": "J70vPnz7Ique"
      },
      "execution_count": 385,
      "outputs": []
    },
    {
      "cell_type": "code",
      "source": [
        "df_demograficos['possui_mais_de_um_caso_historico_familiar_primeiro_grau_relacionado_sindrome_cancer_de_mama_e_ovario_hereditaria'].unique()"
      ],
      "metadata": {
        "colab": {
          "base_uri": "https://localhost:8080/"
        },
        "id": "V_PmNgqCIt3j",
        "outputId": "c96ec2ea-6342-4897-e928-cebf62db255b"
      },
      "execution_count": 386,
      "outputs": [
        {
          "output_type": "execute_result",
          "data": {
            "text/plain": [
              "array(['Unchecked', 'Checked'], dtype=object)"
            ]
          },
          "metadata": {},
          "execution_count": 386
        }
      ]
    },
    {
      "cell_type": "code",
      "source": [
        "df_demograficos['possui_mais_de_um_caso_historico_familiar_primeiro_grau_relacionado_sindrome_cancer_de_mama_e_ovario_hereditaria'].value_counts()"
      ],
      "metadata": {
        "colab": {
          "base_uri": "https://localhost:8080/"
        },
        "id": "Yl8qzri-Iwf7",
        "outputId": "cff52c15-9a94-48ad-9b9c-3b1cc6e9c4ad"
      },
      "execution_count": 387,
      "outputs": [
        {
          "output_type": "execute_result",
          "data": {
            "text/plain": [
              "Unchecked    4264\n",
              "Checked         8\n",
              "Name: possui_mais_de_um_caso_historico_familiar_primeiro_grau_relacionado_sindrome_cancer_de_mama_e_ovario_hereditaria, dtype: int64"
            ]
          },
          "metadata": {},
          "execution_count": 387
        }
      ]
    },
    {
      "cell_type": "code",
      "source": [
        "# Unchecked = 0\n",
        "# Checked = 1\n",
        "df_demograficos['possui_mais_de_um_caso_historico_familiar_primeiro_grau_relacionado_sindrome_cancer_de_mama_e_ovario_hereditaria'] = df_demograficos['possui_mais_de_um_caso_historico_familiar_primeiro_grau_relacionado_sindrome_cancer_de_mama_e_ovario_hereditaria'].replace({'Unchecked':0,\n",
        "                                                                                                                                                                                                                                                                 'Checked':1\n",
        "})"
      ],
      "metadata": {
        "id": "NsPiNj0rIzXJ"
      },
      "execution_count": 388,
      "outputs": []
    },
    {
      "cell_type": "markdown",
      "source": [
        "####Pratica atividade fisica"
      ],
      "metadata": {
        "id": "xxDkMGodI6uA"
      }
    },
    {
      "cell_type": "code",
      "source": [
        "df_demograficos['pratica_atividade_fisica'].unique()"
      ],
      "metadata": {
        "colab": {
          "base_uri": "https://localhost:8080/"
        },
        "id": "QlKKyxaJI10S",
        "outputId": "69770d32-9126-44e2-b186-d1cb90101d87"
      },
      "execution_count": 389,
      "outputs": [
        {
          "output_type": "execute_result",
          "data": {
            "text/plain": [
              "array([nan, 'Pratica regularmente', 'Não pratica',\n",
              "       'Pratica esporadicamente', 'Pratica frequentemente'], dtype=object)"
            ]
          },
          "metadata": {},
          "execution_count": 389
        }
      ]
    },
    {
      "cell_type": "code",
      "source": [
        "df_demograficos['pratica_atividade_fisica'].value_counts()"
      ],
      "metadata": {
        "colab": {
          "base_uri": "https://localhost:8080/"
        },
        "id": "pfQTJfcqJGHC",
        "outputId": "44e9afff-00f0-45cd-c2a7-edd53179b975"
      },
      "execution_count": 390,
      "outputs": [
        {
          "output_type": "execute_result",
          "data": {
            "text/plain": [
              "Não pratica                223\n",
              "Pratica regularmente        43\n",
              "Pratica esporadicamente     23\n",
              "Pratica frequentemente      16\n",
              "Name: pratica_atividade_fisica, dtype: int64"
            ]
          },
          "metadata": {},
          "execution_count": 390
        }
      ]
    },
    {
      "cell_type": "code",
      "source": [
        "# Não pratica = 0 \n",
        "# Pratica esporadicamente = 1\n",
        "# Pratica regularmente = 2\n",
        "# Pratica frequentemente = 3\n",
        "\n",
        "\n",
        "df_demograficos['pratica_atividade_fisica'] = df_demograficos['pratica_atividade_fisica'].replace({'Não pratica':0,\n",
        "                                                                                                   'Pratica esporadicamente':1,\n",
        "                                                                                                   'Pratica regularmente':2,\n",
        "                                                                                                   'Pratica frequentemente':3\n",
        "                                                                                                   })"
      ],
      "metadata": {
        "id": "cepRuqWQJJIV"
      },
      "execution_count": 391,
      "outputs": []
    },
    {
      "cell_type": "markdown",
      "source": [
        "####Consome tabaco"
      ],
      "metadata": {
        "id": "0awlU0cTJPlX"
      }
    },
    {
      "cell_type": "code",
      "source": [
        "df_demograficos['consome_tabaco'].unique()"
      ],
      "metadata": {
        "colab": {
          "base_uri": "https://localhost:8080/"
        },
        "id": "hEUXk4dZJNo8",
        "outputId": "9f2b517e-2cce-4f4f-c016-649fd1053acd"
      },
      "execution_count": 392,
      "outputs": [
        {
          "output_type": "execute_result",
          "data": {
            "text/plain": [
              "array([nan, 'Nunca fumou', 'Fumou no passado', 'Fuma atualmente',\n",
              "       'não-informado'], dtype=object)"
            ]
          },
          "metadata": {},
          "execution_count": 392
        }
      ]
    },
    {
      "cell_type": "code",
      "source": [
        "df_demograficos['consome_tabaco'].value_counts()"
      ],
      "metadata": {
        "colab": {
          "base_uri": "https://localhost:8080/"
        },
        "id": "0ywXPuSVJVH1",
        "outputId": "bf22d0b6-1a71-42ea-e363-a673becdfb83"
      },
      "execution_count": 393,
      "outputs": [
        {
          "output_type": "execute_result",
          "data": {
            "text/plain": [
              "Nunca fumou         148\n",
              "Fumou no passado     34\n",
              "Fuma atualmente      27\n",
              "não-informado         3\n",
              "Name: consome_tabaco, dtype: int64"
            ]
          },
          "metadata": {},
          "execution_count": 393
        }
      ]
    },
    {
      "cell_type": "code",
      "source": [
        "# Nunca fumou = 0\n",
        "# Fumou no passado = 1\n",
        "# Fuma atualmente = 2\n",
        "\n",
        "df_demograficos['consome_tabaco'] = df_demograficos['consome_tabaco'].replace('não-informado', np.nan)\n",
        "\n",
        "df_demograficos['consome_tabaco'] = df_demograficos['consome_tabaco'].replace({'Nunca fumou':0,\n",
        "                                                                                 'Fumou no passado':1,\n",
        "                                                                                 'Fuma atualmente':2})"
      ],
      "metadata": {
        "id": "iZA2QAOKJalT"
      },
      "execution_count": 394,
      "outputs": []
    },
    {
      "cell_type": "markdown",
      "source": [
        "####Consome alcool"
      ],
      "metadata": {
        "id": "NXCnNRLoJoZn"
      }
    },
    {
      "cell_type": "code",
      "source": [
        "df_demograficos['consome_alcool'].unique()"
      ],
      "metadata": {
        "colab": {
          "base_uri": "https://localhost:8080/"
        },
        "id": "_C5EWTH5Jfia",
        "outputId": "6b810df1-dc97-4af7-dcd2-ec75cf2000da"
      },
      "execution_count": 395,
      "outputs": [
        {
          "output_type": "execute_result",
          "data": {
            "text/plain": [
              "array([nan, 'Bebe atualmente', 'Bebia no passado', 'Nunca bebeu',\n",
              "       'não-informado'], dtype=object)"
            ]
          },
          "metadata": {},
          "execution_count": 395
        }
      ]
    },
    {
      "cell_type": "code",
      "source": [
        "df_demograficos['consome_alcool'].value_counts()"
      ],
      "metadata": {
        "colab": {
          "base_uri": "https://localhost:8080/"
        },
        "id": "YmrkMOvaJh_j",
        "outputId": "0e34a7a0-9c22-43d4-9db0-f7a5df2c3753"
      },
      "execution_count": 396,
      "outputs": [
        {
          "output_type": "execute_result",
          "data": {
            "text/plain": [
              "Nunca bebeu         159\n",
              "Bebia no passado     35\n",
              "Bebe atualmente       6\n",
              "não-informado         4\n",
              "Name: consome_alcool, dtype: int64"
            ]
          },
          "metadata": {},
          "execution_count": 396
        }
      ]
    },
    {
      "cell_type": "code",
      "source": [
        "# Nunca bebeu = 0\n",
        "# Bebeu no passado = 1\n",
        "# Bebe atualmente = 2\n",
        "\n",
        "df_demograficos['consome_alcool'] = df_demograficos['consome_alcool'].replace('não-informado', np.nan)\n",
        "\n",
        "df_demograficos['consome_alcool'] = df_demograficos['consome_alcool'].replace({'Nunca bebeu':0,\n",
        "                                                                               'Bebia no passado':1,\n",
        "                                                                               'Bebe atualmente':2})"
      ],
      "metadata": {
        "id": "tNaw1e4pJjex"
      },
      "execution_count": 397,
      "outputs": []
    },
    {
      "cell_type": "markdown",
      "source": [
        "####Historico familiar de cancer"
      ],
      "metadata": {
        "id": "Z6doaIv6J2og"
      }
    },
    {
      "cell_type": "code",
      "source": [
        "df_demograficos['historico_familiar_cancer'].unique()"
      ],
      "metadata": {
        "colab": {
          "base_uri": "https://localhost:8080/"
        },
        "id": "jhLT833QJngf",
        "outputId": "5f7cc408-4e08-4d50-a44e-ed33258bce5b"
      },
      "execution_count": 398,
      "outputs": [
        {
          "output_type": "execute_result",
          "data": {
            "text/plain": [
              "array([nan, 'Sim', 'Não'], dtype=object)"
            ]
          },
          "metadata": {},
          "execution_count": 398
        }
      ]
    },
    {
      "cell_type": "code",
      "source": [
        "df_demograficos['historico_familiar_cancer'].value_counts()"
      ],
      "metadata": {
        "colab": {
          "base_uri": "https://localhost:8080/"
        },
        "id": "fgYaXHdHJ50k",
        "outputId": "12f8e505-b982-43ef-a425-b030fa9be696"
      },
      "execution_count": 399,
      "outputs": [
        {
          "output_type": "execute_result",
          "data": {
            "text/plain": [
              "Sim    138\n",
              "Não     52\n",
              "Name: historico_familiar_cancer, dtype: int64"
            ]
          },
          "metadata": {},
          "execution_count": 399
        }
      ]
    },
    {
      "cell_type": "code",
      "source": [
        "# Não = 0\n",
        "# Sim = 1\n",
        "\n",
        "df_demograficos['historico_familiar_cancer'] = df_demograficos['historico_familiar_cancer'].replace({'Não':0,\n",
        "                                                                                                     'Sim':1})"
      ],
      "metadata": {
        "id": "rb-LTwK6J9ra"
      },
      "execution_count": 400,
      "outputs": []
    },
    {
      "cell_type": "markdown",
      "source": [
        "####Grau parentesco com cancer"
      ],
      "metadata": {
        "id": "VoAWM7NsKCUJ"
      }
    },
    {
      "cell_type": "code",
      "source": [
        "df_demograficos['parentes_primeiro_grau_com_cancer'].unique()"
      ],
      "metadata": {
        "colab": {
          "base_uri": "https://localhost:8080/"
        },
        "id": "ipyXMJs0KAbl",
        "outputId": "0a62975b-71b9-4366-81bb-04b4a9e56675"
      },
      "execution_count": 401,
      "outputs": [
        {
          "output_type": "execute_result",
          "data": {
            "text/plain": [
              "array(['Unchecked', 'Checked'], dtype=object)"
            ]
          },
          "metadata": {},
          "execution_count": 401
        }
      ]
    },
    {
      "cell_type": "code",
      "source": [
        "df_demograficos['parentes_primeiro_grau_com_cancer'].value_counts()"
      ],
      "metadata": {
        "colab": {
          "base_uri": "https://localhost:8080/"
        },
        "id": "5w08sRQSKGkl",
        "outputId": "ded08a59-8332-49bf-c435-1aa58d5ad0ab"
      },
      "execution_count": 402,
      "outputs": [
        {
          "output_type": "execute_result",
          "data": {
            "text/plain": [
              "Unchecked    4183\n",
              "Checked        89\n",
              "Name: parentes_primeiro_grau_com_cancer, dtype: int64"
            ]
          },
          "metadata": {},
          "execution_count": 402
        }
      ]
    },
    {
      "cell_type": "code",
      "source": [
        "# Unchecked = 0\n",
        "# Checked = 1\n",
        "\n",
        "df_demograficos['parentes_primeiro_grau_com_cancer'] = df_demograficos['parentes_primeiro_grau_com_cancer'].replace({'Unchecked':0,\n",
        "                                                                                                                     'Checked':1\n",
        "                                                                                                                     })"
      ],
      "metadata": {
        "id": "cbwuZDA2KIW4"
      },
      "execution_count": 403,
      "outputs": []
    },
    {
      "cell_type": "code",
      "source": [
        "df_demograficos['parentes_segundo_grau_com_cancer'].unique()"
      ],
      "metadata": {
        "colab": {
          "base_uri": "https://localhost:8080/"
        },
        "id": "jR8uQLf8KLIH",
        "outputId": "d2bfeb69-c858-44ad-ad3c-9bee2a79d1dd"
      },
      "execution_count": 404,
      "outputs": [
        {
          "output_type": "execute_result",
          "data": {
            "text/plain": [
              "array(['Unchecked', 'Checked'], dtype=object)"
            ]
          },
          "metadata": {},
          "execution_count": 404
        }
      ]
    },
    {
      "cell_type": "code",
      "source": [
        "df_demograficos['parentes_segundo_grau_com_cancer'].value_counts()"
      ],
      "metadata": {
        "colab": {
          "base_uri": "https://localhost:8080/"
        },
        "id": "EpBcKmuCKN7V",
        "outputId": "1578e911-72fc-410b-9715-2730af8492fc"
      },
      "execution_count": 405,
      "outputs": [
        {
          "output_type": "execute_result",
          "data": {
            "text/plain": [
              "Unchecked    4202\n",
              "Checked        70\n",
              "Name: parentes_segundo_grau_com_cancer, dtype: int64"
            ]
          },
          "metadata": {},
          "execution_count": 405
        }
      ]
    },
    {
      "cell_type": "code",
      "source": [
        "# Unchecked = 0\n",
        "# Checked = 1\n",
        "\n",
        "df_demograficos['parentes_segundo_grau_com_cancer'] = df_demograficos['parentes_segundo_grau_com_cancer'].replace({'Unchecked':0,\n",
        "                                                                                                                     'Checked':1\n",
        "                                                                                                                     })"
      ],
      "metadata": {
        "id": "9g3J2yFgKPlH"
      },
      "execution_count": 406,
      "outputs": []
    },
    {
      "cell_type": "code",
      "source": [
        "df_demograficos['parentes_terceiro_grau_com_cancer'].unique()"
      ],
      "metadata": {
        "colab": {
          "base_uri": "https://localhost:8080/"
        },
        "id": "TVws6-tHKSRd",
        "outputId": "2663fb3b-ce94-4467-9458-6412d9f46cce"
      },
      "execution_count": 407,
      "outputs": [
        {
          "output_type": "execute_result",
          "data": {
            "text/plain": [
              "array(['Unchecked', 'Checked'], dtype=object)"
            ]
          },
          "metadata": {},
          "execution_count": 407
        }
      ]
    },
    {
      "cell_type": "code",
      "source": [
        "df_demograficos['parentes_terceiro_grau_com_cancer'].value_counts()"
      ],
      "metadata": {
        "colab": {
          "base_uri": "https://localhost:8080/"
        },
        "id": "sj2kp9vfKUPS",
        "outputId": "89efce5c-223b-4e11-efbe-f7c7487651f7"
      },
      "execution_count": 408,
      "outputs": [
        {
          "output_type": "execute_result",
          "data": {
            "text/plain": [
              "Unchecked    4224\n",
              "Checked        48\n",
              "Name: parentes_terceiro_grau_com_cancer, dtype: int64"
            ]
          },
          "metadata": {},
          "execution_count": 408
        }
      ]
    },
    {
      "cell_type": "code",
      "source": [
        "# Unchecked = 0\n",
        "# Checked = 1\n",
        "\n",
        "df_demograficos['parentes_terceiro_grau_com_cancer'] = df_demograficos['parentes_terceiro_grau_com_cancer'].replace({'Unchecked':0,\n",
        "                                                                                                                     'Checked':1\n",
        "                                                                                                                     })"
      ],
      "metadata": {
        "id": "mrPanY_CKWPT"
      },
      "execution_count": 409,
      "outputs": []
    },
    {
      "cell_type": "markdown",
      "source": [
        "####Regime de tratamento (utilizacao do onehotencoder)"
      ],
      "metadata": {
        "id": "CSMyHXqsKgLP"
      }
    },
    {
      "cell_type": "code",
      "source": [
        "df_demograficos['regime_tratamento'].unique()"
      ],
      "metadata": {
        "colab": {
          "base_uri": "https://localhost:8080/"
        },
        "id": "MpHgl6VAKZn1",
        "outputId": "91d760f2-d773-44ba-8e5a-1360e0fb7638"
      },
      "execution_count": 410,
      "outputs": [
        {
          "output_type": "execute_result",
          "data": {
            "text/plain": [
              "array([nan, 'Terapia Adjuvante', 'Terapia Neoadjuvante', 'Paliativo',\n",
              "       'Não fez quimioterapia'], dtype=object)"
            ]
          },
          "metadata": {},
          "execution_count": 410
        }
      ]
    },
    {
      "cell_type": "code",
      "source": [
        "df_demograficos['regime_tratamento'].value_counts()"
      ],
      "metadata": {
        "colab": {
          "base_uri": "https://localhost:8080/"
        },
        "id": "Rtg-0hoIKmwZ",
        "outputId": "c0325372-9664-4e7c-c619-524de7ea1bfe"
      },
      "execution_count": 411,
      "outputs": [
        {
          "output_type": "execute_result",
          "data": {
            "text/plain": [
              "Terapia Adjuvante        1422\n",
              "Terapia Neoadjuvante     1346\n",
              "Paliativo                  70\n",
              "Não fez quimioterapia      25\n",
              "Name: regime_tratamento, dtype: int64"
            ]
          },
          "metadata": {},
          "execution_count": 411
        }
      ]
    },
    {
      "cell_type": "code",
      "source": [
        "df_demograficos = pd.get_dummies(df_demograficos, columns=['regime_tratamento'])\n",
        "df_demograficos.info()"
      ],
      "metadata": {
        "colab": {
          "base_uri": "https://localhost:8080/"
        },
        "id": "4rJQkzFsKoti",
        "outputId": "17502c61-74b8-4be4-9750-8fecc40d2e20"
      },
      "execution_count": 412,
      "outputs": [
        {
          "output_type": "stream",
          "name": "stdout",
          "text": [
            "<class 'pandas.core.frame.DataFrame'>\n",
            "Int64Index: 4272 entries, 0 to 4271\n",
            "Data columns (total 31 columns):\n",
            " #   Column                                                                                                            Non-Null Count  Dtype  \n",
            "---  ------                                                                                                            --------------  -----  \n",
            " 0   record_id                                                                                                         4272 non-null   int64  \n",
            " 1   escolaridade                                                                                                      1522 non-null   float64\n",
            " 2   diagnostico_idade                                                                                                 4087 non-null   float64\n",
            " 3   sexo                                                                                                              4272 non-null   int64  \n",
            " 4   data_ultimo_dado_paciente                                                                                         4270 non-null   object \n",
            " 5   ultimo_dado_paciente                                                                                              4270 non-null   float64\n",
            " 6   tempo_de_seguimento                                                                                               4270 non-null   float64\n",
            " 7   ja_engravidou                                                                                                     1013 non-null   float64\n",
            " 8   quantas_vezes_gravida                                                                                             43 non-null     float64\n",
            " 9   idade_primeira_gestacao                                                                                           888 non-null    float64\n",
            " 10  amamentou_na_gestacao                                                                                             1042 non-null   float64\n",
            " 11  periodo_amamentacao                                                                                               688 non-null    float64\n",
            " 12  possui_um_caso_historico_familiar_primeiro_grau_relacionado_sindrome_cancer_de_mama_e_ovario_hereditaria          4272 non-null   int64  \n",
            " 13  possui_mais_de_um_caso_historico_familiar_primeiro_grau_relacionado_sindrome_cancer_de_mama_e_ovario_hereditaria  4272 non-null   int64  \n",
            " 14  idade_primeira_menstruacao                                                                                        1021 non-null   float64\n",
            " 15  pratica_atividade_fisica                                                                                          305 non-null    float64\n",
            " 16  consome_tabaco                                                                                                    209 non-null    float64\n",
            " 17  consome_alcool                                                                                                    200 non-null    float64\n",
            " 18  historico_familiar_cancer                                                                                         190 non-null    float64\n",
            " 19  parentes_primeiro_grau_com_cancer                                                                                 4272 non-null   int64  \n",
            " 20  parentes_segundo_grau_com_cancer                                                                                  4272 non-null   int64  \n",
            " 21  parentes_terceiro_grau_com_cancer                                                                                 4272 non-null   int64  \n",
            " 22  data_cirurgia                                                                                                     2216 non-null   object \n",
            " 23  tipo_terapia_anti_her2_neoadjuvante                                                                               1134 non-null   object \n",
            " 24  radioterapia                                                                                                      2325 non-null   object \n",
            " 25  inicio_quimioterapia                                                                                              2822 non-null   object \n",
            " 26  inicio_radioterapia                                                                                               2323 non-null   object \n",
            " 27  regime_tratamento_Não fez quimioterapia                                                                           4272 non-null   uint8  \n",
            " 28  regime_tratamento_Paliativo                                                                                       4272 non-null   uint8  \n",
            " 29  regime_tratamento_Terapia Adjuvante                                                                               4272 non-null   uint8  \n",
            " 30  regime_tratamento_Terapia Neoadjuvante                                                                            4272 non-null   uint8  \n",
            "dtypes: float64(14), int64(7), object(6), uint8(4)\n",
            "memory usage: 1.1+ MB\n"
          ]
        }
      ]
    },
    {
      "cell_type": "markdown",
      "source": [
        "####Tipo de terapia anti her2"
      ],
      "metadata": {
        "id": "BLnzo4X4K_3A"
      }
    },
    {
      "cell_type": "code",
      "source": [
        "df_demograficos['tipo_terapia_anti_her2_neoadjuvante'].unique()"
      ],
      "metadata": {
        "colab": {
          "base_uri": "https://localhost:8080/"
        },
        "id": "VOaOf3DxKrsf",
        "outputId": "8358918c-f2d1-407a-d992-8c0172382883"
      },
      "execution_count": 413,
      "outputs": [
        {
          "output_type": "execute_result",
          "data": {
            "text/plain": [
              "array(['Trastuzumabe', nan, 'Trastuzumabe + Pertuzumabe'], dtype=object)"
            ]
          },
          "metadata": {},
          "execution_count": 413
        }
      ]
    },
    {
      "cell_type": "code",
      "source": [
        "df_demograficos['tipo_terapia_anti_her2_neoadjuvante'].value_counts()"
      ],
      "metadata": {
        "colab": {
          "base_uri": "https://localhost:8080/"
        },
        "id": "_xtOAHEvK83L",
        "outputId": "e6eae297-373b-41e3-8b42-167bd4a26286"
      },
      "execution_count": 414,
      "outputs": [
        {
          "output_type": "execute_result",
          "data": {
            "text/plain": [
              "Trastuzumabe                  1130\n",
              "Trastuzumabe + Pertuzumabe       4\n",
              "Name: tipo_terapia_anti_her2_neoadjuvante, dtype: int64"
            ]
          },
          "metadata": {},
          "execution_count": 414
        }
      ]
    },
    {
      "cell_type": "code",
      "source": [
        "df_demograficos['tipo_terapia_anti_her2_neoadjuvante'] = df_demograficos['tipo_terapia_anti_her2_neoadjuvante'].replace({'Trastuzumabe':0,\n",
        "                                                                                                                         'Trastuzumabe + Pertuzumabe':1})"
      ],
      "metadata": {
        "id": "w_8jbgKxLNOw"
      },
      "execution_count": 415,
      "outputs": []
    },
    {
      "cell_type": "markdown",
      "source": [
        "####Radioterapia"
      ],
      "metadata": {
        "id": "s6d2svguLS0P"
      }
    },
    {
      "cell_type": "code",
      "source": [
        "df_demograficos['radioterapia'].unique()"
      ],
      "metadata": {
        "colab": {
          "base_uri": "https://localhost:8080/"
        },
        "id": "_vck3YXJLQAW",
        "outputId": "a176cb64-2e76-45ad-e79c-ca8b34f7c3bd"
      },
      "execution_count": 416,
      "outputs": [
        {
          "output_type": "execute_result",
          "data": {
            "text/plain": [
              "array([nan, 'Sim'], dtype=object)"
            ]
          },
          "metadata": {},
          "execution_count": 416
        }
      ]
    },
    {
      "cell_type": "code",
      "source": [
        "df_demograficos['radioterapia'].value_counts()"
      ],
      "metadata": {
        "colab": {
          "base_uri": "https://localhost:8080/"
        },
        "id": "pdGPj2T6LWXd",
        "outputId": "b1727a6e-eafb-407c-f3dc-a6497cfac4c5"
      },
      "execution_count": 417,
      "outputs": [
        {
          "output_type": "execute_result",
          "data": {
            "text/plain": [
              "Sim    2325\n",
              "Name: radioterapia, dtype: int64"
            ]
          },
          "metadata": {},
          "execution_count": 417
        }
      ]
    },
    {
      "cell_type": "code",
      "source": [
        "# Não = 0\n",
        "# Sim = 1\n",
        "\n",
        "df_demograficos['radioterapia'] = df_demograficos['radioterapia'].fillna(0)\n",
        "df_demograficos['radioterapia'] = df_demograficos['radioterapia'].replace({'Sim':1})"
      ],
      "metadata": {
        "id": "kp4Ld1UCLX2s"
      },
      "execution_count": 418,
      "outputs": []
    },
    {
      "cell_type": "markdown",
      "source": [
        "###Trantando os missing numbers de algumas colunas\n",
        "NaN (Not a Number) é um valor especial em Python que representa a ausência de um valor numérico. Quando se lida com dados, é comum encontrar valores NaN em um conjunto de dados. O tratamento de NaN é importante para evitar erros em análises e modelagem de dados."
      ],
      "metadata": {
        "id": "SWNxuPXmMEto"
      }
    },
    {
      "cell_type": "code",
      "source": [
        "df_demograficos_num = ['diagnostico_idade',\n",
        "                       'tempo_de_seguimento',\n",
        "                       'idade_primeira_menstruacao',\n",
        "]\n",
        "\n",
        "df_demograficos_cat = [\n",
        "  'escolaridade',\n",
        "  'ultimo_dado_paciente',\n",
        "  'tipo_terapia_anti_her2_neoadjuvante'\n",
        "]\n",
        "\n",
        "for col in df_demograficos_num:\n",
        "  replace_nan(df_demograficos, col, False)\n",
        "\n",
        "for col in df_demograficos_cat:\n",
        "  replace_nan(df_demograficos, col, True)\n",
        "\n",
        "df_demograficos.info()"
      ],
      "metadata": {
        "colab": {
          "base_uri": "https://localhost:8080/"
        },
        "id": "a9Kwx2xiMGrc",
        "outputId": "57951dd3-9ac9-43ca-de72-68ee69a2d514"
      },
      "execution_count": 419,
      "outputs": [
        {
          "output_type": "stream",
          "name": "stdout",
          "text": [
            "<class 'pandas.core.frame.DataFrame'>\n",
            "Int64Index: 4272 entries, 0 to 4271\n",
            "Data columns (total 31 columns):\n",
            " #   Column                                                                                                            Non-Null Count  Dtype  \n",
            "---  ------                                                                                                            --------------  -----  \n",
            " 0   record_id                                                                                                         4272 non-null   int64  \n",
            " 1   escolaridade                                                                                                      4272 non-null   float64\n",
            " 2   diagnostico_idade                                                                                                 4272 non-null   float64\n",
            " 3   sexo                                                                                                              4272 non-null   int64  \n",
            " 4   data_ultimo_dado_paciente                                                                                         4270 non-null   object \n",
            " 5   ultimo_dado_paciente                                                                                              4272 non-null   float64\n",
            " 6   tempo_de_seguimento                                                                                               4272 non-null   float64\n",
            " 7   ja_engravidou                                                                                                     1013 non-null   float64\n",
            " 8   quantas_vezes_gravida                                                                                             43 non-null     float64\n",
            " 9   idade_primeira_gestacao                                                                                           888 non-null    float64\n",
            " 10  amamentou_na_gestacao                                                                                             1042 non-null   float64\n",
            " 11  periodo_amamentacao                                                                                               688 non-null    float64\n",
            " 12  possui_um_caso_historico_familiar_primeiro_grau_relacionado_sindrome_cancer_de_mama_e_ovario_hereditaria          4272 non-null   int64  \n",
            " 13  possui_mais_de_um_caso_historico_familiar_primeiro_grau_relacionado_sindrome_cancer_de_mama_e_ovario_hereditaria  4272 non-null   int64  \n",
            " 14  idade_primeira_menstruacao                                                                                        4272 non-null   float64\n",
            " 15  pratica_atividade_fisica                                                                                          305 non-null    float64\n",
            " 16  consome_tabaco                                                                                                    209 non-null    float64\n",
            " 17  consome_alcool                                                                                                    200 non-null    float64\n",
            " 18  historico_familiar_cancer                                                                                         190 non-null    float64\n",
            " 19  parentes_primeiro_grau_com_cancer                                                                                 4272 non-null   int64  \n",
            " 20  parentes_segundo_grau_com_cancer                                                                                  4272 non-null   int64  \n",
            " 21  parentes_terceiro_grau_com_cancer                                                                                 4272 non-null   int64  \n",
            " 22  data_cirurgia                                                                                                     2216 non-null   object \n",
            " 23  tipo_terapia_anti_her2_neoadjuvante                                                                               4272 non-null   float64\n",
            " 24  radioterapia                                                                                                      4272 non-null   int64  \n",
            " 25  inicio_quimioterapia                                                                                              2822 non-null   object \n",
            " 26  inicio_radioterapia                                                                                               2323 non-null   object \n",
            " 27  regime_tratamento_Não fez quimioterapia                                                                           4272 non-null   uint8  \n",
            " 28  regime_tratamento_Paliativo                                                                                       4272 non-null   uint8  \n",
            " 29  regime_tratamento_Terapia Adjuvante                                                                               4272 non-null   uint8  \n",
            " 30  regime_tratamento_Terapia Neoadjuvante                                                                            4272 non-null   uint8  \n",
            "dtypes: float64(15), int64(8), object(4), uint8(4)\n",
            "memory usage: 1.1+ MB\n"
          ]
        }
      ]
    },
    {
      "cell_type": "markdown",
      "source": [
        "## DataFrame(Histopatologia)"
      ],
      "metadata": {
        "id": "qt97iJuAoTGP"
      }
    },
    {
      "cell_type": "markdown",
      "source": [
        "###Exploração inicial"
      ],
      "metadata": {
        "id": "Ot6n_ye2oh-o"
      }
    },
    {
      "cell_type": "code",
      "source": [
        "df_histopatologia.head()"
      ],
      "metadata": {
        "colab": {
          "base_uri": "https://localhost:8080/",
          "height": 354
        },
        "id": "OFA1ZQiSNGAn",
        "outputId": "8d9283f6-e17e-42e8-b31c-0fccf7d91642"
      },
      "execution_count": 420,
      "outputs": [
        {
          "output_type": "execute_result",
          "data": {
            "text/plain": [
              "   Record ID            Repeat Instrument  Repeat Instance  \\\n",
              "0        302                          NaN              NaN   \n",
              "1        302  Dados Histopatologicos Mama              1.0   \n",
              "2        710                          NaN              NaN   \n",
              "3        710  Dados Histopatologicos Mama              1.0   \n",
              "4        752                          NaN              NaN   \n",
              "\n",
              "  Diagnostico primario (tipo histológico)  Grau histológico  Subtipo tumoral  \\\n",
              "0                                     NaN               NaN              NaN   \n",
              "1                                     NaN               NaN              5.0   \n",
              "2                                     NaN               NaN              NaN   \n",
              "3                                     NaN               NaN              2.0   \n",
              "4                                     NaN               NaN              NaN   \n",
              "\n",
              "  Receptor de estrogênio Receptor de progesterona Ki67 (>14%)  \\\n",
              "0                    NaN                      NaN         NaN   \n",
              "1               positivo                 positivo         NaN   \n",
              "2                    NaN                      NaN         NaN   \n",
              "3               positivo                 negativo    positivo   \n",
              "4                    NaN                      NaN         NaN   \n",
              "\n",
              "  Receptor de progesterona (quantificação %)  \\\n",
              "0                                        NaN   \n",
              "1                                        NaN   \n",
              "2                                        NaN   \n",
              "3                                        NaN   \n",
              "4                                        NaN   \n",
              "\n",
              "  Receptorde Estrogênio (quantificação %)  Indice H (Receptorde progesterona)  \\\n",
              "0                                     NaN                                 NaN   \n",
              "1                                     NaN                                 NaN   \n",
              "2                                     NaN                                 NaN   \n",
              "3                                     NaN                                 NaN   \n",
              "4                                     NaN                                 NaN   \n",
              "\n",
              "      HER2 por IHC HER2 por FISH  Ki67 (%)  \n",
              "0              NaN           NaN       NaN  \n",
              "1   +++ (positivo)           NaN       NaN  \n",
              "2              NaN           NaN       NaN  \n",
              "3     0 (negativo)           NaN      20.0  \n",
              "4              NaN           NaN       NaN  "
            ],
            "text/html": [
              "\n",
              "  <div id=\"df-0a8326a6-0738-43a4-96f9-cf1cf1bc232f\">\n",
              "    <div class=\"colab-df-container\">\n",
              "      <div>\n",
              "<style scoped>\n",
              "    .dataframe tbody tr th:only-of-type {\n",
              "        vertical-align: middle;\n",
              "    }\n",
              "\n",
              "    .dataframe tbody tr th {\n",
              "        vertical-align: top;\n",
              "    }\n",
              "\n",
              "    .dataframe thead th {\n",
              "        text-align: right;\n",
              "    }\n",
              "</style>\n",
              "<table border=\"1\" class=\"dataframe\">\n",
              "  <thead>\n",
              "    <tr style=\"text-align: right;\">\n",
              "      <th></th>\n",
              "      <th>Record ID</th>\n",
              "      <th>Repeat Instrument</th>\n",
              "      <th>Repeat Instance</th>\n",
              "      <th>Diagnostico primario (tipo histológico)</th>\n",
              "      <th>Grau histológico</th>\n",
              "      <th>Subtipo tumoral</th>\n",
              "      <th>Receptor de estrogênio</th>\n",
              "      <th>Receptor de progesterona</th>\n",
              "      <th>Ki67 (&gt;14%)</th>\n",
              "      <th>Receptor de progesterona (quantificação %)</th>\n",
              "      <th>Receptorde Estrogênio (quantificação %)</th>\n",
              "      <th>Indice H (Receptorde progesterona)</th>\n",
              "      <th>HER2 por IHC</th>\n",
              "      <th>HER2 por FISH</th>\n",
              "      <th>Ki67 (%)</th>\n",
              "    </tr>\n",
              "  </thead>\n",
              "  <tbody>\n",
              "    <tr>\n",
              "      <th>0</th>\n",
              "      <td>302</td>\n",
              "      <td>NaN</td>\n",
              "      <td>NaN</td>\n",
              "      <td>NaN</td>\n",
              "      <td>NaN</td>\n",
              "      <td>NaN</td>\n",
              "      <td>NaN</td>\n",
              "      <td>NaN</td>\n",
              "      <td>NaN</td>\n",
              "      <td>NaN</td>\n",
              "      <td>NaN</td>\n",
              "      <td>NaN</td>\n",
              "      <td>NaN</td>\n",
              "      <td>NaN</td>\n",
              "      <td>NaN</td>\n",
              "    </tr>\n",
              "    <tr>\n",
              "      <th>1</th>\n",
              "      <td>302</td>\n",
              "      <td>Dados Histopatologicos Mama</td>\n",
              "      <td>1.0</td>\n",
              "      <td>NaN</td>\n",
              "      <td>NaN</td>\n",
              "      <td>5.0</td>\n",
              "      <td>positivo</td>\n",
              "      <td>positivo</td>\n",
              "      <td>NaN</td>\n",
              "      <td>NaN</td>\n",
              "      <td>NaN</td>\n",
              "      <td>NaN</td>\n",
              "      <td>+++ (positivo)</td>\n",
              "      <td>NaN</td>\n",
              "      <td>NaN</td>\n",
              "    </tr>\n",
              "    <tr>\n",
              "      <th>2</th>\n",
              "      <td>710</td>\n",
              "      <td>NaN</td>\n",
              "      <td>NaN</td>\n",
              "      <td>NaN</td>\n",
              "      <td>NaN</td>\n",
              "      <td>NaN</td>\n",
              "      <td>NaN</td>\n",
              "      <td>NaN</td>\n",
              "      <td>NaN</td>\n",
              "      <td>NaN</td>\n",
              "      <td>NaN</td>\n",
              "      <td>NaN</td>\n",
              "      <td>NaN</td>\n",
              "      <td>NaN</td>\n",
              "      <td>NaN</td>\n",
              "    </tr>\n",
              "    <tr>\n",
              "      <th>3</th>\n",
              "      <td>710</td>\n",
              "      <td>Dados Histopatologicos Mama</td>\n",
              "      <td>1.0</td>\n",
              "      <td>NaN</td>\n",
              "      <td>NaN</td>\n",
              "      <td>2.0</td>\n",
              "      <td>positivo</td>\n",
              "      <td>negativo</td>\n",
              "      <td>positivo</td>\n",
              "      <td>NaN</td>\n",
              "      <td>NaN</td>\n",
              "      <td>NaN</td>\n",
              "      <td>0 (negativo)</td>\n",
              "      <td>NaN</td>\n",
              "      <td>20.0</td>\n",
              "    </tr>\n",
              "    <tr>\n",
              "      <th>4</th>\n",
              "      <td>752</td>\n",
              "      <td>NaN</td>\n",
              "      <td>NaN</td>\n",
              "      <td>NaN</td>\n",
              "      <td>NaN</td>\n",
              "      <td>NaN</td>\n",
              "      <td>NaN</td>\n",
              "      <td>NaN</td>\n",
              "      <td>NaN</td>\n",
              "      <td>NaN</td>\n",
              "      <td>NaN</td>\n",
              "      <td>NaN</td>\n",
              "      <td>NaN</td>\n",
              "      <td>NaN</td>\n",
              "      <td>NaN</td>\n",
              "    </tr>\n",
              "  </tbody>\n",
              "</table>\n",
              "</div>\n",
              "      <button class=\"colab-df-convert\" onclick=\"convertToInteractive('df-0a8326a6-0738-43a4-96f9-cf1cf1bc232f')\"\n",
              "              title=\"Convert this dataframe to an interactive table.\"\n",
              "              style=\"display:none;\">\n",
              "        \n",
              "  <svg xmlns=\"http://www.w3.org/2000/svg\" height=\"24px\"viewBox=\"0 0 24 24\"\n",
              "       width=\"24px\">\n",
              "    <path d=\"M0 0h24v24H0V0z\" fill=\"none\"/>\n",
              "    <path d=\"M18.56 5.44l.94 2.06.94-2.06 2.06-.94-2.06-.94-.94-2.06-.94 2.06-2.06.94zm-11 1L8.5 8.5l.94-2.06 2.06-.94-2.06-.94L8.5 2.5l-.94 2.06-2.06.94zm10 10l.94 2.06.94-2.06 2.06-.94-2.06-.94-.94-2.06-.94 2.06-2.06.94z\"/><path d=\"M17.41 7.96l-1.37-1.37c-.4-.4-.92-.59-1.43-.59-.52 0-1.04.2-1.43.59L10.3 9.45l-7.72 7.72c-.78.78-.78 2.05 0 2.83L4 21.41c.39.39.9.59 1.41.59.51 0 1.02-.2 1.41-.59l7.78-7.78 2.81-2.81c.8-.78.8-2.07 0-2.86zM5.41 20L4 18.59l7.72-7.72 1.47 1.35L5.41 20z\"/>\n",
              "  </svg>\n",
              "      </button>\n",
              "      \n",
              "  <style>\n",
              "    .colab-df-container {\n",
              "      display:flex;\n",
              "      flex-wrap:wrap;\n",
              "      gap: 12px;\n",
              "    }\n",
              "\n",
              "    .colab-df-convert {\n",
              "      background-color: #E8F0FE;\n",
              "      border: none;\n",
              "      border-radius: 50%;\n",
              "      cursor: pointer;\n",
              "      display: none;\n",
              "      fill: #1967D2;\n",
              "      height: 32px;\n",
              "      padding: 0 0 0 0;\n",
              "      width: 32px;\n",
              "    }\n",
              "\n",
              "    .colab-df-convert:hover {\n",
              "      background-color: #E2EBFA;\n",
              "      box-shadow: 0px 1px 2px rgba(60, 64, 67, 0.3), 0px 1px 3px 1px rgba(60, 64, 67, 0.15);\n",
              "      fill: #174EA6;\n",
              "    }\n",
              "\n",
              "    [theme=dark] .colab-df-convert {\n",
              "      background-color: #3B4455;\n",
              "      fill: #D2E3FC;\n",
              "    }\n",
              "\n",
              "    [theme=dark] .colab-df-convert:hover {\n",
              "      background-color: #434B5C;\n",
              "      box-shadow: 0px 1px 3px 1px rgba(0, 0, 0, 0.15);\n",
              "      filter: drop-shadow(0px 1px 2px rgba(0, 0, 0, 0.3));\n",
              "      fill: #FFFFFF;\n",
              "    }\n",
              "  </style>\n",
              "\n",
              "      <script>\n",
              "        const buttonEl =\n",
              "          document.querySelector('#df-0a8326a6-0738-43a4-96f9-cf1cf1bc232f button.colab-df-convert');\n",
              "        buttonEl.style.display =\n",
              "          google.colab.kernel.accessAllowed ? 'block' : 'none';\n",
              "\n",
              "        async function convertToInteractive(key) {\n",
              "          const element = document.querySelector('#df-0a8326a6-0738-43a4-96f9-cf1cf1bc232f');\n",
              "          const dataTable =\n",
              "            await google.colab.kernel.invokeFunction('convertToInteractive',\n",
              "                                                     [key], {});\n",
              "          if (!dataTable) return;\n",
              "\n",
              "          const docLinkHtml = 'Like what you see? Visit the ' +\n",
              "            '<a target=\"_blank\" href=https://colab.research.google.com/notebooks/data_table.ipynb>data table notebook</a>'\n",
              "            + ' to learn more about interactive tables.';\n",
              "          element.innerHTML = '';\n",
              "          dataTable['output_type'] = 'display_data';\n",
              "          await google.colab.output.renderOutput(dataTable, element);\n",
              "          const docLink = document.createElement('div');\n",
              "          docLink.innerHTML = docLinkHtml;\n",
              "          element.appendChild(docLink);\n",
              "        }\n",
              "      </script>\n",
              "    </div>\n",
              "  </div>\n",
              "  "
            ]
          },
          "metadata": {},
          "execution_count": 420
        }
      ]
    },
    {
      "cell_type": "code",
      "source": [
        "df_histopatologia.info()"
      ],
      "metadata": {
        "colab": {
          "base_uri": "https://localhost:8080/"
        },
        "id": "_4fGV4UeowHz",
        "outputId": "51c32f15-5638-4e13-be3f-cde4e39ad939"
      },
      "execution_count": 421,
      "outputs": [
        {
          "output_type": "stream",
          "name": "stdout",
          "text": [
            "<class 'pandas.core.frame.DataFrame'>\n",
            "RangeIndex: 9066 entries, 0 to 9065\n",
            "Data columns (total 15 columns):\n",
            " #   Column                                      Non-Null Count  Dtype  \n",
            "---  ------                                      --------------  -----  \n",
            " 0   Record ID                                   9066 non-null   int64  \n",
            " 1   Repeat Instrument                           4794 non-null   object \n",
            " 2   Repeat Instance                             4794 non-null   float64\n",
            " 3   Diagnostico primario (tipo histológico)     2954 non-null   object \n",
            " 4   Grau histológico                            1467 non-null   float64\n",
            " 5   Subtipo tumoral                             4695 non-null   float64\n",
            " 6   Receptor de estrogênio                      4249 non-null   object \n",
            " 7   Receptor de progesterona                    4251 non-null   object \n",
            " 8   Ki67 (>14%)                                 4022 non-null   object \n",
            " 9   Receptor de progesterona (quantificação %)  1890 non-null   object \n",
            " 10  Receptorde Estrogênio (quantificação %)     2166 non-null   object \n",
            " 11  Indice H (Receptorde progesterona)          592 non-null    float64\n",
            " 12  HER2 por IHC                                4649 non-null   object \n",
            " 13  HER2 por FISH                               2042 non-null   object \n",
            " 14  Ki67 (%)                                    3867 non-null   float64\n",
            "dtypes: float64(5), int64(1), object(9)\n",
            "memory usage: 1.0+ MB\n"
          ]
        }
      ]
    },
    {
      "cell_type": "code",
      "source": [
        "df_histopatologia.shape"
      ],
      "metadata": {
        "colab": {
          "base_uri": "https://localhost:8080/"
        },
        "id": "Osr3UO-ho-Or",
        "outputId": "2cf5cf79-379d-4c1e-a89b-13e1490bc92c"
      },
      "execution_count": 422,
      "outputs": [
        {
          "output_type": "execute_result",
          "data": {
            "text/plain": [
              "(9066, 15)"
            ]
          },
          "metadata": {},
          "execution_count": 422
        }
      ]
    },
    {
      "cell_type": "code",
      "source": [
        "df_histopatologia.describe()"
      ],
      "metadata": {
        "colab": {
          "base_uri": "https://localhost:8080/",
          "height": 300
        },
        "id": "5J5TFg0kpAa4",
        "outputId": "a4b5c44a-93e2-4d5b-e5b7-62c07d3a83a6"
      },
      "execution_count": 423,
      "outputs": [
        {
          "output_type": "execute_result",
          "data": {
            "text/plain": [
              "       Record ID  Repeat Instance  Grau histológico  Subtipo tumoral  \\\n",
              "count    9066.00          4794.00           1467.00          4695.00   \n",
              "mean    48865.55             1.14              2.26             2.96   \n",
              "std     20440.35             0.64              0.65             1.30   \n",
              "min       302.00             1.00              1.00             1.00   \n",
              "25%     31383.00             1.00              2.00             2.00   \n",
              "50%     53990.00             1.00              2.00             3.00   \n",
              "75%     65140.00             1.00              3.00             4.00   \n",
              "max     82240.00            17.00              3.00             5.00   \n",
              "\n",
              "       Indice H (Receptorde progesterona)  Ki67 (%)  \n",
              "count                              592.00   3867.00  \n",
              "mean                               197.09     36.53  \n",
              "std                                 98.49     24.56  \n",
              "min                                  0.00      0.00  \n",
              "25%                                120.00     18.00  \n",
              "50%                                240.00     30.00  \n",
              "75%                                285.00     50.00  \n",
              "max                                300.00    100.00  "
            ],
            "text/html": [
              "\n",
              "  <div id=\"df-2f667841-60fb-4c45-b74c-ab3a3c60adad\">\n",
              "    <div class=\"colab-df-container\">\n",
              "      <div>\n",
              "<style scoped>\n",
              "    .dataframe tbody tr th:only-of-type {\n",
              "        vertical-align: middle;\n",
              "    }\n",
              "\n",
              "    .dataframe tbody tr th {\n",
              "        vertical-align: top;\n",
              "    }\n",
              "\n",
              "    .dataframe thead th {\n",
              "        text-align: right;\n",
              "    }\n",
              "</style>\n",
              "<table border=\"1\" class=\"dataframe\">\n",
              "  <thead>\n",
              "    <tr style=\"text-align: right;\">\n",
              "      <th></th>\n",
              "      <th>Record ID</th>\n",
              "      <th>Repeat Instance</th>\n",
              "      <th>Grau histológico</th>\n",
              "      <th>Subtipo tumoral</th>\n",
              "      <th>Indice H (Receptorde progesterona)</th>\n",
              "      <th>Ki67 (%)</th>\n",
              "    </tr>\n",
              "  </thead>\n",
              "  <tbody>\n",
              "    <tr>\n",
              "      <th>count</th>\n",
              "      <td>9066.00</td>\n",
              "      <td>4794.00</td>\n",
              "      <td>1467.00</td>\n",
              "      <td>4695.00</td>\n",
              "      <td>592.00</td>\n",
              "      <td>3867.00</td>\n",
              "    </tr>\n",
              "    <tr>\n",
              "      <th>mean</th>\n",
              "      <td>48865.55</td>\n",
              "      <td>1.14</td>\n",
              "      <td>2.26</td>\n",
              "      <td>2.96</td>\n",
              "      <td>197.09</td>\n",
              "      <td>36.53</td>\n",
              "    </tr>\n",
              "    <tr>\n",
              "      <th>std</th>\n",
              "      <td>20440.35</td>\n",
              "      <td>0.64</td>\n",
              "      <td>0.65</td>\n",
              "      <td>1.30</td>\n",
              "      <td>98.49</td>\n",
              "      <td>24.56</td>\n",
              "    </tr>\n",
              "    <tr>\n",
              "      <th>min</th>\n",
              "      <td>302.00</td>\n",
              "      <td>1.00</td>\n",
              "      <td>1.00</td>\n",
              "      <td>1.00</td>\n",
              "      <td>0.00</td>\n",
              "      <td>0.00</td>\n",
              "    </tr>\n",
              "    <tr>\n",
              "      <th>25%</th>\n",
              "      <td>31383.00</td>\n",
              "      <td>1.00</td>\n",
              "      <td>2.00</td>\n",
              "      <td>2.00</td>\n",
              "      <td>120.00</td>\n",
              "      <td>18.00</td>\n",
              "    </tr>\n",
              "    <tr>\n",
              "      <th>50%</th>\n",
              "      <td>53990.00</td>\n",
              "      <td>1.00</td>\n",
              "      <td>2.00</td>\n",
              "      <td>3.00</td>\n",
              "      <td>240.00</td>\n",
              "      <td>30.00</td>\n",
              "    </tr>\n",
              "    <tr>\n",
              "      <th>75%</th>\n",
              "      <td>65140.00</td>\n",
              "      <td>1.00</td>\n",
              "      <td>3.00</td>\n",
              "      <td>4.00</td>\n",
              "      <td>285.00</td>\n",
              "      <td>50.00</td>\n",
              "    </tr>\n",
              "    <tr>\n",
              "      <th>max</th>\n",
              "      <td>82240.00</td>\n",
              "      <td>17.00</td>\n",
              "      <td>3.00</td>\n",
              "      <td>5.00</td>\n",
              "      <td>300.00</td>\n",
              "      <td>100.00</td>\n",
              "    </tr>\n",
              "  </tbody>\n",
              "</table>\n",
              "</div>\n",
              "      <button class=\"colab-df-convert\" onclick=\"convertToInteractive('df-2f667841-60fb-4c45-b74c-ab3a3c60adad')\"\n",
              "              title=\"Convert this dataframe to an interactive table.\"\n",
              "              style=\"display:none;\">\n",
              "        \n",
              "  <svg xmlns=\"http://www.w3.org/2000/svg\" height=\"24px\"viewBox=\"0 0 24 24\"\n",
              "       width=\"24px\">\n",
              "    <path d=\"M0 0h24v24H0V0z\" fill=\"none\"/>\n",
              "    <path d=\"M18.56 5.44l.94 2.06.94-2.06 2.06-.94-2.06-.94-.94-2.06-.94 2.06-2.06.94zm-11 1L8.5 8.5l.94-2.06 2.06-.94-2.06-.94L8.5 2.5l-.94 2.06-2.06.94zm10 10l.94 2.06.94-2.06 2.06-.94-2.06-.94-.94-2.06-.94 2.06-2.06.94z\"/><path d=\"M17.41 7.96l-1.37-1.37c-.4-.4-.92-.59-1.43-.59-.52 0-1.04.2-1.43.59L10.3 9.45l-7.72 7.72c-.78.78-.78 2.05 0 2.83L4 21.41c.39.39.9.59 1.41.59.51 0 1.02-.2 1.41-.59l7.78-7.78 2.81-2.81c.8-.78.8-2.07 0-2.86zM5.41 20L4 18.59l7.72-7.72 1.47 1.35L5.41 20z\"/>\n",
              "  </svg>\n",
              "      </button>\n",
              "      \n",
              "  <style>\n",
              "    .colab-df-container {\n",
              "      display:flex;\n",
              "      flex-wrap:wrap;\n",
              "      gap: 12px;\n",
              "    }\n",
              "\n",
              "    .colab-df-convert {\n",
              "      background-color: #E8F0FE;\n",
              "      border: none;\n",
              "      border-radius: 50%;\n",
              "      cursor: pointer;\n",
              "      display: none;\n",
              "      fill: #1967D2;\n",
              "      height: 32px;\n",
              "      padding: 0 0 0 0;\n",
              "      width: 32px;\n",
              "    }\n",
              "\n",
              "    .colab-df-convert:hover {\n",
              "      background-color: #E2EBFA;\n",
              "      box-shadow: 0px 1px 2px rgba(60, 64, 67, 0.3), 0px 1px 3px 1px rgba(60, 64, 67, 0.15);\n",
              "      fill: #174EA6;\n",
              "    }\n",
              "\n",
              "    [theme=dark] .colab-df-convert {\n",
              "      background-color: #3B4455;\n",
              "      fill: #D2E3FC;\n",
              "    }\n",
              "\n",
              "    [theme=dark] .colab-df-convert:hover {\n",
              "      background-color: #434B5C;\n",
              "      box-shadow: 0px 1px 3px 1px rgba(0, 0, 0, 0.15);\n",
              "      filter: drop-shadow(0px 1px 2px rgba(0, 0, 0, 0.3));\n",
              "      fill: #FFFFFF;\n",
              "    }\n",
              "  </style>\n",
              "\n",
              "      <script>\n",
              "        const buttonEl =\n",
              "          document.querySelector('#df-2f667841-60fb-4c45-b74c-ab3a3c60adad button.colab-df-convert');\n",
              "        buttonEl.style.display =\n",
              "          google.colab.kernel.accessAllowed ? 'block' : 'none';\n",
              "\n",
              "        async function convertToInteractive(key) {\n",
              "          const element = document.querySelector('#df-2f667841-60fb-4c45-b74c-ab3a3c60adad');\n",
              "          const dataTable =\n",
              "            await google.colab.kernel.invokeFunction('convertToInteractive',\n",
              "                                                     [key], {});\n",
              "          if (!dataTable) return;\n",
              "\n",
              "          const docLinkHtml = 'Like what you see? Visit the ' +\n",
              "            '<a target=\"_blank\" href=https://colab.research.google.com/notebooks/data_table.ipynb>data table notebook</a>'\n",
              "            + ' to learn more about interactive tables.';\n",
              "          element.innerHTML = '';\n",
              "          dataTable['output_type'] = 'display_data';\n",
              "          await google.colab.output.renderOutput(dataTable, element);\n",
              "          const docLink = document.createElement('div');\n",
              "          docLink.innerHTML = docLinkHtml;\n",
              "          element.appendChild(docLink);\n",
              "        }\n",
              "      </script>\n",
              "    </div>\n",
              "  </div>\n",
              "  "
            ]
          },
          "metadata": {},
          "execution_count": 423
        }
      ]
    },
    {
      "cell_type": "code",
      "source": [
        "df_agrupado = df_histopatologia.groupby(\"Grau histológico\")\n",
        "df_agrupado['Ki67 (%)'].mean().plot(kind='bar', ylabel='Ki67 (%)', xlabel='Grau histológico', title=\" Grau histológico x Ki67 (%)\")"
      ],
      "metadata": {
        "colab": {
          "base_uri": "https://localhost:8080/",
          "height": 320
        },
        "id": "KSLqq4DTQKUx",
        "outputId": "f8bf0445-05e2-461e-8ae3-0fc0362d8652"
      },
      "execution_count": 424,
      "outputs": [
        {
          "output_type": "execute_result",
          "data": {
            "text/plain": [
              "<AxesSubplot:title={'center':' Grau histológico x Ki67 (%)'}, xlabel='Grau histológico', ylabel='Ki67 (%)'>"
            ]
          },
          "metadata": {},
          "execution_count": 424
        },
        {
          "output_type": "display_data",
          "data": {
            "text/plain": [
              "<Figure size 432x288 with 1 Axes>"
            ],
            "image/png": "[encoded data removed]"
          },
          "metadata": {
            "needs_background": "light"
          }
        }
      ]
    },
    {
      "cell_type": "code",
      "source": [
        "df_agrupado_ki67 = df.groupby(\"progesterona_quantificacao_inicial\")\n",
        "df_agrupado_ki67['ki67_inicial'].mean().plot(kind='line', ylabel='ki67 inicial', xlabel='Progesterona inicial', title=\"Progesterona inicial x ki67 inicial\")"
      ],
      "metadata": {
        "colab": {
          "base_uri": "https://localhost:8080/",
          "height": 313
        },
        "id": "HTtJeKY0QSX4",
        "outputId": "531e7523-0dc0-4c8b-9b16-15f32ea21b3e"
      },
      "execution_count": 425,
      "outputs": [
        {
          "output_type": "execute_result",
          "data": {
            "text/plain": [
              "<AxesSubplot:title={'center':'Progesterona inicial x ki67 inicial'}, xlabel='Progesterona inicial', ylabel='ki67 inicial'>"
            ]
          },
          "metadata": {},
          "execution_count": 425
        },
        {
          "output_type": "display_data",
          "data": {
            "text/plain": [
              "<Figure size 432x288 with 1 Axes>"
            ],
            "image/png": "[encoded data removed]"
          },
          "metadata": {
            "needs_background": "light"
          }
        }
      ]
    },
    {
      "cell_type": "markdown",
      "source": [
        "###Limpeza dos Dados"
      ],
      "metadata": {
        "id": "doJ0OWCDpHjo"
      }
    },
    {
      "cell_type": "markdown",
      "source": [
        "####Deletando algumas colunas\n",
        "**repeat_instrument** - Motivo: único dado que tinha nele era \"Dados Histopatologicos Mama\", algo que não ajuda com a precisão e ao fazer merge não será relevante\n",
        "\n",
        "**her2_fish** - Motivo: Poucos dados preenchidos"
      ],
      "metadata": {
        "id": "5LcaYPhepOi6"
      }
    },
    {
      "cell_type": "code",
      "source": [
        "df_histopatologia = df_histopatologia.drop(columns=['Repeat Instrument',\n",
        "                                                    'HER2 por FISH'])"
      ],
      "metadata": {
        "id": "eFOBV5hrpCDS"
      },
      "execution_count": 426,
      "outputs": []
    },
    {
      "cell_type": "markdown",
      "source": [
        "####Removendo todas as linhas que só tinham o record_id"
      ],
      "metadata": {
        "id": "hj2ky5dGpobw"
      }
    },
    {
      "cell_type": "code",
      "source": [
        "df_histopatologia = df_histopatologia.dropna(subset=list(df_histopatologia.columns)[1:], how='all')\n",
        "#Confirmando o resultado\n",
        "df_histopatologia.info()"
      ],
      "metadata": {
        "colab": {
          "base_uri": "https://localhost:8080/"
        },
        "id": "1IAqBSV3pYLb",
        "outputId": "40b99443-8280-440d-be8c-e8502f7aca61"
      },
      "execution_count": 427,
      "outputs": [
        {
          "output_type": "stream",
          "name": "stdout",
          "text": [
            "<class 'pandas.core.frame.DataFrame'>\n",
            "Int64Index: 4794 entries, 1 to 9065\n",
            "Data columns (total 13 columns):\n",
            " #   Column                                      Non-Null Count  Dtype  \n",
            "---  ------                                      --------------  -----  \n",
            " 0   Record ID                                   4794 non-null   int64  \n",
            " 1   Repeat Instance                             4794 non-null   float64\n",
            " 2   Diagnostico primario (tipo histológico)     2954 non-null   object \n",
            " 3   Grau histológico                            1467 non-null   float64\n",
            " 4   Subtipo tumoral                             4695 non-null   float64\n",
            " 5   Receptor de estrogênio                      4249 non-null   object \n",
            " 6   Receptor de progesterona                    4251 non-null   object \n",
            " 7   Ki67 (>14%)                                 4022 non-null   object \n",
            " 8   Receptor de progesterona (quantificação %)  1890 non-null   object \n",
            " 9   Receptorde Estrogênio (quantificação %)     2166 non-null   object \n",
            " 10  Indice H (Receptorde progesterona)          592 non-null    float64\n",
            " 11  HER2 por IHC                                4649 non-null   object \n",
            " 12  Ki67 (%)                                    3867 non-null   float64\n",
            "dtypes: float64(5), int64(1), object(7)\n",
            "memory usage: 524.3+ KB\n"
          ]
        }
      ]
    },
    {
      "cell_type": "markdown",
      "source": [
        "#### Simplificando os nomes das colunas"
      ],
      "metadata": {
        "id": "PQ-xSqk6p9Km"
      }
    },
    {
      "cell_type": "code",
      "source": [
        "df_histopatologia = df_histopatologia.rename(columns={\n",
        "  \"Record ID\": \"record_id\",\n",
        "  \"Repeat Instrument\": \"repeat_instrument\",\n",
        "  \"Repeat Instance\": \"repeat_instance\",\n",
        "  \"Diagnostico primario (tipo histológico)\": \"diagnostico_primario\",\n",
        "  \"Grau histológico\": \"grau_histologico\", \n",
        "  \"Subtipo tumoral\": \"subtipo_tumoral\",\n",
        "  \"Receptor de estrogênio\": \"estrogenio\",\n",
        "  \"Receptor de progesterona\": \"progesterona\",\n",
        "  \"Ki67 (>14%)\": \"ki67_14\",\n",
        "  \"Receptor de progesterona (quantificação %)\": \"progesterona_quantificacao\",\n",
        "  \"Receptorde Estrogênio (quantificação %)\": \"estrogenio_quantificacao\",\n",
        "  \"Indice H (Receptorde progesterona)\": \"indice_h\",\n",
        "  \"HER2 por IHC\": \"her2_ihc\",\n",
        "  \"HER2 por FISH\": \"her2_fish\",\n",
        "  \"Ki67 (%)\": \"ki67\"\n",
        "})\n",
        "\n",
        "#Confirmando alteração dos nomes das colunas\n",
        "df_histopatologia.head()"
      ],
      "metadata": {
        "colab": {
          "base_uri": "https://localhost:8080/",
          "height": 0
        },
        "id": "fhETY3PQpvMd",
        "outputId": "6c02565a-fac4-4d3f-d68e-aeaa9bee2e31"
      },
      "execution_count": 428,
      "outputs": [
        {
          "output_type": "execute_result",
          "data": {
            "text/plain": [
              "   record_id  repeat_instance diagnostico_primario  grau_histologico  \\\n",
              "1        302              1.0                  NaN               NaN   \n",
              "3        710              1.0                  NaN               NaN   \n",
              "5        752              1.0                  NaN               NaN   \n",
              "7       1367              1.0                  NaN               NaN   \n",
              "8       1367              2.0                  NaN               NaN   \n",
              "\n",
              "   subtipo_tumoral estrogenio progesterona   ki67_14  \\\n",
              "1              5.0   positivo     positivo       NaN   \n",
              "3              2.0   positivo     negativo  positivo   \n",
              "5              3.0        NaN          NaN       NaN   \n",
              "7              2.0   positivo     positivo  positivo   \n",
              "8              5.0   positivo     negativo  positivo   \n",
              "\n",
              "  progesterona_quantificacao estrogenio_quantificacao  indice_h  \\\n",
              "1                        NaN                      NaN       NaN   \n",
              "3                        NaN                      NaN       NaN   \n",
              "5                        NaN                      NaN       NaN   \n",
              "7                          5                       60      10.0   \n",
              "8                        NaN                       30       NaN   \n",
              "\n",
              "          her2_ihc  ki67  \n",
              "1   +++ (positivo)   NaN  \n",
              "3     0 (negativo)  20.0  \n",
              "5   +++ (positivo)   NaN  \n",
              "7     0 (negativo)  40.0  \n",
              "8   +++ (positivo)  40.0  "
            ],
            "text/html": [
              "\n",
              "  <div id=\"df-27adcd2c-715b-4e12-93e5-137219c2c26c\">\n",
              "    <div class=\"colab-df-container\">\n",
              "      <div>\n",
              "<style scoped>\n",
              "    .dataframe tbody tr th:only-of-type {\n",
              "        vertical-align: middle;\n",
              "    }\n",
              "\n",
              "    .dataframe tbody tr th {\n",
              "        vertical-align: top;\n",
              "    }\n",
              "\n",
              "    .dataframe thead th {\n",
              "        text-align: right;\n",
              "    }\n",
              "</style>\n",
              "<table border=\"1\" class=\"dataframe\">\n",
              "  <thead>\n",
              "    <tr style=\"text-align: right;\">\n",
              "      <th></th>\n",
              "      <th>record_id</th>\n",
              "      <th>repeat_instance</th>\n",
              "      <th>diagnostico_primario</th>\n",
              "      <th>grau_histologico</th>\n",
              "      <th>subtipo_tumoral</th>\n",
              "      <th>estrogenio</th>\n",
              "      <th>progesterona</th>\n",
              "      <th>ki67_14</th>\n",
              "      <th>progesterona_quantificacao</th>\n",
              "      <th>estrogenio_quantificacao</th>\n",
              "      <th>indice_h</th>\n",
              "      <th>her2_ihc</th>\n",
              "      <th>ki67</th>\n",
              "    </tr>\n",
              "  </thead>\n",
              "  <tbody>\n",
              "    <tr>\n",
              "      <th>1</th>\n",
              "      <td>302</td>\n",
              "      <td>1.0</td>\n",
              "      <td>NaN</td>\n",
              "      <td>NaN</td>\n",
              "      <td>5.0</td>\n",
              "      <td>positivo</td>\n",
              "      <td>positivo</td>\n",
              "      <td>NaN</td>\n",
              "      <td>NaN</td>\n",
              "      <td>NaN</td>\n",
              "      <td>NaN</td>\n",
              "      <td>+++ (positivo)</td>\n",
              "      <td>NaN</td>\n",
              "    </tr>\n",
              "    <tr>\n",
              "      <th>3</th>\n",
              "      <td>710</td>\n",
              "      <td>1.0</td>\n",
              "      <td>NaN</td>\n",
              "      <td>NaN</td>\n",
              "      <td>2.0</td>\n",
              "      <td>positivo</td>\n",
              "      <td>negativo</td>\n",
              "      <td>positivo</td>\n",
              "      <td>NaN</td>\n",
              "      <td>NaN</td>\n",
              "      <td>NaN</td>\n",
              "      <td>0 (negativo)</td>\n",
              "      <td>20.0</td>\n",
              "    </tr>\n",
              "    <tr>\n",
              "      <th>5</th>\n",
              "      <td>752</td>\n",
              "      <td>1.0</td>\n",
              "      <td>NaN</td>\n",
              "      <td>NaN</td>\n",
              "      <td>3.0</td>\n",
              "      <td>NaN</td>\n",
              "      <td>NaN</td>\n",
              "      <td>NaN</td>\n",
              "      <td>NaN</td>\n",
              "      <td>NaN</td>\n",
              "      <td>NaN</td>\n",
              "      <td>+++ (positivo)</td>\n",
              "      <td>NaN</td>\n",
              "    </tr>\n",
              "    <tr>\n",
              "      <th>7</th>\n",
              "      <td>1367</td>\n",
              "      <td>1.0</td>\n",
              "      <td>NaN</td>\n",
              "      <td>NaN</td>\n",
              "      <td>2.0</td>\n",
              "      <td>positivo</td>\n",
              "      <td>positivo</td>\n",
              "      <td>positivo</td>\n",
              "      <td>5</td>\n",
              "      <td>60</td>\n",
              "      <td>10.0</td>\n",
              "      <td>0 (negativo)</td>\n",
              "      <td>40.0</td>\n",
              "    </tr>\n",
              "    <tr>\n",
              "      <th>8</th>\n",
              "      <td>1367</td>\n",
              "      <td>2.0</td>\n",
              "      <td>NaN</td>\n",
              "      <td>NaN</td>\n",
              "      <td>5.0</td>\n",
              "      <td>positivo</td>\n",
              "      <td>negativo</td>\n",
              "      <td>positivo</td>\n",
              "      <td>NaN</td>\n",
              "      <td>30</td>\n",
              "      <td>NaN</td>\n",
              "      <td>+++ (positivo)</td>\n",
              "      <td>40.0</td>\n",
              "    </tr>\n",
              "  </tbody>\n",
              "</table>\n",
              "</div>\n",
              "      <button class=\"colab-df-convert\" onclick=\"convertToInteractive('df-27adcd2c-715b-4e12-93e5-137219c2c26c')\"\n",
              "              title=\"Convert this dataframe to an interactive table.\"\n",
              "              style=\"display:none;\">\n",
              "        \n",
              "  <svg xmlns=\"http://www.w3.org/2000/svg\" height=\"24px\"viewBox=\"0 0 24 24\"\n",
              "       width=\"24px\">\n",
              "    <path d=\"M0 0h24v24H0V0z\" fill=\"none\"/>\n",
              "    <path d=\"M18.56 5.44l.94 2.06.94-2.06 2.06-.94-2.06-.94-.94-2.06-.94 2.06-2.06.94zm-11 1L8.5 8.5l.94-2.06 2.06-.94-2.06-.94L8.5 2.5l-.94 2.06-2.06.94zm10 10l.94 2.06.94-2.06 2.06-.94-2.06-.94-.94-2.06-.94 2.06-2.06.94z\"/><path d=\"M17.41 7.96l-1.37-1.37c-.4-.4-.92-.59-1.43-.59-.52 0-1.04.2-1.43.59L10.3 9.45l-7.72 7.72c-.78.78-.78 2.05 0 2.83L4 21.41c.39.39.9.59 1.41.59.51 0 1.02-.2 1.41-.59l7.78-7.78 2.81-2.81c.8-.78.8-2.07 0-2.86zM5.41 20L4 18.59l7.72-7.72 1.47 1.35L5.41 20z\"/>\n",
              "  </svg>\n",
              "      </button>\n",
              "      \n",
              "  <style>\n",
              "    .colab-df-container {\n",
              "      display:flex;\n",
              "      flex-wrap:wrap;\n",
              "      gap: 12px;\n",
              "    }\n",
              "\n",
              "    .colab-df-convert {\n",
              "      background-color: #E8F0FE;\n",
              "      border: none;\n",
              "      border-radius: 50%;\n",
              "      cursor: pointer;\n",
              "      display: none;\n",
              "      fill: #1967D2;\n",
              "      height: 32px;\n",
              "      padding: 0 0 0 0;\n",
              "      width: 32px;\n",
              "    }\n",
              "\n",
              "    .colab-df-convert:hover {\n",
              "      background-color: #E2EBFA;\n",
              "      box-shadow: 0px 1px 2px rgba(60, 64, 67, 0.3), 0px 1px 3px 1px rgba(60, 64, 67, 0.15);\n",
              "      fill: #174EA6;\n",
              "    }\n",
              "\n",
              "    [theme=dark] .colab-df-convert {\n",
              "      background-color: #3B4455;\n",
              "      fill: #D2E3FC;\n",
              "    }\n",
              "\n",
              "    [theme=dark] .colab-df-convert:hover {\n",
              "      background-color: #434B5C;\n",
              "      box-shadow: 0px 1px 3px 1px rgba(0, 0, 0, 0.15);\n",
              "      filter: drop-shadow(0px 1px 2px rgba(0, 0, 0, 0.3));\n",
              "      fill: #FFFFFF;\n",
              "    }\n",
              "  </style>\n",
              "\n",
              "      <script>\n",
              "        const buttonEl =\n",
              "          document.querySelector('#df-27adcd2c-715b-4e12-93e5-137219c2c26c button.colab-df-convert');\n",
              "        buttonEl.style.display =\n",
              "          google.colab.kernel.accessAllowed ? 'block' : 'none';\n",
              "\n",
              "        async function convertToInteractive(key) {\n",
              "          const element = document.querySelector('#df-27adcd2c-715b-4e12-93e5-137219c2c26c');\n",
              "          const dataTable =\n",
              "            await google.colab.kernel.invokeFunction('convertToInteractive',\n",
              "                                                     [key], {});\n",
              "          if (!dataTable) return;\n",
              "\n",
              "          const docLinkHtml = 'Like what you see? Visit the ' +\n",
              "            '<a target=\"_blank\" href=https://colab.research.google.com/notebooks/data_table.ipynb>data table notebook</a>'\n",
              "            + ' to learn more about interactive tables.';\n",
              "          element.innerHTML = '';\n",
              "          dataTable['output_type'] = 'display_data';\n",
              "          await google.colab.output.renderOutput(dataTable, element);\n",
              "          const docLink = document.createElement('div');\n",
              "          docLink.innerHTML = docLinkHtml;\n",
              "          element.appendChild(docLink);\n",
              "        }\n",
              "      </script>\n",
              "    </div>\n",
              "  </div>\n",
              "  "
            ]
          },
          "metadata": {},
          "execution_count": 428
        }
      ]
    },
    {
      "cell_type": "markdown",
      "source": [
        "#####Formatando decimais"
      ],
      "metadata": {
        "id": "lbWf3geDqW8p"
      }
    },
    {
      "cell_type": "code",
      "source": [
        "#Formatando os números para ter 2 casas decimais somente\n",
        "pd.set_option('display.precision', 2)\n",
        "#Verificação\n",
        "df_histopatologia.describe()"
      ],
      "metadata": {
        "colab": {
          "base_uri": "https://localhost:8080/",
          "height": 0
        },
        "id": "f9hA2Kwfp_-I",
        "outputId": "21f08c0b-3dc5-4b90-9fb3-1b7ed35e5b71"
      },
      "execution_count": 429,
      "outputs": [
        {
          "output_type": "execute_result",
          "data": {
            "text/plain": [
              "       record_id  repeat_instance  grau_histologico  subtipo_tumoral  \\\n",
              "count    4794.00          4794.00           1467.00          4695.00   \n",
              "mean    49055.52             1.14              2.26             2.96   \n",
              "std     20243.31             0.64              0.65             1.30   \n",
              "min       302.00             1.00              1.00             1.00   \n",
              "25%     31635.75             1.00              2.00             2.00   \n",
              "50%     54292.50             1.00              2.00             3.00   \n",
              "75%     64659.50             1.00              3.00             4.00   \n",
              "max     82240.00            17.00              3.00             5.00   \n",
              "\n",
              "       indice_h     ki67  \n",
              "count    592.00  3867.00  \n",
              "mean     197.09    36.53  \n",
              "std       98.49    24.56  \n",
              "min        0.00     0.00  \n",
              "25%      120.00    18.00  \n",
              "50%      240.00    30.00  \n",
              "75%      285.00    50.00  \n",
              "max      300.00   100.00  "
            ],
            "text/html": [
              "\n",
              "  <div id=\"df-6a5bc1fb-2bd9-4a31-9994-d2736145e349\">\n",
              "    <div class=\"colab-df-container\">\n",
              "      <div>\n",
              "<style scoped>\n",
              "    .dataframe tbody tr th:only-of-type {\n",
              "        vertical-align: middle;\n",
              "    }\n",
              "\n",
              "    .dataframe tbody tr th {\n",
              "        vertical-align: top;\n",
              "    }\n",
              "\n",
              "    .dataframe thead th {\n",
              "        text-align: right;\n",
              "    }\n",
              "</style>\n",
              "<table border=\"1\" class=\"dataframe\">\n",
              "  <thead>\n",
              "    <tr style=\"text-align: right;\">\n",
              "      <th></th>\n",
              "      <th>record_id</th>\n",
              "      <th>repeat_instance</th>\n",
              "      <th>grau_histologico</th>\n",
              "      <th>subtipo_tumoral</th>\n",
              "      <th>indice_h</th>\n",
              "      <th>ki67</th>\n",
              "    </tr>\n",
              "  </thead>\n",
              "  <tbody>\n",
              "    <tr>\n",
              "      <th>count</th>\n",
              "      <td>4794.00</td>\n",
              "      <td>4794.00</td>\n",
              "      <td>1467.00</td>\n",
              "      <td>4695.00</td>\n",
              "      <td>592.00</td>\n",
              "      <td>3867.00</td>\n",
              "    </tr>\n",
              "    <tr>\n",
              "      <th>mean</th>\n",
              "      <td>49055.52</td>\n",
              "      <td>1.14</td>\n",
              "      <td>2.26</td>\n",
              "      <td>2.96</td>\n",
              "      <td>197.09</td>\n",
              "      <td>36.53</td>\n",
              "    </tr>\n",
              "    <tr>\n",
              "      <th>std</th>\n",
              "      <td>20243.31</td>\n",
              "      <td>0.64</td>\n",
              "      <td>0.65</td>\n",
              "      <td>1.30</td>\n",
              "      <td>98.49</td>\n",
              "      <td>24.56</td>\n",
              "    </tr>\n",
              "    <tr>\n",
              "      <th>min</th>\n",
              "      <td>302.00</td>\n",
              "      <td>1.00</td>\n",
              "      <td>1.00</td>\n",
              "      <td>1.00</td>\n",
              "      <td>0.00</td>\n",
              "      <td>0.00</td>\n",
              "    </tr>\n",
              "    <tr>\n",
              "      <th>25%</th>\n",
              "      <td>31635.75</td>\n",
              "      <td>1.00</td>\n",
              "      <td>2.00</td>\n",
              "      <td>2.00</td>\n",
              "      <td>120.00</td>\n",
              "      <td>18.00</td>\n",
              "    </tr>\n",
              "    <tr>\n",
              "      <th>50%</th>\n",
              "      <td>54292.50</td>\n",
              "      <td>1.00</td>\n",
              "      <td>2.00</td>\n",
              "      <td>3.00</td>\n",
              "      <td>240.00</td>\n",
              "      <td>30.00</td>\n",
              "    </tr>\n",
              "    <tr>\n",
              "      <th>75%</th>\n",
              "      <td>64659.50</td>\n",
              "      <td>1.00</td>\n",
              "      <td>3.00</td>\n",
              "      <td>4.00</td>\n",
              "      <td>285.00</td>\n",
              "      <td>50.00</td>\n",
              "    </tr>\n",
              "    <tr>\n",
              "      <th>max</th>\n",
              "      <td>82240.00</td>\n",
              "      <td>17.00</td>\n",
              "      <td>3.00</td>\n",
              "      <td>5.00</td>\n",
              "      <td>300.00</td>\n",
              "      <td>100.00</td>\n",
              "    </tr>\n",
              "  </tbody>\n",
              "</table>\n",
              "</div>\n",
              "      <button class=\"colab-df-convert\" onclick=\"convertToInteractive('df-6a5bc1fb-2bd9-4a31-9994-d2736145e349')\"\n",
              "              title=\"Convert this dataframe to an interactive table.\"\n",
              "              style=\"display:none;\">\n",
              "        \n",
              "  <svg xmlns=\"http://www.w3.org/2000/svg\" height=\"24px\"viewBox=\"0 0 24 24\"\n",
              "       width=\"24px\">\n",
              "    <path d=\"M0 0h24v24H0V0z\" fill=\"none\"/>\n",
              "    <path d=\"M18.56 5.44l.94 2.06.94-2.06 2.06-.94-2.06-.94-.94-2.06-.94 2.06-2.06.94zm-11 1L8.5 8.5l.94-2.06 2.06-.94-2.06-.94L8.5 2.5l-.94 2.06-2.06.94zm10 10l.94 2.06.94-2.06 2.06-.94-2.06-.94-.94-2.06-.94 2.06-2.06.94z\"/><path d=\"M17.41 7.96l-1.37-1.37c-.4-.4-.92-.59-1.43-.59-.52 0-1.04.2-1.43.59L10.3 9.45l-7.72 7.72c-.78.78-.78 2.05 0 2.83L4 21.41c.39.39.9.59 1.41.59.51 0 1.02-.2 1.41-.59l7.78-7.78 2.81-2.81c.8-.78.8-2.07 0-2.86zM5.41 20L4 18.59l7.72-7.72 1.47 1.35L5.41 20z\"/>\n",
              "  </svg>\n",
              "      </button>\n",
              "      \n",
              "  <style>\n",
              "    .colab-df-container {\n",
              "      display:flex;\n",
              "      flex-wrap:wrap;\n",
              "      gap: 12px;\n",
              "    }\n",
              "\n",
              "    .colab-df-convert {\n",
              "      background-color: #E8F0FE;\n",
              "      border: none;\n",
              "      border-radius: 50%;\n",
              "      cursor: pointer;\n",
              "      display: none;\n",
              "      fill: #1967D2;\n",
              "      height: 32px;\n",
              "      padding: 0 0 0 0;\n",
              "      width: 32px;\n",
              "    }\n",
              "\n",
              "    .colab-df-convert:hover {\n",
              "      background-color: #E2EBFA;\n",
              "      box-shadow: 0px 1px 2px rgba(60, 64, 67, 0.3), 0px 1px 3px 1px rgba(60, 64, 67, 0.15);\n",
              "      fill: #174EA6;\n",
              "    }\n",
              "\n",
              "    [theme=dark] .colab-df-convert {\n",
              "      background-color: #3B4455;\n",
              "      fill: #D2E3FC;\n",
              "    }\n",
              "\n",
              "    [theme=dark] .colab-df-convert:hover {\n",
              "      background-color: #434B5C;\n",
              "      box-shadow: 0px 1px 3px 1px rgba(0, 0, 0, 0.15);\n",
              "      filter: drop-shadow(0px 1px 2px rgba(0, 0, 0, 0.3));\n",
              "      fill: #FFFFFF;\n",
              "    }\n",
              "  </style>\n",
              "\n",
              "      <script>\n",
              "        const buttonEl =\n",
              "          document.querySelector('#df-6a5bc1fb-2bd9-4a31-9994-d2736145e349 button.colab-df-convert');\n",
              "        buttonEl.style.display =\n",
              "          google.colab.kernel.accessAllowed ? 'block' : 'none';\n",
              "\n",
              "        async function convertToInteractive(key) {\n",
              "          const element = document.querySelector('#df-6a5bc1fb-2bd9-4a31-9994-d2736145e349');\n",
              "          const dataTable =\n",
              "            await google.colab.kernel.invokeFunction('convertToInteractive',\n",
              "                                                     [key], {});\n",
              "          if (!dataTable) return;\n",
              "\n",
              "          const docLinkHtml = 'Like what you see? Visit the ' +\n",
              "            '<a target=\"_blank\" href=https://colab.research.google.com/notebooks/data_table.ipynb>data table notebook</a>'\n",
              "            + ' to learn more about interactive tables.';\n",
              "          element.innerHTML = '';\n",
              "          dataTable['output_type'] = 'display_data';\n",
              "          await google.colab.output.renderOutput(dataTable, element);\n",
              "          const docLink = document.createElement('div');\n",
              "          docLink.innerHTML = docLinkHtml;\n",
              "          element.appendChild(docLink);\n",
              "        }\n",
              "      </script>\n",
              "    </div>\n",
              "  </div>\n",
              "  "
            ]
          },
          "metadata": {},
          "execution_count": 429
        }
      ]
    },
    {
      "cell_type": "markdown",
      "source": [
        "###Codificação das colunas para a predição do modelo"
      ],
      "metadata": {
        "id": "tiaptTJ-tGSp"
      }
    },
    {
      "cell_type": "code",
      "source": [
        "df_histopatologia['ki67_14'] = df_histopatologia['ki67_14'].replace({'negativo':0,\n",
        "                                                                     'positivo':1})"
      ],
      "metadata": {
        "id": "fjFeqKpptYYW"
      },
      "execution_count": 430,
      "outputs": []
    },
    {
      "cell_type": "code",
      "source": [
        "df_histopatologia['her2_ihc'] = df_histopatologia['her2_ihc'].replace({'0 (negativo)':0,\n",
        "                                                                       ' ++ (duvidoso)':0,\n",
        "                                                                       ' + (negativo)':0,\n",
        "                                                                       'indeterminado':0,\n",
        "                                                                       ' +++ (positivo)':1\n",
        "                                                                       })"
      ],
      "metadata": {
        "id": "hrbAz4Yctbfr"
      },
      "execution_count": 431,
      "outputs": []
    },
    {
      "cell_type": "code",
      "source": [
        "df_histopatologia = pd.get_dummies(df_histopatologia, columns=['diagnostico_primario'])\n",
        "df_histopatologia.info()"
      ],
      "metadata": {
        "colab": {
          "base_uri": "https://localhost:8080/"
        },
        "id": "M2GeE9nBtsTG",
        "outputId": "5c731a9b-8728-49fa-e427-9ff65f5d94b0"
      },
      "execution_count": 432,
      "outputs": [
        {
          "output_type": "stream",
          "name": "stdout",
          "text": [
            "<class 'pandas.core.frame.DataFrame'>\n",
            "Int64Index: 4794 entries, 1 to 9065\n",
            "Data columns (total 30 columns):\n",
            " #   Column                                                                            Non-Null Count  Dtype  \n",
            "---  ------                                                                            --------------  -----  \n",
            " 0   record_id                                                                         4794 non-null   int64  \n",
            " 1   repeat_instance                                                                   4794 non-null   float64\n",
            " 2   grau_histologico                                                                  1467 non-null   float64\n",
            " 3   subtipo_tumoral                                                                   4695 non-null   float64\n",
            " 4   estrogenio                                                                        4249 non-null   object \n",
            " 5   progesterona                                                                      4251 non-null   object \n",
            " 6   ki67_14                                                                           4022 non-null   object \n",
            " 7   progesterona_quantificacao                                                        1890 non-null   object \n",
            " 8   estrogenio_quantificacao                                                          2166 non-null   object \n",
            " 9   indice_h                                                                          592 non-null    float64\n",
            " 10  her2_ihc                                                                          4649 non-null   float64\n",
            " 11  ki67                                                                              3867 non-null   float64\n",
            " 12  diagnostico_primario_Adenomioepitelioma maligno                                   4794 non-null   uint8  \n",
            " 13  diagnostico_primario_CARCINOMA MAMÁRIO INVASIVO DO TIPO APÓCRINO                  4794 non-null   uint8  \n",
            " 14  diagnostico_primario_Carcinoma de mama cistico adenoide                           4794 non-null   uint8  \n",
            " 15  diagnostico_primario_Carcinoma de mama lobular in situ                            4794 non-null   uint8  \n",
            " 16  diagnostico_primario_Carcinoma de mama lobular invasivo                           4794 non-null   uint8  \n",
            " 17  diagnostico_primario_Carcinoma de mama medular                                    4794 non-null   uint8  \n",
            " 18  diagnostico_primario_Carcinoma de mama metaplasico                                4794 non-null   uint8  \n",
            " 19  diagnostico_primario_Carcinoma de mama micropapilar                               4794 non-null   uint8  \n",
            " 20  diagnostico_primario_Carcinoma de mama misto (ductal e lobular) invasivo          4794 non-null   uint8  \n",
            " 21  diagnostico_primario_Carcinoma de mama misto (ductal e micropapilífero) invasivo  4794 non-null   uint8  \n",
            " 22  diagnostico_primario_Carcinoma de mama mucinoso                                   4794 non-null   uint8  \n",
            " 23  diagnostico_primario_Carcinoma de mama papilifero                                 4794 non-null   uint8  \n",
            " 24  diagnostico_primario_Carcinoma de mama tubular                                    4794 non-null   uint8  \n",
            " 25  diagnostico_primario_Carcinoma lobular pleomórfico                                4794 non-null   uint8  \n",
            " 26  diagnostico_primario_Carcinoma mamário invasivo multifocal                        4794 non-null   uint8  \n",
            " 27  diagnostico_primario_NÃO-ESPECIAL - Carcinoma de mama ductal invasivo (CDI)/SOE   4794 non-null   uint8  \n",
            " 28  diagnostico_primario_Tumor PHYLLODES maligno                                      4794 non-null   uint8  \n",
            " 29  diagnostico_primario_outros                                                       4794 non-null   uint8  \n",
            "dtypes: float64(6), int64(1), object(5), uint8(18)\n",
            "memory usage: 571.2+ KB\n"
          ]
        }
      ]
    },
    {
      "cell_type": "markdown",
      "source": [
        "###Trantando os missing numbers de algumas colunas"
      ],
      "metadata": {
        "id": "fwi98Kv5q2TZ"
      }
    },
    {
      "cell_type": "code",
      "source": [
        "df_histopatologia['ki67_14'].unique()"
      ],
      "metadata": {
        "colab": {
          "base_uri": "https://localhost:8080/"
        },
        "id": "RGagCY59qdIO",
        "outputId": "d6e32c6b-eb2d-4b13-e2c2-6878404b4e71"
      },
      "execution_count": 433,
      "outputs": [
        {
          "output_type": "execute_result",
          "data": {
            "text/plain": [
              "array([nan, 1, 0, 'não realizado', 'inconclusivo'], dtype=object)"
            ]
          },
          "metadata": {},
          "execution_count": 433
        }
      ]
    },
    {
      "cell_type": "code",
      "source": [
        "df_histopatologia['ki67_14'].value_counts()"
      ],
      "metadata": {
        "colab": {
          "base_uri": "https://localhost:8080/"
        },
        "id": "PtAOI0Hoq7Na",
        "outputId": "db199b40-f1ae-4be9-c172-a5510f39e366"
      },
      "execution_count": 434,
      "outputs": [
        {
          "output_type": "execute_result",
          "data": {
            "text/plain": [
              "1                3355\n",
              "0                 650\n",
              "não realizado      10\n",
              "inconclusivo        7\n",
              "Name: ki67_14, dtype: int64"
            ]
          },
          "metadata": {},
          "execution_count": 434
        }
      ]
    },
    {
      "cell_type": "code",
      "source": [
        "df_histopatologia['ki67_14'] = df_histopatologia['ki67_14'].replace('não realizado', np.nan)\n",
        "df_histopatologia['ki67_14'] = df_histopatologia['ki67_14'].replace('inconclusivo', np.nan)"
      ],
      "metadata": {
        "id": "W6tTTbI4q9AZ"
      },
      "execution_count": 435,
      "outputs": []
    },
    {
      "cell_type": "code",
      "source": [
        "df_h_t = pd.merge(df_histopatologia.copy(), df_demograficos.copy(), how='left')\n",
        "df_h_t[df_h_t['estrogenio'] == 'positivo']['ki67'].value_counts(dropna=False)\n",
        "df_h_t['ki67'].describe()"
      ],
      "metadata": {
        "colab": {
          "base_uri": "https://localhost:8080/"
        },
        "id": "d53ckbbDq-5R",
        "outputId": "e46d3f1e-f11c-4f0e-ccd3-fdbf06826d37"
      },
      "execution_count": 436,
      "outputs": [
        {
          "output_type": "execute_result",
          "data": {
            "text/plain": [
              "count    3867.00\n",
              "mean       36.53\n",
              "std        24.56\n",
              "min         0.00\n",
              "25%        18.00\n",
              "50%        30.00\n",
              "75%        50.00\n",
              "max       100.00\n",
              "Name: ki67, dtype: float64"
            ]
          },
          "metadata": {},
          "execution_count": 436
        }
      ]
    },
    {
      "cell_type": "code",
      "source": [
        "df_h_t = pd.merge(df_histopatologia.copy(), df_demograficos.copy(), how='left')\n",
        "df_h_t = df_h_t.dropna(subset=['grau_histologico', 'estrogenio', 'progesterona', 'progesterona_quantificacao', 'estrogenio_quantificacao', 'indice_h'], how='all')\n",
        "df_h_t = df_h_t.dropna(subset=['estrogenio', 'progesterona', 'ki67_14',\t'progesterona_quantificacao',\t'estrogenio_quantificacao',\t'indice_h'], how='all')\n",
        "\n",
        "df_h_t.loc[((df_h_t['estrogenio'].isna()) | (df_h_t['estrogenio'] == 'inconclusivo')) & (df_h_t['progesterona'] == 'positivo'), 'estrogenio'] = 'positivo'\n",
        "df_h_t.loc[((df_h_t['estrogenio'].isna()) | (df_h_t['estrogenio'] == 'inconclusivo')) & (df_h_t['progesterona'] == 'negativo'), 'estrogenio'] = 'negativo'\n",
        "\n",
        "df_h_t.loc[((df_h_t['progesterona'].isna()) | (df_h_t['progesterona'] == 'inconclusivo')) & (df_h_t['estrogenio'] == 'positivo'), 'progesterona'] = 'positivo'\n",
        "df_h_t.loc[((df_h_t['progesterona'].isna()) | (df_h_t['progesterona'] == 'inconclusivo')) & (df_h_t['estrogenio'] == 'negativo'), 'progesterona'] = 'negativo'\n",
        "\n",
        "# ESTROGENIO = NEGATIVO - ESTROGENIO QUANTIFICACAO\n",
        "# As celulas com estrogenio = negativo são células incapazes de receber estrogênio. Portanto, todos os casos em que a quantificação for 'neg' ou 'NEG', troquei por 0\n",
        "df_h_t.loc[(df_h_t['estrogenio_quantificacao'] == 'neg') & (df_h_t['estrogenio'] == 'negativo'), 'estrogenio_quantificacao'] = 0\n",
        "df_h_t.loc[(df_h_t['estrogenio_quantificacao'] == 'NEG') & (df_h_t['estrogenio'] == 'negativo'), 'estrogenio_quantificacao'] = 0\n",
        "\n",
        "# Os casos onde a quantificação é NaN e o estrogenio é negativo, tratei como 0, que é a imensa maioria dos casos\n",
        "df_h_t.loc[(df_h_t['estrogenio_quantificacao'].isna()) & (df_h_t['estrogenio'] == 'negativo'), 'estrogenio_quantificacao'] = 0\n",
        "\n",
        "# ESTROGENIO = POSITIVO - ESTROGENIO QUANTIFICACAO\n",
        "# Os registros estranhos fiz que recebessem a moda (1)\n",
        "df_h_t.loc[(df_h_t['estrogenio_quantificacao'].isna()) & (df_h_t['estrogenio'] == 'positivo'), 'estrogenio_quantificacao'] = 1\n",
        "df_h_t.loc[(df_h_t['estrogenio_quantificacao'] == '0') & (df_h_t['estrogenio'] == 'positivo'), 'estrogenio_quantificacao'] = 1\n",
        "df_h_t.loc[(df_h_t['estrogenio_quantificacao'] == 'neg') & (df_h_t['estrogenio'] == 'positivo'), 'estrogenio_quantificacao'] = 1\n",
        "# Valor entre 1-10 é a média (5)\n",
        "df_h_t.loc[(df_h_t['estrogenio_quantificacao'] == '1-10') & (df_h_t['estrogenio'] == 'positivo'), 'estrogenio_quantificacao'] = 5\n",
        "\n",
        "# PROGESTERONA\n",
        "df_h_t.loc[(df_h_t['progesterona_quantificacao'] == '20-70'), 'progesterona_quantificacao'] = 45\n",
        "df_h_t.loc[(df_h_t['progesterona_quantificacao'] == '70%'), 'progesterona_quantificacao'] = 70\n",
        "df_h_t.loc[((df_h_t['progesterona_quantificacao'] == 'neg') | (df_h_t['progesterona_quantificacao'] == 'NEG') | (df_h_t['progesterona_quantificacao'].isna())) & (df_h_t['progesterona'] == 'negativo'),'progesterona_quantificacao'] = 0\n",
        "df_h_t.loc[((df_h_t['progesterona_quantificacao'] == 'neg') | (df_h_t['progesterona_quantificacao'] == 'inconclusivo') | (df_h_t['progesterona_quantificacao'].isna())) & (df_h_t['progesterona'] == 'positivo'),'progesterona_quantificacao'] = 1\n",
        "\n",
        "df_h_t.drop(df_h_t.loc[df_h_t['estrogenio'] == 'não realizado'].index, inplace=True)\n",
        "\n",
        "# ki67 - Preenche NaNs de acordo com a média em 4 grupos considerando as variáveis estrogenio e progesterona (ambos positivo ou negativo)\n",
        "df_h_t.loc[(df_h_t['estrogenio'] == 'positivo') & (df_h_t['progesterona'] == 'negativo') & (df_h_t['ki67'].isna()), 'ki67'] = df_h_t[(df_h_t['estrogenio'] == 'positivo') & (df_h_t['progesterona'] == 'negativo')]['ki67'].mean()\n",
        "df_h_t.loc[(df_h_t['estrogenio'] == 'negativo') & (df_h_t['progesterona'] == 'positivo') & (df_h_t['ki67'].isna()), 'ki67'] = df_h_t[(df_h_t['estrogenio'] == 'negativo') & (df_h_t['progesterona'] == 'positivo')]['ki67'].mean()\n",
        "df_h_t.loc[(df_h_t['estrogenio'] == 'positivo') & (df_h_t['progesterona'] == 'positivo') & (df_h_t['ki67'].isna()), 'ki67'] = df_h_t[(df_h_t['estrogenio'] == 'positivo') & (df_h_t['progesterona'] == 'positivo')]['ki67'].mean()\n",
        "df_h_t.loc[(df_h_t['estrogenio'] == 'negativo') & (df_h_t['progesterona'] == 'negativo') & (df_h_t['ki67'].isna()), 'ki67'] = df_h_t[(df_h_t['estrogenio'] == 'negativo') & (df_h_t['progesterona'] == 'negativo')]['ki67'].mean()\n",
        "\n",
        "\n",
        "df_h_t['estrogenio_quantificacao'] = df_h_t['estrogenio_quantificacao'].astype(int)\n",
        "df_h_t['progesterona_quantificacao'] = df_h_t['progesterona_quantificacao'].astype(int)\n",
        "df_h_t['ki67'] = df_h_t['ki67'].astype(int)\n",
        "\n",
        "\n",
        "df_histopatologia = df_h_t"
      ],
      "metadata": {
        "id": "Z761XDM3rIzJ"
      },
      "execution_count": 437,
      "outputs": []
    },
    {
      "cell_type": "markdown",
      "source": [
        "####Transformando todas as linhas com o mesmo ID em uma linha unica"
      ],
      "metadata": {
        "id": "eabknlJfrtaJ"
      }
    },
    {
      "cell_type": "code",
      "source": [
        "def normalize_hispatologia(data):\n",
        "  return pd.DataFrame({\n",
        "    'record_id': [data['record_id'].iloc[0]],\n",
        "    'registros_hispatologicos': [data['record_id'].count()],\n",
        "    'subtipo_tumoral_inicial': [data['subtipo_tumoral'].iloc[0]],\n",
        "    'subtipo_tumoral_final': [data['subtipo_tumoral'].iloc[-1]],\n",
        "    'estrogenio': ['positivo' in data['estrogenio'].values],\n",
        "    'progesterona': ['positivo' in data['progesterona'].values],\n",
        "    'ki67_14': ['positivo' in data['ki67_14'].values],\n",
        "    'ki67_inicial': [data['ki67'].iloc[0]],\n",
        "    'ki67_final': [data['ki67'].iloc[-1]],\n",
        "    'progesterona_quantificacao_inicial': [data['progesterona_quantificacao'].iloc[0]],\n",
        "    'progesterona_quantificacao_final': [data['progesterona_quantificacao'].iloc[-1]],\n",
        "    'estrogenio_quantificacao_inicial': [data['estrogenio_quantificacao'].iloc[0]],\n",
        "    'estrogenio_quantificacao_final': [data['estrogenio_quantificacao'].iloc[-1]],\n",
        "    'indice_h_inicial': [data['indice_h'].iloc[0]],\n",
        "    'indice_h_final': [data['indice_h'].iloc[-1]],\n",
        "    'indice_h_inicial': [data['indice_h'].iloc[0]],\n",
        "    'indice_h_final': [data['indice_h'].iloc[-1]],\n",
        "    'her2_ihc_inicial': [data['her2_ihc'].iloc[0]],\n",
        "    'her2_ihc_final': [data['her2_ihc'].iloc[-1]],\n",
        "  })\n",
        "\n",
        "df_histopatologia_grouped = df_histopatologia.groupby('record_id', group_keys=False)\n",
        "df_histopatologia_grouped = df_histopatologia_grouped.apply(normalize_hispatologia)\n",
        "\n",
        "df_histopatologia_grouped['progesterona_quantificacao_inicial'] = df_histopatologia_grouped['progesterona_quantificacao_inicial'].astype(int)\n",
        "df_histopatologia_grouped['progesterona_quantificacao_final'] = df_histopatologia_grouped['progesterona_quantificacao_final'].astype(int)\n",
        "df_histopatologia_grouped['estrogenio_quantificacao_inicial'] = df_histopatologia_grouped['estrogenio_quantificacao_inicial'].astype(int)\n",
        "df_histopatologia_grouped['estrogenio_quantificacao_final'] = df_histopatologia_grouped['estrogenio_quantificacao_final'].astype(int)\n",
        "df_histopatologia_grouped['ki67_inicial'] = df_histopatologia_grouped['ki67_inicial'].astype(int)\n",
        "df_histopatologia_grouped['ki67_final'] = df_histopatologia_grouped['ki67_final'].astype(int)\n",
        "\n",
        "df_histopatologia_grouped"
      ],
      "metadata": {
        "colab": {
          "base_uri": "https://localhost:8080/",
          "height": 0
        },
        "id": "5vO1XWUwrzl3",
        "outputId": "d9190b6a-bc7a-4de3-e9c7-270e2939eec7"
      },
      "execution_count": 438,
      "outputs": [
        {
          "output_type": "stream",
          "name": "stderr",
          "text": [
            "<ipython-input-438-cd90c68a3547>:9: FutureWarning: elementwise comparison failed; returning scalar instead, but in the future will perform elementwise comparison\n",
            "  'ki67_14': ['positivo' in data['ki67_14'].values],\n"
          ]
        },
        {
          "output_type": "execute_result",
          "data": {
            "text/plain": [
              "    record_id  registros_hispatologicos  subtipo_tumoral_inicial  \\\n",
              "0         302                         1                      5.0   \n",
              "0         710                         1                      2.0   \n",
              "0        1367                         2                      2.0   \n",
              "0        1589                         1                      5.0   \n",
              "0        1705                         1                      4.0   \n",
              "..        ...                       ...                      ...   \n",
              "0       82077                         1                      2.0   \n",
              "0       82098                         1                      2.0   \n",
              "0       82122                         2                      2.0   \n",
              "0       82205                         1                      4.0   \n",
              "0       82240                         1                      4.0   \n",
              "\n",
              "    subtipo_tumoral_final  estrogenio  progesterona  ki67_14  ki67_inicial  \\\n",
              "0                     5.0        True          True    False            26   \n",
              "0                     2.0        True         False    False            20   \n",
              "0                     5.0        True          True    False            40   \n",
              "0                     5.0        True          True    False            26   \n",
              "0                     4.0       False         False    False            55   \n",
              "..                    ...         ...           ...      ...           ...   \n",
              "0                     2.0        True          True    False            15   \n",
              "0                     2.0        True          True    False            15   \n",
              "0                     5.0        True          True    False            40   \n",
              "0                     4.0       False         False    False            90   \n",
              "0                     4.0       False         False    False            55   \n",
              "\n",
              "    ki67_final  progesterona_quantificacao_inicial  \\\n",
              "0           26                                   1   \n",
              "0           20                                   0   \n",
              "0           40                                   5   \n",
              "0           26                                   1   \n",
              "0           55                                   0   \n",
              "..         ...                                 ...   \n",
              "0           15                                   1   \n",
              "0           15                                   1   \n",
              "0           60                                  60   \n",
              "0           90                                   0   \n",
              "0           55                                   0   \n",
              "\n",
              "    progesterona_quantificacao_final  estrogenio_quantificacao_inicial  \\\n",
              "0                                  1                                 1   \n",
              "0                                  0                                 1   \n",
              "0                                  0                                60   \n",
              "0                                  1                                 1   \n",
              "0                                  0                                 0   \n",
              "..                               ...                               ...   \n",
              "0                                  1                                 1   \n",
              "0                                  1                                 1   \n",
              "0                                 10                                80   \n",
              "0                                  0                                 0   \n",
              "0                                  0                                 0   \n",
              "\n",
              "    estrogenio_quantificacao_final  indice_h_inicial  indice_h_final  \\\n",
              "0                                1               NaN             NaN   \n",
              "0                                1               NaN             NaN   \n",
              "0                               30              10.0             NaN   \n",
              "0                                1               NaN             NaN   \n",
              "0                                0               NaN             NaN   \n",
              "..                             ...               ...             ...   \n",
              "0                                1               NaN             NaN   \n",
              "0                                1               NaN             NaN   \n",
              "0                               80               NaN             NaN   \n",
              "0                                0               NaN             NaN   \n",
              "0                                0               NaN             NaN   \n",
              "\n",
              "    her2_ihc_inicial  her2_ihc_final  \n",
              "0                1.0             1.0  \n",
              "0                0.0             0.0  \n",
              "0                0.0             1.0  \n",
              "0                1.0             1.0  \n",
              "0                0.0             0.0  \n",
              "..               ...             ...  \n",
              "0                0.0             0.0  \n",
              "0                0.0             0.0  \n",
              "0                0.0             1.0  \n",
              "0                0.0             0.0  \n",
              "0                0.0             0.0  \n",
              "\n",
              "[3829 rows x 17 columns]"
            ],
            "text/html": [
              "\n",
              "  <div id=\"df-92ff3c12-443a-442e-8c7a-9b9eb0a738f6\">\n",
              "    <div class=\"colab-df-container\">\n",
              "      <div>\n",
              "<style scoped>\n",
              "    .dataframe tbody tr th:only-of-type {\n",
              "        vertical-align: middle;\n",
              "    }\n",
              "\n",
              "    .dataframe tbody tr th {\n",
              "        vertical-align: top;\n",
              "    }\n",
              "\n",
              "    .dataframe thead th {\n",
              "        text-align: right;\n",
              "    }\n",
              "</style>\n",
              "<table border=\"1\" class=\"dataframe\">\n",
              "  <thead>\n",
              "    <tr style=\"text-align: right;\">\n",
              "      <th></th>\n",
              "      <th>record_id</th>\n",
              "      <th>registros_hispatologicos</th>\n",
              "      <th>subtipo_tumoral_inicial</th>\n",
              "      <th>subtipo_tumoral_final</th>\n",
              "      <th>estrogenio</th>\n",
              "      <th>progesterona</th>\n",
              "      <th>ki67_14</th>\n",
              "      <th>ki67_inicial</th>\n",
              "      <th>ki67_final</th>\n",
              "      <th>progesterona_quantificacao_inicial</th>\n",
              "      <th>progesterona_quantificacao_final</th>\n",
              "      <th>estrogenio_quantificacao_inicial</th>\n",
              "      <th>estrogenio_quantificacao_final</th>\n",
              "      <th>indice_h_inicial</th>\n",
              "      <th>indice_h_final</th>\n",
              "      <th>her2_ihc_inicial</th>\n",
              "      <th>her2_ihc_final</th>\n",
              "    </tr>\n",
              "  </thead>\n",
              "  <tbody>\n",
              "    <tr>\n",
              "      <th>0</th>\n",
              "      <td>302</td>\n",
              "      <td>1</td>\n",
              "      <td>5.0</td>\n",
              "      <td>5.0</td>\n",
              "      <td>True</td>\n",
              "      <td>True</td>\n",
              "      <td>False</td>\n",
              "      <td>26</td>\n",
              "      <td>26</td>\n",
              "      <td>1</td>\n",
              "      <td>1</td>\n",
              "      <td>1</td>\n",
              "      <td>1</td>\n",
              "      <td>NaN</td>\n",
              "      <td>NaN</td>\n",
              "      <td>1.0</td>\n",
              "      <td>1.0</td>\n",
              "    </tr>\n",
              "    <tr>\n",
              "      <th>0</th>\n",
              "      <td>710</td>\n",
              "      <td>1</td>\n",
              "      <td>2.0</td>\n",
              "      <td>2.0</td>\n",
              "      <td>True</td>\n",
              "      <td>False</td>\n",
              "      <td>False</td>\n",
              "      <td>20</td>\n",
              "      <td>20</td>\n",
              "      <td>0</td>\n",
              "      <td>0</td>\n",
              "      <td>1</td>\n",
              "      <td>1</td>\n",
              "      <td>NaN</td>\n",
              "      <td>NaN</td>\n",
              "      <td>0.0</td>\n",
              "      <td>0.0</td>\n",
              "    </tr>\n",
              "    <tr>\n",
              "      <th>0</th>\n",
              "      <td>1367</td>\n",
              "      <td>2</td>\n",
              "      <td>2.0</td>\n",
              "      <td>5.0</td>\n",
              "      <td>True</td>\n",
              "      <td>True</td>\n",
              "      <td>False</td>\n",
              "      <td>40</td>\n",
              "      <td>40</td>\n",
              "      <td>5</td>\n",
              "      <td>0</td>\n",
              "      <td>60</td>\n",
              "      <td>30</td>\n",
              "      <td>10.0</td>\n",
              "      <td>NaN</td>\n",
              "      <td>0.0</td>\n",
              "      <td>1.0</td>\n",
              "    </tr>\n",
              "    <tr>\n",
              "      <th>0</th>\n",
              "      <td>1589</td>\n",
              "      <td>1</td>\n",
              "      <td>5.0</td>\n",
              "      <td>5.0</td>\n",
              "      <td>True</td>\n",
              "      <td>True</td>\n",
              "      <td>False</td>\n",
              "      <td>26</td>\n",
              "      <td>26</td>\n",
              "      <td>1</td>\n",
              "      <td>1</td>\n",
              "      <td>1</td>\n",
              "      <td>1</td>\n",
              "      <td>NaN</td>\n",
              "      <td>NaN</td>\n",
              "      <td>1.0</td>\n",
              "      <td>1.0</td>\n",
              "    </tr>\n",
              "    <tr>\n",
              "      <th>0</th>\n",
              "      <td>1705</td>\n",
              "      <td>1</td>\n",
              "      <td>4.0</td>\n",
              "      <td>4.0</td>\n",
              "      <td>False</td>\n",
              "      <td>False</td>\n",
              "      <td>False</td>\n",
              "      <td>55</td>\n",
              "      <td>55</td>\n",
              "      <td>0</td>\n",
              "      <td>0</td>\n",
              "      <td>0</td>\n",
              "      <td>0</td>\n",
              "      <td>NaN</td>\n",
              "      <td>NaN</td>\n",
              "      <td>0.0</td>\n",
              "      <td>0.0</td>\n",
              "    </tr>\n",
              "    <tr>\n",
              "      <th>...</th>\n",
              "      <td>...</td>\n",
              "      <td>...</td>\n",
              "      <td>...</td>\n",
              "      <td>...</td>\n",
              "      <td>...</td>\n",
              "      <td>...</td>\n",
              "      <td>...</td>\n",
              "      <td>...</td>\n",
              "      <td>...</td>\n",
              "      <td>...</td>\n",
              "      <td>...</td>\n",
              "      <td>...</td>\n",
              "      <td>...</td>\n",
              "      <td>...</td>\n",
              "      <td>...</td>\n",
              "      <td>...</td>\n",
              "      <td>...</td>\n",
              "    </tr>\n",
              "    <tr>\n",
              "      <th>0</th>\n",
              "      <td>82077</td>\n",
              "      <td>1</td>\n",
              "      <td>2.0</td>\n",
              "      <td>2.0</td>\n",
              "      <td>True</td>\n",
              "      <td>True</td>\n",
              "      <td>False</td>\n",
              "      <td>15</td>\n",
              "      <td>15</td>\n",
              "      <td>1</td>\n",
              "      <td>1</td>\n",
              "      <td>1</td>\n",
              "      <td>1</td>\n",
              "      <td>NaN</td>\n",
              "      <td>NaN</td>\n",
              "      <td>0.0</td>\n",
              "      <td>0.0</td>\n",
              "    </tr>\n",
              "    <tr>\n",
              "      <th>0</th>\n",
              "      <td>82098</td>\n",
              "      <td>1</td>\n",
              "      <td>2.0</td>\n",
              "      <td>2.0</td>\n",
              "      <td>True</td>\n",
              "      <td>True</td>\n",
              "      <td>False</td>\n",
              "      <td>15</td>\n",
              "      <td>15</td>\n",
              "      <td>1</td>\n",
              "      <td>1</td>\n",
              "      <td>1</td>\n",
              "      <td>1</td>\n",
              "      <td>NaN</td>\n",
              "      <td>NaN</td>\n",
              "      <td>0.0</td>\n",
              "      <td>0.0</td>\n",
              "    </tr>\n",
              "    <tr>\n",
              "      <th>0</th>\n",
              "      <td>82122</td>\n",
              "      <td>2</td>\n",
              "      <td>2.0</td>\n",
              "      <td>5.0</td>\n",
              "      <td>True</td>\n",
              "      <td>True</td>\n",
              "      <td>False</td>\n",
              "      <td>40</td>\n",
              "      <td>60</td>\n",
              "      <td>60</td>\n",
              "      <td>10</td>\n",
              "      <td>80</td>\n",
              "      <td>80</td>\n",
              "      <td>NaN</td>\n",
              "      <td>NaN</td>\n",
              "      <td>0.0</td>\n",
              "      <td>1.0</td>\n",
              "    </tr>\n",
              "    <tr>\n",
              "      <th>0</th>\n",
              "      <td>82205</td>\n",
              "      <td>1</td>\n",
              "      <td>4.0</td>\n",
              "      <td>4.0</td>\n",
              "      <td>False</td>\n",
              "      <td>False</td>\n",
              "      <td>False</td>\n",
              "      <td>90</td>\n",
              "      <td>90</td>\n",
              "      <td>0</td>\n",
              "      <td>0</td>\n",
              "      <td>0</td>\n",
              "      <td>0</td>\n",
              "      <td>NaN</td>\n",
              "      <td>NaN</td>\n",
              "      <td>0.0</td>\n",
              "      <td>0.0</td>\n",
              "    </tr>\n",
              "    <tr>\n",
              "      <th>0</th>\n",
              "      <td>82240</td>\n",
              "      <td>1</td>\n",
              "      <td>4.0</td>\n",
              "      <td>4.0</td>\n",
              "      <td>False</td>\n",
              "      <td>False</td>\n",
              "      <td>False</td>\n",
              "      <td>55</td>\n",
              "      <td>55</td>\n",
              "      <td>0</td>\n",
              "      <td>0</td>\n",
              "      <td>0</td>\n",
              "      <td>0</td>\n",
              "      <td>NaN</td>\n",
              "      <td>NaN</td>\n",
              "      <td>0.0</td>\n",
              "      <td>0.0</td>\n",
              "    </tr>\n",
              "  </tbody>\n",
              "</table>\n",
              "<p>3829 rows × 17 columns</p>\n",
              "</div>\n",
              "      <button class=\"colab-df-convert\" onclick=\"convertToInteractive('df-92ff3c12-443a-442e-8c7a-9b9eb0a738f6')\"\n",
              "              title=\"Convert this dataframe to an interactive table.\"\n",
              "              style=\"display:none;\">\n",
              "        \n",
              "  <svg xmlns=\"http://www.w3.org/2000/svg\" height=\"24px\"viewBox=\"0 0 24 24\"\n",
              "       width=\"24px\">\n",
              "    <path d=\"M0 0h24v24H0V0z\" fill=\"none\"/>\n",
              "    <path d=\"M18.56 5.44l.94 2.06.94-2.06 2.06-.94-2.06-.94-.94-2.06-.94 2.06-2.06.94zm-11 1L8.5 8.5l.94-2.06 2.06-.94-2.06-.94L8.5 2.5l-.94 2.06-2.06.94zm10 10l.94 2.06.94-2.06 2.06-.94-2.06-.94-.94-2.06-.94 2.06-2.06.94z\"/><path d=\"M17.41 7.96l-1.37-1.37c-.4-.4-.92-.59-1.43-.59-.52 0-1.04.2-1.43.59L10.3 9.45l-7.72 7.72c-.78.78-.78 2.05 0 2.83L4 21.41c.39.39.9.59 1.41.59.51 0 1.02-.2 1.41-.59l7.78-7.78 2.81-2.81c.8-.78.8-2.07 0-2.86zM5.41 20L4 18.59l7.72-7.72 1.47 1.35L5.41 20z\"/>\n",
              "  </svg>\n",
              "      </button>\n",
              "      \n",
              "  <style>\n",
              "    .colab-df-container {\n",
              "      display:flex;\n",
              "      flex-wrap:wrap;\n",
              "      gap: 12px;\n",
              "    }\n",
              "\n",
              "    .colab-df-convert {\n",
              "      background-color: #E8F0FE;\n",
              "      border: none;\n",
              "      border-radius: 50%;\n",
              "      cursor: pointer;\n",
              "      display: none;\n",
              "      fill: #1967D2;\n",
              "      height: 32px;\n",
              "      padding: 0 0 0 0;\n",
              "      width: 32px;\n",
              "    }\n",
              "\n",
              "    .colab-df-convert:hover {\n",
              "      background-color: #E2EBFA;\n",
              "      box-shadow: 0px 1px 2px rgba(60, 64, 67, 0.3), 0px 1px 3px 1px rgba(60, 64, 67, 0.15);\n",
              "      fill: #174EA6;\n",
              "    }\n",
              "\n",
              "    [theme=dark] .colab-df-convert {\n",
              "      background-color: #3B4455;\n",
              "      fill: #D2E3FC;\n",
              "    }\n",
              "\n",
              "    [theme=dark] .colab-df-convert:hover {\n",
              "      background-color: #434B5C;\n",
              "      box-shadow: 0px 1px 3px 1px rgba(0, 0, 0, 0.15);\n",
              "      filter: drop-shadow(0px 1px 2px rgba(0, 0, 0, 0.3));\n",
              "      fill: #FFFFFF;\n",
              "    }\n",
              "  </style>\n",
              "\n",
              "      <script>\n",
              "        const buttonEl =\n",
              "          document.querySelector('#df-92ff3c12-443a-442e-8c7a-9b9eb0a738f6 button.colab-df-convert');\n",
              "        buttonEl.style.display =\n",
              "          google.colab.kernel.accessAllowed ? 'block' : 'none';\n",
              "\n",
              "        async function convertToInteractive(key) {\n",
              "          const element = document.querySelector('#df-92ff3c12-443a-442e-8c7a-9b9eb0a738f6');\n",
              "          const dataTable =\n",
              "            await google.colab.kernel.invokeFunction('convertToInteractive',\n",
              "                                                     [key], {});\n",
              "          if (!dataTable) return;\n",
              "\n",
              "          const docLinkHtml = 'Like what you see? Visit the ' +\n",
              "            '<a target=\"_blank\" href=https://colab.research.google.com/notebooks/data_table.ipynb>data table notebook</a>'\n",
              "            + ' to learn more about interactive tables.';\n",
              "          element.innerHTML = '';\n",
              "          dataTable['output_type'] = 'display_data';\n",
              "          await google.colab.output.renderOutput(dataTable, element);\n",
              "          const docLink = document.createElement('div');\n",
              "          docLink.innerHTML = docLinkHtml;\n",
              "          element.appendChild(docLink);\n",
              "        }\n",
              "      </script>\n",
              "    </div>\n",
              "  </div>\n",
              "  "
            ]
          },
          "metadata": {},
          "execution_count": 438
        }
      ]
    },
    {
      "cell_type": "markdown",
      "source": [
        "Função para tratamento de missing numbers com base em uma distribuição normal"
      ],
      "metadata": {
        "id": "Iu7DpDDlu731"
      }
    },
    {
      "cell_type": "code",
      "source": [
        "df_histopatologia_num = [\n",
        "]\n",
        "\n",
        "df_histopatologia_cat = ['grau_histologico',\n",
        "                         'subtipo_tumoral',\n",
        "                         'ki67_14',\n",
        "                         'her2_ihc'\n",
        "]\n",
        "\n",
        "for col in df_histopatologia_num:\n",
        "  replace_nan(df_histopatologia, col, False)\n",
        "\n",
        "for col in df_histopatologia_cat:\n",
        "  replace_nan(df_histopatologia, col, True)\n",
        "\n",
        "df_histopatologia.info()"
      ],
      "metadata": {
        "colab": {
          "base_uri": "https://localhost:8080/"
        },
        "id": "3kW-dvuerXas",
        "outputId": "c2d6a032-2a9a-4ddc-c1d3-bc459853b202"
      },
      "execution_count": 439,
      "outputs": [
        {
          "output_type": "stream",
          "name": "stdout",
          "text": [
            "<class 'pandas.core.frame.DataFrame'>\n",
            "Int64Index: 4258 entries, 0 to 4793\n",
            "Data columns (total 60 columns):\n",
            " #   Column                                                                                                            Non-Null Count  Dtype  \n",
            "---  ------                                                                                                            --------------  -----  \n",
            " 0   record_id                                                                                                         4258 non-null   int64  \n",
            " 1   repeat_instance                                                                                                   4258 non-null   float64\n",
            " 2   grau_histologico                                                                                                  4258 non-null   float64\n",
            " 3   subtipo_tumoral                                                                                                   4258 non-null   float64\n",
            " 4   estrogenio                                                                                                        4257 non-null   object \n",
            " 5   progesterona                                                                                                      4257 non-null   object \n",
            " 6   ki67_14                                                                                                           4258 non-null   float64\n",
            " 7   progesterona_quantificacao                                                                                        4258 non-null   int64  \n",
            " 8   estrogenio_quantificacao                                                                                          4258 non-null   int64  \n",
            " 9   indice_h                                                                                                          592 non-null    float64\n",
            " 10  her2_ihc                                                                                                          4258 non-null   float64\n",
            " 11  ki67                                                                                                              4258 non-null   int64  \n",
            " 12  diagnostico_primario_Adenomioepitelioma maligno                                                                   4258 non-null   uint8  \n",
            " 13  diagnostico_primario_CARCINOMA MAMÁRIO INVASIVO DO TIPO APÓCRINO                                                  4258 non-null   uint8  \n",
            " 14  diagnostico_primario_Carcinoma de mama cistico adenoide                                                           4258 non-null   uint8  \n",
            " 15  diagnostico_primario_Carcinoma de mama lobular in situ                                                            4258 non-null   uint8  \n",
            " 16  diagnostico_primario_Carcinoma de mama lobular invasivo                                                           4258 non-null   uint8  \n",
            " 17  diagnostico_primario_Carcinoma de mama medular                                                                    4258 non-null   uint8  \n",
            " 18  diagnostico_primario_Carcinoma de mama metaplasico                                                                4258 non-null   uint8  \n",
            " 19  diagnostico_primario_Carcinoma de mama micropapilar                                                               4258 non-null   uint8  \n",
            " 20  diagnostico_primario_Carcinoma de mama misto (ductal e lobular) invasivo                                          4258 non-null   uint8  \n",
            " 21  diagnostico_primario_Carcinoma de mama misto (ductal e micropapilífero) invasivo                                  4258 non-null   uint8  \n",
            " 22  diagnostico_primario_Carcinoma de mama mucinoso                                                                   4258 non-null   uint8  \n",
            " 23  diagnostico_primario_Carcinoma de mama papilifero                                                                 4258 non-null   uint8  \n",
            " 24  diagnostico_primario_Carcinoma de mama tubular                                                                    4258 non-null   uint8  \n",
            " 25  diagnostico_primario_Carcinoma lobular pleomórfico                                                                4258 non-null   uint8  \n",
            " 26  diagnostico_primario_Carcinoma mamário invasivo multifocal                                                        4258 non-null   uint8  \n",
            " 27  diagnostico_primario_NÃO-ESPECIAL - Carcinoma de mama ductal invasivo (CDI)/SOE                                   4258 non-null   uint8  \n",
            " 28  diagnostico_primario_Tumor PHYLLODES maligno                                                                      4258 non-null   uint8  \n",
            " 29  diagnostico_primario_outros                                                                                       4258 non-null   uint8  \n",
            " 30  escolaridade                                                                                                      4258 non-null   float64\n",
            " 31  diagnostico_idade                                                                                                 4258 non-null   float64\n",
            " 32  sexo                                                                                                              4258 non-null   int64  \n",
            " 33  data_ultimo_dado_paciente                                                                                         4256 non-null   object \n",
            " 34  ultimo_dado_paciente                                                                                              4258 non-null   float64\n",
            " 35  tempo_de_seguimento                                                                                               4258 non-null   float64\n",
            " 36  ja_engravidou                                                                                                     1118 non-null   float64\n",
            " 37  quantas_vezes_gravida                                                                                             50 non-null     float64\n",
            " 38  idade_primeira_gestacao                                                                                           966 non-null    float64\n",
            " 39  amamentou_na_gestacao                                                                                             1131 non-null   float64\n",
            " 40  periodo_amamentacao                                                                                               743 non-null    float64\n",
            " 41  possui_um_caso_historico_familiar_primeiro_grau_relacionado_sindrome_cancer_de_mama_e_ovario_hereditaria          4258 non-null   int64  \n",
            " 42  possui_mais_de_um_caso_historico_familiar_primeiro_grau_relacionado_sindrome_cancer_de_mama_e_ovario_hereditaria  4258 non-null   int64  \n",
            " 43  idade_primeira_menstruacao                                                                                        4258 non-null   float64\n",
            " 44  pratica_atividade_fisica                                                                                          344 non-null    float64\n",
            " 45  consome_tabaco                                                                                                    230 non-null    float64\n",
            " 46  consome_alcool                                                                                                    218 non-null    float64\n",
            " 47  historico_familiar_cancer                                                                                         210 non-null    float64\n",
            " 48  parentes_primeiro_grau_com_cancer                                                                                 4258 non-null   int64  \n",
            " 49  parentes_segundo_grau_com_cancer                                                                                  4258 non-null   int64  \n",
            " 50  parentes_terceiro_grau_com_cancer                                                                                 4258 non-null   int64  \n",
            " 51  data_cirurgia                                                                                                     2280 non-null   object \n",
            " 52  tipo_terapia_anti_her2_neoadjuvante                                                                               4258 non-null   float64\n",
            " 53  radioterapia                                                                                                      4258 non-null   int64  \n",
            " 54  inicio_quimioterapia                                                                                              2802 non-null   object \n",
            " 55  inicio_radioterapia                                                                                               2325 non-null   object \n",
            " 56  regime_tratamento_Não fez quimioterapia                                                                           4258 non-null   uint8  \n",
            " 57  regime_tratamento_Paliativo                                                                                       4258 non-null   uint8  \n",
            " 58  regime_tratamento_Terapia Adjuvante                                                                               4258 non-null   uint8  \n",
            " 59  regime_tratamento_Terapia Neoadjuvante                                                                            4258 non-null   uint8  \n",
            "dtypes: float64(21), int64(11), object(6), uint8(22)\n",
            "memory usage: 1.4+ MB\n"
          ]
        }
      ]
    },
    {
      "cell_type": "markdown",
      "source": [
        "## DataFrame(Peso & Altura)"
      ],
      "metadata": {
        "id": "-LyjZ2JlwShY"
      }
    },
    {
      "cell_type": "markdown",
      "source": [
        "### Exploração inicial"
      ],
      "metadata": {
        "id": "I1LAvl1UwkLM"
      }
    },
    {
      "cell_type": "code",
      "source": [
        "df_peso_altura.head()"
      ],
      "metadata": {
        "colab": {
          "base_uri": "https://localhost:8080/",
          "height": 0
        },
        "id": "EJ8AswTFtGq6",
        "outputId": "5ab1d9cd-9e2f-4c0e-823e-ca27150fe07a"
      },
      "execution_count": 440,
      "outputs": [
        {
          "output_type": "execute_result",
          "data": {
            "text/plain": [
              "   Record ID      Repeat Instrument  Repeat Instance      Data:   Peso  \\\n",
              "0        302                    NaN              NaN         NaN   NaN   \n",
              "1        302  Dados Antropometricos              1.0  2009-03-06  58.0   \n",
              "2        302  Dados Antropometricos              2.0  2009-01-23  57.0   \n",
              "3        302  Dados Antropometricos              3.0  2009-02-06  57.0   \n",
              "4        302  Dados Antropometricos              4.0  2009-12-25  62.0   \n",
              "\n",
              "   Altura (em centimetros)   IMC  \n",
              "0                      NaN   NaN  \n",
              "1                      NaN   inf  \n",
              "2                    158.0  22.8  \n",
              "3                    158.0  22.8  \n",
              "4                    158.0  24.8  "
            ],
            "text/html": [
              "\n",
              "  <div id=\"df-bc421c0d-72a8-4067-8e98-1a908861b1ab\">\n",
              "    <div class=\"colab-df-container\">\n",
              "      <div>\n",
              "<style scoped>\n",
              "    .dataframe tbody tr th:only-of-type {\n",
              "        vertical-align: middle;\n",
              "    }\n",
              "\n",
              "    .dataframe tbody tr th {\n",
              "        vertical-align: top;\n",
              "    }\n",
              "\n",
              "    .dataframe thead th {\n",
              "        text-align: right;\n",
              "    }\n",
              "</style>\n",
              "<table border=\"1\" class=\"dataframe\">\n",
              "  <thead>\n",
              "    <tr style=\"text-align: right;\">\n",
              "      <th></th>\n",
              "      <th>Record ID</th>\n",
              "      <th>Repeat Instrument</th>\n",
              "      <th>Repeat Instance</th>\n",
              "      <th>Data:</th>\n",
              "      <th>Peso</th>\n",
              "      <th>Altura (em centimetros)</th>\n",
              "      <th>IMC</th>\n",
              "    </tr>\n",
              "  </thead>\n",
              "  <tbody>\n",
              "    <tr>\n",
              "      <th>0</th>\n",
              "      <td>302</td>\n",
              "      <td>NaN</td>\n",
              "      <td>NaN</td>\n",
              "      <td>NaN</td>\n",
              "      <td>NaN</td>\n",
              "      <td>NaN</td>\n",
              "      <td>NaN</td>\n",
              "    </tr>\n",
              "    <tr>\n",
              "      <th>1</th>\n",
              "      <td>302</td>\n",
              "      <td>Dados Antropometricos</td>\n",
              "      <td>1.0</td>\n",
              "      <td>2009-03-06</td>\n",
              "      <td>58.0</td>\n",
              "      <td>NaN</td>\n",
              "      <td>inf</td>\n",
              "    </tr>\n",
              "    <tr>\n",
              "      <th>2</th>\n",
              "      <td>302</td>\n",
              "      <td>Dados Antropometricos</td>\n",
              "      <td>2.0</td>\n",
              "      <td>2009-01-23</td>\n",
              "      <td>57.0</td>\n",
              "      <td>158.0</td>\n",
              "      <td>22.8</td>\n",
              "    </tr>\n",
              "    <tr>\n",
              "      <th>3</th>\n",
              "      <td>302</td>\n",
              "      <td>Dados Antropometricos</td>\n",
              "      <td>3.0</td>\n",
              "      <td>2009-02-06</td>\n",
              "      <td>57.0</td>\n",
              "      <td>158.0</td>\n",
              "      <td>22.8</td>\n",
              "    </tr>\n",
              "    <tr>\n",
              "      <th>4</th>\n",
              "      <td>302</td>\n",
              "      <td>Dados Antropometricos</td>\n",
              "      <td>4.0</td>\n",
              "      <td>2009-12-25</td>\n",
              "      <td>62.0</td>\n",
              "      <td>158.0</td>\n",
              "      <td>24.8</td>\n",
              "    </tr>\n",
              "  </tbody>\n",
              "</table>\n",
              "</div>\n",
              "      <button class=\"colab-df-convert\" onclick=\"convertToInteractive('df-bc421c0d-72a8-4067-8e98-1a908861b1ab')\"\n",
              "              title=\"Convert this dataframe to an interactive table.\"\n",
              "              style=\"display:none;\">\n",
              "        \n",
              "  <svg xmlns=\"http://www.w3.org/2000/svg\" height=\"24px\"viewBox=\"0 0 24 24\"\n",
              "       width=\"24px\">\n",
              "    <path d=\"M0 0h24v24H0V0z\" fill=\"none\"/>\n",
              "    <path d=\"M18.56 5.44l.94 2.06.94-2.06 2.06-.94-2.06-.94-.94-2.06-.94 2.06-2.06.94zm-11 1L8.5 8.5l.94-2.06 2.06-.94-2.06-.94L8.5 2.5l-.94 2.06-2.06.94zm10 10l.94 2.06.94-2.06 2.06-.94-2.06-.94-.94-2.06-.94 2.06-2.06.94z\"/><path d=\"M17.41 7.96l-1.37-1.37c-.4-.4-.92-.59-1.43-.59-.52 0-1.04.2-1.43.59L10.3 9.45l-7.72 7.72c-.78.78-.78 2.05 0 2.83L4 21.41c.39.39.9.59 1.41.59.51 0 1.02-.2 1.41-.59l7.78-7.78 2.81-2.81c.8-.78.8-2.07 0-2.86zM5.41 20L4 18.59l7.72-7.72 1.47 1.35L5.41 20z\"/>\n",
              "  </svg>\n",
              "      </button>\n",
              "      \n",
              "  <style>\n",
              "    .colab-df-container {\n",
              "      display:flex;\n",
              "      flex-wrap:wrap;\n",
              "      gap: 12px;\n",
              "    }\n",
              "\n",
              "    .colab-df-convert {\n",
              "      background-color: #E8F0FE;\n",
              "      border: none;\n",
              "      border-radius: 50%;\n",
              "      cursor: pointer;\n",
              "      display: none;\n",
              "      fill: #1967D2;\n",
              "      height: 32px;\n",
              "      padding: 0 0 0 0;\n",
              "      width: 32px;\n",
              "    }\n",
              "\n",
              "    .colab-df-convert:hover {\n",
              "      background-color: #E2EBFA;\n",
              "      box-shadow: 0px 1px 2px rgba(60, 64, 67, 0.3), 0px 1px 3px 1px rgba(60, 64, 67, 0.15);\n",
              "      fill: #174EA6;\n",
              "    }\n",
              "\n",
              "    [theme=dark] .colab-df-convert {\n",
              "      background-color: #3B4455;\n",
              "      fill: #D2E3FC;\n",
              "    }\n",
              "\n",
              "    [theme=dark] .colab-df-convert:hover {\n",
              "      background-color: #434B5C;\n",
              "      box-shadow: 0px 1px 3px 1px rgba(0, 0, 0, 0.15);\n",
              "      filter: drop-shadow(0px 1px 2px rgba(0, 0, 0, 0.3));\n",
              "      fill: #FFFFFF;\n",
              "    }\n",
              "  </style>\n",
              "\n",
              "      <script>\n",
              "        const buttonEl =\n",
              "          document.querySelector('#df-bc421c0d-72a8-4067-8e98-1a908861b1ab button.colab-df-convert');\n",
              "        buttonEl.style.display =\n",
              "          google.colab.kernel.accessAllowed ? 'block' : 'none';\n",
              "\n",
              "        async function convertToInteractive(key) {\n",
              "          const element = document.querySelector('#df-bc421c0d-72a8-4067-8e98-1a908861b1ab');\n",
              "          const dataTable =\n",
              "            await google.colab.kernel.invokeFunction('convertToInteractive',\n",
              "                                                     [key], {});\n",
              "          if (!dataTable) return;\n",
              "\n",
              "          const docLinkHtml = 'Like what you see? Visit the ' +\n",
              "            '<a target=\"_blank\" href=https://colab.research.google.com/notebooks/data_table.ipynb>data table notebook</a>'\n",
              "            + ' to learn more about interactive tables.';\n",
              "          element.innerHTML = '';\n",
              "          dataTable['output_type'] = 'display_data';\n",
              "          await google.colab.output.renderOutput(dataTable, element);\n",
              "          const docLink = document.createElement('div');\n",
              "          docLink.innerHTML = docLinkHtml;\n",
              "          element.appendChild(docLink);\n",
              "        }\n",
              "      </script>\n",
              "    </div>\n",
              "  </div>\n",
              "  "
            ]
          },
          "metadata": {},
          "execution_count": 440
        }
      ]
    },
    {
      "cell_type": "code",
      "source": [
        "df_peso_altura.info()"
      ],
      "metadata": {
        "colab": {
          "base_uri": "https://localhost:8080/"
        },
        "id": "KkMlyBFMwmIB",
        "outputId": "146ebf2f-f898-482e-894b-36608779748c"
      },
      "execution_count": 441,
      "outputs": [
        {
          "output_type": "stream",
          "name": "stdout",
          "text": [
            "<class 'pandas.core.frame.DataFrame'>\n",
            "RangeIndex: 55654 entries, 0 to 55653\n",
            "Data columns (total 7 columns):\n",
            " #   Column                   Non-Null Count  Dtype  \n",
            "---  ------                   --------------  -----  \n",
            " 0   Record ID                55654 non-null  int64  \n",
            " 1   Repeat Instrument        51382 non-null  object \n",
            " 2   Repeat Instance          51382 non-null  float64\n",
            " 3   Data:                    51354 non-null  object \n",
            " 4   Peso                     45178 non-null  float64\n",
            " 5   Altura (em centimetros)  49928 non-null  float64\n",
            " 6   IMC                      51334 non-null  float64\n",
            "dtypes: float64(4), int64(1), object(2)\n",
            "memory usage: 3.0+ MB\n"
          ]
        }
      ]
    },
    {
      "cell_type": "code",
      "source": [
        "df_peso_altura.shape"
      ],
      "metadata": {
        "colab": {
          "base_uri": "https://localhost:8080/"
        },
        "id": "AwIsiZoFwopg",
        "outputId": "721b4565-784e-4c8d-d80b-6f349bf43979"
      },
      "execution_count": 442,
      "outputs": [
        {
          "output_type": "execute_result",
          "data": {
            "text/plain": [
              "(55654, 7)"
            ]
          },
          "metadata": {},
          "execution_count": 442
        }
      ]
    },
    {
      "cell_type": "code",
      "source": [
        "df_peso_altura.describe()"
      ],
      "metadata": {
        "colab": {
          "base_uri": "https://localhost:8080/",
          "height": 0
        },
        "id": "AjWyzu1HwqE3",
        "outputId": "347ea16d-5549-48d2-bfcb-bc35f1014fcc"
      },
      "execution_count": 443,
      "outputs": [
        {
          "output_type": "execute_result",
          "data": {
            "text/plain": [
              "       Record ID  Repeat Instance      Peso  Altura (em centimetros)      IMC\n",
              "count   55654.00         51382.00  45178.00                 49928.00  51334.0\n",
              "mean    45533.98            11.50     71.24                   157.20      inf\n",
              "std     22306.21            10.15    241.74                     7.23      NaN\n",
              "min       302.00             1.00      1.00                     0.00      0.0\n",
              "25%     24532.00             4.00     59.65                   152.00     22.9\n",
              "50%     50868.00             9.00     68.35                   157.00     27.1\n",
              "75%     63162.00            16.00     78.60                   162.00     31.2\n",
              "max     82240.00            96.00  51350.00                   191.00      inf"
            ],
            "text/html": [
              "\n",
              "  <div id=\"df-b2d6fd73-1fe1-434f-a67c-bfbbfdd4b3ae\">\n",
              "    <div class=\"colab-df-container\">\n",
              "      <div>\n",
              "<style scoped>\n",
              "    .dataframe tbody tr th:only-of-type {\n",
              "        vertical-align: middle;\n",
              "    }\n",
              "\n",
              "    .dataframe tbody tr th {\n",
              "        vertical-align: top;\n",
              "    }\n",
              "\n",
              "    .dataframe thead th {\n",
              "        text-align: right;\n",
              "    }\n",
              "</style>\n",
              "<table border=\"1\" class=\"dataframe\">\n",
              "  <thead>\n",
              "    <tr style=\"text-align: right;\">\n",
              "      <th></th>\n",
              "      <th>Record ID</th>\n",
              "      <th>Repeat Instance</th>\n",
              "      <th>Peso</th>\n",
              "      <th>Altura (em centimetros)</th>\n",
              "      <th>IMC</th>\n",
              "    </tr>\n",
              "  </thead>\n",
              "  <tbody>\n",
              "    <tr>\n",
              "      <th>count</th>\n",
              "      <td>55654.00</td>\n",
              "      <td>51382.00</td>\n",
              "      <td>45178.00</td>\n",
              "      <td>49928.00</td>\n",
              "      <td>51334.0</td>\n",
              "    </tr>\n",
              "    <tr>\n",
              "      <th>mean</th>\n",
              "      <td>45533.98</td>\n",
              "      <td>11.50</td>\n",
              "      <td>71.24</td>\n",
              "      <td>157.20</td>\n",
              "      <td>inf</td>\n",
              "    </tr>\n",
              "    <tr>\n",
              "      <th>std</th>\n",
              "      <td>22306.21</td>\n",
              "      <td>10.15</td>\n",
              "      <td>241.74</td>\n",
              "      <td>7.23</td>\n",
              "      <td>NaN</td>\n",
              "    </tr>\n",
              "    <tr>\n",
              "      <th>min</th>\n",
              "      <td>302.00</td>\n",
              "      <td>1.00</td>\n",
              "      <td>1.00</td>\n",
              "      <td>0.00</td>\n",
              "      <td>0.0</td>\n",
              "    </tr>\n",
              "    <tr>\n",
              "      <th>25%</th>\n",
              "      <td>24532.00</td>\n",
              "      <td>4.00</td>\n",
              "      <td>59.65</td>\n",
              "      <td>152.00</td>\n",
              "      <td>22.9</td>\n",
              "    </tr>\n",
              "    <tr>\n",
              "      <th>50%</th>\n",
              "      <td>50868.00</td>\n",
              "      <td>9.00</td>\n",
              "      <td>68.35</td>\n",
              "      <td>157.00</td>\n",
              "      <td>27.1</td>\n",
              "    </tr>\n",
              "    <tr>\n",
              "      <th>75%</th>\n",
              "      <td>63162.00</td>\n",
              "      <td>16.00</td>\n",
              "      <td>78.60</td>\n",
              "      <td>162.00</td>\n",
              "      <td>31.2</td>\n",
              "    </tr>\n",
              "    <tr>\n",
              "      <th>max</th>\n",
              "      <td>82240.00</td>\n",
              "      <td>96.00</td>\n",
              "      <td>51350.00</td>\n",
              "      <td>191.00</td>\n",
              "      <td>inf</td>\n",
              "    </tr>\n",
              "  </tbody>\n",
              "</table>\n",
              "</div>\n",
              "      <button class=\"colab-df-convert\" onclick=\"convertToInteractive('df-b2d6fd73-1fe1-434f-a67c-bfbbfdd4b3ae')\"\n",
              "              title=\"Convert this dataframe to an interactive table.\"\n",
              "              style=\"display:none;\">\n",
              "        \n",
              "  <svg xmlns=\"http://www.w3.org/2000/svg\" height=\"24px\"viewBox=\"0 0 24 24\"\n",
              "       width=\"24px\">\n",
              "    <path d=\"M0 0h24v24H0V0z\" fill=\"none\"/>\n",
              "    <path d=\"M18.56 5.44l.94 2.06.94-2.06 2.06-.94-2.06-.94-.94-2.06-.94 2.06-2.06.94zm-11 1L8.5 8.5l.94-2.06 2.06-.94-2.06-.94L8.5 2.5l-.94 2.06-2.06.94zm10 10l.94 2.06.94-2.06 2.06-.94-2.06-.94-.94-2.06-.94 2.06-2.06.94z\"/><path d=\"M17.41 7.96l-1.37-1.37c-.4-.4-.92-.59-1.43-.59-.52 0-1.04.2-1.43.59L10.3 9.45l-7.72 7.72c-.78.78-.78 2.05 0 2.83L4 21.41c.39.39.9.59 1.41.59.51 0 1.02-.2 1.41-.59l7.78-7.78 2.81-2.81c.8-.78.8-2.07 0-2.86zM5.41 20L4 18.59l7.72-7.72 1.47 1.35L5.41 20z\"/>\n",
              "  </svg>\n",
              "      </button>\n",
              "      \n",
              "  <style>\n",
              "    .colab-df-container {\n",
              "      display:flex;\n",
              "      flex-wrap:wrap;\n",
              "      gap: 12px;\n",
              "    }\n",
              "\n",
              "    .colab-df-convert {\n",
              "      background-color: #E8F0FE;\n",
              "      border: none;\n",
              "      border-radius: 50%;\n",
              "      cursor: pointer;\n",
              "      display: none;\n",
              "      fill: #1967D2;\n",
              "      height: 32px;\n",
              "      padding: 0 0 0 0;\n",
              "      width: 32px;\n",
              "    }\n",
              "\n",
              "    .colab-df-convert:hover {\n",
              "      background-color: #E2EBFA;\n",
              "      box-shadow: 0px 1px 2px rgba(60, 64, 67, 0.3), 0px 1px 3px 1px rgba(60, 64, 67, 0.15);\n",
              "      fill: #174EA6;\n",
              "    }\n",
              "\n",
              "    [theme=dark] .colab-df-convert {\n",
              "      background-color: #3B4455;\n",
              "      fill: #D2E3FC;\n",
              "    }\n",
              "\n",
              "    [theme=dark] .colab-df-convert:hover {\n",
              "      background-color: #434B5C;\n",
              "      box-shadow: 0px 1px 3px 1px rgba(0, 0, 0, 0.15);\n",
              "      filter: drop-shadow(0px 1px 2px rgba(0, 0, 0, 0.3));\n",
              "      fill: #FFFFFF;\n",
              "    }\n",
              "  </style>\n",
              "\n",
              "      <script>\n",
              "        const buttonEl =\n",
              "          document.querySelector('#df-b2d6fd73-1fe1-434f-a67c-bfbbfdd4b3ae button.colab-df-convert');\n",
              "        buttonEl.style.display =\n",
              "          google.colab.kernel.accessAllowed ? 'block' : 'none';\n",
              "\n",
              "        async function convertToInteractive(key) {\n",
              "          const element = document.querySelector('#df-b2d6fd73-1fe1-434f-a67c-bfbbfdd4b3ae');\n",
              "          const dataTable =\n",
              "            await google.colab.kernel.invokeFunction('convertToInteractive',\n",
              "                                                     [key], {});\n",
              "          if (!dataTable) return;\n",
              "\n",
              "          const docLinkHtml = 'Like what you see? Visit the ' +\n",
              "            '<a target=\"_blank\" href=https://colab.research.google.com/notebooks/data_table.ipynb>data table notebook</a>'\n",
              "            + ' to learn more about interactive tables.';\n",
              "          element.innerHTML = '';\n",
              "          dataTable['output_type'] = 'display_data';\n",
              "          await google.colab.output.renderOutput(dataTable, element);\n",
              "          const docLink = document.createElement('div');\n",
              "          docLink.innerHTML = docLinkHtml;\n",
              "          element.appendChild(docLink);\n",
              "        }\n",
              "      </script>\n",
              "    </div>\n",
              "  </div>\n",
              "  "
            ]
          },
          "metadata": {},
          "execution_count": 443
        }
      ]
    },
    {
      "cell_type": "markdown",
      "source": [
        "###Limpeza dos dados"
      ],
      "metadata": {
        "id": "shT6QlRVw3n-"
      }
    },
    {
      "cell_type": "markdown",
      "source": [
        "####Organiza as entradas de cada Record ID por data"
      ],
      "metadata": {
        "id": "hNlskljqxbkQ"
      }
    },
    {
      "cell_type": "code",
      "source": [
        "df_peso_altura = df_peso_altura.rename(columns={df_peso_altura.columns[3]: 'data'})\n",
        "df_peso_altura = df_peso_altura.sort_values(by=[\"Record ID\", \"data\"])"
      ],
      "metadata": {
        "id": "iJ9u8-YYwrYN"
      },
      "execution_count": 444,
      "outputs": []
    },
    {
      "cell_type": "markdown",
      "source": [
        "####Remove as linhas que estão totalmente vazias com excessão do Record ID"
      ],
      "metadata": {
        "id": "mC4BOInHxgHd"
      }
    },
    {
      "cell_type": "code",
      "source": [
        "df_peso_altura = df_peso_altura.dropna(subset=['Repeat Instance']).reset_index(drop=True)"
      ],
      "metadata": {
        "id": "hTDub6lNw64r"
      },
      "execution_count": 445,
      "outputs": []
    },
    {
      "cell_type": "markdown",
      "source": [
        "####Cria as colunas necessárias para guardar o resumo das informações em uma linha"
      ],
      "metadata": {
        "id": "i-x8_Gc7xlVF"
      }
    },
    {
      "cell_type": "code",
      "source": [
        "df_peso_altura[\"peso_maximo\"] = ''\n",
        "df_peso_altura[\"peso_minimo\"] = ''\n",
        "df_peso_altura[\"imc_maximo\"] = ''\n",
        "df_peso_altura[\"imc_minimo\"] = ''"
      ],
      "metadata": {
        "id": "tWgzJJdTw8hH"
      },
      "execution_count": 446,
      "outputs": []
    },
    {
      "cell_type": "markdown",
      "source": [
        "####Muda o tipo da feature data de object pra datetime"
      ],
      "metadata": {
        "id": "i8yQL0V8xphU"
      }
    },
    {
      "cell_type": "code",
      "source": [
        "df_peso_altura['data'] = df_peso_altura['data'].astype('datetime64')"
      ],
      "metadata": {
        "id": "ree5BtDSw9yp"
      },
      "execution_count": 447,
      "outputs": []
    },
    {
      "cell_type": "markdown",
      "source": [
        "####Função que lida com todos os outliers e todos os Nan"
      ],
      "metadata": {
        "id": "vC7ptFV1xxbA"
      }
    },
    {
      "cell_type": "code",
      "source": [
        "# Sua execução dura por volta de 30s, dependendo da internet\n",
        "\n",
        "contagem = 0\n",
        "def tira_na(id, df):\n",
        "  global contagem\n",
        "  # Trata a coluna de altura\n",
        "  if math.isnan(df.iloc[contagem, 5]) or df.iloc[contagem, 5] == 0:\n",
        "    (df.loc[contagem, \"Altura (em centimetros)\"]) = df[(df[\"Record ID\"] == id)][\"Altura (em centimetros)\"].median()\n",
        "  if math.isnan(df.loc[contagem, \"Altura (em centimetros)\"]):\n",
        "    (df.loc[contagem, \"Altura (em centimetros)\"]) = df[\"Altura (em centimetros)\"].median()\n",
        "  # Trata a coluna de peso\n",
        "  if math.isnan(df.loc[contagem, \"Peso\"]) or df.loc[contagem, \"Peso\"] >= 150 or df.loc[contagem, \"Peso\"] <= 20:\n",
        "    (df.loc[contagem, \"Peso\"]) = df[(df[\"Record ID\"] == id)][\"Peso\"].median()\n",
        "  if math.isnan(df.loc[contagem, \"Peso\"]) or df.loc[contagem, \"Peso\"] <= 20:\n",
        "    (df.iloc[contagem, 4]) = df[\"Peso\"].median()\n",
        "  # Trata a coluna de IMC\n",
        "  if math.isnan(df.loc[contagem, \"IMC\"]) or df.loc[contagem, \"IMC\"] >= 50 or df.loc[contagem, \"IMC\"] <= 10:\n",
        "    (df.loc[contagem, \"IMC\"]) = (df.loc[contagem, \"Peso\"]) / ((df.iloc[contagem, 5] / 100) ** 2).round(1)\n",
        "  contagem += 1\n",
        "df_peso_altura[\"Record ID\"].apply(tira_na, args=(df_peso_altura,))"
      ],
      "metadata": {
        "colab": {
          "base_uri": "https://localhost:8080/"
        },
        "id": "OdUVKXr0w_Hx",
        "outputId": "b5319837-3ca0-4573-b72d-6e9f5d20c527"
      },
      "execution_count": 448,
      "outputs": [
        {
          "output_type": "stream",
          "name": "stderr",
          "text": [
            "/usr/local/lib/python3.8/dist-packages/numpy/lib/nanfunctions.py:1216: RuntimeWarning: Mean of empty slice\n",
            "  return np.nanmean(a, axis, out=out, keepdims=keepdims)\n",
            "/usr/local/lib/python3.8/dist-packages/numpy/lib/nanfunctions.py:1216: RuntimeWarning: Mean of empty slice\n",
            "  return np.nanmean(a, axis, out=out, keepdims=keepdims)\n",
            "/usr/local/lib/python3.8/dist-packages/numpy/lib/nanfunctions.py:1216: RuntimeWarning: Mean of empty slice\n",
            "  return np.nanmean(a, axis, out=out, keepdims=keepdims)\n",
            "/usr/local/lib/python3.8/dist-packages/numpy/lib/nanfunctions.py:1216: RuntimeWarning: Mean of empty slice\n",
            "  return np.nanmean(a, axis, out=out, keepdims=keepdims)\n",
            "/usr/local/lib/python3.8/dist-packages/numpy/lib/nanfunctions.py:1216: RuntimeWarning: Mean of empty slice\n",
            "  return np.nanmean(a, axis, out=out, keepdims=keepdims)\n",
            "/usr/local/lib/python3.8/dist-packages/numpy/lib/nanfunctions.py:1216: RuntimeWarning: Mean of empty slice\n",
            "  return np.nanmean(a, axis, out=out, keepdims=keepdims)\n",
            "/usr/local/lib/python3.8/dist-packages/numpy/lib/nanfunctions.py:1216: RuntimeWarning: Mean of empty slice\n",
            "  return np.nanmean(a, axis, out=out, keepdims=keepdims)\n",
            "/usr/local/lib/python3.8/dist-packages/numpy/lib/nanfunctions.py:1216: RuntimeWarning: Mean of empty slice\n",
            "  return np.nanmean(a, axis, out=out, keepdims=keepdims)\n",
            "/usr/local/lib/python3.8/dist-packages/numpy/lib/nanfunctions.py:1216: RuntimeWarning: Mean of empty slice\n",
            "  return np.nanmean(a, axis, out=out, keepdims=keepdims)\n",
            "/usr/local/lib/python3.8/dist-packages/numpy/lib/nanfunctions.py:1216: RuntimeWarning: Mean of empty slice\n",
            "  return np.nanmean(a, axis, out=out, keepdims=keepdims)\n",
            "/usr/local/lib/python3.8/dist-packages/numpy/lib/nanfunctions.py:1216: RuntimeWarning: Mean of empty slice\n",
            "  return np.nanmean(a, axis, out=out, keepdims=keepdims)\n",
            "/usr/local/lib/python3.8/dist-packages/numpy/lib/nanfunctions.py:1216: RuntimeWarning: Mean of empty slice\n",
            "  return np.nanmean(a, axis, out=out, keepdims=keepdims)\n",
            "/usr/local/lib/python3.8/dist-packages/numpy/lib/nanfunctions.py:1216: RuntimeWarning: Mean of empty slice\n",
            "  return np.nanmean(a, axis, out=out, keepdims=keepdims)\n",
            "/usr/local/lib/python3.8/dist-packages/numpy/lib/nanfunctions.py:1216: RuntimeWarning: Mean of empty slice\n",
            "  return np.nanmean(a, axis, out=out, keepdims=keepdims)\n",
            "/usr/local/lib/python3.8/dist-packages/numpy/lib/nanfunctions.py:1216: RuntimeWarning: Mean of empty slice\n",
            "  return np.nanmean(a, axis, out=out, keepdims=keepdims)\n",
            "/usr/local/lib/python3.8/dist-packages/numpy/lib/nanfunctions.py:1216: RuntimeWarning: Mean of empty slice\n",
            "  return np.nanmean(a, axis, out=out, keepdims=keepdims)\n",
            "/usr/local/lib/python3.8/dist-packages/numpy/lib/nanfunctions.py:1216: RuntimeWarning: Mean of empty slice\n",
            "  return np.nanmean(a, axis, out=out, keepdims=keepdims)\n",
            "/usr/local/lib/python3.8/dist-packages/numpy/lib/nanfunctions.py:1216: RuntimeWarning: Mean of empty slice\n",
            "  return np.nanmean(a, axis, out=out, keepdims=keepdims)\n",
            "/usr/local/lib/python3.8/dist-packages/numpy/lib/nanfunctions.py:1216: RuntimeWarning: Mean of empty slice\n",
            "  return np.nanmean(a, axis, out=out, keepdims=keepdims)\n",
            "/usr/local/lib/python3.8/dist-packages/numpy/lib/nanfunctions.py:1216: RuntimeWarning: Mean of empty slice\n",
            "  return np.nanmean(a, axis, out=out, keepdims=keepdims)\n",
            "/usr/local/lib/python3.8/dist-packages/numpy/lib/nanfunctions.py:1216: RuntimeWarning: Mean of empty slice\n",
            "  return np.nanmean(a, axis, out=out, keepdims=keepdims)\n",
            "/usr/local/lib/python3.8/dist-packages/numpy/lib/nanfunctions.py:1216: RuntimeWarning: Mean of empty slice\n",
            "  return np.nanmean(a, axis, out=out, keepdims=keepdims)\n",
            "/usr/local/lib/python3.8/dist-packages/numpy/lib/nanfunctions.py:1216: RuntimeWarning: Mean of empty slice\n",
            "  return np.nanmean(a, axis, out=out, keepdims=keepdims)\n",
            "/usr/local/lib/python3.8/dist-packages/numpy/lib/nanfunctions.py:1216: RuntimeWarning: Mean of empty slice\n",
            "  return np.nanmean(a, axis, out=out, keepdims=keepdims)\n",
            "/usr/local/lib/python3.8/dist-packages/numpy/lib/nanfunctions.py:1216: RuntimeWarning: Mean of empty slice\n",
            "  return np.nanmean(a, axis, out=out, keepdims=keepdims)\n",
            "/usr/local/lib/python3.8/dist-packages/numpy/lib/nanfunctions.py:1216: RuntimeWarning: Mean of empty slice\n",
            "  return np.nanmean(a, axis, out=out, keepdims=keepdims)\n",
            "/usr/local/lib/python3.8/dist-packages/numpy/lib/nanfunctions.py:1216: RuntimeWarning: Mean of empty slice\n",
            "  return np.nanmean(a, axis, out=out, keepdims=keepdims)\n",
            "/usr/local/lib/python3.8/dist-packages/numpy/lib/nanfunctions.py:1216: RuntimeWarning: Mean of empty slice\n",
            "  return np.nanmean(a, axis, out=out, keepdims=keepdims)\n",
            "/usr/local/lib/python3.8/dist-packages/numpy/lib/nanfunctions.py:1216: RuntimeWarning: Mean of empty slice\n",
            "  return np.nanmean(a, axis, out=out, keepdims=keepdims)\n",
            "/usr/local/lib/python3.8/dist-packages/numpy/lib/nanfunctions.py:1216: RuntimeWarning: Mean of empty slice\n",
            "  return np.nanmean(a, axis, out=out, keepdims=keepdims)\n",
            "/usr/local/lib/python3.8/dist-packages/numpy/lib/nanfunctions.py:1216: RuntimeWarning: Mean of empty slice\n",
            "  return np.nanmean(a, axis, out=out, keepdims=keepdims)\n",
            "/usr/local/lib/python3.8/dist-packages/numpy/lib/nanfunctions.py:1216: RuntimeWarning: Mean of empty slice\n",
            "  return np.nanmean(a, axis, out=out, keepdims=keepdims)\n",
            "/usr/local/lib/python3.8/dist-packages/numpy/lib/nanfunctions.py:1216: RuntimeWarning: Mean of empty slice\n",
            "  return np.nanmean(a, axis, out=out, keepdims=keepdims)\n",
            "/usr/local/lib/python3.8/dist-packages/numpy/lib/nanfunctions.py:1216: RuntimeWarning: Mean of empty slice\n",
            "  return np.nanmean(a, axis, out=out, keepdims=keepdims)\n",
            "/usr/local/lib/python3.8/dist-packages/numpy/lib/nanfunctions.py:1216: RuntimeWarning: Mean of empty slice\n",
            "  return np.nanmean(a, axis, out=out, keepdims=keepdims)\n",
            "/usr/local/lib/python3.8/dist-packages/numpy/lib/nanfunctions.py:1216: RuntimeWarning: Mean of empty slice\n",
            "  return np.nanmean(a, axis, out=out, keepdims=keepdims)\n",
            "/usr/local/lib/python3.8/dist-packages/numpy/lib/nanfunctions.py:1216: RuntimeWarning: Mean of empty slice\n",
            "  return np.nanmean(a, axis, out=out, keepdims=keepdims)\n",
            "/usr/local/lib/python3.8/dist-packages/numpy/lib/nanfunctions.py:1216: RuntimeWarning: Mean of empty slice\n",
            "  return np.nanmean(a, axis, out=out, keepdims=keepdims)\n",
            "/usr/local/lib/python3.8/dist-packages/numpy/lib/nanfunctions.py:1216: RuntimeWarning: Mean of empty slice\n",
            "  return np.nanmean(a, axis, out=out, keepdims=keepdims)\n",
            "/usr/local/lib/python3.8/dist-packages/numpy/lib/nanfunctions.py:1216: RuntimeWarning: Mean of empty slice\n",
            "  return np.nanmean(a, axis, out=out, keepdims=keepdims)\n",
            "/usr/local/lib/python3.8/dist-packages/numpy/lib/nanfunctions.py:1216: RuntimeWarning: Mean of empty slice\n",
            "  return np.nanmean(a, axis, out=out, keepdims=keepdims)\n",
            "/usr/local/lib/python3.8/dist-packages/numpy/lib/nanfunctions.py:1216: RuntimeWarning: Mean of empty slice\n",
            "  return np.nanmean(a, axis, out=out, keepdims=keepdims)\n",
            "/usr/local/lib/python3.8/dist-packages/numpy/lib/nanfunctions.py:1216: RuntimeWarning: Mean of empty slice\n",
            "  return np.nanmean(a, axis, out=out, keepdims=keepdims)\n",
            "/usr/local/lib/python3.8/dist-packages/numpy/lib/nanfunctions.py:1216: RuntimeWarning: Mean of empty slice\n",
            "  return np.nanmean(a, axis, out=out, keepdims=keepdims)\n",
            "/usr/local/lib/python3.8/dist-packages/numpy/lib/nanfunctions.py:1216: RuntimeWarning: Mean of empty slice\n",
            "  return np.nanmean(a, axis, out=out, keepdims=keepdims)\n",
            "/usr/local/lib/python3.8/dist-packages/numpy/lib/nanfunctions.py:1216: RuntimeWarning: Mean of empty slice\n",
            "  return np.nanmean(a, axis, out=out, keepdims=keepdims)\n",
            "/usr/local/lib/python3.8/dist-packages/numpy/lib/nanfunctions.py:1216: RuntimeWarning: Mean of empty slice\n",
            "  return np.nanmean(a, axis, out=out, keepdims=keepdims)\n",
            "/usr/local/lib/python3.8/dist-packages/numpy/lib/nanfunctions.py:1216: RuntimeWarning: Mean of empty slice\n",
            "  return np.nanmean(a, axis, out=out, keepdims=keepdims)\n",
            "/usr/local/lib/python3.8/dist-packages/numpy/lib/nanfunctions.py:1216: RuntimeWarning: Mean of empty slice\n",
            "  return np.nanmean(a, axis, out=out, keepdims=keepdims)\n",
            "/usr/local/lib/python3.8/dist-packages/numpy/lib/nanfunctions.py:1216: RuntimeWarning: Mean of empty slice\n",
            "  return np.nanmean(a, axis, out=out, keepdims=keepdims)\n"
          ]
        },
        {
          "output_type": "execute_result",
          "data": {
            "text/plain": [
              "0        None\n",
              "1        None\n",
              "2        None\n",
              "3        None\n",
              "4        None\n",
              "         ... \n",
              "51377    None\n",
              "51378    None\n",
              "51379    None\n",
              "51380    None\n",
              "51381    None\n",
              "Name: Record ID, Length: 51382, dtype: object"
            ]
          },
          "metadata": {},
          "execution_count": 448
        }
      ]
    },
    {
      "cell_type": "markdown",
      "source": [
        "#### Função que comprime as várias linhas com record IDs repetidos em uma, visando perder a menor quantidade de informações possível"
      ],
      "metadata": {
        "id": "51w79KIgx1q4"
      }
    },
    {
      "cell_type": "code",
      "source": [
        "ja_foi = []\n",
        "contagem = 0\n",
        "def comprime_linhas(id, df, ja_foi):\n",
        "  if id not in ja_foi:\n",
        "    global contagem\n",
        "    ja_foi.append(id)\n",
        "    # Encontra os valores desejados\n",
        "    df_filtrado = df[(df[\"Record ID\"] == id)]\n",
        "    peso_maximo = df_filtrado[\"Peso\"].max()\n",
        "    peso_minimo = df_filtrado[\"Peso\"].min()\n",
        "    imc_maximo = df_filtrado[\"IMC\"].max()\n",
        "    imc_minimo = df_filtrado[\"IMC\"].min()\n",
        "    altura = df_filtrado[\"Altura (em centimetros)\"].median()\n",
        "\n",
        "    # Passa os valores desejados para as suas devidas posições\n",
        "    df.loc[contagem, \"peso_maximo\"] = peso_maximo\n",
        "    df.loc[contagem, \"peso_minimo\"] = peso_minimo\n",
        "    df.loc[contagem, \"imc_maximo\"] = imc_maximo\n",
        "    df.loc[contagem, \"imc_minimo\"] = imc_minimo\n",
        "    df.loc[contagem, \"Altura (em centimetros)\"] = altura\n",
        "\n",
        "    # Atualiza a contagem para saber em qual index está trabalhando\n",
        "    tamanho = df_filtrado.shape[0]\n",
        "    contagem += tamanho\n",
        "    \n",
        "\n",
        "df_peso_altura[\"Record ID\"].apply(comprime_linhas, args=(df_peso_altura, ja_foi))"
      ],
      "metadata": {
        "colab": {
          "base_uri": "https://localhost:8080/"
        },
        "id": "5ScUvD6axA46",
        "outputId": "a23aec8a-0ae3-413a-f408-cc39a0a24a7c"
      },
      "execution_count": 449,
      "outputs": [
        {
          "output_type": "execute_result",
          "data": {
            "text/plain": [
              "0        None\n",
              "1        None\n",
              "2        None\n",
              "3        None\n",
              "4        None\n",
              "         ... \n",
              "51377    None\n",
              "51378    None\n",
              "51379    None\n",
              "51380    None\n",
              "51381    None\n",
              "Name: Record ID, Length: 51382, dtype: object"
            ]
          },
          "metadata": {},
          "execution_count": 449
        }
      ]
    },
    {
      "cell_type": "markdown",
      "source": [
        "####Remove as linhas com Record IDs duplicados e muda nomes de colunas"
      ],
      "metadata": {
        "id": "53ylmESRyF9_"
      }
    },
    {
      "cell_type": "code",
      "source": [
        "df_peso_altura = df_peso_altura.drop_duplicates(subset=[\"Record ID\"], keep=\"first\", ignore_index=True, inplace=False).rename(columns={\"Peso\":\"peso_inicial\", \"IMC\": \"imc_inicial\", \"Altura (em centimetros)\": 'altura'})"
      ],
      "metadata": {
        "id": "vf9XxdENxF0-"
      },
      "execution_count": 450,
      "outputs": []
    },
    {
      "cell_type": "markdown",
      "source": [
        "#### Corrige o tipo de colunas numéricas que estavam classificadas como categóricas"
      ],
      "metadata": {
        "id": "vQdUK-2jyJ3n"
      }
    },
    {
      "cell_type": "code",
      "source": [
        "df_peso_altura[['peso_maximo', 'peso_minimo', 'imc_maximo', 'imc_minimo']] = df_peso_altura[['peso_maximo', 'peso_minimo', 'imc_maximo', 'imc_minimo']].astype('float64')"
      ],
      "metadata": {
        "id": "1bv8dSAVxIf2"
      },
      "execution_count": 451,
      "outputs": []
    },
    {
      "cell_type": "markdown",
      "source": [
        "#### Removendo colunas desnecessárias"
      ],
      "metadata": {
        "id": "9nZuNDkEyAgR"
      }
    },
    {
      "cell_type": "code",
      "source": [
        "df_peso_altura = df_peso_altura.drop(columns=['Repeat Instrument', 'Repeat Instance', 'data'])"
      ],
      "metadata": {
        "id": "7ah8JI5txKG1"
      },
      "execution_count": 452,
      "outputs": []
    },
    {
      "cell_type": "code",
      "source": [
        "df_peso_altura = clean_column_names(df_peso_altura)\n",
        "df_peso_altura"
      ],
      "metadata": {
        "colab": {
          "base_uri": "https://localhost:8080/",
          "height": 0
        },
        "id": "1-ga0SVjxLZ0",
        "outputId": "bfff3ef2-4545-43f4-ad18-2c6e6e30672c"
      },
      "execution_count": 453,
      "outputs": [
        {
          "output_type": "execute_result",
          "data": {
            "text/plain": [
              "      record_id  peso_inicial  altura  imc_inicial  peso_maximo  peso_minimo  \\\n",
              "0           302         57.80   158.0         23.2        64.90        56.00   \n",
              "1           710         61.00   155.0         25.1        66.00        60.50   \n",
              "2           752         84.00   152.0         36.4        85.90        81.00   \n",
              "3          1367         57.90   143.0         28.3        59.00        51.00   \n",
              "4          1589         63.20   167.0         22.7        67.00        62.00   \n",
              "...         ...           ...     ...          ...          ...          ...   \n",
              "3798      82123         85.40   153.0         36.5        85.40        77.30   \n",
              "3799      82124         81.10   151.0         35.6        81.10        78.00   \n",
              "3800      82131         71.40   156.0         29.2        75.65        71.40   \n",
              "3801      82205        135.85   174.0         44.9       140.00       124.10   \n",
              "3802      82240         80.35   161.0         31.0        80.35        80.35   \n",
              "\n",
              "      imc_maximo  imc_minimo  \n",
              "0           26.0        22.4  \n",
              "1           27.5        25.1  \n",
              "2           37.2        35.1  \n",
              "3           28.9        24.9  \n",
              "4           24.0        22.2  \n",
              "...          ...         ...  \n",
              "3798        36.5        32.6  \n",
              "3799        35.6        34.2  \n",
              "3800        31.1        29.2  \n",
              "3801        47.3        41.0  \n",
              "3802        31.0        31.0  \n",
              "\n",
              "[3803 rows x 8 columns]"
            ],
            "text/html": [
              "\n",
              "  <div id=\"df-5cc82aae-641b-4baa-972a-8e767cd3f697\">\n",
              "    <div class=\"colab-df-container\">\n",
              "      <div>\n",
              "<style scoped>\n",
              "    .dataframe tbody tr th:only-of-type {\n",
              "        vertical-align: middle;\n",
              "    }\n",
              "\n",
              "    .dataframe tbody tr th {\n",
              "        vertical-align: top;\n",
              "    }\n",
              "\n",
              "    .dataframe thead th {\n",
              "        text-align: right;\n",
              "    }\n",
              "</style>\n",
              "<table border=\"1\" class=\"dataframe\">\n",
              "  <thead>\n",
              "    <tr style=\"text-align: right;\">\n",
              "      <th></th>\n",
              "      <th>record_id</th>\n",
              "      <th>peso_inicial</th>\n",
              "      <th>altura</th>\n",
              "      <th>imc_inicial</th>\n",
              "      <th>peso_maximo</th>\n",
              "      <th>peso_minimo</th>\n",
              "      <th>imc_maximo</th>\n",
              "      <th>imc_minimo</th>\n",
              "    </tr>\n",
              "  </thead>\n",
              "  <tbody>\n",
              "    <tr>\n",
              "      <th>0</th>\n",
              "      <td>302</td>\n",
              "      <td>57.80</td>\n",
              "      <td>158.0</td>\n",
              "      <td>23.2</td>\n",
              "      <td>64.90</td>\n",
              "      <td>56.00</td>\n",
              "      <td>26.0</td>\n",
              "      <td>22.4</td>\n",
              "    </tr>\n",
              "    <tr>\n",
              "      <th>1</th>\n",
              "      <td>710</td>\n",
              "      <td>61.00</td>\n",
              "      <td>155.0</td>\n",
              "      <td>25.1</td>\n",
              "      <td>66.00</td>\n",
              "      <td>60.50</td>\n",
              "      <td>27.5</td>\n",
              "      <td>25.1</td>\n",
              "    </tr>\n",
              "    <tr>\n",
              "      <th>2</th>\n",
              "      <td>752</td>\n",
              "      <td>84.00</td>\n",
              "      <td>152.0</td>\n",
              "      <td>36.4</td>\n",
              "      <td>85.90</td>\n",
              "      <td>81.00</td>\n",
              "      <td>37.2</td>\n",
              "      <td>35.1</td>\n",
              "    </tr>\n",
              "    <tr>\n",
              "      <th>3</th>\n",
              "      <td>1367</td>\n",
              "      <td>57.90</td>\n",
              "      <td>143.0</td>\n",
              "      <td>28.3</td>\n",
              "      <td>59.00</td>\n",
              "      <td>51.00</td>\n",
              "      <td>28.9</td>\n",
              "      <td>24.9</td>\n",
              "    </tr>\n",
              "    <tr>\n",
              "      <th>4</th>\n",
              "      <td>1589</td>\n",
              "      <td>63.20</td>\n",
              "      <td>167.0</td>\n",
              "      <td>22.7</td>\n",
              "      <td>67.00</td>\n",
              "      <td>62.00</td>\n",
              "      <td>24.0</td>\n",
              "      <td>22.2</td>\n",
              "    </tr>\n",
              "    <tr>\n",
              "      <th>...</th>\n",
              "      <td>...</td>\n",
              "      <td>...</td>\n",
              "      <td>...</td>\n",
              "      <td>...</td>\n",
              "      <td>...</td>\n",
              "      <td>...</td>\n",
              "      <td>...</td>\n",
              "      <td>...</td>\n",
              "    </tr>\n",
              "    <tr>\n",
              "      <th>3798</th>\n",
              "      <td>82123</td>\n",
              "      <td>85.40</td>\n",
              "      <td>153.0</td>\n",
              "      <td>36.5</td>\n",
              "      <td>85.40</td>\n",
              "      <td>77.30</td>\n",
              "      <td>36.5</td>\n",
              "      <td>32.6</td>\n",
              "    </tr>\n",
              "    <tr>\n",
              "      <th>3799</th>\n",
              "      <td>82124</td>\n",
              "      <td>81.10</td>\n",
              "      <td>151.0</td>\n",
              "      <td>35.6</td>\n",
              "      <td>81.10</td>\n",
              "      <td>78.00</td>\n",
              "      <td>35.6</td>\n",
              "      <td>34.2</td>\n",
              "    </tr>\n",
              "    <tr>\n",
              "      <th>3800</th>\n",
              "      <td>82131</td>\n",
              "      <td>71.40</td>\n",
              "      <td>156.0</td>\n",
              "      <td>29.2</td>\n",
              "      <td>75.65</td>\n",
              "      <td>71.40</td>\n",
              "      <td>31.1</td>\n",
              "      <td>29.2</td>\n",
              "    </tr>\n",
              "    <tr>\n",
              "      <th>3801</th>\n",
              "      <td>82205</td>\n",
              "      <td>135.85</td>\n",
              "      <td>174.0</td>\n",
              "      <td>44.9</td>\n",
              "      <td>140.00</td>\n",
              "      <td>124.10</td>\n",
              "      <td>47.3</td>\n",
              "      <td>41.0</td>\n",
              "    </tr>\n",
              "    <tr>\n",
              "      <th>3802</th>\n",
              "      <td>82240</td>\n",
              "      <td>80.35</td>\n",
              "      <td>161.0</td>\n",
              "      <td>31.0</td>\n",
              "      <td>80.35</td>\n",
              "      <td>80.35</td>\n",
              "      <td>31.0</td>\n",
              "      <td>31.0</td>\n",
              "    </tr>\n",
              "  </tbody>\n",
              "</table>\n",
              "<p>3803 rows × 8 columns</p>\n",
              "</div>\n",
              "      <button class=\"colab-df-convert\" onclick=\"convertToInteractive('df-5cc82aae-641b-4baa-972a-8e767cd3f697')\"\n",
              "              title=\"Convert this dataframe to an interactive table.\"\n",
              "              style=\"display:none;\">\n",
              "        \n",
              "  <svg xmlns=\"http://www.w3.org/2000/svg\" height=\"24px\"viewBox=\"0 0 24 24\"\n",
              "       width=\"24px\">\n",
              "    <path d=\"M0 0h24v24H0V0z\" fill=\"none\"/>\n",
              "    <path d=\"M18.56 5.44l.94 2.06.94-2.06 2.06-.94-2.06-.94-.94-2.06-.94 2.06-2.06.94zm-11 1L8.5 8.5l.94-2.06 2.06-.94-2.06-.94L8.5 2.5l-.94 2.06-2.06.94zm10 10l.94 2.06.94-2.06 2.06-.94-2.06-.94-.94-2.06-.94 2.06-2.06.94z\"/><path d=\"M17.41 7.96l-1.37-1.37c-.4-.4-.92-.59-1.43-.59-.52 0-1.04.2-1.43.59L10.3 9.45l-7.72 7.72c-.78.78-.78 2.05 0 2.83L4 21.41c.39.39.9.59 1.41.59.51 0 1.02-.2 1.41-.59l7.78-7.78 2.81-2.81c.8-.78.8-2.07 0-2.86zM5.41 20L4 18.59l7.72-7.72 1.47 1.35L5.41 20z\"/>\n",
              "  </svg>\n",
              "      </button>\n",
              "      \n",
              "  <style>\n",
              "    .colab-df-container {\n",
              "      display:flex;\n",
              "      flex-wrap:wrap;\n",
              "      gap: 12px;\n",
              "    }\n",
              "\n",
              "    .colab-df-convert {\n",
              "      background-color: #E8F0FE;\n",
              "      border: none;\n",
              "      border-radius: 50%;\n",
              "      cursor: pointer;\n",
              "      display: none;\n",
              "      fill: #1967D2;\n",
              "      height: 32px;\n",
              "      padding: 0 0 0 0;\n",
              "      width: 32px;\n",
              "    }\n",
              "\n",
              "    .colab-df-convert:hover {\n",
              "      background-color: #E2EBFA;\n",
              "      box-shadow: 0px 1px 2px rgba(60, 64, 67, 0.3), 0px 1px 3px 1px rgba(60, 64, 67, 0.15);\n",
              "      fill: #174EA6;\n",
              "    }\n",
              "\n",
              "    [theme=dark] .colab-df-convert {\n",
              "      background-color: #3B4455;\n",
              "      fill: #D2E3FC;\n",
              "    }\n",
              "\n",
              "    [theme=dark] .colab-df-convert:hover {\n",
              "      background-color: #434B5C;\n",
              "      box-shadow: 0px 1px 3px 1px rgba(0, 0, 0, 0.15);\n",
              "      filter: drop-shadow(0px 1px 2px rgba(0, 0, 0, 0.3));\n",
              "      fill: #FFFFFF;\n",
              "    }\n",
              "  </style>\n",
              "\n",
              "      <script>\n",
              "        const buttonEl =\n",
              "          document.querySelector('#df-5cc82aae-641b-4baa-972a-8e767cd3f697 button.colab-df-convert');\n",
              "        buttonEl.style.display =\n",
              "          google.colab.kernel.accessAllowed ? 'block' : 'none';\n",
              "\n",
              "        async function convertToInteractive(key) {\n",
              "          const element = document.querySelector('#df-5cc82aae-641b-4baa-972a-8e767cd3f697');\n",
              "          const dataTable =\n",
              "            await google.colab.kernel.invokeFunction('convertToInteractive',\n",
              "                                                     [key], {});\n",
              "          if (!dataTable) return;\n",
              "\n",
              "          const docLinkHtml = 'Like what you see? Visit the ' +\n",
              "            '<a target=\"_blank\" href=https://colab.research.google.com/notebooks/data_table.ipynb>data table notebook</a>'\n",
              "            + ' to learn more about interactive tables.';\n",
              "          element.innerHTML = '';\n",
              "          dataTable['output_type'] = 'display_data';\n",
              "          await google.colab.output.renderOutput(dataTable, element);\n",
              "          const docLink = document.createElement('div');\n",
              "          docLink.innerHTML = docLinkHtml;\n",
              "          element.appendChild(docLink);\n",
              "        }\n",
              "      </script>\n",
              "    </div>\n",
              "  </div>\n",
              "  "
            ]
          },
          "metadata": {},
          "execution_count": 453
        }
      ]
    },
    {
      "cell_type": "markdown",
      "source": [
        "## DataFrame(Registro de Tumor)"
      ],
      "metadata": {
        "id": "dQKZEgBuyO0d"
      }
    },
    {
      "cell_type": "markdown",
      "source": [
        "### Exploração inicial"
      ],
      "metadata": {
        "id": "oUrnUTInyUFX"
      }
    },
    {
      "cell_type": "code",
      "source": [
        "df_registro_tumor.head(5)"
      ],
      "metadata": {
        "colab": {
          "base_uri": "https://localhost:8080/",
          "height": 0
        },
        "id": "wIeSK3PDxNDV",
        "outputId": "7662e3d7-f256-4de1-8f96-cb4b59052d17"
      },
      "execution_count": 454,
      "outputs": [
        {
          "output_type": "execute_result",
          "data": {
            "text/plain": [
              "   Record ID    Repeat Instrument  Repeat Instance  \\\n",
              "0        302                  NaN              NaN   \n",
              "1        302  Registro De Tumores              1.0   \n",
              "2        710                  NaN              NaN   \n",
              "3        710  Registro De Tumores              1.0   \n",
              "4        752                  NaN              NaN   \n",
              "\n",
              "  Data da primeira consulta institucional [dt_pci] Data do diagnóstico  \\\n",
              "0                                              NaN                 NaN   \n",
              "1                                       2008-03-22          2008-03-23   \n",
              "2                                              NaN                 NaN   \n",
              "3                                       2006-11-11          2007-11-11   \n",
              "4                                              NaN                 NaN   \n",
              "\n",
              "  Código da Topografia (CID-O)  Código da Morfologia de acordo com o CID-O  \\\n",
              "0                          NaN                                         NaN   \n",
              "1                         C504                                     85003.0   \n",
              "2                          NaN                                         NaN   \n",
              "3                         C508                                     85003.0   \n",
              "4                          NaN                                         NaN   \n",
              "\n",
              "  Estadio Clínico   Grupo de Estadio Clínico Classificação TNM Clínico - T  \\\n",
              "0               NaN                      NaN                           NaN   \n",
              "1               IIA                       II                             2   \n",
              "2               NaN                      NaN                           NaN   \n",
              "3              IIIA                      III                             3   \n",
              "4               NaN                      NaN                           NaN   \n",
              "\n",
              "   ... Local de Recidiva a  distancia/ metastase #2 - CID-O - Topografia  \\\n",
              "0  ...                                                NaN                  \n",
              "1  ...                                                NaN                  \n",
              "2  ...                                                NaN                  \n",
              "3  ...                                                NaN                  \n",
              "4  ...                                                NaN                  \n",
              "\n",
              "  Local de Recidiva a  distancia/ metastase #3 - CID-O - Topografia  \\\n",
              "0                                                NaN                  \n",
              "1                                                NaN                  \n",
              "2                                                NaN                  \n",
              "3                                                NaN                  \n",
              "4                                                NaN                  \n",
              "\n",
              "  Local de Recidiva a  distancia/ metastase #4 - CID-O - Topografia  \\\n",
              "0                                                NaN                  \n",
              "1                                                NaN                  \n",
              "2                                                NaN                  \n",
              "3                                                NaN                  \n",
              "4                                                NaN                  \n",
              "\n",
              "  Descrição da Morfologia de acordo com o CID-O  (CID-O - 3ª edição)  \\\n",
              "0                                                NaN                   \n",
              "1                   CARCINOMA DUCTAL INFILTRANTE SOE                   \n",
              "2                                                NaN                   \n",
              "3                   CARCINOMA DUCTAL INFILTRANTE SOE                   \n",
              "4                                                NaN                   \n",
              "\n",
              "             Descrição da Topografia  Classificação TNM Patológico - N  \\\n",
              "0                                 NaN                              NaN   \n",
              "1  MAMA QUADRANTE SUPERIOR EXTERNO DA                              NaN   \n",
              "2                                 NaN                              NaN   \n",
              "3            MAMA LESAO SOBREPOSTA DA                              NaN   \n",
              "4                                 NaN                              NaN   \n",
              "\n",
              "  Classificação TNM Patológico - T Com recidiva à distância  \\\n",
              "0                              NaN                      NaN   \n",
              "1                              NaN                      Não   \n",
              "2                              NaN                      NaN   \n",
              "3                              NaN                      Não   \n",
              "4                              NaN                      NaN   \n",
              "\n",
              "   Com recidiva regional Com recidiva local  \n",
              "0                    NaN                NaN  \n",
              "1                    Não                Não  \n",
              "2                    NaN                NaN  \n",
              "3                    Sim                Sim  \n",
              "4                    NaN                NaN  \n",
              "\n",
              "[5 rows x 33 columns]"
            ],
            "text/html": [
              "\n",
              "  <div id=\"df-4133d21f-fb3b-4b7d-88c5-5388cd3842b3\">\n",
              "    <div class=\"colab-df-container\">\n",
              "      <div>\n",
              "<style scoped>\n",
              "    .dataframe tbody tr th:only-of-type {\n",
              "        vertical-align: middle;\n",
              "    }\n",
              "\n",
              "    .dataframe tbody tr th {\n",
              "        vertical-align: top;\n",
              "    }\n",
              "\n",
              "    .dataframe thead th {\n",
              "        text-align: right;\n",
              "    }\n",
              "</style>\n",
              "<table border=\"1\" class=\"dataframe\">\n",
              "  <thead>\n",
              "    <tr style=\"text-align: right;\">\n",
              "      <th></th>\n",
              "      <th>Record ID</th>\n",
              "      <th>Repeat Instrument</th>\n",
              "      <th>Repeat Instance</th>\n",
              "      <th>Data da primeira consulta institucional [dt_pci]</th>\n",
              "      <th>Data do diagnóstico</th>\n",
              "      <th>Código da Topografia (CID-O)</th>\n",
              "      <th>Código da Morfologia de acordo com o CID-O</th>\n",
              "      <th>Estadio Clínico</th>\n",
              "      <th>Grupo de Estadio Clínico</th>\n",
              "      <th>Classificação TNM Clínico - T</th>\n",
              "      <th>...</th>\n",
              "      <th>Local de Recidiva a  distancia/ metastase #2 - CID-O - Topografia</th>\n",
              "      <th>Local de Recidiva a  distancia/ metastase #3 - CID-O - Topografia</th>\n",
              "      <th>Local de Recidiva a  distancia/ metastase #4 - CID-O - Topografia</th>\n",
              "      <th>Descrição da Morfologia de acordo com o CID-O  (CID-O - 3ª edição)</th>\n",
              "      <th>Descrição da Topografia</th>\n",
              "      <th>Classificação TNM Patológico - N</th>\n",
              "      <th>Classificação TNM Patológico - T</th>\n",
              "      <th>Com recidiva à distância</th>\n",
              "      <th>Com recidiva regional</th>\n",
              "      <th>Com recidiva local</th>\n",
              "    </tr>\n",
              "  </thead>\n",
              "  <tbody>\n",
              "    <tr>\n",
              "      <th>0</th>\n",
              "      <td>302</td>\n",
              "      <td>NaN</td>\n",
              "      <td>NaN</td>\n",
              "      <td>NaN</td>\n",
              "      <td>NaN</td>\n",
              "      <td>NaN</td>\n",
              "      <td>NaN</td>\n",
              "      <td>NaN</td>\n",
              "      <td>NaN</td>\n",
              "      <td>NaN</td>\n",
              "      <td>...</td>\n",
              "      <td>NaN</td>\n",
              "      <td>NaN</td>\n",
              "      <td>NaN</td>\n",
              "      <td>NaN</td>\n",
              "      <td>NaN</td>\n",
              "      <td>NaN</td>\n",
              "      <td>NaN</td>\n",
              "      <td>NaN</td>\n",
              "      <td>NaN</td>\n",
              "      <td>NaN</td>\n",
              "    </tr>\n",
              "    <tr>\n",
              "      <th>1</th>\n",
              "      <td>302</td>\n",
              "      <td>Registro De Tumores</td>\n",
              "      <td>1.0</td>\n",
              "      <td>2008-03-22</td>\n",
              "      <td>2008-03-23</td>\n",
              "      <td>C504</td>\n",
              "      <td>85003.0</td>\n",
              "      <td>IIA</td>\n",
              "      <td>II</td>\n",
              "      <td>2</td>\n",
              "      <td>...</td>\n",
              "      <td>NaN</td>\n",
              "      <td>NaN</td>\n",
              "      <td>NaN</td>\n",
              "      <td>CARCINOMA DUCTAL INFILTRANTE SOE</td>\n",
              "      <td>MAMA QUADRANTE SUPERIOR EXTERNO DA</td>\n",
              "      <td>NaN</td>\n",
              "      <td>NaN</td>\n",
              "      <td>Não</td>\n",
              "      <td>Não</td>\n",
              "      <td>Não</td>\n",
              "    </tr>\n",
              "    <tr>\n",
              "      <th>2</th>\n",
              "      <td>710</td>\n",
              "      <td>NaN</td>\n",
              "      <td>NaN</td>\n",
              "      <td>NaN</td>\n",
              "      <td>NaN</td>\n",
              "      <td>NaN</td>\n",
              "      <td>NaN</td>\n",
              "      <td>NaN</td>\n",
              "      <td>NaN</td>\n",
              "      <td>NaN</td>\n",
              "      <td>...</td>\n",
              "      <td>NaN</td>\n",
              "      <td>NaN</td>\n",
              "      <td>NaN</td>\n",
              "      <td>NaN</td>\n",
              "      <td>NaN</td>\n",
              "      <td>NaN</td>\n",
              "      <td>NaN</td>\n",
              "      <td>NaN</td>\n",
              "      <td>NaN</td>\n",
              "      <td>NaN</td>\n",
              "    </tr>\n",
              "    <tr>\n",
              "      <th>3</th>\n",
              "      <td>710</td>\n",
              "      <td>Registro De Tumores</td>\n",
              "      <td>1.0</td>\n",
              "      <td>2006-11-11</td>\n",
              "      <td>2007-11-11</td>\n",
              "      <td>C508</td>\n",
              "      <td>85003.0</td>\n",
              "      <td>IIIA</td>\n",
              "      <td>III</td>\n",
              "      <td>3</td>\n",
              "      <td>...</td>\n",
              "      <td>NaN</td>\n",
              "      <td>NaN</td>\n",
              "      <td>NaN</td>\n",
              "      <td>CARCINOMA DUCTAL INFILTRANTE SOE</td>\n",
              "      <td>MAMA LESAO SOBREPOSTA DA</td>\n",
              "      <td>NaN</td>\n",
              "      <td>NaN</td>\n",
              "      <td>Não</td>\n",
              "      <td>Sim</td>\n",
              "      <td>Sim</td>\n",
              "    </tr>\n",
              "    <tr>\n",
              "      <th>4</th>\n",
              "      <td>752</td>\n",
              "      <td>NaN</td>\n",
              "      <td>NaN</td>\n",
              "      <td>NaN</td>\n",
              "      <td>NaN</td>\n",
              "      <td>NaN</td>\n",
              "      <td>NaN</td>\n",
              "      <td>NaN</td>\n",
              "      <td>NaN</td>\n",
              "      <td>NaN</td>\n",
              "      <td>...</td>\n",
              "      <td>NaN</td>\n",
              "      <td>NaN</td>\n",
              "      <td>NaN</td>\n",
              "      <td>NaN</td>\n",
              "      <td>NaN</td>\n",
              "      <td>NaN</td>\n",
              "      <td>NaN</td>\n",
              "      <td>NaN</td>\n",
              "      <td>NaN</td>\n",
              "      <td>NaN</td>\n",
              "    </tr>\n",
              "  </tbody>\n",
              "</table>\n",
              "<p>5 rows × 33 columns</p>\n",
              "</div>\n",
              "      <button class=\"colab-df-convert\" onclick=\"convertToInteractive('df-4133d21f-fb3b-4b7d-88c5-5388cd3842b3')\"\n",
              "              title=\"Convert this dataframe to an interactive table.\"\n",
              "              style=\"display:none;\">\n",
              "        \n",
              "  <svg xmlns=\"http://www.w3.org/2000/svg\" height=\"24px\"viewBox=\"0 0 24 24\"\n",
              "       width=\"24px\">\n",
              "    <path d=\"M0 0h24v24H0V0z\" fill=\"none\"/>\n",
              "    <path d=\"M18.56 5.44l.94 2.06.94-2.06 2.06-.94-2.06-.94-.94-2.06-.94 2.06-2.06.94zm-11 1L8.5 8.5l.94-2.06 2.06-.94-2.06-.94L8.5 2.5l-.94 2.06-2.06.94zm10 10l.94 2.06.94-2.06 2.06-.94-2.06-.94-.94-2.06-.94 2.06-2.06.94z\"/><path d=\"M17.41 7.96l-1.37-1.37c-.4-.4-.92-.59-1.43-.59-.52 0-1.04.2-1.43.59L10.3 9.45l-7.72 7.72c-.78.78-.78 2.05 0 2.83L4 21.41c.39.39.9.59 1.41.59.51 0 1.02-.2 1.41-.59l7.78-7.78 2.81-2.81c.8-.78.8-2.07 0-2.86zM5.41 20L4 18.59l7.72-7.72 1.47 1.35L5.41 20z\"/>\n",
              "  </svg>\n",
              "      </button>\n",
              "      \n",
              "  <style>\n",
              "    .colab-df-container {\n",
              "      display:flex;\n",
              "      flex-wrap:wrap;\n",
              "      gap: 12px;\n",
              "    }\n",
              "\n",
              "    .colab-df-convert {\n",
              "      background-color: #E8F0FE;\n",
              "      border: none;\n",
              "      border-radius: 50%;\n",
              "      cursor: pointer;\n",
              "      display: none;\n",
              "      fill: #1967D2;\n",
              "      height: 32px;\n",
              "      padding: 0 0 0 0;\n",
              "      width: 32px;\n",
              "    }\n",
              "\n",
              "    .colab-df-convert:hover {\n",
              "      background-color: #E2EBFA;\n",
              "      box-shadow: 0px 1px 2px rgba(60, 64, 67, 0.3), 0px 1px 3px 1px rgba(60, 64, 67, 0.15);\n",
              "      fill: #174EA6;\n",
              "    }\n",
              "\n",
              "    [theme=dark] .colab-df-convert {\n",
              "      background-color: #3B4455;\n",
              "      fill: #D2E3FC;\n",
              "    }\n",
              "\n",
              "    [theme=dark] .colab-df-convert:hover {\n",
              "      background-color: #434B5C;\n",
              "      box-shadow: 0px 1px 3px 1px rgba(0, 0, 0, 0.15);\n",
              "      filter: drop-shadow(0px 1px 2px rgba(0, 0, 0, 0.3));\n",
              "      fill: #FFFFFF;\n",
              "    }\n",
              "  </style>\n",
              "\n",
              "      <script>\n",
              "        const buttonEl =\n",
              "          document.querySelector('#df-4133d21f-fb3b-4b7d-88c5-5388cd3842b3 button.colab-df-convert');\n",
              "        buttonEl.style.display =\n",
              "          google.colab.kernel.accessAllowed ? 'block' : 'none';\n",
              "\n",
              "        async function convertToInteractive(key) {\n",
              "          const element = document.querySelector('#df-4133d21f-fb3b-4b7d-88c5-5388cd3842b3');\n",
              "          const dataTable =\n",
              "            await google.colab.kernel.invokeFunction('convertToInteractive',\n",
              "                                                     [key], {});\n",
              "          if (!dataTable) return;\n",
              "\n",
              "          const docLinkHtml = 'Like what you see? Visit the ' +\n",
              "            '<a target=\"_blank\" href=https://colab.research.google.com/notebooks/data_table.ipynb>data table notebook</a>'\n",
              "            + ' to learn more about interactive tables.';\n",
              "          element.innerHTML = '';\n",
              "          dataTable['output_type'] = 'display_data';\n",
              "          await google.colab.output.renderOutput(dataTable, element);\n",
              "          const docLink = document.createElement('div');\n",
              "          docLink.innerHTML = docLinkHtml;\n",
              "          element.appendChild(docLink);\n",
              "        }\n",
              "      </script>\n",
              "    </div>\n",
              "  </div>\n",
              "  "
            ]
          },
          "metadata": {},
          "execution_count": 454
        }
      ]
    },
    {
      "cell_type": "code",
      "source": [
        "df_registro_tumor.info()"
      ],
      "metadata": {
        "colab": {
          "base_uri": "https://localhost:8080/"
        },
        "id": "3zhDVk0xyXoq",
        "outputId": "bdb054ca-3f15-46d5-bf90-a0aaaac82edb"
      },
      "execution_count": 455,
      "outputs": [
        {
          "output_type": "stream",
          "name": "stdout",
          "text": [
            "<class 'pandas.core.frame.DataFrame'>\n",
            "RangeIndex: 8949 entries, 0 to 8948\n",
            "Data columns (total 33 columns):\n",
            " #   Column                                                              Non-Null Count  Dtype  \n",
            "---  ------                                                              --------------  -----  \n",
            " 0   Record ID                                                           8949 non-null   int64  \n",
            " 1   Repeat Instrument                                                   4677 non-null   object \n",
            " 2   Repeat Instance                                                     4677 non-null   float64\n",
            " 3   Data da primeira consulta institucional [dt_pci]                    4677 non-null   object \n",
            " 4   Data do diagnóstico                                                 4677 non-null   object \n",
            " 5   Código da Topografia (CID-O)                                        4677 non-null   object \n",
            " 6   Código da Morfologia de acordo com o CID-O                          4677 non-null   float64\n",
            " 7   Estadio Clínico                                                     4677 non-null   object \n",
            " 8   Grupo de Estadio Clínico                                            4415 non-null   object \n",
            " 9   Classificação TNM Clínico - T                                       4677 non-null   object \n",
            " 10  Classificação TNM Clínico - N                                       4677 non-null   object \n",
            " 11  Classificação TNM Clínico - M                                       4677 non-null   object \n",
            " 12  Metastase ao DIAGNOSTICO - CID-O #1                                 713 non-null    object \n",
            " 13  Metastase ao DIAGNOSTICO - CID-O #2                                 389 non-null    object \n",
            " 14  Metastase ao DIAGNOSTICO - CID-O #3                                 181 non-null    object \n",
            " 15  Metastase ao DIAGNOSTICO - CID-O #4                                 69 non-null     object \n",
            " 16  Data do tratamento                                                  4621 non-null   object \n",
            " 17  Combinação dos Tratamentos Realizados no Hospital                   4677 non-null   object \n",
            " 18  Ano do diagnóstico                                                  4677 non-null   float64\n",
            " 19  Lateralidade do tumor                                               4677 non-null   object \n",
            " 20  Data de Recidiva                                                    1299 non-null   object \n",
            " 21  Tempo desde o diagnóstico até a primeira recidiva                   1299 non-null   float64\n",
            " 22  Local de Recidiva a  distancia/ metastase #1 - CID-O - Topografia   1032 non-null   object \n",
            " 23  Local de Recidiva a  distancia/ metastase #2 - CID-O - Topografia   554 non-null    object \n",
            " 24  Local de Recidiva a  distancia/ metastase #3 - CID-O - Topografia   264 non-null    object \n",
            " 25  Local de Recidiva a  distancia/ metastase #4 - CID-O - Topografia   112 non-null    object \n",
            " 26  Descrição da Morfologia de acordo com o CID-O  (CID-O - 3ª edição)  4677 non-null   object \n",
            " 27  Descrição da Topografia                                             4677 non-null   object \n",
            " 28  Classificação TNM Patológico - N                                    192 non-null    object \n",
            " 29  Classificação TNM Patológico - T                                    193 non-null    object \n",
            " 30  Com recidiva à distância                                            4677 non-null   object \n",
            " 31  Com recidiva regional                                               4677 non-null   object \n",
            " 32  Com recidiva local                                                  4677 non-null   object \n",
            "dtypes: float64(4), int64(1), object(28)\n",
            "memory usage: 2.3+ MB\n"
          ]
        }
      ]
    },
    {
      "cell_type": "code",
      "source": [
        "df_registro_tumor.shape"
      ],
      "metadata": {
        "colab": {
          "base_uri": "https://localhost:8080/"
        },
        "id": "B95f8VFwydnM",
        "outputId": "cce08ffd-844c-4bfb-dfee-77e9a5c98732"
      },
      "execution_count": 456,
      "outputs": [
        {
          "output_type": "execute_result",
          "data": {
            "text/plain": [
              "(8949, 33)"
            ]
          },
          "metadata": {},
          "execution_count": 456
        }
      ]
    },
    {
      "cell_type": "code",
      "source": [
        "df_registro_tumor.describe()"
      ],
      "metadata": {
        "colab": {
          "base_uri": "https://localhost:8080/",
          "height": 0
        },
        "id": "aee0n61myZXP",
        "outputId": "33360cae-10f9-42e5-f0ce-02ac65ea5082"
      },
      "execution_count": 457,
      "outputs": [
        {
          "output_type": "execute_result",
          "data": {
            "text/plain": [
              "       Record ID  Repeat Instance  Código da Morfologia de acordo com o CID-O  \\\n",
              "count    8949.00          4677.00                                     4677.00   \n",
              "mean    48698.29             1.10                                    84865.36   \n",
              "std     20747.81             0.38                                     1115.23   \n",
              "min       302.00             1.00                                    80103.00   \n",
              "25%     30923.00             1.00                                    85003.00   \n",
              "50%     53478.00             1.00                                    85003.00   \n",
              "75%     66977.00             1.00                                    85003.00   \n",
              "max     82240.00             8.00                                    99873.00   \n",
              "\n",
              "       Ano do diagnóstico  Tempo desde o diagnóstico até a primeira recidiva    \n",
              "count             4677.00                                            1299.00    \n",
              "mean              2014.52                                             633.64    \n",
              "std                  2.72                                             535.39    \n",
              "min               2008.00                                               0.00    \n",
              "25%               2012.00                                             254.00    \n",
              "50%               2015.00                                             489.00    \n",
              "75%               2017.00                                             867.50    \n",
              "max               2020.00                                            3462.00    "
            ],
            "text/html": [
              "\n",
              "  <div id=\"df-da23e414-ff62-4181-8c87-6d8a7850ab2c\">\n",
              "    <div class=\"colab-df-container\">\n",
              "      <div>\n",
              "<style scoped>\n",
              "    .dataframe tbody tr th:only-of-type {\n",
              "        vertical-align: middle;\n",
              "    }\n",
              "\n",
              "    .dataframe tbody tr th {\n",
              "        vertical-align: top;\n",
              "    }\n",
              "\n",
              "    .dataframe thead th {\n",
              "        text-align: right;\n",
              "    }\n",
              "</style>\n",
              "<table border=\"1\" class=\"dataframe\">\n",
              "  <thead>\n",
              "    <tr style=\"text-align: right;\">\n",
              "      <th></th>\n",
              "      <th>Record ID</th>\n",
              "      <th>Repeat Instance</th>\n",
              "      <th>Código da Morfologia de acordo com o CID-O</th>\n",
              "      <th>Ano do diagnóstico</th>\n",
              "      <th>Tempo desde o diagnóstico até a primeira recidiva</th>\n",
              "    </tr>\n",
              "  </thead>\n",
              "  <tbody>\n",
              "    <tr>\n",
              "      <th>count</th>\n",
              "      <td>8949.00</td>\n",
              "      <td>4677.00</td>\n",
              "      <td>4677.00</td>\n",
              "      <td>4677.00</td>\n",
              "      <td>1299.00</td>\n",
              "    </tr>\n",
              "    <tr>\n",
              "      <th>mean</th>\n",
              "      <td>48698.29</td>\n",
              "      <td>1.10</td>\n",
              "      <td>84865.36</td>\n",
              "      <td>2014.52</td>\n",
              "      <td>633.64</td>\n",
              "    </tr>\n",
              "    <tr>\n",
              "      <th>std</th>\n",
              "      <td>20747.81</td>\n",
              "      <td>0.38</td>\n",
              "      <td>1115.23</td>\n",
              "      <td>2.72</td>\n",
              "      <td>535.39</td>\n",
              "    </tr>\n",
              "    <tr>\n",
              "      <th>min</th>\n",
              "      <td>302.00</td>\n",
              "      <td>1.00</td>\n",
              "      <td>80103.00</td>\n",
              "      <td>2008.00</td>\n",
              "      <td>0.00</td>\n",
              "    </tr>\n",
              "    <tr>\n",
              "      <th>25%</th>\n",
              "      <td>30923.00</td>\n",
              "      <td>1.00</td>\n",
              "      <td>85003.00</td>\n",
              "      <td>2012.00</td>\n",
              "      <td>254.00</td>\n",
              "    </tr>\n",
              "    <tr>\n",
              "      <th>50%</th>\n",
              "      <td>53478.00</td>\n",
              "      <td>1.00</td>\n",
              "      <td>85003.00</td>\n",
              "      <td>2015.00</td>\n",
              "      <td>489.00</td>\n",
              "    </tr>\n",
              "    <tr>\n",
              "      <th>75%</th>\n",
              "      <td>66977.00</td>\n",
              "      <td>1.00</td>\n",
              "      <td>85003.00</td>\n",
              "      <td>2017.00</td>\n",
              "      <td>867.50</td>\n",
              "    </tr>\n",
              "    <tr>\n",
              "      <th>max</th>\n",
              "      <td>82240.00</td>\n",
              "      <td>8.00</td>\n",
              "      <td>99873.00</td>\n",
              "      <td>2020.00</td>\n",
              "      <td>3462.00</td>\n",
              "    </tr>\n",
              "  </tbody>\n",
              "</table>\n",
              "</div>\n",
              "      <button class=\"colab-df-convert\" onclick=\"convertToInteractive('df-da23e414-ff62-4181-8c87-6d8a7850ab2c')\"\n",
              "              title=\"Convert this dataframe to an interactive table.\"\n",
              "              style=\"display:none;\">\n",
              "        \n",
              "  <svg xmlns=\"http://www.w3.org/2000/svg\" height=\"24px\"viewBox=\"0 0 24 24\"\n",
              "       width=\"24px\">\n",
              "    <path d=\"M0 0h24v24H0V0z\" fill=\"none\"/>\n",
              "    <path d=\"M18.56 5.44l.94 2.06.94-2.06 2.06-.94-2.06-.94-.94-2.06-.94 2.06-2.06.94zm-11 1L8.5 8.5l.94-2.06 2.06-.94-2.06-.94L8.5 2.5l-.94 2.06-2.06.94zm10 10l.94 2.06.94-2.06 2.06-.94-2.06-.94-.94-2.06-.94 2.06-2.06.94z\"/><path d=\"M17.41 7.96l-1.37-1.37c-.4-.4-.92-.59-1.43-.59-.52 0-1.04.2-1.43.59L10.3 9.45l-7.72 7.72c-.78.78-.78 2.05 0 2.83L4 21.41c.39.39.9.59 1.41.59.51 0 1.02-.2 1.41-.59l7.78-7.78 2.81-2.81c.8-.78.8-2.07 0-2.86zM5.41 20L4 18.59l7.72-7.72 1.47 1.35L5.41 20z\"/>\n",
              "  </svg>\n",
              "      </button>\n",
              "      \n",
              "  <style>\n",
              "    .colab-df-container {\n",
              "      display:flex;\n",
              "      flex-wrap:wrap;\n",
              "      gap: 12px;\n",
              "    }\n",
              "\n",
              "    .colab-df-convert {\n",
              "      background-color: #E8F0FE;\n",
              "      border: none;\n",
              "      border-radius: 50%;\n",
              "      cursor: pointer;\n",
              "      display: none;\n",
              "      fill: #1967D2;\n",
              "      height: 32px;\n",
              "      padding: 0 0 0 0;\n",
              "      width: 32px;\n",
              "    }\n",
              "\n",
              "    .colab-df-convert:hover {\n",
              "      background-color: #E2EBFA;\n",
              "      box-shadow: 0px 1px 2px rgba(60, 64, 67, 0.3), 0px 1px 3px 1px rgba(60, 64, 67, 0.15);\n",
              "      fill: #174EA6;\n",
              "    }\n",
              "\n",
              "    [theme=dark] .colab-df-convert {\n",
              "      background-color: #3B4455;\n",
              "      fill: #D2E3FC;\n",
              "    }\n",
              "\n",
              "    [theme=dark] .colab-df-convert:hover {\n",
              "      background-color: #434B5C;\n",
              "      box-shadow: 0px 1px 3px 1px rgba(0, 0, 0, 0.15);\n",
              "      filter: drop-shadow(0px 1px 2px rgba(0, 0, 0, 0.3));\n",
              "      fill: #FFFFFF;\n",
              "    }\n",
              "  </style>\n",
              "\n",
              "      <script>\n",
              "        const buttonEl =\n",
              "          document.querySelector('#df-da23e414-ff62-4181-8c87-6d8a7850ab2c button.colab-df-convert');\n",
              "        buttonEl.style.display =\n",
              "          google.colab.kernel.accessAllowed ? 'block' : 'none';\n",
              "\n",
              "        async function convertToInteractive(key) {\n",
              "          const element = document.querySelector('#df-da23e414-ff62-4181-8c87-6d8a7850ab2c');\n",
              "          const dataTable =\n",
              "            await google.colab.kernel.invokeFunction('convertToInteractive',\n",
              "                                                     [key], {});\n",
              "          if (!dataTable) return;\n",
              "\n",
              "          const docLinkHtml = 'Like what you see? Visit the ' +\n",
              "            '<a target=\"_blank\" href=https://colab.research.google.com/notebooks/data_table.ipynb>data table notebook</a>'\n",
              "            + ' to learn more about interactive tables.';\n",
              "          element.innerHTML = '';\n",
              "          dataTable['output_type'] = 'display_data';\n",
              "          await google.colab.output.renderOutput(dataTable, element);\n",
              "          const docLink = document.createElement('div');\n",
              "          docLink.innerHTML = docLinkHtml;\n",
              "          element.appendChild(docLink);\n",
              "        }\n",
              "      </script>\n",
              "    </div>\n",
              "  </div>\n",
              "  "
            ]
          },
          "metadata": {},
          "execution_count": 457
        }
      ]
    },
    {
      "cell_type": "markdown",
      "source": [
        "### Limpeza dos Dados"
      ],
      "metadata": {
        "id": "0vdPI5CtyjBt"
      }
    },
    {
      "cell_type": "code",
      "source": [
        "df_registro_tumor = df_registro_tumor.rename(columns={df_registro_tumor.columns[22]: 'local_de_recidiva_a_distancia_metastase_1_cid_o_topografia'})\n",
        "df_registro_tumor = df_registro_tumor.rename(columns={df_registro_tumor.columns[23]: 'local_de_recidiva_a_distancia_metastase_2_cid_o_topografia'})\n",
        "df_registro_tumor = df_registro_tumor.rename(columns={df_registro_tumor.columns[24]: 'local_de_recidiva_a_distancia_metastase_3_cid_o_topografia'})\n",
        "df_registro_tumor = df_registro_tumor.rename(columns={df_registro_tumor.columns[25]: 'local_de_recidiva_a_distancia_metastase_4_cid_o_topografia'})\n",
        "\n",
        "df_registro_tumor = clean_column_names(df_registro_tumor)\n",
        "df_registro_tumor.info()"
      ],
      "metadata": {
        "colab": {
          "base_uri": "https://localhost:8080/"
        },
        "id": "eBAMsPibyeGo",
        "outputId": "311b5d69-0e2c-4d5f-c337-3a6fb17a83cb"
      },
      "execution_count": 458,
      "outputs": [
        {
          "output_type": "stream",
          "name": "stdout",
          "text": [
            "<class 'pandas.core.frame.DataFrame'>\n",
            "RangeIndex: 8949 entries, 0 to 8948\n",
            "Data columns (total 33 columns):\n",
            " #   Column                                                        Non-Null Count  Dtype  \n",
            "---  ------                                                        --------------  -----  \n",
            " 0   record_id                                                     8949 non-null   int64  \n",
            " 1   repeat_instrument                                             4677 non-null   object \n",
            " 2   repeat_instance                                               4677 non-null   float64\n",
            " 3   data_da_primeira_consulta_institucional_dt_pci                4677 non-null   object \n",
            " 4   data_do_diagnostico                                           4677 non-null   object \n",
            " 5   codigo_da_topografia_cid_o                                    4677 non-null   object \n",
            " 6   codigo_da_morfologia_de_acordo_com_o_cid_o                    4677 non-null   float64\n",
            " 7   estadio_clinico                                               4677 non-null   object \n",
            " 8   grupo_de_estadio_clinico                                      4415 non-null   object \n",
            " 9   classificacao_tnm_clinico_t                                   4677 non-null   object \n",
            " 10  classificacao_tnm_clinico_n                                   4677 non-null   object \n",
            " 11  classificacao_tnm_clinico_m                                   4677 non-null   object \n",
            " 12  metastase_ao_diagnostico_cid_o_1                              713 non-null    object \n",
            " 13  metastase_ao_diagnostico_cid_o_2                              389 non-null    object \n",
            " 14  metastase_ao_diagnostico_cid_o_3                              181 non-null    object \n",
            " 15  metastase_ao_diagnostico_cid_o_4                              69 non-null     object \n",
            " 16  data_do_tratamento                                            4621 non-null   object \n",
            " 17  combinacao_dos_tratamentos_realizados_no_hospital             4677 non-null   object \n",
            " 18  ano_do_diagnostico                                            4677 non-null   float64\n",
            " 19  lateralidade_do_tumor                                         4677 non-null   object \n",
            " 20  data_de_recidiva                                              1299 non-null   object \n",
            " 21  tempo_desde_o_diagnostico_ate_a_primeira_recidiva             1299 non-null   float64\n",
            " 22  local_de_recidiva_a_distancia_metastase_1_cid_o_topografia    1032 non-null   object \n",
            " 23  local_de_recidiva_a_distancia_metastase_2_cid_o_topografia    554 non-null    object \n",
            " 24  local_de_recidiva_a_distancia_metastase_3_cid_o_topografia    264 non-null    object \n",
            " 25  local_de_recidiva_a_distancia_metastase_4_cid_o_topografia    112 non-null    object \n",
            " 26  descricao_da_morfologia_de_acordo_com_o_cid_o_cid_o_3_edicao  4677 non-null   object \n",
            " 27  descricao_da_topografia                                       4677 non-null   object \n",
            " 28  classificacao_tnm_patologico_n                                192 non-null    object \n",
            " 29  classificacao_tnm_patologico_t                                193 non-null    object \n",
            " 30  com_recidiva_a_distancia                                      4677 non-null   object \n",
            " 31  com_recidiva_regional                                         4677 non-null   object \n",
            " 32  com_recidiva_local                                            4677 non-null   object \n",
            "dtypes: float64(4), int64(1), object(28)\n",
            "memory usage: 2.3+ MB\n"
          ]
        }
      ]
    },
    {
      "cell_type": "markdown",
      "source": [
        "#### Removendo linhas vazias"
      ],
      "metadata": {
        "id": "yHPlnmcQyt4X"
      }
    },
    {
      "cell_type": "code",
      "source": [
        "def remove_nan_lines(df):\n",
        "  return df.dropna(subset=df.columns[1:], how='all')\n",
        "\n",
        "df_registro_tumor = remove_nan_lines(df_registro_tumor)\n",
        "\n",
        "df_registro_tumor.info()"
      ],
      "metadata": {
        "colab": {
          "base_uri": "https://localhost:8080/"
        },
        "id": "e8_LL7zoym9s",
        "outputId": "9b00d0a5-dc48-4f66-d91e-a58d78fda3db"
      },
      "execution_count": 459,
      "outputs": [
        {
          "output_type": "stream",
          "name": "stdout",
          "text": [
            "<class 'pandas.core.frame.DataFrame'>\n",
            "Int64Index: 4677 entries, 1 to 8948\n",
            "Data columns (total 33 columns):\n",
            " #   Column                                                        Non-Null Count  Dtype  \n",
            "---  ------                                                        --------------  -----  \n",
            " 0   record_id                                                     4677 non-null   int64  \n",
            " 1   repeat_instrument                                             4677 non-null   object \n",
            " 2   repeat_instance                                               4677 non-null   float64\n",
            " 3   data_da_primeira_consulta_institucional_dt_pci                4677 non-null   object \n",
            " 4   data_do_diagnostico                                           4677 non-null   object \n",
            " 5   codigo_da_topografia_cid_o                                    4677 non-null   object \n",
            " 6   codigo_da_morfologia_de_acordo_com_o_cid_o                    4677 non-null   float64\n",
            " 7   estadio_clinico                                               4677 non-null   object \n",
            " 8   grupo_de_estadio_clinico                                      4415 non-null   object \n",
            " 9   classificacao_tnm_clinico_t                                   4677 non-null   object \n",
            " 10  classificacao_tnm_clinico_n                                   4677 non-null   object \n",
            " 11  classificacao_tnm_clinico_m                                   4677 non-null   object \n",
            " 12  metastase_ao_diagnostico_cid_o_1                              713 non-null    object \n",
            " 13  metastase_ao_diagnostico_cid_o_2                              389 non-null    object \n",
            " 14  metastase_ao_diagnostico_cid_o_3                              181 non-null    object \n",
            " 15  metastase_ao_diagnostico_cid_o_4                              69 non-null     object \n",
            " 16  data_do_tratamento                                            4621 non-null   object \n",
            " 17  combinacao_dos_tratamentos_realizados_no_hospital             4677 non-null   object \n",
            " 18  ano_do_diagnostico                                            4677 non-null   float64\n",
            " 19  lateralidade_do_tumor                                         4677 non-null   object \n",
            " 20  data_de_recidiva                                              1299 non-null   object \n",
            " 21  tempo_desde_o_diagnostico_ate_a_primeira_recidiva             1299 non-null   float64\n",
            " 22  local_de_recidiva_a_distancia_metastase_1_cid_o_topografia    1032 non-null   object \n",
            " 23  local_de_recidiva_a_distancia_metastase_2_cid_o_topografia    554 non-null    object \n",
            " 24  local_de_recidiva_a_distancia_metastase_3_cid_o_topografia    264 non-null    object \n",
            " 25  local_de_recidiva_a_distancia_metastase_4_cid_o_topografia    112 non-null    object \n",
            " 26  descricao_da_morfologia_de_acordo_com_o_cid_o_cid_o_3_edicao  4677 non-null   object \n",
            " 27  descricao_da_topografia                                       4677 non-null   object \n",
            " 28  classificacao_tnm_patologico_n                                192 non-null    object \n",
            " 29  classificacao_tnm_patologico_t                                193 non-null    object \n",
            " 30  com_recidiva_a_distancia                                      4677 non-null   object \n",
            " 31  com_recidiva_regional                                         4677 non-null   object \n",
            " 32  com_recidiva_local                                            4677 non-null   object \n",
            "dtypes: float64(4), int64(1), object(28)\n",
            "memory usage: 1.2+ MB\n"
          ]
        }
      ]
    },
    {
      "cell_type": "markdown",
      "source": [
        "#### Adicionando Colunas para filtragem do tipo de cancer"
      ],
      "metadata": {
        "id": "Bea-fW1MyzlQ"
      }
    },
    {
      "cell_type": "code",
      "source": [
        "df_registro_tumor['cancer_mama'] = df_registro_tumor['descricao_da_topografia'].str.contains('MAMA')\n",
        "df_registro_tumor.info()"
      ],
      "metadata": {
        "colab": {
          "base_uri": "https://localhost:8080/"
        },
        "id": "47fuBIBzywQh",
        "outputId": "a15bb654-b214-4406-e19f-6fafaab58ed6"
      },
      "execution_count": 460,
      "outputs": [
        {
          "output_type": "stream",
          "name": "stdout",
          "text": [
            "<class 'pandas.core.frame.DataFrame'>\n",
            "Int64Index: 4677 entries, 1 to 8948\n",
            "Data columns (total 34 columns):\n",
            " #   Column                                                        Non-Null Count  Dtype  \n",
            "---  ------                                                        --------------  -----  \n",
            " 0   record_id                                                     4677 non-null   int64  \n",
            " 1   repeat_instrument                                             4677 non-null   object \n",
            " 2   repeat_instance                                               4677 non-null   float64\n",
            " 3   data_da_primeira_consulta_institucional_dt_pci                4677 non-null   object \n",
            " 4   data_do_diagnostico                                           4677 non-null   object \n",
            " 5   codigo_da_topografia_cid_o                                    4677 non-null   object \n",
            " 6   codigo_da_morfologia_de_acordo_com_o_cid_o                    4677 non-null   float64\n",
            " 7   estadio_clinico                                               4677 non-null   object \n",
            " 8   grupo_de_estadio_clinico                                      4415 non-null   object \n",
            " 9   classificacao_tnm_clinico_t                                   4677 non-null   object \n",
            " 10  classificacao_tnm_clinico_n                                   4677 non-null   object \n",
            " 11  classificacao_tnm_clinico_m                                   4677 non-null   object \n",
            " 12  metastase_ao_diagnostico_cid_o_1                              713 non-null    object \n",
            " 13  metastase_ao_diagnostico_cid_o_2                              389 non-null    object \n",
            " 14  metastase_ao_diagnostico_cid_o_3                              181 non-null    object \n",
            " 15  metastase_ao_diagnostico_cid_o_4                              69 non-null     object \n",
            " 16  data_do_tratamento                                            4621 non-null   object \n",
            " 17  combinacao_dos_tratamentos_realizados_no_hospital             4677 non-null   object \n",
            " 18  ano_do_diagnostico                                            4677 non-null   float64\n",
            " 19  lateralidade_do_tumor                                         4677 non-null   object \n",
            " 20  data_de_recidiva                                              1299 non-null   object \n",
            " 21  tempo_desde_o_diagnostico_ate_a_primeira_recidiva             1299 non-null   float64\n",
            " 22  local_de_recidiva_a_distancia_metastase_1_cid_o_topografia    1032 non-null   object \n",
            " 23  local_de_recidiva_a_distancia_metastase_2_cid_o_topografia    554 non-null    object \n",
            " 24  local_de_recidiva_a_distancia_metastase_3_cid_o_topografia    264 non-null    object \n",
            " 25  local_de_recidiva_a_distancia_metastase_4_cid_o_topografia    112 non-null    object \n",
            " 26  descricao_da_morfologia_de_acordo_com_o_cid_o_cid_o_3_edicao  4677 non-null   object \n",
            " 27  descricao_da_topografia                                       4677 non-null   object \n",
            " 28  classificacao_tnm_patologico_n                                192 non-null    object \n",
            " 29  classificacao_tnm_patologico_t                                193 non-null    object \n",
            " 30  com_recidiva_a_distancia                                      4677 non-null   object \n",
            " 31  com_recidiva_regional                                         4677 non-null   object \n",
            " 32  com_recidiva_local                                            4677 non-null   object \n",
            " 33  cancer_mama                                                   4677 non-null   bool   \n",
            "dtypes: bool(1), float64(4), int64(1), object(28)\n",
            "memory usage: 1.2+ MB\n"
          ]
        }
      ]
    },
    {
      "cell_type": "markdown",
      "source": [
        "#### Removendo colunas\n",
        "\n",
        "**repeat_instrument**: Todos os registros são iguais\n",
        "\n",
        "**ano_do_diagnostico** : Já possuimos uma coluna com a data completa de diagnóstico\n",
        "\n",
        "**codigo_da_morfologia_de_acordo_com_o_cid_o** e \n",
        "\n",
        "**codigo_da_topografia_cid_o**: Possuimos uma coluna com a descrição \n",
        "(nome) oq ajuda mais com a análise\n",
        "\n",
        "**grupo_de_estadio_clinico**: O estadio_clinico é uma relação de 1x1 ou seja, não precisamos dessa segunda informação"
      ],
      "metadata": {
        "id": "1h-GZltky7IK"
      }
    },
    {
      "cell_type": "code",
      "source": [
        "df_registro_tumor = df_registro_tumor.drop(columns=['repeat_instrument', \n",
        "                                                    'ano_do_diagnostico', \n",
        "                                                    'codigo_da_morfologia_de_acordo_com_o_cid_o', \n",
        "                                                    'codigo_da_topografia_cid_o', \n",
        "                                                    'grupo_de_estadio_clinico'])\n",
        "df_registro_tumor.info()"
      ],
      "metadata": {
        "colab": {
          "base_uri": "https://localhost:8080/"
        },
        "id": "kkCEqO0syzHB",
        "outputId": "3ff0da2a-a23f-4681-893a-bf4c37aa2a58"
      },
      "execution_count": 461,
      "outputs": [
        {
          "output_type": "stream",
          "name": "stdout",
          "text": [
            "<class 'pandas.core.frame.DataFrame'>\n",
            "Int64Index: 4677 entries, 1 to 8948\n",
            "Data columns (total 29 columns):\n",
            " #   Column                                                        Non-Null Count  Dtype  \n",
            "---  ------                                                        --------------  -----  \n",
            " 0   record_id                                                     4677 non-null   int64  \n",
            " 1   repeat_instance                                               4677 non-null   float64\n",
            " 2   data_da_primeira_consulta_institucional_dt_pci                4677 non-null   object \n",
            " 3   data_do_diagnostico                                           4677 non-null   object \n",
            " 4   estadio_clinico                                               4677 non-null   object \n",
            " 5   classificacao_tnm_clinico_t                                   4677 non-null   object \n",
            " 6   classificacao_tnm_clinico_n                                   4677 non-null   object \n",
            " 7   classificacao_tnm_clinico_m                                   4677 non-null   object \n",
            " 8   metastase_ao_diagnostico_cid_o_1                              713 non-null    object \n",
            " 9   metastase_ao_diagnostico_cid_o_2                              389 non-null    object \n",
            " 10  metastase_ao_diagnostico_cid_o_3                              181 non-null    object \n",
            " 11  metastase_ao_diagnostico_cid_o_4                              69 non-null     object \n",
            " 12  data_do_tratamento                                            4621 non-null   object \n",
            " 13  combinacao_dos_tratamentos_realizados_no_hospital             4677 non-null   object \n",
            " 14  lateralidade_do_tumor                                         4677 non-null   object \n",
            " 15  data_de_recidiva                                              1299 non-null   object \n",
            " 16  tempo_desde_o_diagnostico_ate_a_primeira_recidiva             1299 non-null   float64\n",
            " 17  local_de_recidiva_a_distancia_metastase_1_cid_o_topografia    1032 non-null   object \n",
            " 18  local_de_recidiva_a_distancia_metastase_2_cid_o_topografia    554 non-null    object \n",
            " 19  local_de_recidiva_a_distancia_metastase_3_cid_o_topografia    264 non-null    object \n",
            " 20  local_de_recidiva_a_distancia_metastase_4_cid_o_topografia    112 non-null    object \n",
            " 21  descricao_da_morfologia_de_acordo_com_o_cid_o_cid_o_3_edicao  4677 non-null   object \n",
            " 22  descricao_da_topografia                                       4677 non-null   object \n",
            " 23  classificacao_tnm_patologico_n                                192 non-null    object \n",
            " 24  classificacao_tnm_patologico_t                                193 non-null    object \n",
            " 25  com_recidiva_a_distancia                                      4677 non-null   object \n",
            " 26  com_recidiva_regional                                         4677 non-null   object \n",
            " 27  com_recidiva_local                                            4677 non-null   object \n",
            " 28  cancer_mama                                                   4677 non-null   bool   \n",
            "dtypes: bool(1), float64(2), int64(1), object(25)\n",
            "memory usage: 1.0+ MB\n"
          ]
        }
      ]
    },
    {
      "cell_type": "markdown",
      "source": [
        "#### Preenchedo Vazios (ou fazendo NaNs em infos falsas)"
      ],
      "metadata": {
        "id": "-L9BcTpEzMm_"
      }
    },
    {
      "cell_type": "code",
      "source": [
        "df_registro_tumor.loc[df_registro_tumor['estadio_clinico'] == 'X: não foi possível determinar', 'estadio_clinico'] = np.nan\n",
        "df_registro_tumor.loc[df_registro_tumor['classificacao_tnm_clinico_t'] == 'X - nao foi possivel determinar', 'classificacao_tnm_clinico_t'] = np.nan\n",
        "df_registro_tumor.loc[df_registro_tumor['classificacao_tnm_clinico_n'] == 'X - nao foi possivel determinar', 'classificacao_tnm_clinico_n'] = np.nan\n",
        "df_registro_tumor.loc[df_registro_tumor['classificacao_tnm_clinico_m'] == 'X - nao foi possivel determinar', 'classificacao_tnm_clinico_m'] = np.nan"
      ],
      "metadata": {
        "id": "aD2umLXRzC8R"
      },
      "execution_count": 462,
      "outputs": []
    },
    {
      "cell_type": "markdown",
      "source": [
        "#### Agrupando por paciente (record_id)"
      ],
      "metadata": {
        "id": "vW5_7NUWzTh_"
      }
    },
    {
      "cell_type": "code",
      "source": [
        "def normalize(data):\n",
        "  return pd.DataFrame({\n",
        "      'record_id': [data['record_id'].iloc[0]],\n",
        "      'registros_tumor': [data['record_id'].count()],\n",
        "      'data_da_primeira_consulta_institucional_dt_pci_inicial': [data['data_da_primeira_consulta_institucional_dt_pci'].iloc[0]],\n",
        "      'data_da_primeira_consulta_institucional_dt_pci_final': [data['data_da_primeira_consulta_institucional_dt_pci'].iloc[-1]], \n",
        "\n",
        "      'data_do_diagnostico_inicial': [data['data_do_diagnostico'].iloc[0]],\n",
        "      'data_do_diagnostico_final': [data['data_do_diagnostico'].iloc[-1]],\n",
        "\n",
        "      'estadio_clinico_inicial': [data['estadio_clinico'].iloc[0]],\n",
        "      'estadio_clinico_final': [data['estadio_clinico'].iloc[-1]],\n",
        "\n",
        "\n",
        "      'classificacao_tnm_clinico_t': [data['classificacao_tnm_clinico_t'].iloc[0]],\n",
        "      'classificacao_tnm_clinico_n': [data['classificacao_tnm_clinico_n'].iloc[0]], \n",
        "      'classificacao_tnm_clinico_m': [data['classificacao_tnm_clinico_m'].iloc[0]],\n",
        "      'metastase_ao_diagnostico_cid_o_1': [data['metastase_ao_diagnostico_cid_o_1'].iloc[0]], \n",
        "      'metastase_ao_diagnostico_cid_o_2': [data['metastase_ao_diagnostico_cid_o_2'].iloc[0]],\n",
        "      'metastase_ao_diagnostico_cid_o_3': [data['metastase_ao_diagnostico_cid_o_3'].iloc[0]], \n",
        "      'metastase_ao_diagnostico_cid_o_4': [data['metastase_ao_diagnostico_cid_o_4'].iloc[0]],\n",
        "\n",
        "      'data_do_tratamento_inicial': [data['data_do_tratamento'].iloc[0]],\n",
        "      'data_do_tratamento_final': [data['data_do_tratamento'].iloc[-1]],\n",
        "\n",
        "      'combinacao_dos_tratamentos_realizados_no_hospital_inicial': [data['combinacao_dos_tratamentos_realizados_no_hospital'].iloc[0]],\n",
        "      'combinacao_dos_tratamentos_realizados_no_hospital_final': [data['combinacao_dos_tratamentos_realizados_no_hospital'].iloc[-1]],\n",
        "\n",
        "      'lateralidade_do_tumor_inicial': [data['lateralidade_do_tumor'].iloc[0]],\n",
        "      'lateralidade_do_tumor_final': [data['lateralidade_do_tumor'].iloc[-1]], \n",
        "\n",
        "      'data_de_recidiva': [data['data_de_recidiva'].iloc[0]],\n",
        "      'tempo_desde_o_diagnostico_ate_a_primeira_recidiva': [data['tempo_desde_o_diagnostico_ate_a_primeira_recidiva'].iloc[0]],\n",
        "\n",
        "      'local_de_recidiva_a_distancia_metastase_1_cid_o_topografia': [data['local_de_recidiva_a_distancia_metastase_1_cid_o_topografia'].iloc[0]],\n",
        "      'local_de_recidiva_a_distancia_metastase_2_cid_o_topografia': [data['local_de_recidiva_a_distancia_metastase_2_cid_o_topografia'].iloc[0]],\n",
        "      'local_de_recidiva_a_distancia_metastase_3_cid_o_topografia': [data['local_de_recidiva_a_distancia_metastase_3_cid_o_topografia'].iloc[0]],\n",
        "      'local_de_recidiva_a_distancia_metastase_4_cid_o_topografia': [data['local_de_recidiva_a_distancia_metastase_4_cid_o_topografia'].iloc[0]],\n",
        "\n",
        "      'descricao_da_morfologia_de_acordo_com_o_cid_o_cid_o_3_edicao': [data['descricao_da_morfologia_de_acordo_com_o_cid_o_cid_o_3_edicao'].iloc[0]],\n",
        "      'descricao_da_topografia': [data['descricao_da_topografia'].iloc[0]], \n",
        "      'classificacao_tnm_patologico_n': [data['classificacao_tnm_patologico_n'].iloc[0]],\n",
        "      'classificacao_tnm_patologico_t': [data['classificacao_tnm_patologico_t'].iloc[0]],\n",
        "\n",
        "      'com_recidiva_a_distância': ['Sim' in data['com_recidiva_local'].values],\n",
        "      'com_recidiva_regional': ['Sim' in data['com_recidiva_local'].values], \n",
        "      'com_recidiva_local': ['Sim' in data['com_recidiva_local'].values], \n",
        "      'cancer_mama': [True in data['cancer_mama'].values]\n",
        "  })\n",
        "\n",
        "df_registro_tumor_grouped = df_registro_tumor.groupby('record_id', group_keys=False)\n",
        "df_registro_tumor_grouped = df_registro_tumor_grouped.apply(normalize)\n",
        "\n",
        "df_registro_tumor_grouped.info()"
      ],
      "metadata": {
        "colab": {
          "base_uri": "https://localhost:8080/"
        },
        "id": "M7rpW55JzJi0",
        "outputId": "bfa339a9-018a-4888-bd16-060ae340be5e"
      },
      "execution_count": 463,
      "outputs": [
        {
          "output_type": "stream",
          "name": "stdout",
          "text": [
            "<class 'pandas.core.frame.DataFrame'>\n",
            "Int64Index: 4272 entries, 0 to 0\n",
            "Data columns (total 35 columns):\n",
            " #   Column                                                        Non-Null Count  Dtype  \n",
            "---  ------                                                        --------------  -----  \n",
            " 0   record_id                                                     4272 non-null   int64  \n",
            " 1   registros_tumor                                               4272 non-null   int64  \n",
            " 2   data_da_primeira_consulta_institucional_dt_pci_inicial        4272 non-null   object \n",
            " 3   data_da_primeira_consulta_institucional_dt_pci_final          4272 non-null   object \n",
            " 4   data_do_diagnostico_inicial                                   4272 non-null   object \n",
            " 5   data_do_diagnostico_final                                     4272 non-null   object \n",
            " 6   estadio_clinico_inicial                                       4269 non-null   object \n",
            " 7   estadio_clinico_final                                         4265 non-null   object \n",
            " 8   classificacao_tnm_clinico_t                                   4248 non-null   object \n",
            " 9   classificacao_tnm_clinico_n                                   4242 non-null   object \n",
            " 10  classificacao_tnm_clinico_m                                   4269 non-null   object \n",
            " 11  metastase_ao_diagnostico_cid_o_1                              672 non-null    object \n",
            " 12  metastase_ao_diagnostico_cid_o_2                              374 non-null    object \n",
            " 13  metastase_ao_diagnostico_cid_o_3                              175 non-null    object \n",
            " 14  metastase_ao_diagnostico_cid_o_4                              67 non-null     object \n",
            " 15  data_do_tratamento_inicial                                    4244 non-null   object \n",
            " 16  data_do_tratamento_final                                      4227 non-null   object \n",
            " 17  combinacao_dos_tratamentos_realizados_no_hospital_inicial     4272 non-null   object \n",
            " 18  combinacao_dos_tratamentos_realizados_no_hospital_final       4272 non-null   object \n",
            " 19  lateralidade_do_tumor_inicial                                 4272 non-null   object \n",
            " 20  lateralidade_do_tumor_final                                   4272 non-null   object \n",
            " 21  data_de_recidiva                                              1249 non-null   object \n",
            " 22  tempo_desde_o_diagnostico_ate_a_primeira_recidiva             1249 non-null   float64\n",
            " 23  local_de_recidiva_a_distancia_metastase_1_cid_o_topografia    990 non-null    object \n",
            " 24  local_de_recidiva_a_distancia_metastase_2_cid_o_topografia    535 non-null    object \n",
            " 25  local_de_recidiva_a_distancia_metastase_3_cid_o_topografia    259 non-null    object \n",
            " 26  local_de_recidiva_a_distancia_metastase_4_cid_o_topografia    111 non-null    object \n",
            " 27  descricao_da_morfologia_de_acordo_com_o_cid_o_cid_o_3_edicao  4272 non-null   object \n",
            " 28  descricao_da_topografia                                       4272 non-null   object \n",
            " 29  classificacao_tnm_patologico_n                                186 non-null    object \n",
            " 30  classificacao_tnm_patologico_t                                187 non-null    object \n",
            " 31  com_recidiva_a_distância                                      4272 non-null   bool   \n",
            " 32  com_recidiva_regional                                         4272 non-null   bool   \n",
            " 33  com_recidiva_local                                            4272 non-null   bool   \n",
            " 34  cancer_mama                                                   4272 non-null   bool   \n",
            "dtypes: bool(4), float64(1), int64(2), object(28)\n",
            "memory usage: 1.1+ MB\n"
          ]
        }
      ]
    },
    {
      "cell_type": "code",
      "source": [],
      "metadata": {
        "id": "8WveEMXSzSdw"
      },
      "execution_count": 463,
      "outputs": []
    },
    {
      "cell_type": "markdown",
      "source": [
        "##Realizando a junção das 4 tabelas após o pre-processamento dos dados\n"
      ],
      "metadata": {
        "id": "xkCuZLvXzr-i"
      }
    },
    {
      "cell_type": "code",
      "source": [
        "df = pd.merge(df_peso_altura, df_demograficos, on='record_id')\n",
        "df = pd.merge(df, df_registro_tumor_grouped, on='record_id')\n",
        "df = pd.merge(df, df_histopatologia_grouped, on='record_id')\n",
        "df.head(5)"
      ],
      "metadata": {
        "colab": {
          "base_uri": "https://localhost:8080/",
          "height": 0
        },
        "id": "rYAz8pu6ztFb",
        "outputId": "081b012b-167c-4b8b-ba38-d571751e7323"
      },
      "execution_count": 464,
      "outputs": [
        {
          "output_type": "execute_result",
          "data": {
            "text/plain": [
              "   record_id  peso_inicial  altura  imc_inicial  peso_maximo  peso_minimo  \\\n",
              "0        302          57.8   158.0         23.2         64.9         56.0   \n",
              "1        710          61.0   155.0         25.1         66.0         60.5   \n",
              "2       1367          57.9   143.0         28.3         59.0         51.0   \n",
              "3       1589          63.2   167.0         22.7         67.0         62.0   \n",
              "4       1705          63.0   161.0         24.0         67.3         54.3   \n",
              "\n",
              "   imc_maximo  imc_minimo  escolaridade  diagnostico_idade  ...  ki67_inicial  \\\n",
              "0        26.0       22.40           1.0               51.0  ...            26   \n",
              "1        27.5       25.10           3.0               58.0  ...            20   \n",
              "2        28.9       24.90           1.0               63.0  ...            40   \n",
              "3        24.0       22.20           2.0               42.0  ...            26   \n",
              "4        26.0       20.88           1.0               43.0  ...            55   \n",
              "\n",
              "  ki67_final  progesterona_quantificacao_inicial  \\\n",
              "0         26                                   1   \n",
              "1         20                                   0   \n",
              "2         40                                   5   \n",
              "3         26                                   1   \n",
              "4         55                                   0   \n",
              "\n",
              "   progesterona_quantificacao_final  estrogenio_quantificacao_inicial  \\\n",
              "0                                 1                                 1   \n",
              "1                                 0                                 1   \n",
              "2                                 0                                60   \n",
              "3                                 1                                 1   \n",
              "4                                 0                                 0   \n",
              "\n",
              "   estrogenio_quantificacao_final  indice_h_inicial  indice_h_final  \\\n",
              "0                               1               NaN             NaN   \n",
              "1                               1               NaN             NaN   \n",
              "2                              30              10.0             NaN   \n",
              "3                               1               NaN             NaN   \n",
              "4                               0               NaN             NaN   \n",
              "\n",
              "   her2_ihc_inicial  her2_ihc_final  \n",
              "0               1.0             1.0  \n",
              "1               0.0             0.0  \n",
              "2               0.0             1.0  \n",
              "3               1.0             1.0  \n",
              "4               0.0             0.0  \n",
              "\n",
              "[5 rows x 88 columns]"
            ],
            "text/html": [
              "\n",
              "  <div id=\"df-b56f43f7-261e-425e-8ebd-9040cb6b05bd\">\n",
              "    <div class=\"colab-df-container\">\n",
              "      <div>\n",
              "<style scoped>\n",
              "    .dataframe tbody tr th:only-of-type {\n",
              "        vertical-align: middle;\n",
              "    }\n",
              "\n",
              "    .dataframe tbody tr th {\n",
              "        vertical-align: top;\n",
              "    }\n",
              "\n",
              "    .dataframe thead th {\n",
              "        text-align: right;\n",
              "    }\n",
              "</style>\n",
              "<table border=\"1\" class=\"dataframe\">\n",
              "  <thead>\n",
              "    <tr style=\"text-align: right;\">\n",
              "      <th></th>\n",
              "      <th>record_id</th>\n",
              "      <th>peso_inicial</th>\n",
              "      <th>altura</th>\n",
              "      <th>imc_inicial</th>\n",
              "      <th>peso_maximo</th>\n",
              "      <th>peso_minimo</th>\n",
              "      <th>imc_maximo</th>\n",
              "      <th>imc_minimo</th>\n",
              "      <th>escolaridade</th>\n",
              "      <th>diagnostico_idade</th>\n",
              "      <th>...</th>\n",
              "      <th>ki67_inicial</th>\n",
              "      <th>ki67_final</th>\n",
              "      <th>progesterona_quantificacao_inicial</th>\n",
              "      <th>progesterona_quantificacao_final</th>\n",
              "      <th>estrogenio_quantificacao_inicial</th>\n",
              "      <th>estrogenio_quantificacao_final</th>\n",
              "      <th>indice_h_inicial</th>\n",
              "      <th>indice_h_final</th>\n",
              "      <th>her2_ihc_inicial</th>\n",
              "      <th>her2_ihc_final</th>\n",
              "    </tr>\n",
              "  </thead>\n",
              "  <tbody>\n",
              "    <tr>\n",
              "      <th>0</th>\n",
              "      <td>302</td>\n",
              "      <td>57.8</td>\n",
              "      <td>158.0</td>\n",
              "      <td>23.2</td>\n",
              "      <td>64.9</td>\n",
              "      <td>56.0</td>\n",
              "      <td>26.0</td>\n",
              "      <td>22.40</td>\n",
              "      <td>1.0</td>\n",
              "      <td>51.0</td>\n",
              "      <td>...</td>\n",
              "      <td>26</td>\n",
              "      <td>26</td>\n",
              "      <td>1</td>\n",
              "      <td>1</td>\n",
              "      <td>1</td>\n",
              "      <td>1</td>\n",
              "      <td>NaN</td>\n",
              "      <td>NaN</td>\n",
              "      <td>1.0</td>\n",
              "      <td>1.0</td>\n",
              "    </tr>\n",
              "    <tr>\n",
              "      <th>1</th>\n",
              "      <td>710</td>\n",
              "      <td>61.0</td>\n",
              "      <td>155.0</td>\n",
              "      <td>25.1</td>\n",
              "      <td>66.0</td>\n",
              "      <td>60.5</td>\n",
              "      <td>27.5</td>\n",
              "      <td>25.10</td>\n",
              "      <td>3.0</td>\n",
              "      <td>58.0</td>\n",
              "      <td>...</td>\n",
              "      <td>20</td>\n",
              "      <td>20</td>\n",
              "      <td>0</td>\n",
              "      <td>0</td>\n",
              "      <td>1</td>\n",
              "      <td>1</td>\n",
              "      <td>NaN</td>\n",
              "      <td>NaN</td>\n",
              "      <td>0.0</td>\n",
              "      <td>0.0</td>\n",
              "    </tr>\n",
              "    <tr>\n",
              "      <th>2</th>\n",
              "      <td>1367</td>\n",
              "      <td>57.9</td>\n",
              "      <td>143.0</td>\n",
              "      <td>28.3</td>\n",
              "      <td>59.0</td>\n",
              "      <td>51.0</td>\n",
              "      <td>28.9</td>\n",
              "      <td>24.90</td>\n",
              "      <td>1.0</td>\n",
              "      <td>63.0</td>\n",
              "      <td>...</td>\n",
              "      <td>40</td>\n",
              "      <td>40</td>\n",
              "      <td>5</td>\n",
              "      <td>0</td>\n",
              "      <td>60</td>\n",
              "      <td>30</td>\n",
              "      <td>10.0</td>\n",
              "      <td>NaN</td>\n",
              "      <td>0.0</td>\n",
              "      <td>1.0</td>\n",
              "    </tr>\n",
              "    <tr>\n",
              "      <th>3</th>\n",
              "      <td>1589</td>\n",
              "      <td>63.2</td>\n",
              "      <td>167.0</td>\n",
              "      <td>22.7</td>\n",
              "      <td>67.0</td>\n",
              "      <td>62.0</td>\n",
              "      <td>24.0</td>\n",
              "      <td>22.20</td>\n",
              "      <td>2.0</td>\n",
              "      <td>42.0</td>\n",
              "      <td>...</td>\n",
              "      <td>26</td>\n",
              "      <td>26</td>\n",
              "      <td>1</td>\n",
              "      <td>1</td>\n",
              "      <td>1</td>\n",
              "      <td>1</td>\n",
              "      <td>NaN</td>\n",
              "      <td>NaN</td>\n",
              "      <td>1.0</td>\n",
              "      <td>1.0</td>\n",
              "    </tr>\n",
              "    <tr>\n",
              "      <th>4</th>\n",
              "      <td>1705</td>\n",
              "      <td>63.0</td>\n",
              "      <td>161.0</td>\n",
              "      <td>24.0</td>\n",
              "      <td>67.3</td>\n",
              "      <td>54.3</td>\n",
              "      <td>26.0</td>\n",
              "      <td>20.88</td>\n",
              "      <td>1.0</td>\n",
              "      <td>43.0</td>\n",
              "      <td>...</td>\n",
              "      <td>55</td>\n",
              "      <td>55</td>\n",
              "      <td>0</td>\n",
              "      <td>0</td>\n",
              "      <td>0</td>\n",
              "      <td>0</td>\n",
              "      <td>NaN</td>\n",
              "      <td>NaN</td>\n",
              "      <td>0.0</td>\n",
              "      <td>0.0</td>\n",
              "    </tr>\n",
              "  </tbody>\n",
              "</table>\n",
              "<p>5 rows × 88 columns</p>\n",
              "</div>\n",
              "      <button class=\"colab-df-convert\" onclick=\"convertToInteractive('df-b56f43f7-261e-425e-8ebd-9040cb6b05bd')\"\n",
              "              title=\"Convert this dataframe to an interactive table.\"\n",
              "              style=\"display:none;\">\n",
              "        \n",
              "  <svg xmlns=\"http://www.w3.org/2000/svg\" height=\"24px\"viewBox=\"0 0 24 24\"\n",
              "       width=\"24px\">\n",
              "    <path d=\"M0 0h24v24H0V0z\" fill=\"none\"/>\n",
              "    <path d=\"M18.56 5.44l.94 2.06.94-2.06 2.06-.94-2.06-.94-.94-2.06-.94 2.06-2.06.94zm-11 1L8.5 8.5l.94-2.06 2.06-.94-2.06-.94L8.5 2.5l-.94 2.06-2.06.94zm10 10l.94 2.06.94-2.06 2.06-.94-2.06-.94-.94-2.06-.94 2.06-2.06.94z\"/><path d=\"M17.41 7.96l-1.37-1.37c-.4-.4-.92-.59-1.43-.59-.52 0-1.04.2-1.43.59L10.3 9.45l-7.72 7.72c-.78.78-.78 2.05 0 2.83L4 21.41c.39.39.9.59 1.41.59.51 0 1.02-.2 1.41-.59l7.78-7.78 2.81-2.81c.8-.78.8-2.07 0-2.86zM5.41 20L4 18.59l7.72-7.72 1.47 1.35L5.41 20z\"/>\n",
              "  </svg>\n",
              "      </button>\n",
              "      \n",
              "  <style>\n",
              "    .colab-df-container {\n",
              "      display:flex;\n",
              "      flex-wrap:wrap;\n",
              "      gap: 12px;\n",
              "    }\n",
              "\n",
              "    .colab-df-convert {\n",
              "      background-color: #E8F0FE;\n",
              "      border: none;\n",
              "      border-radius: 50%;\n",
              "      cursor: pointer;\n",
              "      display: none;\n",
              "      fill: #1967D2;\n",
              "      height: 32px;\n",
              "      padding: 0 0 0 0;\n",
              "      width: 32px;\n",
              "    }\n",
              "\n",
              "    .colab-df-convert:hover {\n",
              "      background-color: #E2EBFA;\n",
              "      box-shadow: 0px 1px 2px rgba(60, 64, 67, 0.3), 0px 1px 3px 1px rgba(60, 64, 67, 0.15);\n",
              "      fill: #174EA6;\n",
              "    }\n",
              "\n",
              "    [theme=dark] .colab-df-convert {\n",
              "      background-color: #3B4455;\n",
              "      fill: #D2E3FC;\n",
              "    }\n",
              "\n",
              "    [theme=dark] .colab-df-convert:hover {\n",
              "      background-color: #434B5C;\n",
              "      box-shadow: 0px 1px 3px 1px rgba(0, 0, 0, 0.15);\n",
              "      filter: drop-shadow(0px 1px 2px rgba(0, 0, 0, 0.3));\n",
              "      fill: #FFFFFF;\n",
              "    }\n",
              "  </style>\n",
              "\n",
              "      <script>\n",
              "        const buttonEl =\n",
              "          document.querySelector('#df-b56f43f7-261e-425e-8ebd-9040cb6b05bd button.colab-df-convert');\n",
              "        buttonEl.style.display =\n",
              "          google.colab.kernel.accessAllowed ? 'block' : 'none';\n",
              "\n",
              "        async function convertToInteractive(key) {\n",
              "          const element = document.querySelector('#df-b56f43f7-261e-425e-8ebd-9040cb6b05bd');\n",
              "          const dataTable =\n",
              "            await google.colab.kernel.invokeFunction('convertToInteractive',\n",
              "                                                     [key], {});\n",
              "          if (!dataTable) return;\n",
              "\n",
              "          const docLinkHtml = 'Like what you see? Visit the ' +\n",
              "            '<a target=\"_blank\" href=https://colab.research.google.com/notebooks/data_table.ipynb>data table notebook</a>'\n",
              "            + ' to learn more about interactive tables.';\n",
              "          element.innerHTML = '';\n",
              "          dataTable['output_type'] = 'display_data';\n",
              "          await google.colab.output.renderOutput(dataTable, element);\n",
              "          const docLink = document.createElement('div');\n",
              "          docLink.innerHTML = docLinkHtml;\n",
              "          element.appendChild(docLink);\n",
              "        }\n",
              "      </script>\n",
              "    </div>\n",
              "  </div>\n",
              "  "
            ]
          },
          "metadata": {},
          "execution_count": 464
        }
      ]
    },
    {
      "cell_type": "markdown",
      "source": [
        "##Resumo\n",
        "\n",
        "Após a conclusão do tratamento das tabelas por parte dos responsáveis, chegamos a uma tabela única que contém todas as informações consideradas superficialmente úteis. Em uma segunda análise, filtramos as colunas dessa tabela maior com o objetivo de reduzir o escopo e formular hipóteses."
      ],
      "metadata": {
        "id": "2LsHFfiw0Rz5"
      }
    },
    {
      "cell_type": "markdown",
      "source": [
        "##Tabela completa"
      ],
      "metadata": {
        "id": "EMsD7bf81Lp0"
      }
    },
    {
      "cell_type": "code",
      "source": [
        "df.info()"
      ],
      "metadata": {
        "colab": {
          "base_uri": "https://localhost:8080/"
        },
        "id": "MGm99iim0Dse",
        "outputId": "8c04e8f2-23cd-481b-c331-d9be025e207f"
      },
      "execution_count": 465,
      "outputs": [
        {
          "output_type": "stream",
          "name": "stdout",
          "text": [
            "<class 'pandas.core.frame.DataFrame'>\n",
            "Int64Index: 3456 entries, 0 to 3455\n",
            "Data columns (total 88 columns):\n",
            " #   Column                                                                                                            Non-Null Count  Dtype  \n",
            "---  ------                                                                                                            --------------  -----  \n",
            " 0   record_id                                                                                                         3456 non-null   int64  \n",
            " 1   peso_inicial                                                                                                      3456 non-null   float64\n",
            " 2   altura                                                                                                            3456 non-null   float64\n",
            " 3   imc_inicial                                                                                                       3456 non-null   float64\n",
            " 4   peso_maximo                                                                                                       3456 non-null   float64\n",
            " 5   peso_minimo                                                                                                       3456 non-null   float64\n",
            " 6   imc_maximo                                                                                                        3456 non-null   float64\n",
            " 7   imc_minimo                                                                                                        3456 non-null   float64\n",
            " 8   escolaridade                                                                                                      3456 non-null   float64\n",
            " 9   diagnostico_idade                                                                                                 3456 non-null   float64\n",
            " 10  sexo                                                                                                              3456 non-null   int64  \n",
            " 11  data_ultimo_dado_paciente                                                                                         3454 non-null   object \n",
            " 12  ultimo_dado_paciente                                                                                              3456 non-null   float64\n",
            " 13  tempo_de_seguimento                                                                                               3456 non-null   float64\n",
            " 14  ja_engravidou                                                                                                     923 non-null    float64\n",
            " 15  quantas_vezes_gravida                                                                                             43 non-null     float64\n",
            " 16  idade_primeira_gestacao                                                                                           804 non-null    float64\n",
            " 17  amamentou_na_gestacao                                                                                             943 non-null    float64\n",
            " 18  periodo_amamentacao                                                                                               621 non-null    float64\n",
            " 19  possui_um_caso_historico_familiar_primeiro_grau_relacionado_sindrome_cancer_de_mama_e_ovario_hereditaria          3456 non-null   int64  \n",
            " 20  possui_mais_de_um_caso_historico_familiar_primeiro_grau_relacionado_sindrome_cancer_de_mama_e_ovario_hereditaria  3456 non-null   int64  \n",
            " 21  idade_primeira_menstruacao                                                                                        3456 non-null   float64\n",
            " 22  pratica_atividade_fisica                                                                                          284 non-null    float64\n",
            " 23  consome_tabaco                                                                                                    195 non-null    float64\n",
            " 24  consome_alcool                                                                                                    185 non-null    float64\n",
            " 25  historico_familiar_cancer                                                                                         179 non-null    float64\n",
            " 26  parentes_primeiro_grau_com_cancer                                                                                 3456 non-null   int64  \n",
            " 27  parentes_segundo_grau_com_cancer                                                                                  3456 non-null   int64  \n",
            " 28  parentes_terceiro_grau_com_cancer                                                                                 3456 non-null   int64  \n",
            " 29  data_cirurgia                                                                                                     1874 non-null   object \n",
            " 30  tipo_terapia_anti_her2_neoadjuvante                                                                               3456 non-null   float64\n",
            " 31  radioterapia                                                                                                      3456 non-null   int64  \n",
            " 32  inicio_quimioterapia                                                                                              2291 non-null   object \n",
            " 33  inicio_radioterapia                                                                                               1941 non-null   object \n",
            " 34  regime_tratamento_Não fez quimioterapia                                                                           3456 non-null   uint8  \n",
            " 35  regime_tratamento_Paliativo                                                                                       3456 non-null   uint8  \n",
            " 36  regime_tratamento_Terapia Adjuvante                                                                               3456 non-null   uint8  \n",
            " 37  regime_tratamento_Terapia Neoadjuvante                                                                            3456 non-null   uint8  \n",
            " 38  registros_tumor                                                                                                   3456 non-null   int64  \n",
            " 39  data_da_primeira_consulta_institucional_dt_pci_inicial                                                            3456 non-null   object \n",
            " 40  data_da_primeira_consulta_institucional_dt_pci_final                                                              3456 non-null   object \n",
            " 41  data_do_diagnostico_inicial                                                                                       3456 non-null   object \n",
            " 42  data_do_diagnostico_final                                                                                         3456 non-null   object \n",
            " 43  estadio_clinico_inicial                                                                                           3454 non-null   object \n",
            " 44  estadio_clinico_final                                                                                             3450 non-null   object \n",
            " 45  classificacao_tnm_clinico_t                                                                                       3445 non-null   object \n",
            " 46  classificacao_tnm_clinico_n                                                                                       3441 non-null   object \n",
            " 47  classificacao_tnm_clinico_m                                                                                       3454 non-null   object \n",
            " 48  metastase_ao_diagnostico_cid_o_1                                                                                  527 non-null    object \n",
            " 49  metastase_ao_diagnostico_cid_o_2                                                                                  286 non-null    object \n",
            " 50  metastase_ao_diagnostico_cid_o_3                                                                                  132 non-null    object \n",
            " 51  metastase_ao_diagnostico_cid_o_4                                                                                  50 non-null     object \n",
            " 52  data_do_tratamento_inicial                                                                                        3441 non-null   object \n",
            " 53  data_do_tratamento_final                                                                                          3428 non-null   object \n",
            " 54  combinacao_dos_tratamentos_realizados_no_hospital_inicial                                                         3456 non-null   object \n",
            " 55  combinacao_dos_tratamentos_realizados_no_hospital_final                                                           3456 non-null   object \n",
            " 56  lateralidade_do_tumor_inicial                                                                                     3456 non-null   object \n",
            " 57  lateralidade_do_tumor_final                                                                                       3456 non-null   object \n",
            " 58  data_de_recidiva                                                                                                  1011 non-null   object \n",
            " 59  tempo_desde_o_diagnostico_ate_a_primeira_recidiva                                                                 1011 non-null   float64\n",
            " 60  local_de_recidiva_a_distancia_metastase_1_cid_o_topografia                                                        782 non-null    object \n",
            " 61  local_de_recidiva_a_distancia_metastase_2_cid_o_topografia                                                        428 non-null    object \n",
            " 62  local_de_recidiva_a_distancia_metastase_3_cid_o_topografia                                                        208 non-null    object \n",
            " 63  local_de_recidiva_a_distancia_metastase_4_cid_o_topografia                                                        90 non-null     object \n",
            " 64  descricao_da_morfologia_de_acordo_com_o_cid_o_cid_o_3_edicao                                                      3456 non-null   object \n",
            " 65  descricao_da_topografia                                                                                           3456 non-null   object \n",
            " 66  classificacao_tnm_patologico_n                                                                                    140 non-null    object \n",
            " 67  classificacao_tnm_patologico_t                                                                                    141 non-null    object \n",
            " 68  com_recidiva_a_distância                                                                                          3456 non-null   bool   \n",
            " 69  com_recidiva_regional                                                                                             3456 non-null   bool   \n",
            " 70  com_recidiva_local                                                                                                3456 non-null   bool   \n",
            " 71  cancer_mama                                                                                                       3456 non-null   bool   \n",
            " 72  registros_hispatologicos                                                                                          3456 non-null   int64  \n",
            " 73  subtipo_tumoral_inicial                                                                                           3453 non-null   float64\n",
            " 74  subtipo_tumoral_final                                                                                             3444 non-null   float64\n",
            " 75  estrogenio                                                                                                        3456 non-null   bool   \n",
            " 76  progesterona                                                                                                      3456 non-null   bool   \n",
            " 77  ki67_14                                                                                                           3456 non-null   bool   \n",
            " 78  ki67_inicial                                                                                                      3456 non-null   int64  \n",
            " 79  ki67_final                                                                                                        3456 non-null   int64  \n",
            " 80  progesterona_quantificacao_inicial                                                                                3456 non-null   int64  \n",
            " 81  progesterona_quantificacao_final                                                                                  3456 non-null   int64  \n",
            " 82  estrogenio_quantificacao_inicial                                                                                  3456 non-null   int64  \n",
            " 83  estrogenio_quantificacao_final                                                                                    3456 non-null   int64  \n",
            " 84  indice_h_inicial                                                                                                  428 non-null    float64\n",
            " 85  indice_h_final                                                                                                    412 non-null    float64\n",
            " 86  her2_ihc_inicial                                                                                                  3408 non-null   float64\n",
            " 87  her2_ihc_final                                                                                                    3395 non-null   float64\n",
            "dtypes: bool(7), float64(29), int64(16), object(32), uint8(4)\n",
            "memory usage: 2.1+ MB\n"
          ]
        }
      ]
    },
    {
      "cell_type": "markdown",
      "source": [
        "##Normalização dos dados"
      ],
      "metadata": {
        "id": "csDn8p8P6t01"
      }
    },
    {
      "cell_type": "code",
      "source": [
        "# Normalizando os dados numéricos\n",
        "\n",
        "\"\"\"Como ainda não separamos em treino e teste, fizemos uma normalização geral.\n",
        "Futuramente isso será corrigido e o MinMaxScaler será treinado somente com o\n",
        "conjunto de treino.\"\"\"\n",
        "\n",
        "from sklearn.preprocessing import MinMaxScaler\n",
        "\n",
        "scaler = MinMaxScaler()\n",
        "\n",
        "numerical_cols = df.select_dtypes(include='number').columns\n",
        "\n",
        "# Removendo o record_id da normalização\n",
        "numerical_cols = numerical_cols.drop('record_id')\n",
        "\n",
        "df[numerical_cols] = scaler.fit_transform(df[numerical_cols])\n",
        "df.head(3)"
      ],
      "metadata": {
        "colab": {
          "base_uri": "https://localhost:8080/",
          "height": 0
        },
        "id": "TE9IwEJM6wTP",
        "outputId": "23394255-ff67-4ac7-8cb2-6e6823ebcb14"
      },
      "execution_count": 466,
      "outputs": [
        {
          "output_type": "execute_result",
          "data": {
            "text/plain": [
              "   record_id  peso_inicial  altura  imc_inicial  peso_maximo  peso_minimo  \\\n",
              "0        302          0.23    0.48         0.18         0.26         0.23   \n",
              "1        710          0.26    0.42         0.22         0.27         0.27   \n",
              "2       1367          0.23    0.18         0.29         0.21         0.19   \n",
              "\n",
              "   imc_maximo  imc_minimo  escolaridade  diagnostico_idade  ...  ki67_inicial  \\\n",
              "0        0.13        0.23          0.25               0.41  ...          0.26   \n",
              "1        0.15        0.29          0.75               0.51  ...          0.20   \n",
              "2        0.16        0.29          0.25               0.58  ...          0.40   \n",
              "\n",
              "  ki67_final  progesterona_quantificacao_inicial  \\\n",
              "0       0.26                                0.01   \n",
              "1       0.20                                0.00   \n",
              "2       0.40                                0.05   \n",
              "\n",
              "   progesterona_quantificacao_final  estrogenio_quantificacao_inicial  \\\n",
              "0                              0.01                              0.01   \n",
              "1                              0.00                              0.01   \n",
              "2                              0.00                              0.60   \n",
              "\n",
              "   estrogenio_quantificacao_final  indice_h_inicial  indice_h_final  \\\n",
              "0                            0.01               NaN             NaN   \n",
              "1                            0.01               NaN             NaN   \n",
              "2                            0.30              0.03             NaN   \n",
              "\n",
              "   her2_ihc_inicial  her2_ihc_final  \n",
              "0               1.0             1.0  \n",
              "1               0.0             0.0  \n",
              "2               0.0             1.0  \n",
              "\n",
              "[3 rows x 88 columns]"
            ],
            "text/html": [
              "\n",
              "  <div id=\"df-5aa2b289-0a48-42fc-8e3b-201d2b89dd27\">\n",
              "    <div class=\"colab-df-container\">\n",
              "      <div>\n",
              "<style scoped>\n",
              "    .dataframe tbody tr th:only-of-type {\n",
              "        vertical-align: middle;\n",
              "    }\n",
              "\n",
              "    .dataframe tbody tr th {\n",
              "        vertical-align: top;\n",
              "    }\n",
              "\n",
              "    .dataframe thead th {\n",
              "        text-align: right;\n",
              "    }\n",
              "</style>\n",
              "<table border=\"1\" class=\"dataframe\">\n",
              "  <thead>\n",
              "    <tr style=\"text-align: right;\">\n",
              "      <th></th>\n",
              "      <th>record_id</th>\n",
              "      <th>peso_inicial</th>\n",
              "      <th>altura</th>\n",
              "      <th>imc_inicial</th>\n",
              "      <th>peso_maximo</th>\n",
              "      <th>peso_minimo</th>\n",
              "      <th>imc_maximo</th>\n",
              "      <th>imc_minimo</th>\n",
              "      <th>escolaridade</th>\n",
              "      <th>diagnostico_idade</th>\n",
              "      <th>...</th>\n",
              "      <th>ki67_inicial</th>\n",
              "      <th>ki67_final</th>\n",
              "      <th>progesterona_quantificacao_inicial</th>\n",
              "      <th>progesterona_quantificacao_final</th>\n",
              "      <th>estrogenio_quantificacao_inicial</th>\n",
              "      <th>estrogenio_quantificacao_final</th>\n",
              "      <th>indice_h_inicial</th>\n",
              "      <th>indice_h_final</th>\n",
              "      <th>her2_ihc_inicial</th>\n",
              "      <th>her2_ihc_final</th>\n",
              "    </tr>\n",
              "  </thead>\n",
              "  <tbody>\n",
              "    <tr>\n",
              "      <th>0</th>\n",
              "      <td>302</td>\n",
              "      <td>0.23</td>\n",
              "      <td>0.48</td>\n",
              "      <td>0.18</td>\n",
              "      <td>0.26</td>\n",
              "      <td>0.23</td>\n",
              "      <td>0.13</td>\n",
              "      <td>0.23</td>\n",
              "      <td>0.25</td>\n",
              "      <td>0.41</td>\n",
              "      <td>...</td>\n",
              "      <td>0.26</td>\n",
              "      <td>0.26</td>\n",
              "      <td>0.01</td>\n",
              "      <td>0.01</td>\n",
              "      <td>0.01</td>\n",
              "      <td>0.01</td>\n",
              "      <td>NaN</td>\n",
              "      <td>NaN</td>\n",
              "      <td>1.0</td>\n",
              "      <td>1.0</td>\n",
              "    </tr>\n",
              "    <tr>\n",
              "      <th>1</th>\n",
              "      <td>710</td>\n",
              "      <td>0.26</td>\n",
              "      <td>0.42</td>\n",
              "      <td>0.22</td>\n",
              "      <td>0.27</td>\n",
              "      <td>0.27</td>\n",
              "      <td>0.15</td>\n",
              "      <td>0.29</td>\n",
              "      <td>0.75</td>\n",
              "      <td>0.51</td>\n",
              "      <td>...</td>\n",
              "      <td>0.20</td>\n",
              "      <td>0.20</td>\n",
              "      <td>0.00</td>\n",
              "      <td>0.00</td>\n",
              "      <td>0.01</td>\n",
              "      <td>0.01</td>\n",
              "      <td>NaN</td>\n",
              "      <td>NaN</td>\n",
              "      <td>0.0</td>\n",
              "      <td>0.0</td>\n",
              "    </tr>\n",
              "    <tr>\n",
              "      <th>2</th>\n",
              "      <td>1367</td>\n",
              "      <td>0.23</td>\n",
              "      <td>0.18</td>\n",
              "      <td>0.29</td>\n",
              "      <td>0.21</td>\n",
              "      <td>0.19</td>\n",
              "      <td>0.16</td>\n",
              "      <td>0.29</td>\n",
              "      <td>0.25</td>\n",
              "      <td>0.58</td>\n",
              "      <td>...</td>\n",
              "      <td>0.40</td>\n",
              "      <td>0.40</td>\n",
              "      <td>0.05</td>\n",
              "      <td>0.00</td>\n",
              "      <td>0.60</td>\n",
              "      <td>0.30</td>\n",
              "      <td>0.03</td>\n",
              "      <td>NaN</td>\n",
              "      <td>0.0</td>\n",
              "      <td>1.0</td>\n",
              "    </tr>\n",
              "  </tbody>\n",
              "</table>\n",
              "<p>3 rows × 88 columns</p>\n",
              "</div>\n",
              "      <button class=\"colab-df-convert\" onclick=\"convertToInteractive('df-5aa2b289-0a48-42fc-8e3b-201d2b89dd27')\"\n",
              "              title=\"Convert this dataframe to an interactive table.\"\n",
              "              style=\"display:none;\">\n",
              "        \n",
              "  <svg xmlns=\"http://www.w3.org/2000/svg\" height=\"24px\"viewBox=\"0 0 24 24\"\n",
              "       width=\"24px\">\n",
              "    <path d=\"M0 0h24v24H0V0z\" fill=\"none\"/>\n",
              "    <path d=\"M18.56 5.44l.94 2.06.94-2.06 2.06-.94-2.06-.94-.94-2.06-.94 2.06-2.06.94zm-11 1L8.5 8.5l.94-2.06 2.06-.94-2.06-.94L8.5 2.5l-.94 2.06-2.06.94zm10 10l.94 2.06.94-2.06 2.06-.94-2.06-.94-.94-2.06-.94 2.06-2.06.94z\"/><path d=\"M17.41 7.96l-1.37-1.37c-.4-.4-.92-.59-1.43-.59-.52 0-1.04.2-1.43.59L10.3 9.45l-7.72 7.72c-.78.78-.78 2.05 0 2.83L4 21.41c.39.39.9.59 1.41.59.51 0 1.02-.2 1.41-.59l7.78-7.78 2.81-2.81c.8-.78.8-2.07 0-2.86zM5.41 20L4 18.59l7.72-7.72 1.47 1.35L5.41 20z\"/>\n",
              "  </svg>\n",
              "      </button>\n",
              "      \n",
              "  <style>\n",
              "    .colab-df-container {\n",
              "      display:flex;\n",
              "      flex-wrap:wrap;\n",
              "      gap: 12px;\n",
              "    }\n",
              "\n",
              "    .colab-df-convert {\n",
              "      background-color: #E8F0FE;\n",
              "      border: none;\n",
              "      border-radius: 50%;\n",
              "      cursor: pointer;\n",
              "      display: none;\n",
              "      fill: #1967D2;\n",
              "      height: 32px;\n",
              "      padding: 0 0 0 0;\n",
              "      width: 32px;\n",
              "    }\n",
              "\n",
              "    .colab-df-convert:hover {\n",
              "      background-color: #E2EBFA;\n",
              "      box-shadow: 0px 1px 2px rgba(60, 64, 67, 0.3), 0px 1px 3px 1px rgba(60, 64, 67, 0.15);\n",
              "      fill: #174EA6;\n",
              "    }\n",
              "\n",
              "    [theme=dark] .colab-df-convert {\n",
              "      background-color: #3B4455;\n",
              "      fill: #D2E3FC;\n",
              "    }\n",
              "\n",
              "    [theme=dark] .colab-df-convert:hover {\n",
              "      background-color: #434B5C;\n",
              "      box-shadow: 0px 1px 3px 1px rgba(0, 0, 0, 0.15);\n",
              "      filter: drop-shadow(0px 1px 2px rgba(0, 0, 0, 0.3));\n",
              "      fill: #FFFFFF;\n",
              "    }\n",
              "  </style>\n",
              "\n",
              "      <script>\n",
              "        const buttonEl =\n",
              "          document.querySelector('#df-5aa2b289-0a48-42fc-8e3b-201d2b89dd27 button.colab-df-convert');\n",
              "        buttonEl.style.display =\n",
              "          google.colab.kernel.accessAllowed ? 'block' : 'none';\n",
              "\n",
              "        async function convertToInteractive(key) {\n",
              "          const element = document.querySelector('#df-5aa2b289-0a48-42fc-8e3b-201d2b89dd27');\n",
              "          const dataTable =\n",
              "            await google.colab.kernel.invokeFunction('convertToInteractive',\n",
              "                                                     [key], {});\n",
              "          if (!dataTable) return;\n",
              "\n",
              "          const docLinkHtml = 'Like what you see? Visit the ' +\n",
              "            '<a target=\"_blank\" href=https://colab.research.google.com/notebooks/data_table.ipynb>data table notebook</a>'\n",
              "            + ' to learn more about interactive tables.';\n",
              "          element.innerHTML = '';\n",
              "          dataTable['output_type'] = 'display_data';\n",
              "          await google.colab.output.renderOutput(dataTable, element);\n",
              "          const docLink = document.createElement('div');\n",
              "          docLink.innerHTML = docLinkHtml;\n",
              "          element.appendChild(docLink);\n",
              "        }\n",
              "      </script>\n",
              "    </div>\n",
              "  </div>\n",
              "  "
            ]
          },
          "metadata": {},
          "execution_count": 466
        }
      ]
    },
    {
      "cell_type": "markdown",
      "source": [
        "## Tabela Filtrada (escolha de colunas para elaboração de hipóteses)"
      ],
      "metadata": {
        "id": "Qo2Mcirw6Koq"
      }
    },
    {
      "cell_type": "markdown",
      "source": [
        "    NOME                                               NOT NULLs       TYPE   Tipo de Amostra\n",
        "    regime_tratamento                                  623 non-null    object  Qualitativa Nominal\n",
        "    tempo_desde_o_diagnostico_ate_a_primeira_recidiva  623 non-null    float   Quantitiva\n",
        "    progesterona                                       623 non-null    bool    Quantitiva   \n",
        "    progesterona_quantificacao_inicial                 623 non-null    int64   Quantitiva\n",
        "    progesterona_quantificacao_final                   623 non-null    int64  Quantitiva  \n",
        "    estrogenio                                         623 non-null    bool   Qualitativa Ordinal   \n",
        "    estrogenio_quantificacao_inicial                   623 non-null    int64  Quantitiva  \n",
        "    estrogenio_quantificacao_final                     623 non-null    int64  Quantitiva  \n",
        "    ki67_inicial                                       623 non-null    int64  Quantitiva  \n",
        "    ki67_final                                         623 non-null    int64  Quantitiva "
      ],
      "metadata": {
        "id": "WMcTrOMY6Yf2"
      }
    },
    {
      "cell_type": "code",
      "source": [
        "df_f = df.loc[:,['record_id', 'tempo_desde_o_diagnostico_ate_a_primeira_recidiva', 'progesterona', 'progesterona_quantificacao_inicial', 'progesterona_quantificacao_final', 'estrogenio', 'estrogenio_quantificacao_inicial', 'estrogenio_quantificacao_final', 'ki67_inicial', 'ki67_final']]\n",
        "df_f = df_f.dropna(subset=['tempo_desde_o_diagnostico_ate_a_primeira_recidiva'])\n",
        "df_f.info()"
      ],
      "metadata": {
        "colab": {
          "base_uri": "https://localhost:8080/"
        },
        "id": "m62gCSuf6XDY",
        "outputId": "011c2519-2840-4624-b81e-f57abdcb617e"
      },
      "execution_count": 467,
      "outputs": [
        {
          "output_type": "stream",
          "name": "stdout",
          "text": [
            "<class 'pandas.core.frame.DataFrame'>\n",
            "Int64Index: 1011 entries, 1 to 3335\n",
            "Data columns (total 10 columns):\n",
            " #   Column                                             Non-Null Count  Dtype  \n",
            "---  ------                                             --------------  -----  \n",
            " 0   record_id                                          1011 non-null   int64  \n",
            " 1   tempo_desde_o_diagnostico_ate_a_primeira_recidiva  1011 non-null   float64\n",
            " 2   progesterona                                       1011 non-null   bool   \n",
            " 3   progesterona_quantificacao_inicial                 1011 non-null   float64\n",
            " 4   progesterona_quantificacao_final                   1011 non-null   float64\n",
            " 5   estrogenio                                         1011 non-null   bool   \n",
            " 6   estrogenio_quantificacao_inicial                   1011 non-null   float64\n",
            " 7   estrogenio_quantificacao_final                     1011 non-null   float64\n",
            " 8   ki67_inicial                                       1011 non-null   float64\n",
            " 9   ki67_final                                         1011 non-null   float64\n",
            "dtypes: bool(2), float64(7), int64(1)\n",
            "memory usage: 73.1 KB\n"
          ]
        }
      ]
    },
    {
      "cell_type": "code",
      "source": [
        "df_f.describe()"
      ],
      "metadata": {
        "colab": {
          "base_uri": "https://localhost:8080/",
          "height": 0
        },
        "id": "VS0F8B1C6b4J",
        "outputId": "f903fac2-e683-40d6-a0c8-b843a288727e"
      },
      "execution_count": 468,
      "outputs": [
        {
          "output_type": "execute_result",
          "data": {
            "text/plain": [
              "       record_id  tempo_desde_o_diagnostico_ate_a_primeira_recidiva  \\\n",
              "count    1011.00                                            1011.00   \n",
              "mean    52351.33                                               0.20   \n",
              "std     19854.10                                               0.17   \n",
              "min       710.00                                               0.00   \n",
              "25%     36387.00                                               0.08   \n",
              "50%     58544.00                                               0.15   \n",
              "75%     69566.00                                               0.28   \n",
              "max     80131.00                                               1.00   \n",
              "\n",
              "       progesterona_quantificacao_inicial  progesterona_quantificacao_final  \\\n",
              "count                             1011.00                           1011.00   \n",
              "mean                                 0.26                              0.25   \n",
              "std                                  0.37                              0.37   \n",
              "min                                  0.00                              0.00   \n",
              "25%                                  0.00                              0.00   \n",
              "50%                                  0.01                              0.01   \n",
              "75%                                  0.60                              0.50   \n",
              "max                                  1.00                              1.00   \n",
              "\n",
              "       estrogenio_quantificacao_inicial  estrogenio_quantificacao_final  \\\n",
              "count                           1011.00                         1011.00   \n",
              "mean                               0.40                            0.39   \n",
              "std                                0.45                            0.45   \n",
              "min                                0.00                            0.00   \n",
              "25%                                0.00                            0.00   \n",
              "50%                                0.01                            0.01   \n",
              "75%                                0.90                            0.90   \n",
              "max                                1.00                            1.00   \n",
              "\n",
              "       ki67_inicial  ki67_final  \n",
              "count       1011.00     1011.00  \n",
              "mean           0.40        0.40  \n",
              "std            0.23        0.23  \n",
              "min            0.00        0.00  \n",
              "25%            0.20        0.20  \n",
              "50%            0.32        0.30  \n",
              "75%            0.55        0.55  \n",
              "max            0.95        0.95  "
            ],
            "text/html": [
              "\n",
              "  <div id=\"df-716d8675-cb30-4a52-8bfe-078e10b8196c\">\n",
              "    <div class=\"colab-df-container\">\n",
              "      <div>\n",
              "<style scoped>\n",
              "    .dataframe tbody tr th:only-of-type {\n",
              "        vertical-align: middle;\n",
              "    }\n",
              "\n",
              "    .dataframe tbody tr th {\n",
              "        vertical-align: top;\n",
              "    }\n",
              "\n",
              "    .dataframe thead th {\n",
              "        text-align: right;\n",
              "    }\n",
              "</style>\n",
              "<table border=\"1\" class=\"dataframe\">\n",
              "  <thead>\n",
              "    <tr style=\"text-align: right;\">\n",
              "      <th></th>\n",
              "      <th>record_id</th>\n",
              "      <th>tempo_desde_o_diagnostico_ate_a_primeira_recidiva</th>\n",
              "      <th>progesterona_quantificacao_inicial</th>\n",
              "      <th>progesterona_quantificacao_final</th>\n",
              "      <th>estrogenio_quantificacao_inicial</th>\n",
              "      <th>estrogenio_quantificacao_final</th>\n",
              "      <th>ki67_inicial</th>\n",
              "      <th>ki67_final</th>\n",
              "    </tr>\n",
              "  </thead>\n",
              "  <tbody>\n",
              "    <tr>\n",
              "      <th>count</th>\n",
              "      <td>1011.00</td>\n",
              "      <td>1011.00</td>\n",
              "      <td>1011.00</td>\n",
              "      <td>1011.00</td>\n",
              "      <td>1011.00</td>\n",
              "      <td>1011.00</td>\n",
              "      <td>1011.00</td>\n",
              "      <td>1011.00</td>\n",
              "    </tr>\n",
              "    <tr>\n",
              "      <th>mean</th>\n",
              "      <td>52351.33</td>\n",
              "      <td>0.20</td>\n",
              "      <td>0.26</td>\n",
              "      <td>0.25</td>\n",
              "      <td>0.40</td>\n",
              "      <td>0.39</td>\n",
              "      <td>0.40</td>\n",
              "      <td>0.40</td>\n",
              "    </tr>\n",
              "    <tr>\n",
              "      <th>std</th>\n",
              "      <td>19854.10</td>\n",
              "      <td>0.17</td>\n",
              "      <td>0.37</td>\n",
              "      <td>0.37</td>\n",
              "      <td>0.45</td>\n",
              "      <td>0.45</td>\n",
              "      <td>0.23</td>\n",
              "      <td>0.23</td>\n",
              "    </tr>\n",
              "    <tr>\n",
              "      <th>min</th>\n",
              "      <td>710.00</td>\n",
              "      <td>0.00</td>\n",
              "      <td>0.00</td>\n",
              "      <td>0.00</td>\n",
              "      <td>0.00</td>\n",
              "      <td>0.00</td>\n",
              "      <td>0.00</td>\n",
              "      <td>0.00</td>\n",
              "    </tr>\n",
              "    <tr>\n",
              "      <th>25%</th>\n",
              "      <td>36387.00</td>\n",
              "      <td>0.08</td>\n",
              "      <td>0.00</td>\n",
              "      <td>0.00</td>\n",
              "      <td>0.00</td>\n",
              "      <td>0.00</td>\n",
              "      <td>0.20</td>\n",
              "      <td>0.20</td>\n",
              "    </tr>\n",
              "    <tr>\n",
              "      <th>50%</th>\n",
              "      <td>58544.00</td>\n",
              "      <td>0.15</td>\n",
              "      <td>0.01</td>\n",
              "      <td>0.01</td>\n",
              "      <td>0.01</td>\n",
              "      <td>0.01</td>\n",
              "      <td>0.32</td>\n",
              "      <td>0.30</td>\n",
              "    </tr>\n",
              "    <tr>\n",
              "      <th>75%</th>\n",
              "      <td>69566.00</td>\n",
              "      <td>0.28</td>\n",
              "      <td>0.60</td>\n",
              "      <td>0.50</td>\n",
              "      <td>0.90</td>\n",
              "      <td>0.90</td>\n",
              "      <td>0.55</td>\n",
              "      <td>0.55</td>\n",
              "    </tr>\n",
              "    <tr>\n",
              "      <th>max</th>\n",
              "      <td>80131.00</td>\n",
              "      <td>1.00</td>\n",
              "      <td>1.00</td>\n",
              "      <td>1.00</td>\n",
              "      <td>1.00</td>\n",
              "      <td>1.00</td>\n",
              "      <td>0.95</td>\n",
              "      <td>0.95</td>\n",
              "    </tr>\n",
              "  </tbody>\n",
              "</table>\n",
              "</div>\n",
              "      <button class=\"colab-df-convert\" onclick=\"convertToInteractive('df-716d8675-cb30-4a52-8bfe-078e10b8196c')\"\n",
              "              title=\"Convert this dataframe to an interactive table.\"\n",
              "              style=\"display:none;\">\n",
              "        \n",
              "  <svg xmlns=\"http://www.w3.org/2000/svg\" height=\"24px\"viewBox=\"0 0 24 24\"\n",
              "       width=\"24px\">\n",
              "    <path d=\"M0 0h24v24H0V0z\" fill=\"none\"/>\n",
              "    <path d=\"M18.56 5.44l.94 2.06.94-2.06 2.06-.94-2.06-.94-.94-2.06-.94 2.06-2.06.94zm-11 1L8.5 8.5l.94-2.06 2.06-.94-2.06-.94L8.5 2.5l-.94 2.06-2.06.94zm10 10l.94 2.06.94-2.06 2.06-.94-2.06-.94-.94-2.06-.94 2.06-2.06.94z\"/><path d=\"M17.41 7.96l-1.37-1.37c-.4-.4-.92-.59-1.43-.59-.52 0-1.04.2-1.43.59L10.3 9.45l-7.72 7.72c-.78.78-.78 2.05 0 2.83L4 21.41c.39.39.9.59 1.41.59.51 0 1.02-.2 1.41-.59l7.78-7.78 2.81-2.81c.8-.78.8-2.07 0-2.86zM5.41 20L4 18.59l7.72-7.72 1.47 1.35L5.41 20z\"/>\n",
              "  </svg>\n",
              "      </button>\n",
              "      \n",
              "  <style>\n",
              "    .colab-df-container {\n",
              "      display:flex;\n",
              "      flex-wrap:wrap;\n",
              "      gap: 12px;\n",
              "    }\n",
              "\n",
              "    .colab-df-convert {\n",
              "      background-color: #E8F0FE;\n",
              "      border: none;\n",
              "      border-radius: 50%;\n",
              "      cursor: pointer;\n",
              "      display: none;\n",
              "      fill: #1967D2;\n",
              "      height: 32px;\n",
              "      padding: 0 0 0 0;\n",
              "      width: 32px;\n",
              "    }\n",
              "\n",
              "    .colab-df-convert:hover {\n",
              "      background-color: #E2EBFA;\n",
              "      box-shadow: 0px 1px 2px rgba(60, 64, 67, 0.3), 0px 1px 3px 1px rgba(60, 64, 67, 0.15);\n",
              "      fill: #174EA6;\n",
              "    }\n",
              "\n",
              "    [theme=dark] .colab-df-convert {\n",
              "      background-color: #3B4455;\n",
              "      fill: #D2E3FC;\n",
              "    }\n",
              "\n",
              "    [theme=dark] .colab-df-convert:hover {\n",
              "      background-color: #434B5C;\n",
              "      box-shadow: 0px 1px 3px 1px rgba(0, 0, 0, 0.15);\n",
              "      filter: drop-shadow(0px 1px 2px rgba(0, 0, 0, 0.3));\n",
              "      fill: #FFFFFF;\n",
              "    }\n",
              "  </style>\n",
              "\n",
              "      <script>\n",
              "        const buttonEl =\n",
              "          document.querySelector('#df-716d8675-cb30-4a52-8bfe-078e10b8196c button.colab-df-convert');\n",
              "        buttonEl.style.display =\n",
              "          google.colab.kernel.accessAllowed ? 'block' : 'none';\n",
              "\n",
              "        async function convertToInteractive(key) {\n",
              "          const element = document.querySelector('#df-716d8675-cb30-4a52-8bfe-078e10b8196c');\n",
              "          const dataTable =\n",
              "            await google.colab.kernel.invokeFunction('convertToInteractive',\n",
              "                                                     [key], {});\n",
              "          if (!dataTable) return;\n",
              "\n",
              "          const docLinkHtml = 'Like what you see? Visit the ' +\n",
              "            '<a target=\"_blank\" href=https://colab.research.google.com/notebooks/data_table.ipynb>data table notebook</a>'\n",
              "            + ' to learn more about interactive tables.';\n",
              "          element.innerHTML = '';\n",
              "          dataTable['output_type'] = 'display_data';\n",
              "          await google.colab.output.renderOutput(dataTable, element);\n",
              "          const docLink = document.createElement('div');\n",
              "          docLink.innerHTML = docLinkHtml;\n",
              "          element.appendChild(docLink);\n",
              "        }\n",
              "      </script>\n",
              "    </div>\n",
              "  </div>\n",
              "  "
            ]
          },
          "metadata": {},
          "execution_count": 468
        }
      ]
    },
    {
      "cell_type": "code",
      "source": [
        "df_f.head()"
      ],
      "metadata": {
        "colab": {
          "base_uri": "https://localhost:8080/",
          "height": 0
        },
        "id": "xTP9uXWR6ibi",
        "outputId": "b02c0ae1-0a21-454a-8325-2274347499f0"
      },
      "execution_count": 469,
      "outputs": [
        {
          "output_type": "execute_result",
          "data": {
            "text/plain": [
              "   record_id  tempo_desde_o_diagnostico_ate_a_primeira_recidiva  progesterona  \\\n",
              "1        710                                               0.74         False   \n",
              "2       1367                                               0.27          True   \n",
              "4       1705                                               0.62         False   \n",
              "5       1873                                               0.83          True   \n",
              "8       2016                                               0.34          True   \n",
              "\n",
              "   progesterona_quantificacao_inicial  progesterona_quantificacao_final  \\\n",
              "1                                0.00                               0.0   \n",
              "2                                0.05                               0.0   \n",
              "4                                0.00                               0.0   \n",
              "5                                0.90                               0.9   \n",
              "8                                0.50                               0.5   \n",
              "\n",
              "   estrogenio  estrogenio_quantificacao_inicial  \\\n",
              "1        True                              0.01   \n",
              "2        True                              0.60   \n",
              "4       False                              0.00   \n",
              "5        True                              0.90   \n",
              "8        True                              0.50   \n",
              "\n",
              "   estrogenio_quantificacao_final  ki67_inicial  ki67_final  \n",
              "1                            0.01          0.20        0.20  \n",
              "2                            0.30          0.40        0.40  \n",
              "4                            0.00          0.55        0.55  \n",
              "5                            0.90          0.10        0.10  \n",
              "8                            0.50          0.26        0.26  "
            ],
            "text/html": [
              "\n",
              "  <div id=\"df-2a978ea3-64d9-49f4-afab-f16af6aa49f5\">\n",
              "    <div class=\"colab-df-container\">\n",
              "      <div>\n",
              "<style scoped>\n",
              "    .dataframe tbody tr th:only-of-type {\n",
              "        vertical-align: middle;\n",
              "    }\n",
              "\n",
              "    .dataframe tbody tr th {\n",
              "        vertical-align: top;\n",
              "    }\n",
              "\n",
              "    .dataframe thead th {\n",
              "        text-align: right;\n",
              "    }\n",
              "</style>\n",
              "<table border=\"1\" class=\"dataframe\">\n",
              "  <thead>\n",
              "    <tr style=\"text-align: right;\">\n",
              "      <th></th>\n",
              "      <th>record_id</th>\n",
              "      <th>tempo_desde_o_diagnostico_ate_a_primeira_recidiva</th>\n",
              "      <th>progesterona</th>\n",
              "      <th>progesterona_quantificacao_inicial</th>\n",
              "      <th>progesterona_quantificacao_final</th>\n",
              "      <th>estrogenio</th>\n",
              "      <th>estrogenio_quantificacao_inicial</th>\n",
              "      <th>estrogenio_quantificacao_final</th>\n",
              "      <th>ki67_inicial</th>\n",
              "      <th>ki67_final</th>\n",
              "    </tr>\n",
              "  </thead>\n",
              "  <tbody>\n",
              "    <tr>\n",
              "      <th>1</th>\n",
              "      <td>710</td>\n",
              "      <td>0.74</td>\n",
              "      <td>False</td>\n",
              "      <td>0.00</td>\n",
              "      <td>0.0</td>\n",
              "      <td>True</td>\n",
              "      <td>0.01</td>\n",
              "      <td>0.01</td>\n",
              "      <td>0.20</td>\n",
              "      <td>0.20</td>\n",
              "    </tr>\n",
              "    <tr>\n",
              "      <th>2</th>\n",
              "      <td>1367</td>\n",
              "      <td>0.27</td>\n",
              "      <td>True</td>\n",
              "      <td>0.05</td>\n",
              "      <td>0.0</td>\n",
              "      <td>True</td>\n",
              "      <td>0.60</td>\n",
              "      <td>0.30</td>\n",
              "      <td>0.40</td>\n",
              "      <td>0.40</td>\n",
              "    </tr>\n",
              "    <tr>\n",
              "      <th>4</th>\n",
              "      <td>1705</td>\n",
              "      <td>0.62</td>\n",
              "      <td>False</td>\n",
              "      <td>0.00</td>\n",
              "      <td>0.0</td>\n",
              "      <td>False</td>\n",
              "      <td>0.00</td>\n",
              "      <td>0.00</td>\n",
              "      <td>0.55</td>\n",
              "      <td>0.55</td>\n",
              "    </tr>\n",
              "    <tr>\n",
              "      <th>5</th>\n",
              "      <td>1873</td>\n",
              "      <td>0.83</td>\n",
              "      <td>True</td>\n",
              "      <td>0.90</td>\n",
              "      <td>0.9</td>\n",
              "      <td>True</td>\n",
              "      <td>0.90</td>\n",
              "      <td>0.90</td>\n",
              "      <td>0.10</td>\n",
              "      <td>0.10</td>\n",
              "    </tr>\n",
              "    <tr>\n",
              "      <th>8</th>\n",
              "      <td>2016</td>\n",
              "      <td>0.34</td>\n",
              "      <td>True</td>\n",
              "      <td>0.50</td>\n",
              "      <td>0.5</td>\n",
              "      <td>True</td>\n",
              "      <td>0.50</td>\n",
              "      <td>0.50</td>\n",
              "      <td>0.26</td>\n",
              "      <td>0.26</td>\n",
              "    </tr>\n",
              "  </tbody>\n",
              "</table>\n",
              "</div>\n",
              "      <button class=\"colab-df-convert\" onclick=\"convertToInteractive('df-2a978ea3-64d9-49f4-afab-f16af6aa49f5')\"\n",
              "              title=\"Convert this dataframe to an interactive table.\"\n",
              "              style=\"display:none;\">\n",
              "        \n",
              "  <svg xmlns=\"http://www.w3.org/2000/svg\" height=\"24px\"viewBox=\"0 0 24 24\"\n",
              "       width=\"24px\">\n",
              "    <path d=\"M0 0h24v24H0V0z\" fill=\"none\"/>\n",
              "    <path d=\"M18.56 5.44l.94 2.06.94-2.06 2.06-.94-2.06-.94-.94-2.06-.94 2.06-2.06.94zm-11 1L8.5 8.5l.94-2.06 2.06-.94-2.06-.94L8.5 2.5l-.94 2.06-2.06.94zm10 10l.94 2.06.94-2.06 2.06-.94-2.06-.94-.94-2.06-.94 2.06-2.06.94z\"/><path d=\"M17.41 7.96l-1.37-1.37c-.4-.4-.92-.59-1.43-.59-.52 0-1.04.2-1.43.59L10.3 9.45l-7.72 7.72c-.78.78-.78 2.05 0 2.83L4 21.41c.39.39.9.59 1.41.59.51 0 1.02-.2 1.41-.59l7.78-7.78 2.81-2.81c.8-.78.8-2.07 0-2.86zM5.41 20L4 18.59l7.72-7.72 1.47 1.35L5.41 20z\"/>\n",
              "  </svg>\n",
              "      </button>\n",
              "      \n",
              "  <style>\n",
              "    .colab-df-container {\n",
              "      display:flex;\n",
              "      flex-wrap:wrap;\n",
              "      gap: 12px;\n",
              "    }\n",
              "\n",
              "    .colab-df-convert {\n",
              "      background-color: #E8F0FE;\n",
              "      border: none;\n",
              "      border-radius: 50%;\n",
              "      cursor: pointer;\n",
              "      display: none;\n",
              "      fill: #1967D2;\n",
              "      height: 32px;\n",
              "      padding: 0 0 0 0;\n",
              "      width: 32px;\n",
              "    }\n",
              "\n",
              "    .colab-df-convert:hover {\n",
              "      background-color: #E2EBFA;\n",
              "      box-shadow: 0px 1px 2px rgba(60, 64, 67, 0.3), 0px 1px 3px 1px rgba(60, 64, 67, 0.15);\n",
              "      fill: #174EA6;\n",
              "    }\n",
              "\n",
              "    [theme=dark] .colab-df-convert {\n",
              "      background-color: #3B4455;\n",
              "      fill: #D2E3FC;\n",
              "    }\n",
              "\n",
              "    [theme=dark] .colab-df-convert:hover {\n",
              "      background-color: #434B5C;\n",
              "      box-shadow: 0px 1px 3px 1px rgba(0, 0, 0, 0.15);\n",
              "      filter: drop-shadow(0px 1px 2px rgba(0, 0, 0, 0.3));\n",
              "      fill: #FFFFFF;\n",
              "    }\n",
              "  </style>\n",
              "\n",
              "      <script>\n",
              "        const buttonEl =\n",
              "          document.querySelector('#df-2a978ea3-64d9-49f4-afab-f16af6aa49f5 button.colab-df-convert');\n",
              "        buttonEl.style.display =\n",
              "          google.colab.kernel.accessAllowed ? 'block' : 'none';\n",
              "\n",
              "        async function convertToInteractive(key) {\n",
              "          const element = document.querySelector('#df-2a978ea3-64d9-49f4-afab-f16af6aa49f5');\n",
              "          const dataTable =\n",
              "            await google.colab.kernel.invokeFunction('convertToInteractive',\n",
              "                                                     [key], {});\n",
              "          if (!dataTable) return;\n",
              "\n",
              "          const docLinkHtml = 'Like what you see? Visit the ' +\n",
              "            '<a target=\"_blank\" href=https://colab.research.google.com/notebooks/data_table.ipynb>data table notebook</a>'\n",
              "            + ' to learn more about interactive tables.';\n",
              "          element.innerHTML = '';\n",
              "          dataTable['output_type'] = 'display_data';\n",
              "          await google.colab.output.renderOutput(dataTable, element);\n",
              "          const docLink = document.createElement('div');\n",
              "          docLink.innerHTML = docLinkHtml;\n",
              "          element.appendChild(docLink);\n",
              "        }\n",
              "      </script>\n",
              "    </div>\n",
              "  </div>\n",
              "  "
            ]
          },
          "metadata": {},
          "execution_count": 469
        }
      ]
    },
    {
      "cell_type": "code",
      "source": [
        "df_f['progesterona'] = df_f['progesterona'].replace({True:1, False: 0})\n",
        "df_f['estrogenio'] = df_f['estrogenio'].replace({True:1, False: 0})\n",
        "df_f"
      ],
      "metadata": {
        "colab": {
          "base_uri": "https://localhost:8080/",
          "height": 0
        },
        "id": "tNjqR8JU6leR",
        "outputId": "bd4e1001-15b6-4fb9-8581-4804f9878b5b"
      },
      "execution_count": 470,
      "outputs": [
        {
          "output_type": "execute_result",
          "data": {
            "text/plain": [
              "      record_id  tempo_desde_o_diagnostico_ate_a_primeira_recidiva  \\\n",
              "1           710                                               0.74   \n",
              "2          1367                                               0.27   \n",
              "4          1705                                               0.62   \n",
              "5          1873                                               0.83   \n",
              "8          2016                                               0.34   \n",
              "...         ...                                                ...   \n",
              "3299      78714                                               0.06   \n",
              "3300      78742                                               0.05   \n",
              "3303      78796                                               0.07   \n",
              "3304      78798                                               0.18   \n",
              "3335      80131                                               0.14   \n",
              "\n",
              "      progesterona  progesterona_quantificacao_inicial  \\\n",
              "1                0                                0.00   \n",
              "2                1                                0.05   \n",
              "4                0                                0.00   \n",
              "5                1                                0.90   \n",
              "8                1                                0.50   \n",
              "...            ...                                 ...   \n",
              "3299             1                                0.60   \n",
              "3300             1                                0.80   \n",
              "3303             0                                0.00   \n",
              "3304             1                                0.40   \n",
              "3335             1                                1.00   \n",
              "\n",
              "      progesterona_quantificacao_final  estrogenio  \\\n",
              "1                                  0.0           1   \n",
              "2                                  0.0           1   \n",
              "4                                  0.0           0   \n",
              "5                                  0.9           1   \n",
              "8                                  0.5           1   \n",
              "...                                ...         ...   \n",
              "3299                               0.2           1   \n",
              "3300                               0.8           1   \n",
              "3303                               0.0           0   \n",
              "3304                               0.4           1   \n",
              "3335                               1.0           1   \n",
              "\n",
              "      estrogenio_quantificacao_inicial  estrogenio_quantificacao_final  \\\n",
              "1                                 0.01                            0.01   \n",
              "2                                 0.60                            0.30   \n",
              "4                                 0.00                            0.00   \n",
              "5                                 0.90                            0.90   \n",
              "8                                 0.50                            0.50   \n",
              "...                                ...                             ...   \n",
              "3299                              1.00                            1.00   \n",
              "3300                              0.90                            0.90   \n",
              "3303                              0.00                            0.00   \n",
              "3304                              1.00                            1.00   \n",
              "3335                              1.00                            1.00   \n",
              "\n",
              "      ki67_inicial  ki67_final  \n",
              "1             0.20        0.20  \n",
              "2             0.40        0.40  \n",
              "4             0.55        0.55  \n",
              "5             0.10        0.10  \n",
              "8             0.26        0.26  \n",
              "...            ...         ...  \n",
              "3299          0.25        0.25  \n",
              "3300          0.30        0.30  \n",
              "3303          0.90        0.90  \n",
              "3304          0.20        0.20  \n",
              "3335          0.05        0.05  \n",
              "\n",
              "[1011 rows x 10 columns]"
            ],
            "text/html": [
              "\n",
              "  <div id=\"df-8d6d0682-5251-4476-9e9c-ab80a4dd0417\">\n",
              "    <div class=\"colab-df-container\">\n",
              "      <div>\n",
              "<style scoped>\n",
              "    .dataframe tbody tr th:only-of-type {\n",
              "        vertical-align: middle;\n",
              "    }\n",
              "\n",
              "    .dataframe tbody tr th {\n",
              "        vertical-align: top;\n",
              "    }\n",
              "\n",
              "    .dataframe thead th {\n",
              "        text-align: right;\n",
              "    }\n",
              "</style>\n",
              "<table border=\"1\" class=\"dataframe\">\n",
              "  <thead>\n",
              "    <tr style=\"text-align: right;\">\n",
              "      <th></th>\n",
              "      <th>record_id</th>\n",
              "      <th>tempo_desde_o_diagnostico_ate_a_primeira_recidiva</th>\n",
              "      <th>progesterona</th>\n",
              "      <th>progesterona_quantificacao_inicial</th>\n",
              "      <th>progesterona_quantificacao_final</th>\n",
              "      <th>estrogenio</th>\n",
              "      <th>estrogenio_quantificacao_inicial</th>\n",
              "      <th>estrogenio_quantificacao_final</th>\n",
              "      <th>ki67_inicial</th>\n",
              "      <th>ki67_final</th>\n",
              "    </tr>\n",
              "  </thead>\n",
              "  <tbody>\n",
              "    <tr>\n",
              "      <th>1</th>\n",
              "      <td>710</td>\n",
              "      <td>0.74</td>\n",
              "      <td>0</td>\n",
              "      <td>0.00</td>\n",
              "      <td>0.0</td>\n",
              "      <td>1</td>\n",
              "      <td>0.01</td>\n",
              "      <td>0.01</td>\n",
              "      <td>0.20</td>\n",
              "      <td>0.20</td>\n",
              "    </tr>\n",
              "    <tr>\n",
              "      <th>2</th>\n",
              "      <td>1367</td>\n",
              "      <td>0.27</td>\n",
              "      <td>1</td>\n",
              "      <td>0.05</td>\n",
              "      <td>0.0</td>\n",
              "      <td>1</td>\n",
              "      <td>0.60</td>\n",
              "      <td>0.30</td>\n",
              "      <td>0.40</td>\n",
              "      <td>0.40</td>\n",
              "    </tr>\n",
              "    <tr>\n",
              "      <th>4</th>\n",
              "      <td>1705</td>\n",
              "      <td>0.62</td>\n",
              "      <td>0</td>\n",
              "      <td>0.00</td>\n",
              "      <td>0.0</td>\n",
              "      <td>0</td>\n",
              "      <td>0.00</td>\n",
              "      <td>0.00</td>\n",
              "      <td>0.55</td>\n",
              "      <td>0.55</td>\n",
              "    </tr>\n",
              "    <tr>\n",
              "      <th>5</th>\n",
              "      <td>1873</td>\n",
              "      <td>0.83</td>\n",
              "      <td>1</td>\n",
              "      <td>0.90</td>\n",
              "      <td>0.9</td>\n",
              "      <td>1</td>\n",
              "      <td>0.90</td>\n",
              "      <td>0.90</td>\n",
              "      <td>0.10</td>\n",
              "      <td>0.10</td>\n",
              "    </tr>\n",
              "    <tr>\n",
              "      <th>8</th>\n",
              "      <td>2016</td>\n",
              "      <td>0.34</td>\n",
              "      <td>1</td>\n",
              "      <td>0.50</td>\n",
              "      <td>0.5</td>\n",
              "      <td>1</td>\n",
              "      <td>0.50</td>\n",
              "      <td>0.50</td>\n",
              "      <td>0.26</td>\n",
              "      <td>0.26</td>\n",
              "    </tr>\n",
              "    <tr>\n",
              "      <th>...</th>\n",
              "      <td>...</td>\n",
              "      <td>...</td>\n",
              "      <td>...</td>\n",
              "      <td>...</td>\n",
              "      <td>...</td>\n",
              "      <td>...</td>\n",
              "      <td>...</td>\n",
              "      <td>...</td>\n",
              "      <td>...</td>\n",
              "      <td>...</td>\n",
              "    </tr>\n",
              "    <tr>\n",
              "      <th>3299</th>\n",
              "      <td>78714</td>\n",
              "      <td>0.06</td>\n",
              "      <td>1</td>\n",
              "      <td>0.60</td>\n",
              "      <td>0.2</td>\n",
              "      <td>1</td>\n",
              "      <td>1.00</td>\n",
              "      <td>1.00</td>\n",
              "      <td>0.25</td>\n",
              "      <td>0.25</td>\n",
              "    </tr>\n",
              "    <tr>\n",
              "      <th>3300</th>\n",
              "      <td>78742</td>\n",
              "      <td>0.05</td>\n",
              "      <td>1</td>\n",
              "      <td>0.80</td>\n",
              "      <td>0.8</td>\n",
              "      <td>1</td>\n",
              "      <td>0.90</td>\n",
              "      <td>0.90</td>\n",
              "      <td>0.30</td>\n",
              "      <td>0.30</td>\n",
              "    </tr>\n",
              "    <tr>\n",
              "      <th>3303</th>\n",
              "      <td>78796</td>\n",
              "      <td>0.07</td>\n",
              "      <td>0</td>\n",
              "      <td>0.00</td>\n",
              "      <td>0.0</td>\n",
              "      <td>0</td>\n",
              "      <td>0.00</td>\n",
              "      <td>0.00</td>\n",
              "      <td>0.90</td>\n",
              "      <td>0.90</td>\n",
              "    </tr>\n",
              "    <tr>\n",
              "      <th>3304</th>\n",
              "      <td>78798</td>\n",
              "      <td>0.18</td>\n",
              "      <td>1</td>\n",
              "      <td>0.40</td>\n",
              "      <td>0.4</td>\n",
              "      <td>1</td>\n",
              "      <td>1.00</td>\n",
              "      <td>1.00</td>\n",
              "      <td>0.20</td>\n",
              "      <td>0.20</td>\n",
              "    </tr>\n",
              "    <tr>\n",
              "      <th>3335</th>\n",
              "      <td>80131</td>\n",
              "      <td>0.14</td>\n",
              "      <td>1</td>\n",
              "      <td>1.00</td>\n",
              "      <td>1.0</td>\n",
              "      <td>1</td>\n",
              "      <td>1.00</td>\n",
              "      <td>1.00</td>\n",
              "      <td>0.05</td>\n",
              "      <td>0.05</td>\n",
              "    </tr>\n",
              "  </tbody>\n",
              "</table>\n",
              "<p>1011 rows × 10 columns</p>\n",
              "</div>\n",
              "      <button class=\"colab-df-convert\" onclick=\"convertToInteractive('df-8d6d0682-5251-4476-9e9c-ab80a4dd0417')\"\n",
              "              title=\"Convert this dataframe to an interactive table.\"\n",
              "              style=\"display:none;\">\n",
              "        \n",
              "  <svg xmlns=\"http://www.w3.org/2000/svg\" height=\"24px\"viewBox=\"0 0 24 24\"\n",
              "       width=\"24px\">\n",
              "    <path d=\"M0 0h24v24H0V0z\" fill=\"none\"/>\n",
              "    <path d=\"M18.56 5.44l.94 2.06.94-2.06 2.06-.94-2.06-.94-.94-2.06-.94 2.06-2.06.94zm-11 1L8.5 8.5l.94-2.06 2.06-.94-2.06-.94L8.5 2.5l-.94 2.06-2.06.94zm10 10l.94 2.06.94-2.06 2.06-.94-2.06-.94-.94-2.06-.94 2.06-2.06.94z\"/><path d=\"M17.41 7.96l-1.37-1.37c-.4-.4-.92-.59-1.43-.59-.52 0-1.04.2-1.43.59L10.3 9.45l-7.72 7.72c-.78.78-.78 2.05 0 2.83L4 21.41c.39.39.9.59 1.41.59.51 0 1.02-.2 1.41-.59l7.78-7.78 2.81-2.81c.8-.78.8-2.07 0-2.86zM5.41 20L4 18.59l7.72-7.72 1.47 1.35L5.41 20z\"/>\n",
              "  </svg>\n",
              "      </button>\n",
              "      \n",
              "  <style>\n",
              "    .colab-df-container {\n",
              "      display:flex;\n",
              "      flex-wrap:wrap;\n",
              "      gap: 12px;\n",
              "    }\n",
              "\n",
              "    .colab-df-convert {\n",
              "      background-color: #E8F0FE;\n",
              "      border: none;\n",
              "      border-radius: 50%;\n",
              "      cursor: pointer;\n",
              "      display: none;\n",
              "      fill: #1967D2;\n",
              "      height: 32px;\n",
              "      padding: 0 0 0 0;\n",
              "      width: 32px;\n",
              "    }\n",
              "\n",
              "    .colab-df-convert:hover {\n",
              "      background-color: #E2EBFA;\n",
              "      box-shadow: 0px 1px 2px rgba(60, 64, 67, 0.3), 0px 1px 3px 1px rgba(60, 64, 67, 0.15);\n",
              "      fill: #174EA6;\n",
              "    }\n",
              "\n",
              "    [theme=dark] .colab-df-convert {\n",
              "      background-color: #3B4455;\n",
              "      fill: #D2E3FC;\n",
              "    }\n",
              "\n",
              "    [theme=dark] .colab-df-convert:hover {\n",
              "      background-color: #434B5C;\n",
              "      box-shadow: 0px 1px 3px 1px rgba(0, 0, 0, 0.15);\n",
              "      filter: drop-shadow(0px 1px 2px rgba(0, 0, 0, 0.3));\n",
              "      fill: #FFFFFF;\n",
              "    }\n",
              "  </style>\n",
              "\n",
              "      <script>\n",
              "        const buttonEl =\n",
              "          document.querySelector('#df-8d6d0682-5251-4476-9e9c-ab80a4dd0417 button.colab-df-convert');\n",
              "        buttonEl.style.display =\n",
              "          google.colab.kernel.accessAllowed ? 'block' : 'none';\n",
              "\n",
              "        async function convertToInteractive(key) {\n",
              "          const element = document.querySelector('#df-8d6d0682-5251-4476-9e9c-ab80a4dd0417');\n",
              "          const dataTable =\n",
              "            await google.colab.kernel.invokeFunction('convertToInteractive',\n",
              "                                                     [key], {});\n",
              "          if (!dataTable) return;\n",
              "\n",
              "          const docLinkHtml = 'Like what you see? Visit the ' +\n",
              "            '<a target=\"_blank\" href=https://colab.research.google.com/notebooks/data_table.ipynb>data table notebook</a>'\n",
              "            + ' to learn more about interactive tables.';\n",
              "          element.innerHTML = '';\n",
              "          dataTable['output_type'] = 'display_data';\n",
              "          await google.colab.output.renderOutput(dataTable, element);\n",
              "          const docLink = document.createElement('div');\n",
              "          docLink.innerHTML = docLinkHtml;\n",
              "          element.appendChild(docLink);\n",
              "        }\n",
              "      </script>\n",
              "    </div>\n",
              "  </div>\n",
              "  "
            ]
          },
          "metadata": {},
          "execution_count": 470
        }
      ]
    },
    {
      "cell_type": "markdown",
      "source": [
        "## Hipóteses"
      ],
      "metadata": {
        "id": "UqxpumZl7Mdk"
      }
    },
    {
      "cell_type": "markdown",
      "source": [
        "Primeira hipotese onde tentamos encontrar uma relação no fato da mulher engravidar mais cedo, também desenvolver o cancer de mama de uma forma mais precoce"
      ],
      "metadata": {
        "id": "uGWxkjMm7uYd"
      }
    },
    {
      "cell_type": "code",
      "source": [
        "sns.barplot(data=df_demograficos, x=\"idade_primeira_gestacao\", y=\"diagnostico_idade\")"
      ],
      "metadata": {
        "colab": {
          "base_uri": "https://localhost:8080/",
          "height": 298
        },
        "id": "R_ctzzu87Pdo",
        "outputId": "bf2ca748-0962-4584-9904-dfd68e98dc43"
      },
      "execution_count": 471,
      "outputs": [
        {
          "output_type": "execute_result",
          "data": {
            "text/plain": [
              "<AxesSubplot:xlabel='idade_primeira_gestacao', ylabel='diagnostico_idade'>"
            ]
          },
          "metadata": {},
          "execution_count": 471
        },
        {
          "output_type": "display_data",
          "data": {
            "text/plain": [
              "<Figure size 432x288 with 1 Axes>"
            ],
            "image/png": "[encoded data removed]"
          },
          "metadata": {
            "needs_background": "light"
          }
        }
      ]
    },
    {
      "cell_type": "markdown",
      "source": [
        "Segunda hipótese onde tentamos identificar a relação entre quanto mais cedo a mulher menstrua mais cedo é a possibilidade dela desenvolver o cancer de mama"
      ],
      "metadata": {
        "id": "6J4CXQuV72QI"
      }
    },
    {
      "cell_type": "code",
      "source": [
        "sns.barplot(data=df_demograficos, x=\"idade_primeira_menstruacao\", y=\"diagnostico_idade\")"
      ],
      "metadata": {
        "colab": {
          "base_uri": "https://localhost:8080/",
          "height": 298
        },
        "id": "_6nI3OLe7peT",
        "outputId": "af74c255-15bd-45a7-a80f-ce2345093136"
      },
      "execution_count": 472,
      "outputs": [
        {
          "output_type": "execute_result",
          "data": {
            "text/plain": [
              "<AxesSubplot:xlabel='idade_primeira_menstruacao', ylabel='diagnostico_idade'>"
            ]
          },
          "metadata": {},
          "execution_count": 472
        },
        {
          "output_type": "display_data",
          "data": {
            "text/plain": [
              "<Figure size 432x288 with 1 Axes>"
            ],
            "image/png": "[encoded data removed]"
          },
          "metadata": {
            "needs_background": "light"
          }
        }
      ]
    },
    {
      "cell_type": "code",
      "source": [
        "df['progesterona_quantificacao_inicial'] = df['progesterona_quantificacao_inicial'].astype('float')\n",
        "df_agrupado_obito = df.groupby(\"ultimo_dado_paciente\")\n",
        "df_agrupado_obito['progesterona_quantificacao_inicial'].mean().sort_values()[:1].plot(kind='bar', ylabel=\"Quantidade inicial de progesterona, em média\", xlabel=\"Último dado do paciente\", title=\"Progesterona inicial x probabilidade de cura\")"
      ],
      "metadata": {
        "colab": {
          "base_uri": "https://localhost:8080/",
          "height": 415
        },
        "id": "Ou7hxArY7xCC",
        "outputId": "c9078929-2c15-46a6-ec76-7a6b21151c8a"
      },
      "execution_count": 473,
      "outputs": [
        {
          "output_type": "execute_result",
          "data": {
            "text/plain": [
              "<AxesSubplot:title={'center':'Progesterona inicial x probabilidade de cura'}, xlabel='Último dado do paciente', ylabel='Quantidade inicial de progesterona, em média'>"
            ]
          },
          "metadata": {},
          "execution_count": 473
        },
        {
          "output_type": "display_data",
          "data": {
            "text/plain": [
              "<Figure size 432x288 with 1 Axes>"
            ],
            "image/png": "[encoded data removed]"
          },
          "metadata": {
            "needs_background": "light"
          }
        }
      ]
    },
    {
      "cell_type": "code",
      "source": [
        "df_agrupado_ki67 = df.groupby(\"progesterona_quantificacao_inicial\")\n",
        "df_agrupado_ki67['ki67_inicial'].mean().plot(kind='line', ylabel='ki67 inicial', xlabel='Progesterona inicial', title=\"Progesterona inicial x ki67 inicial\")"
      ],
      "metadata": {
        "colab": {
          "base_uri": "https://localhost:8080/",
          "height": 313
        },
        "id": "lpgm9PGH8CDi",
        "outputId": "6da93b89-1a16-4c64-8f89-53edcb726a4a"
      },
      "execution_count": 474,
      "outputs": [
        {
          "output_type": "execute_result",
          "data": {
            "text/plain": [
              "<AxesSubplot:title={'center':'Progesterona inicial x ki67 inicial'}, xlabel='Progesterona inicial', ylabel='ki67 inicial'>"
            ]
          },
          "metadata": {},
          "execution_count": 474
        },
        {
          "output_type": "display_data",
          "data": {
            "text/plain": [
              "<Figure size 432x288 with 1 Axes>"
            ],
            "image/png": "[encoded data removed]"
          },
          "metadata": {
            "needs_background": "light"
          }
        }
      ]
    },
    {
      "cell_type": "code",
      "source": [],
      "metadata": {
        "id": "9TGMrbKk9xMy"
      },
      "execution_count": 474,
      "outputs": []
    }
  ]
}